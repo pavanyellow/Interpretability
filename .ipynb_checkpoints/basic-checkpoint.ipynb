{
 "cells": [
  {
   "cell_type": "code",
   "execution_count": 1,
   "id": "4795e6f6",
   "metadata": {},
   "outputs": [
    {
     "name": "stdout",
     "output_type": "stream",
     "text": [
      "Requirement already satisfied: torch in /Users/pavan/.pyenv/versions/3.9.10/lib/python3.9/site-packages (2.0.0)\n",
      "Requirement already satisfied: torchvision in /Users/pavan/.pyenv/versions/3.9.10/lib/python3.9/site-packages (0.15.1)\n",
      "Requirement already satisfied: jinja2 in /Users/pavan/.pyenv/versions/3.9.10/lib/python3.9/site-packages (from torch) (3.1.2)\n",
      "Requirement already satisfied: sympy in /Users/pavan/.pyenv/versions/3.9.10/lib/python3.9/site-packages (from torch) (1.11.1)\n",
      "Requirement already satisfied: typing-extensions in /Users/pavan/.pyenv/versions/3.9.10/lib/python3.9/site-packages (from torch) (4.5.0)\n",
      "Requirement already satisfied: filelock in /Users/pavan/.pyenv/versions/3.9.10/lib/python3.9/site-packages (from torch) (3.11.0)\n",
      "Requirement already satisfied: networkx in /Users/pavan/.pyenv/versions/3.9.10/lib/python3.9/site-packages (from torch) (3.1)\n",
      "Requirement already satisfied: numpy in /Users/pavan/.pyenv/versions/3.9.10/lib/python3.9/site-packages (from torchvision) (1.24.2)\n",
      "Requirement already satisfied: requests in /Users/pavan/.pyenv/versions/3.9.10/lib/python3.9/site-packages (from torchvision) (2.28.2)\n",
      "Requirement already satisfied: pillow!=8.3.*,>=5.3.0 in /Users/pavan/.pyenv/versions/3.9.10/lib/python3.9/site-packages (from torchvision) (9.5.0)\n",
      "Requirement already satisfied: MarkupSafe>=2.0 in /Users/pavan/.pyenv/versions/3.9.10/lib/python3.9/site-packages (from jinja2->torch) (2.1.2)\n",
      "Requirement already satisfied: certifi>=2017.4.17 in /Users/pavan/.pyenv/versions/3.9.10/lib/python3.9/site-packages (from requests->torchvision) (2022.12.7)\n",
      "Requirement already satisfied: charset-normalizer<4,>=2 in /Users/pavan/.pyenv/versions/3.9.10/lib/python3.9/site-packages (from requests->torchvision) (3.1.0)\n",
      "Requirement already satisfied: urllib3<1.27,>=1.21.1 in /Users/pavan/.pyenv/versions/3.9.10/lib/python3.9/site-packages (from requests->torchvision) (1.26.15)\n",
      "Requirement already satisfied: idna<4,>=2.5 in /Users/pavan/.pyenv/versions/3.9.10/lib/python3.9/site-packages (from requests->torchvision) (3.4)\n",
      "Requirement already satisfied: mpmath>=0.19 in /Users/pavan/.pyenv/versions/3.9.10/lib/python3.9/site-packages (from sympy->torch) (1.3.0)\n"
     ]
    }
   ],
   "source": [
    "! pip3 install torch torchvision"
   ]
  },
  {
   "cell_type": "code",
   "execution_count": 3,
   "id": "e2d2c3b2",
   "metadata": {},
   "outputs": [],
   "source": [
    "import torch\n"
   ]
  },
  {
   "cell_type": "code",
   "execution_count": 5,
   "id": "4a52e791",
   "metadata": {},
   "outputs": [
    {
     "ename": "ModuleNotFoundError",
     "evalue": "No module named 'notion'",
     "output_type": "error",
     "traceback": [
      "\u001b[0;31m---------------------------------------------------------------------------\u001b[0m",
      "\u001b[0;31mModuleNotFoundError\u001b[0m                       Traceback (most recent call last)",
      "Cell \u001b[0;32mIn[5], line 1\u001b[0m\n\u001b[0;32m----> 1\u001b[0m \u001b[38;5;28;01mimport\u001b[39;00m \u001b[38;5;21;01mnotion\u001b[39;00m\n",
      "\u001b[0;31mModuleNotFoundError\u001b[0m: No module named 'notion'"
     ]
    }
   ],
   "source": [
    "import notion"
   ]
  },
  {
   "cell_type": "code",
   "execution_count": 6,
   "id": "c4ff2134",
   "metadata": {},
   "outputs": [
    {
     "name": "stdout",
     "output_type": "stream",
     "text": [
      "Collecting openai\n",
      "  Downloading openai-0.27.4-py3-none-any.whl (70 kB)\n",
      "\u001b[2K     \u001b[38;2;114;156;31m━━━━━━━━━━━━━━━━━━━━━━━━━━━━━━━━━━━━━━━━\u001b[0m \u001b[32m70.3/70.3 kB\u001b[0m \u001b[31m2.8 MB/s\u001b[0m eta \u001b[36m0:00:00\u001b[0m\n",
      "\u001b[?25hRequirement already satisfied: aiohttp in /Users/pavan/.pyenv/versions/3.9.10/lib/python3.9/site-packages (from openai) (3.8.4)\n",
      "Requirement already satisfied: requests>=2.20 in /Users/pavan/.pyenv/versions/3.9.10/lib/python3.9/site-packages (from openai) (2.28.2)\n",
      "Collecting tqdm\n",
      "  Downloading tqdm-4.65.0-py3-none-any.whl (77 kB)\n",
      "\u001b[2K     \u001b[38;2;114;156;31m━━━━━━━━━━━━━━━━━━━━━━━━━━━━━━━━━━━━━━━━\u001b[0m \u001b[32m77.1/77.1 kB\u001b[0m \u001b[31m6.7 MB/s\u001b[0m eta \u001b[36m0:00:00\u001b[0m\n",
      "\u001b[?25hRequirement already satisfied: urllib3<1.27,>=1.21.1 in /Users/pavan/.pyenv/versions/3.9.10/lib/python3.9/site-packages (from requests>=2.20->openai) (1.26.15)\n",
      "Requirement already satisfied: certifi>=2017.4.17 in /Users/pavan/.pyenv/versions/3.9.10/lib/python3.9/site-packages (from requests>=2.20->openai) (2022.12.7)\n",
      "Requirement already satisfied: charset-normalizer<4,>=2 in /Users/pavan/.pyenv/versions/3.9.10/lib/python3.9/site-packages (from requests>=2.20->openai) (3.1.0)\n",
      "Requirement already satisfied: idna<4,>=2.5 in /Users/pavan/.pyenv/versions/3.9.10/lib/python3.9/site-packages (from requests>=2.20->openai) (3.4)\n",
      "Requirement already satisfied: frozenlist>=1.1.1 in /Users/pavan/.pyenv/versions/3.9.10/lib/python3.9/site-packages (from aiohttp->openai) (1.3.3)\n",
      "Requirement already satisfied: multidict<7.0,>=4.5 in /Users/pavan/.pyenv/versions/3.9.10/lib/python3.9/site-packages (from aiohttp->openai) (6.0.4)\n",
      "Requirement already satisfied: aiosignal>=1.1.2 in /Users/pavan/.pyenv/versions/3.9.10/lib/python3.9/site-packages (from aiohttp->openai) (1.3.1)\n",
      "Requirement already satisfied: yarl<2.0,>=1.0 in /Users/pavan/.pyenv/versions/3.9.10/lib/python3.9/site-packages (from aiohttp->openai) (1.8.2)\n",
      "Requirement already satisfied: async-timeout<5.0,>=4.0.0a3 in /Users/pavan/.pyenv/versions/3.9.10/lib/python3.9/site-packages (from aiohttp->openai) (4.0.2)\n",
      "Requirement already satisfied: attrs>=17.3.0 in /Users/pavan/.pyenv/versions/3.9.10/lib/python3.9/site-packages (from aiohttp->openai) (22.2.0)\n",
      "Installing collected packages: tqdm, openai\n",
      "Successfully installed openai-0.27.4 tqdm-4.65.0\n"
     ]
    }
   ],
   "source": [
    "! pip3 install openai"
   ]
  },
  {
   "cell_type": "code",
   "execution_count": 11,
   "id": "b73f8aed",
   "metadata": {},
   "outputs": [],
   "source": [
    "from openai import *"
   ]
  },
  {
   "cell_type": "code",
   "execution_count": null,
   "id": "8640998e",
   "metadata": {},
   "outputs": [],
   "source": []
  }
 ],
 "metadata": {
  "kernelspec": {
   "display_name": "Python 3.9.10",
   "language": "python",
   "name": "python3.9"
  },
  "language_info": {
   "codemirror_mode": {
    "name": "ipython",
    "version": 3
   },
   "file_extension": ".py",
   "mimetype": "text/x-python",
   "name": "python",
   "nbconvert_exporter": "python",
   "pygments_lexer": "ipython3",
   "version": "3.9.10"
  }
 },
 "nbformat": 4,
 "nbformat_minor": 5
}
