{
  "cells": [
    {
      "cell_type": "markdown",
      "metadata": {
        "id": "qf6JCHbNUvpw"
      },
      "source": [
        "[![Open In Colab](https://colab.research.google.com/assets/colab-badge.svg)](https://colab.research.google.com/github/neelnanda-io/TransformerLens/blob/main/demos/Exploratory_Analysis_Demo.ipynb)"
      ]
    },
    {
      "cell_type": "markdown",
      "metadata": {},
      "source": []
    },
    {
      "cell_type": "markdown",
      "metadata": {
        "id": "P5lmVlwZUvp1"
      },
      "source": [
        "### Imports"
      ]
    },
    {
      "cell_type": "code",
      "execution_count": 6,
      "metadata": {
        "id": "99WoecydUvp2"
      },
      "outputs": [
        {
          "name": "stdout",
          "output_type": "stream",
          "text": [
            "Disabled automatic differentiation\n"
          ]
        }
      ],
      "source": [
        "from functools import partial\n",
        "from typing import List, Optional, Union\n",
        "\n",
        "import einops\n",
        "import numpy as np\n",
        "import plotly.express as px\n",
        "import plotly.io as pio\n",
        "import torch\n",
        "from circuitsvis.attention import attention_heads\n",
        "from fancy_einsum import einsum\n",
        "from IPython.display import HTML, IFrame\n",
        "from jaxtyping import Float\n",
        "\n",
        "import transformer_lens.utils as utils\n",
        "from transformer_lens import ActivationCache, HookedTransformer\n",
        "\n",
        "torch.set_grad_enabled(False)\n",
        "print(\"Disabled automatic differentiation\")\n",
        "\n",
        "def imshow(tensor, **kwargs):\n",
        "    px.imshow(\n",
        "        utils.to_numpy(tensor),\n",
        "        color_continuous_midpoint=0.0,\n",
        "        color_continuous_scale=\"RdBu\",\n",
        "        **kwargs,\n",
        "    ).show()\n",
        "\n",
        "\n",
        "def line(tensor, **kwargs):\n",
        "    px.line(\n",
        "        y=utils.to_numpy(tensor),\n",
        "        **kwargs,\n",
        "    ).show()\n",
        "\n",
        "\n",
        "def scatter(x, y, xaxis=\"\", yaxis=\"\", caxis=\"\", **kwargs):\n",
        "    x = utils.to_numpy(x)\n",
        "    y = utils.to_numpy(y)\n",
        "    px.scatter(\n",
        "        y=y,\n",
        "        x=x,\n",
        "        labels={\"x\": xaxis, \"y\": yaxis, \"color\": caxis},\n",
        "        **kwargs,\n",
        "    ).show()"
      ]
    },
    {
      "cell_type": "markdown",
      "metadata": {
        "id": "J1so7YGZUvp2"
      },
      "source": [
        "### PyTorch Setup"
      ]
    },
    {
      "cell_type": "markdown",
      "metadata": {
        "id": "r0wJW1vFUvp2"
      },
      "source": [
        "We turn automatic differentiation off, to save GPU memory, as this notebook focuses on model inference not model training."
      ]
    },
    {
      "cell_type": "markdown",
      "metadata": {
        "id": "sx_h8haBUvp3"
      },
      "source": [
        "### Plotting Helper Functions (ignore)"
      ]
    },
    {
      "cell_type": "markdown",
      "metadata": {
        "id": "Q3zBZMLfUvp4"
      },
      "source": [
        "Some plotting helper functions are included here (for simplicity)."
      ]
    },
    {
      "cell_type": "code",
      "execution_count": null,
      "metadata": {
        "id": "6UV-DUtgUvp4"
      },
      "outputs": [],
      "source": []
    },
    {
      "cell_type": "markdown",
      "metadata": {
        "id": "LbZWHCGDUvp4"
      },
      "source": [
        "## Introduction\n",
        "\n",
        "This is a demo notebook for [TransformerLens](https://github.com/neelnanda-io/TransformerLens), a library for mechanistic interpretability of GPT-2 style transformer language models. A core design principle of the library is to enable exploratory analysis - one of the most fun parts of mechanistic interpretability compared to normal ML is the extremely short feedback loops! The point of this library is to keep the gap between having an experiment idea and seeing the results as small as possible, to make it easy for **research to feel like play** and to enter a flow state.\n",
        "\n",
        "The goal of this notebook is to demonstrate what exploratory analysis looks like in practice with the library. I use my standard toolkit of basic mechanistic interpretability techniques to try interpreting a real circuit in GPT-2 small. Check out [the main demo](https://colab.research.google.com/github/neelnanda-io/TransformerLens/blob/main/demos/Main_Demo.ipynb) for an introduction to the library and how to use it.\n",
        "\n",
        "Stylistically, I will go fairly slowly and explain in detail what I'm doing and why, aiming to help convey how to do this kind of research yourself! But the code itself is written to be simple and generic, and easy to copy and paste into your own projects for different tasks and models.\n",
        "\n",
        "Details tags contain asides, flavour + interpretability intuitions. These are more in the weeds and you don't need to read them or understand them, but they're helpful if you want to learn how to do mechanistic interpretability yourself! I star the ones I think are most important.\n",
        "<details><summary>(*) Example details tag</summary>Example aside!</details>"
      ]
    },
    {
      "cell_type": "markdown",
      "metadata": {
        "id": "r7Aln2VOUvp5"
      },
      "source": [
        "### Indirect Object Identification\n",
        "\n",
        "The first step when trying to reverse engineer a circuit in a model is to identify *what* capability\n",
        "I want to reverse engineer. Indirect Object Identification is a task studied in Redwood Research's\n",
        "excellent [Interpretability in the Wild](https://arxiv.org/abs/2211.00593) paper (see [my interview\n",
        "with the authors](https://www.youtube.com/watch?v=gzwj0jWbvbo) or [Kevin Wang's Twitter\n",
        "thread](https://threadreaderapp.com/thread/1587601532639494146.html) for an overview). The task is\n",
        "to complete sentences like \"After John and Mary went to the shops, John gave a bottle of milk to\"\n",
        "with \" Mary\" rather than \" John\".\n",
        "\n",
        "In the paper they rigorously reverse engineer a 26 head circuit, with 7 separate categories of heads\n",
        "used to perform this capability. Their rigorous methods are fairly involved, so in this notebook,\n",
        "I'm going to skimp on rigour and instead try to speed run the process of finding suggestive evidence\n",
        "for this circuit!\n",
        "\n",
        "The circuit they found roughly breaks down into three parts:\n",
        "1. Identify what names are in the sentence\n",
        "2. Identify which names are duplicated\n",
        "3. Predict the name that is *not* duplicated"
      ]
    },
    {
      "cell_type": "markdown",
      "metadata": {
        "id": "jwMKYo9EUvp5"
      },
      "source": [
        "The first step is to load in our model, GPT-2 Small, a 12 layer and 80M parameter transformer with `HookedTransformer.from_pretrained`. The various flags are simplifications that preserve the model's output but simplify its internals."
      ]
    },
    {
      "cell_type": "code",
      "execution_count": 7,
      "metadata": {
        "colab": {
          "base_uri": "https://localhost:8080/"
        },
        "id": "gtOb9bJrUvp5",
        "outputId": "27f2fb85-7fcd-4723-ce8b-7a12fd3f47d5"
      },
      "outputs": [
        {
          "name": "stdout",
          "output_type": "stream",
          "text": [
            "Loaded pretrained model gpt2-small into HookedTransformer\n"
          ]
        }
      ],
      "source": [
        "# NBVAL_IGNORE_OUTPUT\n",
        "model = HookedTransformer.from_pretrained(\n",
        "    \"gpt2-small\",\n",
        "    center_unembed=True,\n",
        "    center_writing_weights=True,\n",
        "    fold_ln=True,\n",
        "    refactor_factored_attn_matrices=True,\n",
        ")\n",
        "\n",
        "# Get the default device used\n",
        "device: torch.device = utils.get_device()"
      ]
    },
    {
      "cell_type": "markdown",
      "metadata": {
        "id": "bUwdlvPqUvp6"
      },
      "source": [
        "The next step is to verify that the model can *actually* do the task! Here we use `utils.test_prompt`, and see that the model is significantly better at predicting Mary than John!\n",
        "\n",
        "<details><summary>Asides:</summary>\n",
        "\n",
        "Note: If we were being careful, we'd want to run the model on a range of prompts and find the average performance\n",
        "\n",
        "`prepend_bos` is a flag to add a BOS (beginning of sequence) to the start of the prompt. GPT-2 was not trained with this, but I find that it often makes model behaviour more stable, as the first token is treated weirdly.\n",
        "</details>"
      ]
    },
    {
      "cell_type": "code",
      "execution_count": 8,
      "metadata": {
        "colab": {
          "base_uri": "https://localhost:8080/",
          "height": 289
        },
        "id": "9M5x0bHlUvp6",
        "outputId": "925a8bc4-0e21-4b07-96e5-c90651946565"
      },
      "outputs": [
        {
          "name": "stdout",
          "output_type": "stream",
          "text": [
            "Tokenized prompt: ['<|endoftext|>', 'After', ' John', ' and', ' Mary', ' went', ' to', ' the', ' store', ',', ' John', ' gave', ' a', ' bottle', ' of', ' milk', ' to']\n",
            "Tokenized answer: [' Mary']\n"
          ]
        },
        {
          "data": {
            "text/html": [
              "<pre style=\"white-space:pre;overflow-x:auto;line-height:normal;font-family:Menlo,'DejaVu Sans Mono',consolas,'Courier New',monospace\">Performance on answer token:\n",
              "<span style=\"font-weight: bold\">Rank: </span><span style=\"color: #008080; text-decoration-color: #008080; font-weight: bold\">0</span><span style=\"font-weight: bold\">        Logit: </span><span style=\"color: #008080; text-decoration-color: #008080; font-weight: bold\">18.09</span><span style=\"font-weight: bold\"> Prob: </span><span style=\"color: #008080; text-decoration-color: #008080; font-weight: bold\">70.07</span><span style=\"font-weight: bold\">% Token: | Mary|</span>\n",
              "</pre>\n"
            ],
            "text/plain": [
              "Performance on answer token:\n",
              "\u001b[1mRank: \u001b[0m\u001b[1;36m0\u001b[0m\u001b[1m        Logit: \u001b[0m\u001b[1;36m18.09\u001b[0m\u001b[1m Prob: \u001b[0m\u001b[1;36m70.07\u001b[0m\u001b[1m% Token: | Mary|\u001b[0m\n"
            ]
          },
          "metadata": {},
          "output_type": "display_data"
        },
        {
          "name": "stdout",
          "output_type": "stream",
          "text": [
            "Top 0th token. Logit: 18.09 Prob: 70.07% Token: | Mary|\n",
            "Top 1th token. Logit: 15.38 Prob:  4.67% Token: | the|\n",
            "Top 2th token. Logit: 15.35 Prob:  4.54% Token: | John|\n",
            "Top 3th token. Logit: 15.25 Prob:  4.11% Token: | them|\n",
            "Top 4th token. Logit: 14.84 Prob:  2.73% Token: | his|\n",
            "Top 5th token. Logit: 14.06 Prob:  1.24% Token: | her|\n",
            "Top 6th token. Logit: 13.54 Prob:  0.74% Token: | a|\n",
            "Top 7th token. Logit: 13.52 Prob:  0.73% Token: | their|\n",
            "Top 8th token. Logit: 13.13 Prob:  0.49% Token: | Jesus|\n",
            "Top 9th token. Logit: 12.97 Prob:  0.42% Token: | him|\n"
          ]
        },
        {
          "data": {
            "text/html": [
              "<pre style=\"white-space:pre;overflow-x:auto;line-height:normal;font-family:Menlo,'DejaVu Sans Mono',consolas,'Courier New',monospace\"><span style=\"font-weight: bold\">Ranks of the answer tokens:</span> <span style=\"font-weight: bold\">[(</span><span style=\"color: #008000; text-decoration-color: #008000\">' Mary'</span>, <span style=\"color: #008080; text-decoration-color: #008080; font-weight: bold\">0</span><span style=\"font-weight: bold\">)]</span>\n",
              "</pre>\n"
            ],
            "text/plain": [
              "\u001b[1mRanks of the answer tokens:\u001b[0m \u001b[1m[\u001b[0m\u001b[1m(\u001b[0m\u001b[32m' Mary'\u001b[0m, \u001b[1;36m0\u001b[0m\u001b[1m)\u001b[0m\u001b[1m]\u001b[0m\n"
            ]
          },
          "metadata": {},
          "output_type": "display_data"
        }
      ],
      "source": [
        "example_prompt = \"After John and Mary went to the store, John gave a bottle of milk to\"\n",
        "example_answer = \" Mary\"\n",
        "utils.test_prompt(example_prompt, example_answer, model, prepend_bos=True)"
      ]
    },
    {
      "cell_type": "markdown",
      "metadata": {
        "id": "_JKZ0j9oUvp6"
      },
      "source": [
        "We now want to find a reference prompt to run the model on. Even though our ultimate goal is to reverse engineer how this behaviour is done in general, often the best way to start out in mechanistic interpretability is by zooming in on a concrete example and understanding it in detail, and only *then* zooming out and verifying that our analysis generalises.\n",
        "\n",
        "We'll run the model on 4 instances of this task, each prompt given twice - one with the first name as the indirect object, one with the second name. To make our lives easier, we'll carefully choose prompts with single token names and the corresponding names in the same token positions.\n",
        "\n",
        "<details> <summary>(*) <b>Aside on tokenization</b></summary>\n",
        "\n",
        "We want models that can take in arbitrary text, but models need to have a fixed vocabulary. So the solution is to define a vocabulary of **tokens** and to deterministically break up arbitrary text into tokens. Tokens are, essentially, subwords, and are determined by finding the most frequent substrings - this means that tokens vary a lot in length and frequency!\n",
        "\n",
        "Tokens are a *massive* headache and are one of the most annoying things about reverse engineering language models... Different names will be different numbers of tokens, different prompts will have the relevant tokens at different positions, different prompts will have different total numbers of tokens, etc. Language models often devote significant amounts of parameters in early layers to convert inputs from tokens to a more sensible internal format (and do the reverse in later layers). You really, really want to avoid needing to think about tokenization wherever possible when doing exploratory analysis (though, of course, it's relevant later when trying to flesh out your analysis and make it rigorous!). HookedTransformer comes with several helper methods to deal with tokens: `to_tokens, to_string, to_str_tokens, to_single_token, get_token_position`\n",
        "\n",
        "**Exercise:** I recommend using `model.to_str_tokens` to explore how the model tokenizes different strings. In particular, try adding or removing spaces at the start, or changing capitalization - these change tokenization!</details>"
      ]
    },
    {
      "cell_type": "code",
      "execution_count": 9,
      "metadata": {
        "colab": {
          "base_uri": "https://localhost:8080/"
        },
        "id": "TmK2XLHBUvp7",
        "outputId": "ce5b7a7a-6c19-422f-d0f8-e0cba83e09f6"
      },
      "outputs": [
        {
          "name": "stdout",
          "output_type": "stream",
          "text": [
            "['When John and Mary went to the shops, John gave the bag to', 'When John and Mary went to the shops, Mary gave the bag to', 'When Tom and James went to the park, James gave the ball to', 'When Tom and James went to the park, Tom gave the ball to', 'When Dan and Sid went to the shops, Sid gave an apple to', 'When Dan and Sid went to the shops, Dan gave an apple to', 'After Martin and Amy went to the park, Amy gave a drink to', 'After Martin and Amy went to the park, Martin gave a drink to']\n",
            "[(' Mary', ' John'), (' John', ' Mary'), (' Tom', ' James'), (' James', ' Tom'), (' Dan', ' Sid'), (' Sid', ' Dan'), (' Martin', ' Amy'), (' Amy', ' Martin')]\n"
          ]
        }
      ],
      "source": [
        "prompt_format = [\n",
        "    \"When John and Mary went to the shops,{} gave the bag to\",\n",
        "    \"When Tom and James went to the park,{} gave the ball to\",\n",
        "    \"When Dan and Sid went to the shops,{} gave an apple to\",\n",
        "    \"After Martin and Amy went to the park,{} gave a drink to\",\n",
        "]\n",
        "names = [\n",
        "    (\" Mary\", \" John\"),\n",
        "    (\" Tom\", \" James\"),\n",
        "    (\" Dan\", \" Sid\"),\n",
        "    (\" Martin\", \" Amy\"),\n",
        "]\n",
        "# List of prompts\n",
        "prompts = []\n",
        "# List of answers, in the format (correct, incorrect)\n",
        "answers = []\n",
        "# List of the token (ie an integer) corresponding to each answer, in the format (correct_token, incorrect_token)\n",
        "answer_tokens = []\n",
        "for i in range(len(prompt_format)):\n",
        "    for j in range(2):\n",
        "        answers.append((names[i][j], names[i][1 - j]))\n",
        "        answer_tokens.append(\n",
        "            (\n",
        "                model.to_single_token(answers[-1][0]),\n",
        "                model.to_single_token(answers[-1][1]),\n",
        "            )\n",
        "        )\n",
        "        # Insert the *incorrect* answer to the prompt, making the correct answer the indirect object.\n",
        "        prompts.append(prompt_format[i].format(answers[-1][1]))\n",
        "answer_tokens = torch.tensor(answer_tokens).to(device)\n",
        "print(prompts)\n",
        "print(answers)"
      ]
    },
    {
      "cell_type": "markdown",
      "metadata": {
        "id": "g3o9gblzUvp7"
      },
      "source": [
        "**Gotcha**: It's important that all of your prompts have the same number of tokens. If they're different lengths, then the position of the \"final\" logit where you can check logit difference will differ between prompts, and this will break the below code. The easiest solution is just to choose your prompts carefully to have the same number of tokens (you can eg add filler words like The, or newlines to start).\n",
        "\n",
        "There's a range of other ways of solving this, eg you can index more intelligently to get the final logit. A better way is to just use left padding by setting `model.tokenizer.padding_side = 'left'` before tokenizing the inputs and running the model; this way, you can use something like `logits[:, -1, :]` to easily access the final token outputs without complicated indexing. TransformerLens checks the value of `padding_side` of the tokenizer internally, and if the flag is set to be `'left'`, it adjusts the calculation of absolute position embedding and causal masking accordingly.\n",
        "\n",
        "In this demo, though, we stick to using the prompts of the same number of tokens because we want to show some visualisations aggregated along the batch dimension later in the demo."
      ]
    },
    {
      "cell_type": "code",
      "execution_count": 10,
      "metadata": {
        "colab": {
          "base_uri": "https://localhost:8080/"
        },
        "id": "BHkcJy-RUvp7",
        "outputId": "22629fb4-1be0-400f-fffd-6d36b820d2a8"
      },
      "outputs": [
        {
          "name": "stdout",
          "output_type": "stream",
          "text": [
            "Prompt length: 15\n",
            "Prompt as tokens: ['<|endoftext|>', 'When', ' John', ' and', ' Mary', ' went', ' to', ' the', ' shops', ',', ' John', ' gave', ' the', ' bag', ' to']\n",
            "Prompt length: 15\n",
            "Prompt as tokens: ['<|endoftext|>', 'When', ' John', ' and', ' Mary', ' went', ' to', ' the', ' shops', ',', ' Mary', ' gave', ' the', ' bag', ' to']\n",
            "Prompt length: 15\n",
            "Prompt as tokens: ['<|endoftext|>', 'When', ' Tom', ' and', ' James', ' went', ' to', ' the', ' park', ',', ' James', ' gave', ' the', ' ball', ' to']\n",
            "Prompt length: 15\n",
            "Prompt as tokens: ['<|endoftext|>', 'When', ' Tom', ' and', ' James', ' went', ' to', ' the', ' park', ',', ' Tom', ' gave', ' the', ' ball', ' to']\n",
            "Prompt length: 15\n",
            "Prompt as tokens: ['<|endoftext|>', 'When', ' Dan', ' and', ' Sid', ' went', ' to', ' the', ' shops', ',', ' Sid', ' gave', ' an', ' apple', ' to']\n",
            "Prompt length: 15\n",
            "Prompt as tokens: ['<|endoftext|>', 'When', ' Dan', ' and', ' Sid', ' went', ' to', ' the', ' shops', ',', ' Dan', ' gave', ' an', ' apple', ' to']\n",
            "Prompt length: 15\n",
            "Prompt as tokens: ['<|endoftext|>', 'After', ' Martin', ' and', ' Amy', ' went', ' to', ' the', ' park', ',', ' Amy', ' gave', ' a', ' drink', ' to']\n",
            "Prompt length: 15\n",
            "Prompt as tokens: ['<|endoftext|>', 'After', ' Martin', ' and', ' Amy', ' went', ' to', ' the', ' park', ',', ' Martin', ' gave', ' a', ' drink', ' to']\n"
          ]
        }
      ],
      "source": [
        "for prompt in prompts:\n",
        "    str_tokens = model.to_str_tokens(prompt)\n",
        "    print(\"Prompt length:\", len(str_tokens))\n",
        "    print(\"Prompt as tokens:\", str_tokens)"
      ]
    },
    {
      "cell_type": "markdown",
      "metadata": {
        "id": "j9YJGh0FUvp8"
      },
      "source": [
        "We now run the model on these prompts and use `run_with_cache` to get both the logits and a cache of all internal activations for later analysis"
      ]
    },
    {
      "cell_type": "code",
      "execution_count": 11,
      "metadata": {
        "id": "TD2UtgPfUvp8"
      },
      "outputs": [],
      "source": [
        "tokens = model.to_tokens(prompts, prepend_bos=True)\n",
        "\n",
        "# Run the model and cache all activations\n",
        "original_logits, cache = model.run_with_cache(tokens)"
      ]
    },
    {
      "cell_type": "markdown",
      "metadata": {
        "id": "Lz90zHCTUvp9"
      },
      "source": [
        "We'll later be evaluating how model performance differs upon performing various interventions, so it's useful to have a metric to measure model performance. Our metric here will be the **logit difference**, the difference in logit between the indirect object's name and the subject's name (eg, `logit(Mary)-logit(John)`)."
      ]
    },
    {
      "cell_type": "code",
      "execution_count": 12,
      "metadata": {
        "colab": {
          "base_uri": "https://localhost:8080/"
        },
        "id": "Vq-8YqwoUvp9",
        "outputId": "545f6a21-caf4-45b2-dff2-8e3b16236918"
      },
      "outputs": [
        {
          "name": "stdout",
          "output_type": "stream",
          "text": [
            "Per prompt logit difference: tensor([3.3370, 3.2020, 2.7090, 3.7970, 1.7200, 5.2810, 2.6010, 5.7670])\n",
            "Average logit difference: 3.552\n"
          ]
        }
      ],
      "source": [
        "def logits_to_ave_logit_diff(logits, answer_tokens, per_prompt=False):\n",
        "    # Only the final logits are relevant for the answer\n",
        "    final_logits = logits[:, -1, :]\n",
        "    answer_logits = final_logits.gather(dim=-1, index=answer_tokens)\n",
        "    answer_logit_diff = answer_logits[:, 0] - answer_logits[:, 1]\n",
        "    if per_prompt:\n",
        "        return answer_logit_diff\n",
        "    else:\n",
        "        return answer_logit_diff.mean()\n",
        "\n",
        "\n",
        "print(\n",
        "    \"Per prompt logit difference:\",\n",
        "    logits_to_ave_logit_diff(original_logits, answer_tokens, per_prompt=True)\n",
        "    .detach()\n",
        "    .cpu()\n",
        "    .round(decimals=3),\n",
        ")\n",
        "original_average_logit_diff = logits_to_ave_logit_diff(original_logits, answer_tokens)\n",
        "print(\n",
        "    \"Average logit difference:\",\n",
        "    round(logits_to_ave_logit_diff(original_logits, answer_tokens).item(), 3),\n",
        ")"
      ]
    },
    {
      "cell_type": "markdown",
      "metadata": {
        "id": "0kiYDbQvUvp9"
      },
      "source": [
        "We see that the average logit difference is 3.5 - for context, this represents putting an $e^{3.5}\\approx 33\\times$ higher probability on the correct answer."
      ]
    },
    {
      "cell_type": "markdown",
      "metadata": {
        "id": "wj5NgUzFUvp9"
      },
      "source": [
        "## Brainstorm What's Actually Going On (Optional)\n",
        "\n",
        "Before diving into running experiments, it's often useful to spend some time actually reasoning about how the behaviour in question could be implemented in the transformer. **This is optional, and you'll likely get the most out of engaging with this section if you have a decent understanding already of what a transformer is and how it works!**\n",
        "\n",
        "You don't have to do this and forming hypotheses after exploration is also reasonable, but I think it's often easier to explore and interpret results with some grounding in what you might find. In this particular case, I'm cheating somewhat, since I know the answer, but I'm trying to simulate the process of reasoning about it!\n",
        "\n",
        "Note that often your hypothesis will be wrong in some ways and often be completely off. We're doing science here, and the goal is to understand how the model *actually* works, and to form true beliefs! There are two separate traps here at two extremes that it's worth tracking:\n",
        "* Confusion: Having no hypotheses at all, getting a lot of data and not knowing what to do with it, and just floundering around\n",
        "* Dogmatism: Being overconfident in an incorrect hypothesis and being unwilling to let go of it when reality contradicts you, or flinching away from running the experiments that might disconfirm it.\n",
        "\n",
        "**Exercise:** Spend some time thinking through how you might imagine this behaviour being implemented in a transformer. Try to think through this for yourself before reading through my thoughts!\n",
        "\n",
        "<details> <summary>(*) <b>My reasoning</b></summary>\n",
        "\n",
        "<h3>Brainstorming:</h3>\n",
        "\n",
        "So, what's hard about the task? Let's focus on the concrete example of the first prompt, \"When John and Mary went to the shops, John gave the bag to\" -> \" Mary\".  \n",
        "\n",
        "A good starting point is thinking though whether a tiny model could do this, eg a <a href=\"https://transformer-circuits.pub/2021/framework/index.html\">1L Attn-Only model</a>. I'm pretty sure the answer is no! Attention is really good at the primitive operations of looking nearby, or copying information. I can believe a tiny model could figure out that at `to` it should look for names and predict that those names came next (eg the skip trigram \" John...to -> John\"). But it's much harder to tell how <i>many</i> of each previous name there are - attending 0.3 to each copy of John will look exactly the same as attending 0.6 to a single John token. So this will be pretty hard to figure out on the \" to\" token!\n",
        "\n",
        "The natural place to break this symmetry is on the second \" John\" token - telling whether there is an earlier copy of the <i>current</i> token should be a much easier task. So I might expect there to be a head which detects duplicate tokens on the second \" John\" token, and then another head which moves that information from the second \" John\" token to the \" to\" token.\n",
        "\n",
        "The model then needs to learn to predict \" Mary\" and <i>not</i> \" John\". I can see two natural ways to do this:\n",
        "1. Detect all preceding names and move this information to \" to\" and then delete the any name corresponding to the duplicate token feature. This feels easier done with a non-linearity, since precisely cancelling out vectors is hard, so I'd imagine an MLP layer deletes the \" John\" direction of the residual stream\n",
        "2. Have a head which attends to all previous names, but where the duplicate token features <i>inhibit</i> it from attending to specific names. So this only attends to Mary. And then the output of this head maps to the logits.  \n",
        "\n",
        "(Spoiler: It's the second one).\n",
        "\n",
        "<h3>Experiment Ideas</h3>\n",
        "\n",
        "A test that could distinguish these two is to look at which components of the model add directly to the logits - if it's mostly attention heads which attend to \" Mary\" and to neither \" John\" it's probably hypothesis 2, if it's mostly MLPs it's probably hypothesis 1.\n",
        "\n",
        "And we should be able to identify duplicate token heads by finding ones which attend from \" John\" to \" John\", and whose outputs are then moved to the \" to\" token by V-Composition with another head (Spoiler: It's more complicated than that!)\n",
        "\n",
        "Note that all of the above reasoning is very simplistic and could easily break in a real model! There'll be significant parts of the model that figure out whether to use this circuit at all (we don't want to inhibit duplicated names when, eg, figuring out what goes at the start of the <i>next</i> sentence), and may be parts towards the end of the model that do \"post-processing\" just before the final output. But it's a good starting point for thinking about what's going on."
      ]
    },
    {
      "cell_type": "markdown",
      "metadata": {
        "id": "9GQ5wy-xUvp9"
      },
      "source": [
        "## Direct Logit Attribution"
      ]
    },
    {
      "cell_type": "markdown",
      "metadata": {
        "id": "SoNvBJmiUvp9"
      },
      "source": [
        "*Look up unfamiliar terms in the [mech interp explainer](https://neelnanda.io/glossary)*\n",
        "\n",
        "Further, the easiest part of the model to understand is the output - this is what the model is trained to optimize, and so it can always be directly interpreted! Often the right approach to reverse engineering a circuit is to start at the end, understand how the model produces the right answer, and to then work backwards. The main technique used to do this is called **direct logit attribution**\n",
        "\n",
        "**Background:** The central object of a transformer is the **residual stream**. This is the sum of the outputs of each layer and of the original token and positional embedding. Importantly, this means that any linear function of the residual stream can be perfectly decomposed into the contribution of each layer of the transformer. Further, each attention layer's output can be broken down into the sum of the output of each head (See [A Mathematical Framework for Transformer Circuits](https://transformer-circuits.pub/2021/framework/index.html) for details), and each MLP layer's output can be broken down into the sum of the output of each neuron (and a bias term for each layer).\n",
        "\n",
        "The logits of a model are `logits=Unembed(LayerNorm(final_residual_stream))`. The Unembed is a linear map, and LayerNorm is approximately a linear map, so we can decompose the logits into the sum of the contributions of each component, and look at which components contribute the most to the logit of the correct token! This is called **direct logit attribution**. Here we look at the direct attribution to the logit difference!\n",
        "\n",
        "<details> <summary>(*) <b>Background and motivation of the logit difference</b></summary>\n",
        "\n",
        "Logit difference is actually a *really* nice and elegant metric and is a particularly nice aspect of the setup of Indirect Object Identification. In general, there are two natural ways to interpret the model's outputs: the output logits, or the output log probabilities (or probabilities).\n",
        "\n",
        "The logits are much nicer and easier to understand, as noted above. However, the model is trained to optimize the cross-entropy loss (the average of log probability of the correct token). This means it does not directly optimize the logits, and indeed if the model adds an arbitrary constant to every logit, the log probabilities are unchanged.\n",
        "\n",
        "But `log_probs == logits.log_softmax(dim=-1) == logits - logsumexp(logits)`, and so `log_probs(\" Mary\") - log_probs(\" John\") = logits(\" Mary\") - logits(\" John\")` - the ability to add an arbitrary constant cancels out!\n",
        "\n",
        "Further, the metric helps us isolate the precise capability we care about - figuring out *which* name is the Indirect Object. There are many other components of the task - deciding whether to return an article (the) or pronoun (her) or name, realising that the sentence wants a person next at all, etc. By taking the logit difference we control for all of that.\n",
        "\n",
        "Our metric is further refined, because each prompt is repeated twice, for each possible indirect object. This controls for irrelevant behaviour such as the model learning that John is a more frequent token than Mary (this actually happens! The final layernorm bias increases the John logit by 1 relative to the Mary logit)\n",
        "\n",
        "</details>\n",
        "\n",
        "<details> <summary>Ignoring LayerNorm</summary>\n",
        "\n",
        "LayerNorm is an analogous normalization technique to BatchNorm (that's friendlier to massive parallelization) that transformers use. Every time a transformer layer reads information from the residual stream, it applies a LayerNorm to normalize the vector at each position (translating to set the mean to 0 and scaling to set the variance to 1) and then applying a learned vector of weights and biases to scale and translate the normalized vector. This is *almost* a linear map, apart from the scaling step, because that divides by the norm of the vector and the norm is not a linear function. (The `fold_ln` flag when loading a model factors out all the linear parts).\n",
        "\n",
        "But if we fixed the scale factor, the LayerNorm would be fully linear. And the scale of the residual stream is a global property that's a function of *all* components of the stream, while in practice there is normally just a few directions relevant to any particular component, so in practice this is an acceptable approximation. So when doing direct logit attribution we use the `apply_ln` flag on the `cache` to apply the global layernorm scaling factor to each constant. See [my clean GPT-2 implementation](https://colab.research.google.com/github/neelnanda-io/TransformerLens/blob/clean-transformer-demo/Clean_Transformer_Demo.ipynb#scrollTo=Clean_Transformer_Implementation) for more on LayerNorm.\n",
        "</details>"
      ]
    },
    {
      "cell_type": "markdown",
      "metadata": {
        "id": "ZLOKnMmiUvp-"
      },
      "source": [
        "Getting an output logit is equivalent to projecting onto a direction in the residual stream. We use `model.tokens_to_residual_directions` to map the answer tokens to that direction, and then convert this to a logit difference direction for each batch"
      ]
    },
    {
      "cell_type": "code",
      "execution_count": 13,
      "metadata": {
        "colab": {
          "base_uri": "https://localhost:8080/"
        },
        "id": "0UaDovp3Uvp-",
        "outputId": "c72fe1cd-d726-45e6-bdce-ec12fd78c3ee"
      },
      "outputs": [
        {
          "name": "stdout",
          "output_type": "stream",
          "text": [
            "Answer residual directions shape: torch.Size([8, 2, 768])\n",
            "Logit difference directions shape: torch.Size([8, 768])\n"
          ]
        }
      ],
      "source": [
        "answer_residual_directions = model.tokens_to_residual_directions(answer_tokens)\n",
        "print(\"Answer residual directions shape:\", answer_residual_directions.shape)\n",
        "logit_diff_directions = (\n",
        "    answer_residual_directions[:, 0] - answer_residual_directions[:, 1]\n",
        ")\n",
        "print(\"Logit difference directions shape:\", logit_diff_directions.shape)"
      ]
    },
    {
      "cell_type": "markdown",
      "metadata": {
        "id": "PZu2hI1BUvp-"
      },
      "source": [
        "To verify that this works, we can apply this to the final residual stream for our cached prompts (after applying LayerNorm scaling) and verify that we get the same answer.\n",
        "\n",
        "<details> <summary>Technical details</summary>\n",
        "\n",
        "`logits = Unembed(LayerNorm(final_residual_stream))`, so we technically need to account for the centering, and then learned translation and scaling of the layernorm, not just the variance 1 scaling.\n",
        "\n",
        "The centering is accounted for with the preprocessing flag `center_writing_weights` which ensures that every weight matrix writing to the residual stream has mean zero.\n",
        "\n",
        "The learned scaling is folded into the unembedding weights `model.unembed.W_U` via `W_U_fold = layer_norm.weights[:, None] * unembed.W_U`\n",
        "\n",
        "The learned translation is folded to `model.unembed.b_U`, a bias added to the logits (note that GPT-2 is not trained with an existing `b_U`). This roughly represents unigram statistics. But we can ignore this because each prompt occurs twice with names in the opposite order, so this perfectly cancels out.\n",
        "\n",
        "Note that rather than using layernorm scaling we could just study cache[\"ln_final.hook_normalised\"]\n",
        "\n",
        "</details>"
      ]
    },
    {
      "cell_type": "code",
      "execution_count": 14,
      "metadata": {
        "colab": {
          "base_uri": "https://localhost:8080/"
        },
        "id": "WdX4le8dUvp-",
        "outputId": "3d4caa17-1ef1-43ec-98eb-b4e1e2b4bed2"
      },
      "outputs": [
        {
          "name": "stdout",
          "output_type": "stream",
          "text": [
            "Final residual stream shape: torch.Size([8, 15, 768])\n",
            "Calculated average logit diff: 3.552\n",
            "Original logit difference: 3.552\n"
          ]
        }
      ],
      "source": [
        "# cache syntax - resid_post is the residual stream at the end of the layer, -1 gets the final layer. The general syntax is [activation_name, layer_index, sub_layer_type].\n",
        "final_residual_stream = cache[\"resid_post\", -1]\n",
        "print(\"Final residual stream shape:\", final_residual_stream.shape)\n",
        "final_token_residual_stream = final_residual_stream[:, -1, :]\n",
        "# Apply LayerNorm scaling\n",
        "# pos_slice is the subset of the positions we take - here the final token of each prompt\n",
        "scaled_final_token_residual_stream = cache.apply_ln_to_stack(\n",
        "    final_token_residual_stream, layer=-1, pos_slice=-1\n",
        ")\n",
        "\n",
        "average_logit_diff = einsum(\n",
        "    \"batch d_model, batch d_model -> \",\n",
        "    scaled_final_token_residual_stream,\n",
        "    logit_diff_directions,\n",
        ") / len(prompts)\n",
        "print(\"Calculated average logit diff:\", round(average_logit_diff.item(), 3))\n",
        "print(\"Original logit difference:\", round(original_average_logit_diff.item(), 3))"
      ]
    },
    {
      "cell_type": "markdown",
      "metadata": {
        "id": "E_GtlP4mUvp-"
      },
      "source": [
        "### Logit Lens"
      ]
    },
    {
      "cell_type": "markdown",
      "metadata": {
        "id": "2_xjFGKjUvp_"
      },
      "source": [
        "We can now decompose the residual stream! First we apply a technique called the [**logit lens**](https://www.alignmentforum.org/posts/AcKRB8wDpdaN6v6ru/interpreting-gpt-the-logit-lens) - this looks at the residual stream after each layer and calculates the logit difference from that. This simulates what happens if we delete all subsequence layers."
      ]
    },
    {
      "cell_type": "code",
      "execution_count": 15,
      "metadata": {
        "id": "2--8SHzkUvp_"
      },
      "outputs": [],
      "source": [
        "def residual_stack_to_logit_diff(\n",
        "    residual_stack: Float[torch.Tensor, \"components batch d_model\"],\n",
        "    cache: ActivationCache,\n",
        ") -> float:\n",
        "    scaled_residual_stack = cache.apply_ln_to_stack(\n",
        "        residual_stack, layer=-1, pos_slice=-1\n",
        "    )\n",
        "    return einsum(\n",
        "        \"... batch d_model, batch d_model -> ...\",\n",
        "        scaled_residual_stack,\n",
        "        logit_diff_directions,\n",
        "    ) / len(prompts)"
      ]
    },
    {
      "cell_type": "markdown",
      "metadata": {
        "id": "MvcZOrItUvp_"
      },
      "source": [
        "Fascinatingly, we see that the model is utterly unable to do the task until layer 7, almost all performance comes from attention layer 9, and performance actually *decreases* from there.\n",
        "\n",
        "**Note:** Hover over each data point to see what residual stream position it's from!\n",
        "\n",
        "<details> <summary>Details on `accumulated_resid`</summary>\n",
        "**Key:** `n_pre` means the residual stream at the start of layer n, `n_mid` means the residual stream after the attention part of layer n (`n_post` is the same as `n+1_pre` so is not included)\n",
        "\n",
        "* `layer` is the layer for which we input the residual stream (this is used to identify *which* layer norm scaling factor we want)\n",
        "* `incl_mid` is whether to include the residual stream in the middle of a layer, ie after attention & before MLP\n",
        "* `pos_slice` is the subset of the positions used. See `utils.Slice` for details on the syntax.\n",
        "* return_labels is whether to return the labels for each component returned (useful for plotting)\n",
        "</details>"
      ]
    },
    {
      "cell_type": "code",
      "execution_count": 16,
      "metadata": {
        "colab": {
          "base_uri": "https://localhost:8080/",
          "height": 542
        },
        "id": "yrv7pZg3Uvp_",
        "outputId": "2224d9e5-1cbd-4d87-ab38-24d1f5dc1e4f"
      },
      "outputs": [
        {
          "data": {
            "application/vnd.plotly.v1+json": {
              "config": {
                "plotlyServerURL": "https://plot.ly"
              },
              "data": [
                {
                  "hovertemplate": "<b>%{hovertext}</b><br><br>x=%{x}<br>y=%{y}<extra></extra>",
                  "hovertext": [
                    "0_pre",
                    "0_mid",
                    "1_pre",
                    "1_mid",
                    "2_pre",
                    "2_mid",
                    "3_pre",
                    "3_mid",
                    "4_pre",
                    "4_mid",
                    "5_pre",
                    "5_mid",
                    "6_pre",
                    "6_mid",
                    "7_pre",
                    "7_mid",
                    "8_pre",
                    "8_mid",
                    "9_pre",
                    "9_mid",
                    "10_pre",
                    "10_mid",
                    "11_pre",
                    "11_mid",
                    "final_post"
                  ],
                  "legendgroup": "",
                  "line": {
                    "color": "#636efa",
                    "dash": "solid"
                  },
                  "marker": {
                    "symbol": "circle"
                  },
                  "mode": "lines",
                  "name": "",
                  "orientation": "v",
                  "showlegend": false,
                  "type": "scatter",
                  "x": [
                    0,
                    0.5,
                    1,
                    1.5,
                    2,
                    2.5,
                    3,
                    3.5,
                    4,
                    4.5,
                    5,
                    5.5,
                    6,
                    6.5,
                    7,
                    7.5,
                    8,
                    8.5,
                    9,
                    9.5,
                    10,
                    10.5,
                    11,
                    11.5,
                    12
                  ],
                  "xaxis": "x",
                  "y": [
                    0.000012936652638018131,
                    -0.00664337957277894,
                    -0.007525070104748011,
                    -0.009075602516531944,
                    -0.008736751973628998,
                    -0.008685408160090446,
                    -0.006480397190898657,
                    -0.007940040901303291,
                    -0.00966188870370388,
                    -0.015095960348844528,
                    -0.014190511777997017,
                    -0.019929679110646248,
                    -0.009124197997152805,
                    -0.02729768492281437,
                    -0.029854901134967804,
                    0.24972586333751678,
                    0.2505585253238678,
                    0.4500522315502167,
                    0.45996880531311035,
                    5.025450229644775,
                    5.142899036407471,
                    4.730565071105957,
                    4.887059211730957,
                    3.4453814029693604,
                    3.551870346069336
                  ],
                  "yaxis": "y"
                }
              ],
              "layout": {
                "legend": {
                  "tracegroupgap": 0
                },
                "template": {
                  "data": {
                    "bar": [
                      {
                        "error_x": {
                          "color": "#2a3f5f"
                        },
                        "error_y": {
                          "color": "#2a3f5f"
                        },
                        "marker": {
                          "line": {
                            "color": "#E5ECF6",
                            "width": 0.5
                          },
                          "pattern": {
                            "fillmode": "overlay",
                            "size": 10,
                            "solidity": 0.2
                          }
                        },
                        "type": "bar"
                      }
                    ],
                    "barpolar": [
                      {
                        "marker": {
                          "line": {
                            "color": "#E5ECF6",
                            "width": 0.5
                          },
                          "pattern": {
                            "fillmode": "overlay",
                            "size": 10,
                            "solidity": 0.2
                          }
                        },
                        "type": "barpolar"
                      }
                    ],
                    "carpet": [
                      {
                        "aaxis": {
                          "endlinecolor": "#2a3f5f",
                          "gridcolor": "white",
                          "linecolor": "white",
                          "minorgridcolor": "white",
                          "startlinecolor": "#2a3f5f"
                        },
                        "baxis": {
                          "endlinecolor": "#2a3f5f",
                          "gridcolor": "white",
                          "linecolor": "white",
                          "minorgridcolor": "white",
                          "startlinecolor": "#2a3f5f"
                        },
                        "type": "carpet"
                      }
                    ],
                    "choropleth": [
                      {
                        "colorbar": {
                          "outlinewidth": 0,
                          "ticks": ""
                        },
                        "type": "choropleth"
                      }
                    ],
                    "contour": [
                      {
                        "colorbar": {
                          "outlinewidth": 0,
                          "ticks": ""
                        },
                        "colorscale": [
                          [
                            0,
                            "#0d0887"
                          ],
                          [
                            0.1111111111111111,
                            "#46039f"
                          ],
                          [
                            0.2222222222222222,
                            "#7201a8"
                          ],
                          [
                            0.3333333333333333,
                            "#9c179e"
                          ],
                          [
                            0.4444444444444444,
                            "#bd3786"
                          ],
                          [
                            0.5555555555555556,
                            "#d8576b"
                          ],
                          [
                            0.6666666666666666,
                            "#ed7953"
                          ],
                          [
                            0.7777777777777778,
                            "#fb9f3a"
                          ],
                          [
                            0.8888888888888888,
                            "#fdca26"
                          ],
                          [
                            1,
                            "#f0f921"
                          ]
                        ],
                        "type": "contour"
                      }
                    ],
                    "contourcarpet": [
                      {
                        "colorbar": {
                          "outlinewidth": 0,
                          "ticks": ""
                        },
                        "type": "contourcarpet"
                      }
                    ],
                    "heatmap": [
                      {
                        "colorbar": {
                          "outlinewidth": 0,
                          "ticks": ""
                        },
                        "colorscale": [
                          [
                            0,
                            "#0d0887"
                          ],
                          [
                            0.1111111111111111,
                            "#46039f"
                          ],
                          [
                            0.2222222222222222,
                            "#7201a8"
                          ],
                          [
                            0.3333333333333333,
                            "#9c179e"
                          ],
                          [
                            0.4444444444444444,
                            "#bd3786"
                          ],
                          [
                            0.5555555555555556,
                            "#d8576b"
                          ],
                          [
                            0.6666666666666666,
                            "#ed7953"
                          ],
                          [
                            0.7777777777777778,
                            "#fb9f3a"
                          ],
                          [
                            0.8888888888888888,
                            "#fdca26"
                          ],
                          [
                            1,
                            "#f0f921"
                          ]
                        ],
                        "type": "heatmap"
                      }
                    ],
                    "heatmapgl": [
                      {
                        "colorbar": {
                          "outlinewidth": 0,
                          "ticks": ""
                        },
                        "colorscale": [
                          [
                            0,
                            "#0d0887"
                          ],
                          [
                            0.1111111111111111,
                            "#46039f"
                          ],
                          [
                            0.2222222222222222,
                            "#7201a8"
                          ],
                          [
                            0.3333333333333333,
                            "#9c179e"
                          ],
                          [
                            0.4444444444444444,
                            "#bd3786"
                          ],
                          [
                            0.5555555555555556,
                            "#d8576b"
                          ],
                          [
                            0.6666666666666666,
                            "#ed7953"
                          ],
                          [
                            0.7777777777777778,
                            "#fb9f3a"
                          ],
                          [
                            0.8888888888888888,
                            "#fdca26"
                          ],
                          [
                            1,
                            "#f0f921"
                          ]
                        ],
                        "type": "heatmapgl"
                      }
                    ],
                    "histogram": [
                      {
                        "marker": {
                          "pattern": {
                            "fillmode": "overlay",
                            "size": 10,
                            "solidity": 0.2
                          }
                        },
                        "type": "histogram"
                      }
                    ],
                    "histogram2d": [
                      {
                        "colorbar": {
                          "outlinewidth": 0,
                          "ticks": ""
                        },
                        "colorscale": [
                          [
                            0,
                            "#0d0887"
                          ],
                          [
                            0.1111111111111111,
                            "#46039f"
                          ],
                          [
                            0.2222222222222222,
                            "#7201a8"
                          ],
                          [
                            0.3333333333333333,
                            "#9c179e"
                          ],
                          [
                            0.4444444444444444,
                            "#bd3786"
                          ],
                          [
                            0.5555555555555556,
                            "#d8576b"
                          ],
                          [
                            0.6666666666666666,
                            "#ed7953"
                          ],
                          [
                            0.7777777777777778,
                            "#fb9f3a"
                          ],
                          [
                            0.8888888888888888,
                            "#fdca26"
                          ],
                          [
                            1,
                            "#f0f921"
                          ]
                        ],
                        "type": "histogram2d"
                      }
                    ],
                    "histogram2dcontour": [
                      {
                        "colorbar": {
                          "outlinewidth": 0,
                          "ticks": ""
                        },
                        "colorscale": [
                          [
                            0,
                            "#0d0887"
                          ],
                          [
                            0.1111111111111111,
                            "#46039f"
                          ],
                          [
                            0.2222222222222222,
                            "#7201a8"
                          ],
                          [
                            0.3333333333333333,
                            "#9c179e"
                          ],
                          [
                            0.4444444444444444,
                            "#bd3786"
                          ],
                          [
                            0.5555555555555556,
                            "#d8576b"
                          ],
                          [
                            0.6666666666666666,
                            "#ed7953"
                          ],
                          [
                            0.7777777777777778,
                            "#fb9f3a"
                          ],
                          [
                            0.8888888888888888,
                            "#fdca26"
                          ],
                          [
                            1,
                            "#f0f921"
                          ]
                        ],
                        "type": "histogram2dcontour"
                      }
                    ],
                    "mesh3d": [
                      {
                        "colorbar": {
                          "outlinewidth": 0,
                          "ticks": ""
                        },
                        "type": "mesh3d"
                      }
                    ],
                    "parcoords": [
                      {
                        "line": {
                          "colorbar": {
                            "outlinewidth": 0,
                            "ticks": ""
                          }
                        },
                        "type": "parcoords"
                      }
                    ],
                    "pie": [
                      {
                        "automargin": true,
                        "type": "pie"
                      }
                    ],
                    "scatter": [
                      {
                        "fillpattern": {
                          "fillmode": "overlay",
                          "size": 10,
                          "solidity": 0.2
                        },
                        "type": "scatter"
                      }
                    ],
                    "scatter3d": [
                      {
                        "line": {
                          "colorbar": {
                            "outlinewidth": 0,
                            "ticks": ""
                          }
                        },
                        "marker": {
                          "colorbar": {
                            "outlinewidth": 0,
                            "ticks": ""
                          }
                        },
                        "type": "scatter3d"
                      }
                    ],
                    "scattercarpet": [
                      {
                        "marker": {
                          "colorbar": {
                            "outlinewidth": 0,
                            "ticks": ""
                          }
                        },
                        "type": "scattercarpet"
                      }
                    ],
                    "scattergeo": [
                      {
                        "marker": {
                          "colorbar": {
                            "outlinewidth": 0,
                            "ticks": ""
                          }
                        },
                        "type": "scattergeo"
                      }
                    ],
                    "scattergl": [
                      {
                        "marker": {
                          "colorbar": {
                            "outlinewidth": 0,
                            "ticks": ""
                          }
                        },
                        "type": "scattergl"
                      }
                    ],
                    "scattermapbox": [
                      {
                        "marker": {
                          "colorbar": {
                            "outlinewidth": 0,
                            "ticks": ""
                          }
                        },
                        "type": "scattermapbox"
                      }
                    ],
                    "scatterpolar": [
                      {
                        "marker": {
                          "colorbar": {
                            "outlinewidth": 0,
                            "ticks": ""
                          }
                        },
                        "type": "scatterpolar"
                      }
                    ],
                    "scatterpolargl": [
                      {
                        "marker": {
                          "colorbar": {
                            "outlinewidth": 0,
                            "ticks": ""
                          }
                        },
                        "type": "scatterpolargl"
                      }
                    ],
                    "scatterternary": [
                      {
                        "marker": {
                          "colorbar": {
                            "outlinewidth": 0,
                            "ticks": ""
                          }
                        },
                        "type": "scatterternary"
                      }
                    ],
                    "surface": [
                      {
                        "colorbar": {
                          "outlinewidth": 0,
                          "ticks": ""
                        },
                        "colorscale": [
                          [
                            0,
                            "#0d0887"
                          ],
                          [
                            0.1111111111111111,
                            "#46039f"
                          ],
                          [
                            0.2222222222222222,
                            "#7201a8"
                          ],
                          [
                            0.3333333333333333,
                            "#9c179e"
                          ],
                          [
                            0.4444444444444444,
                            "#bd3786"
                          ],
                          [
                            0.5555555555555556,
                            "#d8576b"
                          ],
                          [
                            0.6666666666666666,
                            "#ed7953"
                          ],
                          [
                            0.7777777777777778,
                            "#fb9f3a"
                          ],
                          [
                            0.8888888888888888,
                            "#fdca26"
                          ],
                          [
                            1,
                            "#f0f921"
                          ]
                        ],
                        "type": "surface"
                      }
                    ],
                    "table": [
                      {
                        "cells": {
                          "fill": {
                            "color": "#EBF0F8"
                          },
                          "line": {
                            "color": "white"
                          }
                        },
                        "header": {
                          "fill": {
                            "color": "#C8D4E3"
                          },
                          "line": {
                            "color": "white"
                          }
                        },
                        "type": "table"
                      }
                    ]
                  },
                  "layout": {
                    "annotationdefaults": {
                      "arrowcolor": "#2a3f5f",
                      "arrowhead": 0,
                      "arrowwidth": 1
                    },
                    "autotypenumbers": "strict",
                    "coloraxis": {
                      "colorbar": {
                        "outlinewidth": 0,
                        "ticks": ""
                      }
                    },
                    "colorscale": {
                      "diverging": [
                        [
                          0,
                          "#8e0152"
                        ],
                        [
                          0.1,
                          "#c51b7d"
                        ],
                        [
                          0.2,
                          "#de77ae"
                        ],
                        [
                          0.3,
                          "#f1b6da"
                        ],
                        [
                          0.4,
                          "#fde0ef"
                        ],
                        [
                          0.5,
                          "#f7f7f7"
                        ],
                        [
                          0.6,
                          "#e6f5d0"
                        ],
                        [
                          0.7,
                          "#b8e186"
                        ],
                        [
                          0.8,
                          "#7fbc41"
                        ],
                        [
                          0.9,
                          "#4d9221"
                        ],
                        [
                          1,
                          "#276419"
                        ]
                      ],
                      "sequential": [
                        [
                          0,
                          "#0d0887"
                        ],
                        [
                          0.1111111111111111,
                          "#46039f"
                        ],
                        [
                          0.2222222222222222,
                          "#7201a8"
                        ],
                        [
                          0.3333333333333333,
                          "#9c179e"
                        ],
                        [
                          0.4444444444444444,
                          "#bd3786"
                        ],
                        [
                          0.5555555555555556,
                          "#d8576b"
                        ],
                        [
                          0.6666666666666666,
                          "#ed7953"
                        ],
                        [
                          0.7777777777777778,
                          "#fb9f3a"
                        ],
                        [
                          0.8888888888888888,
                          "#fdca26"
                        ],
                        [
                          1,
                          "#f0f921"
                        ]
                      ],
                      "sequentialminus": [
                        [
                          0,
                          "#0d0887"
                        ],
                        [
                          0.1111111111111111,
                          "#46039f"
                        ],
                        [
                          0.2222222222222222,
                          "#7201a8"
                        ],
                        [
                          0.3333333333333333,
                          "#9c179e"
                        ],
                        [
                          0.4444444444444444,
                          "#bd3786"
                        ],
                        [
                          0.5555555555555556,
                          "#d8576b"
                        ],
                        [
                          0.6666666666666666,
                          "#ed7953"
                        ],
                        [
                          0.7777777777777778,
                          "#fb9f3a"
                        ],
                        [
                          0.8888888888888888,
                          "#fdca26"
                        ],
                        [
                          1,
                          "#f0f921"
                        ]
                      ]
                    },
                    "colorway": [
                      "#636efa",
                      "#EF553B",
                      "#00cc96",
                      "#ab63fa",
                      "#FFA15A",
                      "#19d3f3",
                      "#FF6692",
                      "#B6E880",
                      "#FF97FF",
                      "#FECB52"
                    ],
                    "font": {
                      "color": "#2a3f5f"
                    },
                    "geo": {
                      "bgcolor": "white",
                      "lakecolor": "white",
                      "landcolor": "#E5ECF6",
                      "showlakes": true,
                      "showland": true,
                      "subunitcolor": "white"
                    },
                    "hoverlabel": {
                      "align": "left"
                    },
                    "hovermode": "closest",
                    "mapbox": {
                      "style": "light"
                    },
                    "paper_bgcolor": "white",
                    "plot_bgcolor": "#E5ECF6",
                    "polar": {
                      "angularaxis": {
                        "gridcolor": "white",
                        "linecolor": "white",
                        "ticks": ""
                      },
                      "bgcolor": "#E5ECF6",
                      "radialaxis": {
                        "gridcolor": "white",
                        "linecolor": "white",
                        "ticks": ""
                      }
                    },
                    "scene": {
                      "xaxis": {
                        "backgroundcolor": "#E5ECF6",
                        "gridcolor": "white",
                        "gridwidth": 2,
                        "linecolor": "white",
                        "showbackground": true,
                        "ticks": "",
                        "zerolinecolor": "white"
                      },
                      "yaxis": {
                        "backgroundcolor": "#E5ECF6",
                        "gridcolor": "white",
                        "gridwidth": 2,
                        "linecolor": "white",
                        "showbackground": true,
                        "ticks": "",
                        "zerolinecolor": "white"
                      },
                      "zaxis": {
                        "backgroundcolor": "#E5ECF6",
                        "gridcolor": "white",
                        "gridwidth": 2,
                        "linecolor": "white",
                        "showbackground": true,
                        "ticks": "",
                        "zerolinecolor": "white"
                      }
                    },
                    "shapedefaults": {
                      "line": {
                        "color": "#2a3f5f"
                      }
                    },
                    "ternary": {
                      "aaxis": {
                        "gridcolor": "white",
                        "linecolor": "white",
                        "ticks": ""
                      },
                      "baxis": {
                        "gridcolor": "white",
                        "linecolor": "white",
                        "ticks": ""
                      },
                      "bgcolor": "#E5ECF6",
                      "caxis": {
                        "gridcolor": "white",
                        "linecolor": "white",
                        "ticks": ""
                      }
                    },
                    "title": {
                      "x": 0.05
                    },
                    "xaxis": {
                      "automargin": true,
                      "gridcolor": "white",
                      "linecolor": "white",
                      "ticks": "",
                      "title": {
                        "standoff": 15
                      },
                      "zerolinecolor": "white",
                      "zerolinewidth": 2
                    },
                    "yaxis": {
                      "automargin": true,
                      "gridcolor": "white",
                      "linecolor": "white",
                      "ticks": "",
                      "title": {
                        "standoff": 15
                      },
                      "zerolinecolor": "white",
                      "zerolinewidth": 2
                    }
                  }
                },
                "title": {
                  "text": "Logit Difference From Accumulate Residual Stream"
                },
                "xaxis": {
                  "anchor": "y",
                  "domain": [
                    0,
                    1
                  ],
                  "title": {
                    "text": "x"
                  }
                },
                "yaxis": {
                  "anchor": "x",
                  "domain": [
                    0,
                    1
                  ],
                  "title": {
                    "text": "y"
                  }
                }
              }
            }
          },
          "metadata": {},
          "output_type": "display_data"
        }
      ],
      "source": [
        "accumulated_residual, labels = cache.accumulated_resid(\n",
        "    layer=-1, incl_mid=True, pos_slice=-1, return_labels=True\n",
        ")\n",
        "logit_lens_logit_diffs = residual_stack_to_logit_diff(accumulated_residual, cache)\n",
        "line(\n",
        "    logit_lens_logit_diffs,\n",
        "    x=np.arange(model.cfg.n_layers * 2 + 1) / 2,\n",
        "    hover_name=labels,\n",
        "    title=\"Logit Difference From Accumulate Residual Stream\",\n",
        ")"
      ]
    },
    {
      "cell_type": "markdown",
      "metadata": {
        "id": "9GDTGTvyUvp_"
      },
      "source": [
        "### Layer Attribution"
      ]
    },
    {
      "cell_type": "markdown",
      "metadata": {
        "id": "VJ77JjXHUvqA"
      },
      "source": [
        "We can repeat the above analysis but for each layer (this is equivalent to the differences between adjacent residual streams)\n",
        "\n",
        "Note: Annoying terminology overload - layer k of a transformer means the kth **transformer block**, but each block consists of an **attention layer** (to move information around) *and* an **MLP layer** (to process information).\n",
        "\n",
        "We see that only attention layers matter, which makes sense! The IOI task is about moving information around (ie moving the correct name and not the incorrect name), and less about processing it. And again we note that attention layer 9 improves things a lot, while attention 10 and attention 11 *decrease* performance"
      ]
    },
    {
      "cell_type": "code",
      "execution_count": 17,
      "metadata": {
        "colab": {
          "base_uri": "https://localhost:8080/",
          "height": 542
        },
        "id": "tzD0C-HwUvqA",
        "outputId": "2f6a2a17-585c-4af8-d73b-5c4f59a08ce4"
      },
      "outputs": [
        {
          "data": {
            "application/vnd.plotly.v1+json": {
              "config": {
                "plotlyServerURL": "https://plot.ly"
              },
              "data": [
                {
                  "hovertemplate": "<b>%{hovertext}</b><br><br>x=%{x}<br>y=%{y}<extra></extra>",
                  "hovertext": [
                    "embed",
                    "pos_embed",
                    "0_attn_out",
                    "0_mlp_out",
                    "1_attn_out",
                    "1_mlp_out",
                    "2_attn_out",
                    "2_mlp_out",
                    "3_attn_out",
                    "3_mlp_out",
                    "4_attn_out",
                    "4_mlp_out",
                    "5_attn_out",
                    "5_mlp_out",
                    "6_attn_out",
                    "6_mlp_out",
                    "7_attn_out",
                    "7_mlp_out",
                    "8_attn_out",
                    "8_mlp_out",
                    "9_attn_out",
                    "9_mlp_out",
                    "10_attn_out",
                    "10_mlp_out",
                    "11_attn_out",
                    "11_mlp_out"
                  ],
                  "legendgroup": "",
                  "line": {
                    "color": "#636efa",
                    "dash": "solid"
                  },
                  "marker": {
                    "symbol": "circle"
                  },
                  "mode": "lines",
                  "name": "",
                  "orientation": "v",
                  "showlegend": false,
                  "type": "scatter",
                  "x": [
                    0,
                    1,
                    2,
                    3,
                    4,
                    5,
                    6,
                    7,
                    8,
                    9,
                    10,
                    11,
                    12,
                    13,
                    14,
                    15,
                    16,
                    17,
                    18,
                    19,
                    20,
                    21,
                    22,
                    23,
                    24,
                    25
                  ],
                  "xaxis": "x",
                  "y": [
                    -0.00028366781771183014,
                    0.0002966047031804919,
                    -0.006656318437308073,
                    -0.0008816929766908288,
                    -0.0015505256596952677,
                    0.0003388393088243902,
                    0.00005134812090545893,
                    0.002205005381256342,
                    -0.0014596499968320131,
                    -0.0017218345310539007,
                    -0.005434083752334118,
                    0.000905425229575485,
                    -0.005739146843552589,
                    0.0108054643496871,
                    -0.01817348226904869,
                    -0.002557208528742194,
                    0.2795807123184204,
                    0.000832701101899147,
                    0.19949370622634888,
                    0.009916591458022594,
                    4.565481185913086,
                    0.11744894087314606,
                    -0.41233378648757935,
                    0.15649378299713135,
                    -1.4416775703430176,
                    0.106488898396492
                  ],
                  "yaxis": "y"
                }
              ],
              "layout": {
                "legend": {
                  "tracegroupgap": 0
                },
                "template": {
                  "data": {
                    "bar": [
                      {
                        "error_x": {
                          "color": "#2a3f5f"
                        },
                        "error_y": {
                          "color": "#2a3f5f"
                        },
                        "marker": {
                          "line": {
                            "color": "#E5ECF6",
                            "width": 0.5
                          },
                          "pattern": {
                            "fillmode": "overlay",
                            "size": 10,
                            "solidity": 0.2
                          }
                        },
                        "type": "bar"
                      }
                    ],
                    "barpolar": [
                      {
                        "marker": {
                          "line": {
                            "color": "#E5ECF6",
                            "width": 0.5
                          },
                          "pattern": {
                            "fillmode": "overlay",
                            "size": 10,
                            "solidity": 0.2
                          }
                        },
                        "type": "barpolar"
                      }
                    ],
                    "carpet": [
                      {
                        "aaxis": {
                          "endlinecolor": "#2a3f5f",
                          "gridcolor": "white",
                          "linecolor": "white",
                          "minorgridcolor": "white",
                          "startlinecolor": "#2a3f5f"
                        },
                        "baxis": {
                          "endlinecolor": "#2a3f5f",
                          "gridcolor": "white",
                          "linecolor": "white",
                          "minorgridcolor": "white",
                          "startlinecolor": "#2a3f5f"
                        },
                        "type": "carpet"
                      }
                    ],
                    "choropleth": [
                      {
                        "colorbar": {
                          "outlinewidth": 0,
                          "ticks": ""
                        },
                        "type": "choropleth"
                      }
                    ],
                    "contour": [
                      {
                        "colorbar": {
                          "outlinewidth": 0,
                          "ticks": ""
                        },
                        "colorscale": [
                          [
                            0,
                            "#0d0887"
                          ],
                          [
                            0.1111111111111111,
                            "#46039f"
                          ],
                          [
                            0.2222222222222222,
                            "#7201a8"
                          ],
                          [
                            0.3333333333333333,
                            "#9c179e"
                          ],
                          [
                            0.4444444444444444,
                            "#bd3786"
                          ],
                          [
                            0.5555555555555556,
                            "#d8576b"
                          ],
                          [
                            0.6666666666666666,
                            "#ed7953"
                          ],
                          [
                            0.7777777777777778,
                            "#fb9f3a"
                          ],
                          [
                            0.8888888888888888,
                            "#fdca26"
                          ],
                          [
                            1,
                            "#f0f921"
                          ]
                        ],
                        "type": "contour"
                      }
                    ],
                    "contourcarpet": [
                      {
                        "colorbar": {
                          "outlinewidth": 0,
                          "ticks": ""
                        },
                        "type": "contourcarpet"
                      }
                    ],
                    "heatmap": [
                      {
                        "colorbar": {
                          "outlinewidth": 0,
                          "ticks": ""
                        },
                        "colorscale": [
                          [
                            0,
                            "#0d0887"
                          ],
                          [
                            0.1111111111111111,
                            "#46039f"
                          ],
                          [
                            0.2222222222222222,
                            "#7201a8"
                          ],
                          [
                            0.3333333333333333,
                            "#9c179e"
                          ],
                          [
                            0.4444444444444444,
                            "#bd3786"
                          ],
                          [
                            0.5555555555555556,
                            "#d8576b"
                          ],
                          [
                            0.6666666666666666,
                            "#ed7953"
                          ],
                          [
                            0.7777777777777778,
                            "#fb9f3a"
                          ],
                          [
                            0.8888888888888888,
                            "#fdca26"
                          ],
                          [
                            1,
                            "#f0f921"
                          ]
                        ],
                        "type": "heatmap"
                      }
                    ],
                    "heatmapgl": [
                      {
                        "colorbar": {
                          "outlinewidth": 0,
                          "ticks": ""
                        },
                        "colorscale": [
                          [
                            0,
                            "#0d0887"
                          ],
                          [
                            0.1111111111111111,
                            "#46039f"
                          ],
                          [
                            0.2222222222222222,
                            "#7201a8"
                          ],
                          [
                            0.3333333333333333,
                            "#9c179e"
                          ],
                          [
                            0.4444444444444444,
                            "#bd3786"
                          ],
                          [
                            0.5555555555555556,
                            "#d8576b"
                          ],
                          [
                            0.6666666666666666,
                            "#ed7953"
                          ],
                          [
                            0.7777777777777778,
                            "#fb9f3a"
                          ],
                          [
                            0.8888888888888888,
                            "#fdca26"
                          ],
                          [
                            1,
                            "#f0f921"
                          ]
                        ],
                        "type": "heatmapgl"
                      }
                    ],
                    "histogram": [
                      {
                        "marker": {
                          "pattern": {
                            "fillmode": "overlay",
                            "size": 10,
                            "solidity": 0.2
                          }
                        },
                        "type": "histogram"
                      }
                    ],
                    "histogram2d": [
                      {
                        "colorbar": {
                          "outlinewidth": 0,
                          "ticks": ""
                        },
                        "colorscale": [
                          [
                            0,
                            "#0d0887"
                          ],
                          [
                            0.1111111111111111,
                            "#46039f"
                          ],
                          [
                            0.2222222222222222,
                            "#7201a8"
                          ],
                          [
                            0.3333333333333333,
                            "#9c179e"
                          ],
                          [
                            0.4444444444444444,
                            "#bd3786"
                          ],
                          [
                            0.5555555555555556,
                            "#d8576b"
                          ],
                          [
                            0.6666666666666666,
                            "#ed7953"
                          ],
                          [
                            0.7777777777777778,
                            "#fb9f3a"
                          ],
                          [
                            0.8888888888888888,
                            "#fdca26"
                          ],
                          [
                            1,
                            "#f0f921"
                          ]
                        ],
                        "type": "histogram2d"
                      }
                    ],
                    "histogram2dcontour": [
                      {
                        "colorbar": {
                          "outlinewidth": 0,
                          "ticks": ""
                        },
                        "colorscale": [
                          [
                            0,
                            "#0d0887"
                          ],
                          [
                            0.1111111111111111,
                            "#46039f"
                          ],
                          [
                            0.2222222222222222,
                            "#7201a8"
                          ],
                          [
                            0.3333333333333333,
                            "#9c179e"
                          ],
                          [
                            0.4444444444444444,
                            "#bd3786"
                          ],
                          [
                            0.5555555555555556,
                            "#d8576b"
                          ],
                          [
                            0.6666666666666666,
                            "#ed7953"
                          ],
                          [
                            0.7777777777777778,
                            "#fb9f3a"
                          ],
                          [
                            0.8888888888888888,
                            "#fdca26"
                          ],
                          [
                            1,
                            "#f0f921"
                          ]
                        ],
                        "type": "histogram2dcontour"
                      }
                    ],
                    "mesh3d": [
                      {
                        "colorbar": {
                          "outlinewidth": 0,
                          "ticks": ""
                        },
                        "type": "mesh3d"
                      }
                    ],
                    "parcoords": [
                      {
                        "line": {
                          "colorbar": {
                            "outlinewidth": 0,
                            "ticks": ""
                          }
                        },
                        "type": "parcoords"
                      }
                    ],
                    "pie": [
                      {
                        "automargin": true,
                        "type": "pie"
                      }
                    ],
                    "scatter": [
                      {
                        "fillpattern": {
                          "fillmode": "overlay",
                          "size": 10,
                          "solidity": 0.2
                        },
                        "type": "scatter"
                      }
                    ],
                    "scatter3d": [
                      {
                        "line": {
                          "colorbar": {
                            "outlinewidth": 0,
                            "ticks": ""
                          }
                        },
                        "marker": {
                          "colorbar": {
                            "outlinewidth": 0,
                            "ticks": ""
                          }
                        },
                        "type": "scatter3d"
                      }
                    ],
                    "scattercarpet": [
                      {
                        "marker": {
                          "colorbar": {
                            "outlinewidth": 0,
                            "ticks": ""
                          }
                        },
                        "type": "scattercarpet"
                      }
                    ],
                    "scattergeo": [
                      {
                        "marker": {
                          "colorbar": {
                            "outlinewidth": 0,
                            "ticks": ""
                          }
                        },
                        "type": "scattergeo"
                      }
                    ],
                    "scattergl": [
                      {
                        "marker": {
                          "colorbar": {
                            "outlinewidth": 0,
                            "ticks": ""
                          }
                        },
                        "type": "scattergl"
                      }
                    ],
                    "scattermapbox": [
                      {
                        "marker": {
                          "colorbar": {
                            "outlinewidth": 0,
                            "ticks": ""
                          }
                        },
                        "type": "scattermapbox"
                      }
                    ],
                    "scatterpolar": [
                      {
                        "marker": {
                          "colorbar": {
                            "outlinewidth": 0,
                            "ticks": ""
                          }
                        },
                        "type": "scatterpolar"
                      }
                    ],
                    "scatterpolargl": [
                      {
                        "marker": {
                          "colorbar": {
                            "outlinewidth": 0,
                            "ticks": ""
                          }
                        },
                        "type": "scatterpolargl"
                      }
                    ],
                    "scatterternary": [
                      {
                        "marker": {
                          "colorbar": {
                            "outlinewidth": 0,
                            "ticks": ""
                          }
                        },
                        "type": "scatterternary"
                      }
                    ],
                    "surface": [
                      {
                        "colorbar": {
                          "outlinewidth": 0,
                          "ticks": ""
                        },
                        "colorscale": [
                          [
                            0,
                            "#0d0887"
                          ],
                          [
                            0.1111111111111111,
                            "#46039f"
                          ],
                          [
                            0.2222222222222222,
                            "#7201a8"
                          ],
                          [
                            0.3333333333333333,
                            "#9c179e"
                          ],
                          [
                            0.4444444444444444,
                            "#bd3786"
                          ],
                          [
                            0.5555555555555556,
                            "#d8576b"
                          ],
                          [
                            0.6666666666666666,
                            "#ed7953"
                          ],
                          [
                            0.7777777777777778,
                            "#fb9f3a"
                          ],
                          [
                            0.8888888888888888,
                            "#fdca26"
                          ],
                          [
                            1,
                            "#f0f921"
                          ]
                        ],
                        "type": "surface"
                      }
                    ],
                    "table": [
                      {
                        "cells": {
                          "fill": {
                            "color": "#EBF0F8"
                          },
                          "line": {
                            "color": "white"
                          }
                        },
                        "header": {
                          "fill": {
                            "color": "#C8D4E3"
                          },
                          "line": {
                            "color": "white"
                          }
                        },
                        "type": "table"
                      }
                    ]
                  },
                  "layout": {
                    "annotationdefaults": {
                      "arrowcolor": "#2a3f5f",
                      "arrowhead": 0,
                      "arrowwidth": 1
                    },
                    "autotypenumbers": "strict",
                    "coloraxis": {
                      "colorbar": {
                        "outlinewidth": 0,
                        "ticks": ""
                      }
                    },
                    "colorscale": {
                      "diverging": [
                        [
                          0,
                          "#8e0152"
                        ],
                        [
                          0.1,
                          "#c51b7d"
                        ],
                        [
                          0.2,
                          "#de77ae"
                        ],
                        [
                          0.3,
                          "#f1b6da"
                        ],
                        [
                          0.4,
                          "#fde0ef"
                        ],
                        [
                          0.5,
                          "#f7f7f7"
                        ],
                        [
                          0.6,
                          "#e6f5d0"
                        ],
                        [
                          0.7,
                          "#b8e186"
                        ],
                        [
                          0.8,
                          "#7fbc41"
                        ],
                        [
                          0.9,
                          "#4d9221"
                        ],
                        [
                          1,
                          "#276419"
                        ]
                      ],
                      "sequential": [
                        [
                          0,
                          "#0d0887"
                        ],
                        [
                          0.1111111111111111,
                          "#46039f"
                        ],
                        [
                          0.2222222222222222,
                          "#7201a8"
                        ],
                        [
                          0.3333333333333333,
                          "#9c179e"
                        ],
                        [
                          0.4444444444444444,
                          "#bd3786"
                        ],
                        [
                          0.5555555555555556,
                          "#d8576b"
                        ],
                        [
                          0.6666666666666666,
                          "#ed7953"
                        ],
                        [
                          0.7777777777777778,
                          "#fb9f3a"
                        ],
                        [
                          0.8888888888888888,
                          "#fdca26"
                        ],
                        [
                          1,
                          "#f0f921"
                        ]
                      ],
                      "sequentialminus": [
                        [
                          0,
                          "#0d0887"
                        ],
                        [
                          0.1111111111111111,
                          "#46039f"
                        ],
                        [
                          0.2222222222222222,
                          "#7201a8"
                        ],
                        [
                          0.3333333333333333,
                          "#9c179e"
                        ],
                        [
                          0.4444444444444444,
                          "#bd3786"
                        ],
                        [
                          0.5555555555555556,
                          "#d8576b"
                        ],
                        [
                          0.6666666666666666,
                          "#ed7953"
                        ],
                        [
                          0.7777777777777778,
                          "#fb9f3a"
                        ],
                        [
                          0.8888888888888888,
                          "#fdca26"
                        ],
                        [
                          1,
                          "#f0f921"
                        ]
                      ]
                    },
                    "colorway": [
                      "#636efa",
                      "#EF553B",
                      "#00cc96",
                      "#ab63fa",
                      "#FFA15A",
                      "#19d3f3",
                      "#FF6692",
                      "#B6E880",
                      "#FF97FF",
                      "#FECB52"
                    ],
                    "font": {
                      "color": "#2a3f5f"
                    },
                    "geo": {
                      "bgcolor": "white",
                      "lakecolor": "white",
                      "landcolor": "#E5ECF6",
                      "showlakes": true,
                      "showland": true,
                      "subunitcolor": "white"
                    },
                    "hoverlabel": {
                      "align": "left"
                    },
                    "hovermode": "closest",
                    "mapbox": {
                      "style": "light"
                    },
                    "paper_bgcolor": "white",
                    "plot_bgcolor": "#E5ECF6",
                    "polar": {
                      "angularaxis": {
                        "gridcolor": "white",
                        "linecolor": "white",
                        "ticks": ""
                      },
                      "bgcolor": "#E5ECF6",
                      "radialaxis": {
                        "gridcolor": "white",
                        "linecolor": "white",
                        "ticks": ""
                      }
                    },
                    "scene": {
                      "xaxis": {
                        "backgroundcolor": "#E5ECF6",
                        "gridcolor": "white",
                        "gridwidth": 2,
                        "linecolor": "white",
                        "showbackground": true,
                        "ticks": "",
                        "zerolinecolor": "white"
                      },
                      "yaxis": {
                        "backgroundcolor": "#E5ECF6",
                        "gridcolor": "white",
                        "gridwidth": 2,
                        "linecolor": "white",
                        "showbackground": true,
                        "ticks": "",
                        "zerolinecolor": "white"
                      },
                      "zaxis": {
                        "backgroundcolor": "#E5ECF6",
                        "gridcolor": "white",
                        "gridwidth": 2,
                        "linecolor": "white",
                        "showbackground": true,
                        "ticks": "",
                        "zerolinecolor": "white"
                      }
                    },
                    "shapedefaults": {
                      "line": {
                        "color": "#2a3f5f"
                      }
                    },
                    "ternary": {
                      "aaxis": {
                        "gridcolor": "white",
                        "linecolor": "white",
                        "ticks": ""
                      },
                      "baxis": {
                        "gridcolor": "white",
                        "linecolor": "white",
                        "ticks": ""
                      },
                      "bgcolor": "#E5ECF6",
                      "caxis": {
                        "gridcolor": "white",
                        "linecolor": "white",
                        "ticks": ""
                      }
                    },
                    "title": {
                      "x": 0.05
                    },
                    "xaxis": {
                      "automargin": true,
                      "gridcolor": "white",
                      "linecolor": "white",
                      "ticks": "",
                      "title": {
                        "standoff": 15
                      },
                      "zerolinecolor": "white",
                      "zerolinewidth": 2
                    },
                    "yaxis": {
                      "automargin": true,
                      "gridcolor": "white",
                      "linecolor": "white",
                      "ticks": "",
                      "title": {
                        "standoff": 15
                      },
                      "zerolinecolor": "white",
                      "zerolinewidth": 2
                    }
                  }
                },
                "title": {
                  "text": "Logit Difference From Each Layer"
                },
                "xaxis": {
                  "anchor": "y",
                  "domain": [
                    0,
                    1
                  ],
                  "title": {
                    "text": "x"
                  }
                },
                "yaxis": {
                  "anchor": "x",
                  "domain": [
                    0,
                    1
                  ],
                  "title": {
                    "text": "y"
                  }
                }
              }
            }
          },
          "metadata": {},
          "output_type": "display_data"
        }
      ],
      "source": [
        "per_layer_residual, labels = cache.decompose_resid(\n",
        "    layer=-1, pos_slice=-1, return_labels=True\n",
        ")\n",
        "per_layer_logit_diffs = residual_stack_to_logit_diff(per_layer_residual, cache)\n",
        "line(per_layer_logit_diffs, hover_name=labels, title=\"Logit Difference From Each Layer\")"
      ]
    },
    {
      "cell_type": "markdown",
      "metadata": {
        "id": "mJtDTL3-UvqA"
      },
      "source": [
        "## Head Attribution"
      ]
    },
    {
      "cell_type": "markdown",
      "metadata": {
        "id": "k6oKAzvVUvqA"
      },
      "source": [
        "We can further break down the output of each attention layer into the sum of the outputs of each attention head. Each attention layer consists of 12 heads, which each act independently and additively.\n",
        "\n",
        "<details> <summary>Decomposing attention output into sums of heads</summary>\n",
        "The standard way to compute the output of an attention layer is by concatenating the mixed values of each head, and multiplying by a big output weight matrix. But as described in [A Mathematical Framework](https://transformer-circuits.pub/2021/framework/index.html) this is equivalent to splitting the output weight matrix into a per-head output (here `model.blocks[k].attn.W_O`) and adding them up (including an overall bias term for the entire layer)\n",
        "</details>\n",
        "\n",
        "We see that only a few heads really matter - heads L9H6 and L9H9 contribute a lot positively (explaining why attention layer 9 is so important), while heads L10H7 and L11H10 contribute a lot negatively (explaining why attention layer 10 and layer 11 are actively harmful). These correspond to (some of) the name movers and negative name movers discussed in the paper. There are also several heads that matter positively or negatively but less strongly (other name movers and backup name movers)\n",
        "\n",
        "There are a few meta observations worth making here - our model has 144 heads, yet we could localise this behaviour to a handful of specific heads, using straightforward, general techniques. This supports the claim in [A Mathematical Framework](https://transformer-circuits.pub/2021/framework/index.html) that attention heads are the right level of abstraction to understand attention. It also really surprising that there are *negative* heads - eg L10H7 makes the incorrect logit 7x *more* likely. I'm not sure what's going on there, though the paper discusses some possibilities."
      ]
    },
    {
      "cell_type": "code",
      "execution_count": 18,
      "metadata": {
        "colab": {
          "base_uri": "https://localhost:8080/",
          "height": 559
        },
        "id": "yzLkYaStUvqB",
        "outputId": "b75202b3-9395-4670-fede-2320c9712e70"
      },
      "outputs": [
        {
          "name": "stdout",
          "output_type": "stream",
          "text": [
            "Tried to stack head results when they weren't cached. Computing head results now\n"
          ]
        },
        {
          "data": {
            "application/vnd.plotly.v1+json": {
              "config": {
                "plotlyServerURL": "https://plot.ly"
              },
              "data": [
                {
                  "coloraxis": "coloraxis",
                  "hovertemplate": "Head: %{x}<br>Layer: %{y}<br>color: %{z}<extra></extra>",
                  "name": "0",
                  "type": "heatmap",
                  "xaxis": "x",
                  "yaxis": "y",
                  "z": [
                    [
                      -0.0020563388243317604,
                      -0.0005101903225295246,
                      0.00046858121640980244,
                      0.00012512016110122204,
                      -0.0006028725183568895,
                      -0.00024294486502185464,
                      -0.002318894024938345,
                      -0.002758363261818886,
                      0.0005645986529998481,
                      0.0009697428322397172,
                      -0.0002504396834410727,
                      0.000004725123289972544
                    ],
                    [
                      -0.0010071154683828354,
                      0.00039471592754125595,
                      -0.0015487385680899024,
                      0.0014034899650141597,
                      -0.001265296945348382,
                      -0.0011357917683199048,
                      -0.002815953455865383,
                      -0.002964530372992158,
                      0.0029190536588430405,
                      0.002574359066784382,
                      0.0003623927477747202,
                      0.0017548705218359828
                    ],
                    [
                      0.0005569430068135262,
                      -0.0011266230139881372,
                      -0.001735376426950097,
                      -0.0014514591312035918,
                      -0.0002873720368370414,
                      0.0017211304511874914,
                      0.002665888052433729,
                      0.003114674473181367,
                      0.0005667898803949356,
                      -0.0036665168590843678,
                      -0.0018847484607249498,
                      0.000007044756785035133
                    ],
                    [
                      -0.0007264391169883311,
                      0.00011364450620021671,
                      0.0014300725888460875,
                      0.0007490599527955055,
                      0.002018473343923688,
                      0.0007437184685841203,
                      -0.00046176978503353894,
                      -0.0039057149551808834,
                      0.001140641630627215,
                      -0.000040285754948854446,
                      -0.0013293515658006072,
                      -0.0017636651173233986
                    ],
                    [
                      -0.0028281412087380886,
                      0.00033633661223575473,
                      -0.0014248600928112864,
                      -0.003777247853577137,
                      0.001599879702553153,
                      0.00029891615849919617,
                      -0.000804679119028151,
                      0.0020388353150337934,
                      -0.0015593749703839421,
                      -0.0006436811527237296,
                      0.0011168339988216758,
                      -0.00035008680424652994
                    ],
                    [
                      0.001133804558776319,
                      0.0011259142775088549,
                      -0.0025166105479002,
                      -0.0014790333807468414,
                      0.00038785894867032766,
                      -0.00006409877096302807,
                      -0.0005096603417769074,
                      -0.0008840427035465837,
                      0.000639884383417666,
                      -0.0010097060585394502,
                      -0.006759047042578459,
                      0.0033667930401861668
                    ],
                    [
                      -0.015147385187447071,
                      -0.0021350844763219357,
                      0.0025931873824447393,
                      -0.00042681279592216015,
                      -0.005558950826525688,
                      0.0026658857241272926,
                      0.006411221344023943,
                      -0.0038267839699983597,
                      -0.00038435414899140596,
                      -0.0016430332325398922,
                      -0.0013344521867111325,
                      -0.00009208064875565469
                    ],
                    [
                      -0.00009475628758082166,
                      -0.005788983311504126,
                      -0.0006383587024174631,
                      0.13493409752845764,
                      -0.0017687418730929494,
                      -0.018917927518486977,
                      0.003873455338180065,
                      -0.002145060570910573,
                      -0.010327273048460484,
                      0.18325820565223694,
                      -0.0007747879135422409,
                      -0.0010452477727085352
                    ],
                    [
                      -0.003833908587694168,
                      -0.000804609153419733,
                      -0.012673383578658104,
                      0.008045848459005356,
                      0.0036045375745743513,
                      -0.009398404508829117,
                      -0.08272095024585724,
                      0.003555180737748742,
                      -0.01840406097471714,
                      0.0017586686881259084,
                      0.2896133363246918,
                      0.02285381592810154
                    ],
                    [
                      0.08595266193151474,
                      -0.0006932906107977033,
                      0.06817052513360977,
                      0.01311147678643465,
                      -0.021097971126437187,
                      0.05112437903881073,
                      1.3844910860061646,
                      0.045836806297302246,
                      -0.03830263763666153,
                      2.9854443073272705,
                      0.0019662172999233007,
                      -0.008030124008655548
                    ],
                    [
                      0.5608702898025513,
                      0.1708305925130844,
                      -0.033617183566093445,
                      0.058215558528900146,
                      -0.002453039400279522,
                      0.0018771602772176266,
                      0.2882724702358246,
                      -1.8986477851867676,
                      -0.0015286952257156372,
                      -0.03513006493449211,
                      0.4802178740501404,
                      -0.000911540468223393
                    ],
                    [
                      0.016075748950242996,
                      -0.03986174985766411,
                      -0.3879132866859436,
                      0.011123147793114185,
                      -0.005477845203131437,
                      -0.0025129769928753376,
                      -0.08056142926216125,
                      0.0075186388567090034,
                      0.04301116615533829,
                      -0.04008246585726738,
                      -0.9702374339103699,
                      0.011862223967909813
                    ]
                  ]
                }
              ],
              "layout": {
                "coloraxis": {
                  "cmid": 0,
                  "colorscale": [
                    [
                      0,
                      "rgb(103,0,31)"
                    ],
                    [
                      0.1,
                      "rgb(178,24,43)"
                    ],
                    [
                      0.2,
                      "rgb(214,96,77)"
                    ],
                    [
                      0.3,
                      "rgb(244,165,130)"
                    ],
                    [
                      0.4,
                      "rgb(253,219,199)"
                    ],
                    [
                      0.5,
                      "rgb(247,247,247)"
                    ],
                    [
                      0.6,
                      "rgb(209,229,240)"
                    ],
                    [
                      0.7,
                      "rgb(146,197,222)"
                    ],
                    [
                      0.8,
                      "rgb(67,147,195)"
                    ],
                    [
                      0.9,
                      "rgb(33,102,172)"
                    ],
                    [
                      1,
                      "rgb(5,48,97)"
                    ]
                  ]
                },
                "template": {
                  "data": {
                    "bar": [
                      {
                        "error_x": {
                          "color": "#2a3f5f"
                        },
                        "error_y": {
                          "color": "#2a3f5f"
                        },
                        "marker": {
                          "line": {
                            "color": "#E5ECF6",
                            "width": 0.5
                          },
                          "pattern": {
                            "fillmode": "overlay",
                            "size": 10,
                            "solidity": 0.2
                          }
                        },
                        "type": "bar"
                      }
                    ],
                    "barpolar": [
                      {
                        "marker": {
                          "line": {
                            "color": "#E5ECF6",
                            "width": 0.5
                          },
                          "pattern": {
                            "fillmode": "overlay",
                            "size": 10,
                            "solidity": 0.2
                          }
                        },
                        "type": "barpolar"
                      }
                    ],
                    "carpet": [
                      {
                        "aaxis": {
                          "endlinecolor": "#2a3f5f",
                          "gridcolor": "white",
                          "linecolor": "white",
                          "minorgridcolor": "white",
                          "startlinecolor": "#2a3f5f"
                        },
                        "baxis": {
                          "endlinecolor": "#2a3f5f",
                          "gridcolor": "white",
                          "linecolor": "white",
                          "minorgridcolor": "white",
                          "startlinecolor": "#2a3f5f"
                        },
                        "type": "carpet"
                      }
                    ],
                    "choropleth": [
                      {
                        "colorbar": {
                          "outlinewidth": 0,
                          "ticks": ""
                        },
                        "type": "choropleth"
                      }
                    ],
                    "contour": [
                      {
                        "colorbar": {
                          "outlinewidth": 0,
                          "ticks": ""
                        },
                        "colorscale": [
                          [
                            0,
                            "#0d0887"
                          ],
                          [
                            0.1111111111111111,
                            "#46039f"
                          ],
                          [
                            0.2222222222222222,
                            "#7201a8"
                          ],
                          [
                            0.3333333333333333,
                            "#9c179e"
                          ],
                          [
                            0.4444444444444444,
                            "#bd3786"
                          ],
                          [
                            0.5555555555555556,
                            "#d8576b"
                          ],
                          [
                            0.6666666666666666,
                            "#ed7953"
                          ],
                          [
                            0.7777777777777778,
                            "#fb9f3a"
                          ],
                          [
                            0.8888888888888888,
                            "#fdca26"
                          ],
                          [
                            1,
                            "#f0f921"
                          ]
                        ],
                        "type": "contour"
                      }
                    ],
                    "contourcarpet": [
                      {
                        "colorbar": {
                          "outlinewidth": 0,
                          "ticks": ""
                        },
                        "type": "contourcarpet"
                      }
                    ],
                    "heatmap": [
                      {
                        "colorbar": {
                          "outlinewidth": 0,
                          "ticks": ""
                        },
                        "colorscale": [
                          [
                            0,
                            "#0d0887"
                          ],
                          [
                            0.1111111111111111,
                            "#46039f"
                          ],
                          [
                            0.2222222222222222,
                            "#7201a8"
                          ],
                          [
                            0.3333333333333333,
                            "#9c179e"
                          ],
                          [
                            0.4444444444444444,
                            "#bd3786"
                          ],
                          [
                            0.5555555555555556,
                            "#d8576b"
                          ],
                          [
                            0.6666666666666666,
                            "#ed7953"
                          ],
                          [
                            0.7777777777777778,
                            "#fb9f3a"
                          ],
                          [
                            0.8888888888888888,
                            "#fdca26"
                          ],
                          [
                            1,
                            "#f0f921"
                          ]
                        ],
                        "type": "heatmap"
                      }
                    ],
                    "heatmapgl": [
                      {
                        "colorbar": {
                          "outlinewidth": 0,
                          "ticks": ""
                        },
                        "colorscale": [
                          [
                            0,
                            "#0d0887"
                          ],
                          [
                            0.1111111111111111,
                            "#46039f"
                          ],
                          [
                            0.2222222222222222,
                            "#7201a8"
                          ],
                          [
                            0.3333333333333333,
                            "#9c179e"
                          ],
                          [
                            0.4444444444444444,
                            "#bd3786"
                          ],
                          [
                            0.5555555555555556,
                            "#d8576b"
                          ],
                          [
                            0.6666666666666666,
                            "#ed7953"
                          ],
                          [
                            0.7777777777777778,
                            "#fb9f3a"
                          ],
                          [
                            0.8888888888888888,
                            "#fdca26"
                          ],
                          [
                            1,
                            "#f0f921"
                          ]
                        ],
                        "type": "heatmapgl"
                      }
                    ],
                    "histogram": [
                      {
                        "marker": {
                          "pattern": {
                            "fillmode": "overlay",
                            "size": 10,
                            "solidity": 0.2
                          }
                        },
                        "type": "histogram"
                      }
                    ],
                    "histogram2d": [
                      {
                        "colorbar": {
                          "outlinewidth": 0,
                          "ticks": ""
                        },
                        "colorscale": [
                          [
                            0,
                            "#0d0887"
                          ],
                          [
                            0.1111111111111111,
                            "#46039f"
                          ],
                          [
                            0.2222222222222222,
                            "#7201a8"
                          ],
                          [
                            0.3333333333333333,
                            "#9c179e"
                          ],
                          [
                            0.4444444444444444,
                            "#bd3786"
                          ],
                          [
                            0.5555555555555556,
                            "#d8576b"
                          ],
                          [
                            0.6666666666666666,
                            "#ed7953"
                          ],
                          [
                            0.7777777777777778,
                            "#fb9f3a"
                          ],
                          [
                            0.8888888888888888,
                            "#fdca26"
                          ],
                          [
                            1,
                            "#f0f921"
                          ]
                        ],
                        "type": "histogram2d"
                      }
                    ],
                    "histogram2dcontour": [
                      {
                        "colorbar": {
                          "outlinewidth": 0,
                          "ticks": ""
                        },
                        "colorscale": [
                          [
                            0,
                            "#0d0887"
                          ],
                          [
                            0.1111111111111111,
                            "#46039f"
                          ],
                          [
                            0.2222222222222222,
                            "#7201a8"
                          ],
                          [
                            0.3333333333333333,
                            "#9c179e"
                          ],
                          [
                            0.4444444444444444,
                            "#bd3786"
                          ],
                          [
                            0.5555555555555556,
                            "#d8576b"
                          ],
                          [
                            0.6666666666666666,
                            "#ed7953"
                          ],
                          [
                            0.7777777777777778,
                            "#fb9f3a"
                          ],
                          [
                            0.8888888888888888,
                            "#fdca26"
                          ],
                          [
                            1,
                            "#f0f921"
                          ]
                        ],
                        "type": "histogram2dcontour"
                      }
                    ],
                    "mesh3d": [
                      {
                        "colorbar": {
                          "outlinewidth": 0,
                          "ticks": ""
                        },
                        "type": "mesh3d"
                      }
                    ],
                    "parcoords": [
                      {
                        "line": {
                          "colorbar": {
                            "outlinewidth": 0,
                            "ticks": ""
                          }
                        },
                        "type": "parcoords"
                      }
                    ],
                    "pie": [
                      {
                        "automargin": true,
                        "type": "pie"
                      }
                    ],
                    "scatter": [
                      {
                        "fillpattern": {
                          "fillmode": "overlay",
                          "size": 10,
                          "solidity": 0.2
                        },
                        "type": "scatter"
                      }
                    ],
                    "scatter3d": [
                      {
                        "line": {
                          "colorbar": {
                            "outlinewidth": 0,
                            "ticks": ""
                          }
                        },
                        "marker": {
                          "colorbar": {
                            "outlinewidth": 0,
                            "ticks": ""
                          }
                        },
                        "type": "scatter3d"
                      }
                    ],
                    "scattercarpet": [
                      {
                        "marker": {
                          "colorbar": {
                            "outlinewidth": 0,
                            "ticks": ""
                          }
                        },
                        "type": "scattercarpet"
                      }
                    ],
                    "scattergeo": [
                      {
                        "marker": {
                          "colorbar": {
                            "outlinewidth": 0,
                            "ticks": ""
                          }
                        },
                        "type": "scattergeo"
                      }
                    ],
                    "scattergl": [
                      {
                        "marker": {
                          "colorbar": {
                            "outlinewidth": 0,
                            "ticks": ""
                          }
                        },
                        "type": "scattergl"
                      }
                    ],
                    "scattermapbox": [
                      {
                        "marker": {
                          "colorbar": {
                            "outlinewidth": 0,
                            "ticks": ""
                          }
                        },
                        "type": "scattermapbox"
                      }
                    ],
                    "scatterpolar": [
                      {
                        "marker": {
                          "colorbar": {
                            "outlinewidth": 0,
                            "ticks": ""
                          }
                        },
                        "type": "scatterpolar"
                      }
                    ],
                    "scatterpolargl": [
                      {
                        "marker": {
                          "colorbar": {
                            "outlinewidth": 0,
                            "ticks": ""
                          }
                        },
                        "type": "scatterpolargl"
                      }
                    ],
                    "scatterternary": [
                      {
                        "marker": {
                          "colorbar": {
                            "outlinewidth": 0,
                            "ticks": ""
                          }
                        },
                        "type": "scatterternary"
                      }
                    ],
                    "surface": [
                      {
                        "colorbar": {
                          "outlinewidth": 0,
                          "ticks": ""
                        },
                        "colorscale": [
                          [
                            0,
                            "#0d0887"
                          ],
                          [
                            0.1111111111111111,
                            "#46039f"
                          ],
                          [
                            0.2222222222222222,
                            "#7201a8"
                          ],
                          [
                            0.3333333333333333,
                            "#9c179e"
                          ],
                          [
                            0.4444444444444444,
                            "#bd3786"
                          ],
                          [
                            0.5555555555555556,
                            "#d8576b"
                          ],
                          [
                            0.6666666666666666,
                            "#ed7953"
                          ],
                          [
                            0.7777777777777778,
                            "#fb9f3a"
                          ],
                          [
                            0.8888888888888888,
                            "#fdca26"
                          ],
                          [
                            1,
                            "#f0f921"
                          ]
                        ],
                        "type": "surface"
                      }
                    ],
                    "table": [
                      {
                        "cells": {
                          "fill": {
                            "color": "#EBF0F8"
                          },
                          "line": {
                            "color": "white"
                          }
                        },
                        "header": {
                          "fill": {
                            "color": "#C8D4E3"
                          },
                          "line": {
                            "color": "white"
                          }
                        },
                        "type": "table"
                      }
                    ]
                  },
                  "layout": {
                    "annotationdefaults": {
                      "arrowcolor": "#2a3f5f",
                      "arrowhead": 0,
                      "arrowwidth": 1
                    },
                    "autotypenumbers": "strict",
                    "coloraxis": {
                      "colorbar": {
                        "outlinewidth": 0,
                        "ticks": ""
                      }
                    },
                    "colorscale": {
                      "diverging": [
                        [
                          0,
                          "#8e0152"
                        ],
                        [
                          0.1,
                          "#c51b7d"
                        ],
                        [
                          0.2,
                          "#de77ae"
                        ],
                        [
                          0.3,
                          "#f1b6da"
                        ],
                        [
                          0.4,
                          "#fde0ef"
                        ],
                        [
                          0.5,
                          "#f7f7f7"
                        ],
                        [
                          0.6,
                          "#e6f5d0"
                        ],
                        [
                          0.7,
                          "#b8e186"
                        ],
                        [
                          0.8,
                          "#7fbc41"
                        ],
                        [
                          0.9,
                          "#4d9221"
                        ],
                        [
                          1,
                          "#276419"
                        ]
                      ],
                      "sequential": [
                        [
                          0,
                          "#0d0887"
                        ],
                        [
                          0.1111111111111111,
                          "#46039f"
                        ],
                        [
                          0.2222222222222222,
                          "#7201a8"
                        ],
                        [
                          0.3333333333333333,
                          "#9c179e"
                        ],
                        [
                          0.4444444444444444,
                          "#bd3786"
                        ],
                        [
                          0.5555555555555556,
                          "#d8576b"
                        ],
                        [
                          0.6666666666666666,
                          "#ed7953"
                        ],
                        [
                          0.7777777777777778,
                          "#fb9f3a"
                        ],
                        [
                          0.8888888888888888,
                          "#fdca26"
                        ],
                        [
                          1,
                          "#f0f921"
                        ]
                      ],
                      "sequentialminus": [
                        [
                          0,
                          "#0d0887"
                        ],
                        [
                          0.1111111111111111,
                          "#46039f"
                        ],
                        [
                          0.2222222222222222,
                          "#7201a8"
                        ],
                        [
                          0.3333333333333333,
                          "#9c179e"
                        ],
                        [
                          0.4444444444444444,
                          "#bd3786"
                        ],
                        [
                          0.5555555555555556,
                          "#d8576b"
                        ],
                        [
                          0.6666666666666666,
                          "#ed7953"
                        ],
                        [
                          0.7777777777777778,
                          "#fb9f3a"
                        ],
                        [
                          0.8888888888888888,
                          "#fdca26"
                        ],
                        [
                          1,
                          "#f0f921"
                        ]
                      ]
                    },
                    "colorway": [
                      "#636efa",
                      "#EF553B",
                      "#00cc96",
                      "#ab63fa",
                      "#FFA15A",
                      "#19d3f3",
                      "#FF6692",
                      "#B6E880",
                      "#FF97FF",
                      "#FECB52"
                    ],
                    "font": {
                      "color": "#2a3f5f"
                    },
                    "geo": {
                      "bgcolor": "white",
                      "lakecolor": "white",
                      "landcolor": "#E5ECF6",
                      "showlakes": true,
                      "showland": true,
                      "subunitcolor": "white"
                    },
                    "hoverlabel": {
                      "align": "left"
                    },
                    "hovermode": "closest",
                    "mapbox": {
                      "style": "light"
                    },
                    "paper_bgcolor": "white",
                    "plot_bgcolor": "#E5ECF6",
                    "polar": {
                      "angularaxis": {
                        "gridcolor": "white",
                        "linecolor": "white",
                        "ticks": ""
                      },
                      "bgcolor": "#E5ECF6",
                      "radialaxis": {
                        "gridcolor": "white",
                        "linecolor": "white",
                        "ticks": ""
                      }
                    },
                    "scene": {
                      "xaxis": {
                        "backgroundcolor": "#E5ECF6",
                        "gridcolor": "white",
                        "gridwidth": 2,
                        "linecolor": "white",
                        "showbackground": true,
                        "ticks": "",
                        "zerolinecolor": "white"
                      },
                      "yaxis": {
                        "backgroundcolor": "#E5ECF6",
                        "gridcolor": "white",
                        "gridwidth": 2,
                        "linecolor": "white",
                        "showbackground": true,
                        "ticks": "",
                        "zerolinecolor": "white"
                      },
                      "zaxis": {
                        "backgroundcolor": "#E5ECF6",
                        "gridcolor": "white",
                        "gridwidth": 2,
                        "linecolor": "white",
                        "showbackground": true,
                        "ticks": "",
                        "zerolinecolor": "white"
                      }
                    },
                    "shapedefaults": {
                      "line": {
                        "color": "#2a3f5f"
                      }
                    },
                    "ternary": {
                      "aaxis": {
                        "gridcolor": "white",
                        "linecolor": "white",
                        "ticks": ""
                      },
                      "baxis": {
                        "gridcolor": "white",
                        "linecolor": "white",
                        "ticks": ""
                      },
                      "bgcolor": "#E5ECF6",
                      "caxis": {
                        "gridcolor": "white",
                        "linecolor": "white",
                        "ticks": ""
                      }
                    },
                    "title": {
                      "x": 0.05
                    },
                    "xaxis": {
                      "automargin": true,
                      "gridcolor": "white",
                      "linecolor": "white",
                      "ticks": "",
                      "title": {
                        "standoff": 15
                      },
                      "zerolinecolor": "white",
                      "zerolinewidth": 2
                    },
                    "yaxis": {
                      "automargin": true,
                      "gridcolor": "white",
                      "linecolor": "white",
                      "ticks": "",
                      "title": {
                        "standoff": 15
                      },
                      "zerolinecolor": "white",
                      "zerolinewidth": 2
                    }
                  }
                },
                "title": {
                  "text": "Logit Difference From Each Head"
                },
                "xaxis": {
                  "anchor": "y",
                  "constrain": "domain",
                  "domain": [
                    0,
                    1
                  ],
                  "scaleanchor": "y",
                  "title": {
                    "text": "Head"
                  }
                },
                "yaxis": {
                  "anchor": "x",
                  "autorange": "reversed",
                  "constrain": "domain",
                  "domain": [
                    0,
                    1
                  ],
                  "title": {
                    "text": "Layer"
                  }
                }
              }
            }
          },
          "metadata": {},
          "output_type": "display_data"
        }
      ],
      "source": [
        "per_head_residual, labels = cache.stack_head_results(\n",
        "    layer=-1, pos_slice=-1, return_labels=True\n",
        ")\n",
        "per_head_logit_diffs = residual_stack_to_logit_diff(per_head_residual, cache)\n",
        "per_head_logit_diffs = einops.rearrange(\n",
        "    per_head_logit_diffs,\n",
        "    \"(layer head_index) -> layer head_index\",\n",
        "    layer=model.cfg.n_layers,\n",
        "    head_index=model.cfg.n_heads,\n",
        ")\n",
        "imshow(\n",
        "    per_head_logit_diffs,\n",
        "    labels={\"x\": \"Head\", \"y\": \"Layer\"},\n",
        "    title=\"Logit Difference From Each Head\",\n",
        ")"
      ]
    },
    {
      "cell_type": "markdown",
      "metadata": {
        "id": "V5Q67wWJUvqB"
      },
      "source": [
        "## Attention Analysis"
      ]
    },
    {
      "cell_type": "markdown",
      "metadata": {
        "id": "_Fs19-MsUvqB"
      },
      "source": [
        "Attention heads are particularly easy to study because we can look directly at their attention patterns and study from what positions they move information from and two. This is particularly easy here as we're looking at the direct effect on the logits so we need only look at the attention patterns from the final token.\n",
        "\n",
        "We use Alan Cooney's circuitsvis library to visualize the attention patterns! We visualize the top 3 positive and negative heads by direct logit attribution, and show these for the first prompt (as an illustration).\n",
        "\n",
        "<details> <summary>Interpreting Attention Patterns</summary>\n",
        "An easy mistake to make when looking at attention patterns is thinking that they must convey information about the <i>token</i> looked at (maybe accounting for the context of the token). But actually, all we can confidently say is that it moves information from the *residual stream position* corresponding to that input token. Especially later on in the model, there may be components in the residual stream that are nothing to do with the input token! Eg the period at the end of a sentence may contain summary information for that sentence, and the head may solely move that, rather than caring about whether it ends in \".\", \"!\" or \"?\"\n",
        "</details>"
      ]
    },
    {
      "cell_type": "code",
      "execution_count": 19,
      "metadata": {
        "id": "bGTCLpFNUvqB"
      },
      "outputs": [],
      "source": [
        "def visualize_attention_patterns(\n",
        "    heads: Union[List[int], int, Float[torch.Tensor, \"heads\"]],\n",
        "    local_cache: ActivationCache,\n",
        "    local_tokens: torch.Tensor,\n",
        "    title: Optional[str] = \"\",\n",
        "    max_width: Optional[int] = 700,\n",
        ") -> str:\n",
        "    # If a single head is given, convert to a list\n",
        "    if isinstance(heads, int):\n",
        "        heads = [heads]\n",
        "\n",
        "    # Create the plotting data\n",
        "    labels: List[str] = []\n",
        "    patterns: List[Float[torch.Tensor, \"dest_pos src_pos\"]] = []\n",
        "\n",
        "    # Assume we have a single batch item\n",
        "    batch_index = 0\n",
        "\n",
        "    for head in heads:\n",
        "        # Set the label\n",
        "        layer = head // model.cfg.n_heads\n",
        "        head_index = head % model.cfg.n_heads\n",
        "        labels.append(f\"L{layer}H{head_index}\")\n",
        "\n",
        "        # Get the attention patterns for the head\n",
        "        # Attention patterns have shape [batch, head_index, query_pos, key_pos]\n",
        "        patterns.append(local_cache[\"attn\", layer][batch_index, head_index])\n",
        "\n",
        "    # Convert the tokens to strings (for the axis labels)\n",
        "    str_tokens = model.to_str_tokens(local_tokens)\n",
        "\n",
        "    # Combine the patterns into a single tensor\n",
        "    patterns: Float[torch.Tensor, \"head_index dest_pos src_pos\"] = torch.stack(\n",
        "        patterns, dim=0\n",
        "    )\n",
        "\n",
        "    # Circuitsvis Plot (note we get the code version so we can concatenate with the title)\n",
        "    plot = attention_heads(\n",
        "        attention=patterns, tokens=str_tokens, attention_head_names=labels\n",
        "    ).show_code()\n",
        "\n",
        "    # Display the title\n",
        "    title_html = f\"<h2>{title}</h2><br/>\"\n",
        "\n",
        "    # Return the visualisation as raw code\n",
        "    return f\"<div style='max-width: {str(max_width)}px;'>{title_html + plot}</div>\""
      ]
    },
    {
      "cell_type": "markdown",
      "metadata": {
        "id": "hNfnx3mdUvqC"
      },
      "source": [
        "Inspecting the patterns, we can see that both types of name movers attend to the indirect object - this suggests they're simply copying the name attended to (with the OV circuit) and that the interesting part is the circuit behind the attention pattern that calculates *where* to move information from (the QK circuit)"
      ]
    },
    {
      "cell_type": "code",
      "execution_count": 20,
      "metadata": {
        "colab": {
          "base_uri": "https://localhost:8080/",
          "height": 1000
        },
        "id": "zsQimTbNUvqC",
        "outputId": "ddba2ad0-6ff9-4734-9735-d92101adc5c6"
      },
      "outputs": [
        {
          "data": {
            "text/html": [
              "<div style='max-width: 700px;'><h2>Top 3 Positive Logit Attribution Heads</h2><br/><div id=\"circuits-vis-7062c1b7-81f4\" style=\"margin: 15px 0;\"/>\n",
              "    <script crossorigin type=\"module\">\n",
              "    import { render, AttentionHeads } from \"https://unpkg.com/circuitsvis@1.43.2/dist/cdn/esm.js\";\n",
              "    render(\n",
              "      \"circuits-vis-7062c1b7-81f4\",\n",
              "      AttentionHeads,\n",
              "      {\"attention\": [[[1.0, 0.0, 0.0, 0.0, 0.0, 0.0, 0.0, 0.0, 0.0, 0.0, 0.0, 0.0, 0.0, 0.0, 0.0], [0.9979304075241089, 0.0020696406718343496, 0.0, 0.0, 0.0, 0.0, 0.0, 0.0, 0.0, 0.0, 0.0, 0.0, 0.0, 0.0, 0.0], [0.9971864819526672, 0.0010516623733565211, 0.0017618355341255665, 0.0, 0.0, 0.0, 0.0, 0.0, 0.0, 0.0, 0.0, 0.0, 0.0, 0.0, 0.0], [0.9594854712486267, 0.0013107301201671362, 0.03694336861371994, 0.002260478911921382, 0.0, 0.0, 0.0, 0.0, 0.0, 0.0, 0.0, 0.0, 0.0, 0.0, 0.0], [0.9891613125801086, 0.0010526311816647649, 0.004854221828281879, 0.0011043684789910913, 0.0038276035338640213, 0.0, 0.0, 0.0, 0.0, 0.0, 0.0, 0.0, 0.0, 0.0, 0.0], [0.9963597655296326, 0.0007981848903000355, 0.0007764360634610057, 0.0001926263648783788, 0.00024162141198758036, 0.0016313653904944658, 0.0, 0.0, 0.0, 0.0, 0.0, 0.0, 0.0, 0.0, 0.0], [0.9812860488891602, 0.0018637949833646417, 0.006344225257635117, 0.0002960961137432605, 0.004605038557201624, 0.0013967122649773955, 0.004207997117191553, 0.0, 0.0, 0.0, 0.0, 0.0, 0.0, 0.0, 0.0], [0.9950010180473328, 0.00132306560408324, 0.0007920897332951427, 0.00024644858785904944, 0.0003405218885745853, 0.00016826330102048814, 0.00028378042043186724, 0.0018447947222739458, 0.0, 0.0, 0.0, 0.0, 0.0, 0.0, 0.0], [0.9920291900634766, 0.001353997504338622, 0.0007168399752117693, 9.214279998559505e-05, 0.000134195142891258, 0.00019706513558048755, 0.000352785486029461, 0.00024261300859507173, 0.004881164059042931, 0.0, 0.0, 0.0, 0.0, 0.0, 0.0], [0.5483192801475525, 0.007583854254335165, 0.28266164660453796, 0.0029685702174901962, 0.14815521240234375, 0.0008172983070835471, 0.0006479904404841363, 0.0017078476957976818, 0.004129308275878429, 0.0030090417712926865, 0.0, 0.0, 0.0, 0.0, 0.0], [0.8642569184303284, 0.0036492906510829926, 0.004925802815705538, 0.06957408040761948, 0.03868241608142853, 0.00960983894765377, 0.0008548610494472086, 0.000564301386475563, 0.0037070943508297205, 0.0013952713925391436, 0.002780062612146139, 0.0, 0.0, 0.0, 0.0], [0.3025319278240204, 0.0065845102071762085, 0.14017581939697266, 0.03006596863269806, 0.4806668758392334, 0.0005923655116930604, 0.0005309818661771715, 0.002413494046777487, 0.00850577000528574, 0.001376643660478294, 0.023764826357364655, 0.0027908463962376118, 0.0, 0.0, 0.0], [0.7773909568786621, 0.003722911002114415, 0.02237815596163273, 0.01513945683836937, 0.017408225685358047, 0.002416659379377961, 0.0007095667533576488, 0.0007399654132314026, 0.13850043714046478, 0.0023606717586517334, 0.005776860751211643, 0.0028014506679028273, 0.01065466832369566, 0.0, 0.0], [0.9735959768295288, 0.0012812651693820953, 0.002617955906316638, 9.891974332276732e-05, 0.0005098599358461797, 0.00012000847345916554, 0.0004523020761553198, 0.00010779785952763632, 0.00295452494174242, 0.0016444070497527719, 0.0012141400948166847, 0.00018637492030393332, 0.0008510897750966251, 0.014365374110639095, 0.0], [0.09902995824813843, 0.0009710949962027371, 0.06413291394710541, 0.00524700153619051, 0.8110395669937134, 8.250348037108779e-05, 6.596823368454352e-05, 0.0011991462670266628, 0.0008852769969962537, 0.000248915224801749, 0.010336419567465782, 7.952340820338577e-05, 0.004943351726979017, 0.00028918898897245526, 0.0014492293121293187]], [[1.0, 0.0, 0.0, 0.0, 0.0, 0.0, 0.0, 0.0, 0.0, 0.0, 0.0, 0.0, 0.0, 0.0, 0.0], [0.9985041618347168, 0.0014959038235247135, 0.0, 0.0, 0.0, 0.0, 0.0, 0.0, 0.0, 0.0, 0.0, 0.0, 0.0, 0.0, 0.0], [0.9966639876365662, 0.00046957682934589684, 0.0028664525598287582, 0.0, 0.0, 0.0, 0.0, 0.0, 0.0, 0.0, 0.0, 0.0, 0.0, 0.0, 0.0], [0.9208279252052307, 0.0007844963110983372, 0.07677032053470612, 0.0016173465410247445, 0.0, 0.0, 0.0, 0.0, 0.0, 0.0, 0.0, 0.0, 0.0, 0.0, 0.0], [0.9835837483406067, 0.0006018328131176531, 0.003012299770489335, 0.00618808064609766, 0.006613993085920811, 0.0, 0.0, 0.0, 0.0, 0.0, 0.0, 0.0, 0.0, 0.0, 0.0], [0.9950478076934814, 0.000779800524469465, 0.0007059487397782505, 0.00038248399505391717, 0.0007798848673701286, 0.0023041453678160906, 0.0, 0.0, 0.0, 0.0, 0.0, 0.0, 0.0, 0.0, 0.0], [0.983881950378418, 0.001590748899616301, 0.006336245220154524, 0.0004584564594551921, 0.004829891491681337, 0.000996662536635995, 0.001906093442812562, 0.0, 0.0, 0.0, 0.0, 0.0, 0.0, 0.0, 0.0], [0.995481014251709, 0.0010436351876705885, 0.000503750576172024, 0.0005756175378337502, 0.0004619490646291524, 0.00042672015842981637, 0.0006751777254976332, 0.0008320976630784571, 0.0, 0.0, 0.0, 0.0, 0.0, 0.0, 0.0], [0.9798214435577393, 0.008518211543560028, 0.001019027316942811, 0.0002993264643009752, 0.0003097982844337821, 0.00033305137185379863, 0.00154198391828686, 0.0008126521133817732, 0.007344476878643036, 0.0, 0.0, 0.0, 0.0, 0.0, 0.0], [0.6489212512969971, 0.008722442202270031, 0.10266119986772537, 0.003890564665198326, 0.22695055603981018, 0.0011351023567840457, 0.0004588209558278322, 0.0004216694796923548, 0.005373863503336906, 0.0014645777409896255, 0.0, 0.0, 0.0, 0.0, 0.0], [0.9156036972999573, 0.001343557727523148, 0.0011674034176394343, 0.045320432633161545, 0.02015770599246025, 0.007576495409011841, 0.0011305741500109434, 0.00024880850105546415, 0.004846305586397648, 0.0007249564514495432, 0.001880055875517428, 0.0, 0.0, 0.0, 0.0], [0.49621066451072693, 0.00197828677482903, 0.05844169482588768, 0.007836955599486828, 0.40375739336013794, 0.0005728195537813008, 0.00029640132561326027, 0.0009752923506312072, 0.0046508037485182285, 0.0003252363530918956, 0.023185525089502335, 0.001769013237208128, 0.0, 0.0, 0.0], [0.8397703766822815, 0.0018636767053976655, 0.0055775404907763, 0.02038062922656536, 0.02927307039499283, 0.004448764957487583, 0.001150329364463687, 0.00024191597185563296, 0.08715128153562546, 0.0013588640140369534, 0.0026416101027280092, 0.0019266587914898992, 0.004215259104967117, 0.0, 0.0], [0.9744171500205994, 0.0024021081626415253, 0.00455054035410285, 0.00020547710300888866, 0.002662536222487688, 0.00021827164164278656, 0.0008242498734034598, 0.0004054962773807347, 0.0026430157013237476, 0.001523554208688438, 0.003108855104073882, 7.676492532482371e-05, 0.001850263332016766, 0.005111799109727144, 0.0], [0.1847027987241745, 0.00038850330747663975, 0.06518075615167618, 0.0014534671790897846, 0.7318771481513977, 0.00010888349788729101, 2.7485695682116784e-05, 0.00011231208918616176, 0.0013672069180756807, 4.016256571048871e-05, 0.012543678283691406, 5.958555993856862e-05, 0.000775646127294749, 0.0010575379710644484, 0.00030486559262499213]], [[1.0, 0.0, 0.0, 0.0, 0.0, 0.0, 0.0, 0.0, 0.0, 0.0, 0.0, 0.0, 0.0, 0.0, 0.0], [0.9776752591133118, 0.022324716672301292, 0.0, 0.0, 0.0, 0.0, 0.0, 0.0, 0.0, 0.0, 0.0, 0.0, 0.0, 0.0, 0.0], [0.9430755376815796, 0.018822982907295227, 0.03810152783989906, 0.0, 0.0, 0.0, 0.0, 0.0, 0.0, 0.0, 0.0, 0.0, 0.0, 0.0, 0.0], [0.8963212966918945, 0.0061716800555586815, 0.07676290720701218, 0.02074413001537323, 0.0, 0.0, 0.0, 0.0, 0.0, 0.0, 0.0, 0.0, 0.0, 0.0, 0.0], [0.8522232174873352, 0.017844336107373238, 0.054786596447229385, 0.012976225465536118, 0.062169574201107025, 0.0, 0.0, 0.0, 0.0, 0.0, 0.0, 0.0, 0.0, 0.0, 0.0], [0.9669023752212524, 0.004049534909427166, 0.002062322339043021, 0.007766377180814743, 0.007081794086843729, 0.012137598358094692, 0.0, 0.0, 0.0, 0.0, 0.0, 0.0, 0.0, 0.0, 0.0], [0.7676392197608948, 0.01850217580795288, 0.045013200491666794, 0.012471686117351055, 0.10591332614421844, 0.018323395401239395, 0.032136932015419006, 0.0, 0.0, 0.0, 0.0, 0.0, 0.0, 0.0, 0.0], [0.8918288350105286, 0.010069550946354866, 0.01309003122150898, 0.010685178451240063, 0.031169364228844643, 0.006502219010144472, 0.021038388833403587, 0.015616565011441708, 0.0, 0.0, 0.0, 0.0, 0.0, 0.0, 0.0], [0.9457212686538696, 0.004500493872910738, 0.013905787840485573, 0.0013248908799141645, 0.015576448291540146, 0.0011156891705468297, 0.0007837414159439504, 0.0007244518492370844, 0.016347210854291916, 0.0, 0.0, 0.0, 0.0, 0.0, 0.0], [0.5131927728652954, 0.006032105535268784, 0.11406835913658142, 0.009519172832369804, 0.3061334192752838, 0.00344224669970572, 0.0026016468182206154, 0.002665369538590312, 0.034123439341783524, 0.008221440948545933, 0.0, 0.0, 0.0, 0.0, 0.0], [0.8395135402679443, 0.00832626037299633, 0.012920868583023548, 0.012827777303755283, 0.029934264719486237, 0.013884082436561584, 0.003483901731669903, 0.0018691568402573466, 0.03946565464138985, 0.011843965388834476, 0.02593057230114937, 0.0, 0.0, 0.0, 0.0], [0.35850226879119873, 0.004236199427396059, 0.10680322349071503, 0.01559867151081562, 0.4160782992839813, 0.0024919367861002684, 0.00358569691888988, 0.0038998876698315144, 0.015855059027671814, 0.0059381150640547276, 0.06202744320034981, 0.004983258433640003, 0.0, 0.0, 0.0], [0.6125433444976807, 0.004679438192397356, 0.02915525995194912, 0.02824040874838829, 0.08258876949548721, 0.007909836247563362, 0.011129298247396946, 0.0034775808453559875, 0.17027758061885834, 0.010538876987993717, 0.015773477032780647, 0.013295016251504421, 0.010391092859208584, 0.0, 0.0], [0.8758106231689453, 0.007089277729392052, 0.012082784436643124, 0.002599587431177497, 0.02126935124397278, 0.0016535593895241618, 0.0019036508165299892, 0.0016309923958033323, 0.028230272233486176, 0.008473493158817291, 0.011080323718488216, 0.0027609397657215595, 0.002594097051769495, 0.022820932790637016, 0.0], [0.5415263175964355, 0.00339750899001956, 0.038882654160261154, 0.007577111944556236, 0.36139023303985596, 0.0013810768723487854, 0.0010475113522261381, 0.0012340099783614278, 0.006947733927518129, 0.0037569983396679163, 0.01767178811132908, 0.0011743918294087052, 0.0036232455167919397, 0.0021924651227891445, 0.008196910843253136]]], \"attentionHeadNames\": [\"L9H9\", \"L9H6\", \"L10H0\"], \"tokens\": [\"<|endoftext|>\", \"When\", \" John\", \" and\", \" Mary\", \" went\", \" to\", \" the\", \" shops\", \",\", \" John\", \" gave\", \" the\", \" bag\", \" to\"]}\n",
              "    )\n",
              "    </script></div><div style='max-width: 700px;'><h2>Top 3 Negative Logit Attribution Heads</h2><br/><div id=\"circuits-vis-af8194dc-189b\" style=\"margin: 15px 0;\"/>\n",
              "    <script crossorigin type=\"module\">\n",
              "    import { render, AttentionHeads } from \"https://unpkg.com/circuitsvis@1.43.2/dist/cdn/esm.js\";\n",
              "    render(\n",
              "      \"circuits-vis-af8194dc-189b\",\n",
              "      AttentionHeads,\n",
              "      {\"attention\": [[[1.0, 0.0, 0.0, 0.0, 0.0, 0.0, 0.0, 0.0, 0.0, 0.0, 0.0, 0.0, 0.0, 0.0, 0.0], [0.9628915190696716, 0.03710850328207016, 0.0, 0.0, 0.0, 0.0, 0.0, 0.0, 0.0, 0.0, 0.0, 0.0, 0.0, 0.0, 0.0], [0.9778333902359009, 0.003486395813524723, 0.018680153414607048, 0.0, 0.0, 0.0, 0.0, 0.0, 0.0, 0.0, 0.0, 0.0, 0.0, 0.0, 0.0], [0.8737695813179016, 0.005964312236756086, 0.08126787841320038, 0.03899822011590004, 0.0, 0.0, 0.0, 0.0, 0.0, 0.0, 0.0, 0.0, 0.0, 0.0, 0.0], [0.8745139241218567, 0.017276184633374214, 0.018874697387218475, 0.05426807701587677, 0.03506702929735184, 0.0, 0.0, 0.0, 0.0, 0.0, 0.0, 0.0, 0.0, 0.0, 0.0], [0.9704693555831909, 0.003517784643918276, 0.00032398340408690274, 0.004373406991362572, 0.0003953022533096373, 0.02092023566365242, 0.0, 0.0, 0.0, 0.0, 0.0, 0.0, 0.0, 0.0, 0.0], [0.7694659233093262, 0.006685884203761816, 0.011966577731072903, 0.04096599295735359, 0.033444732427597046, 0.0440099872648716, 0.09346083551645279, 0.0, 0.0, 0.0, 0.0, 0.0, 0.0, 0.0, 0.0], [0.8177727460861206, 0.009112600237131119, 0.0042337048798799515, 0.03900296986103058, 0.012653353624045849, 0.007337817456573248, 0.07409993559122086, 0.035786937922239304, 0.0, 0.0, 0.0, 0.0, 0.0, 0.0, 0.0], [0.8309933543205261, 0.01879657804965973, 0.003303278936073184, 0.01983196660876274, 0.004009501542896032, 0.012078294530510902, 0.03245994821190834, 0.010322264395654202, 0.06820479780435562, 0.0, 0.0, 0.0, 0.0, 0.0, 0.0], [0.3140294551849365, 0.015227928757667542, 0.19789497554302216, 0.059379205107688904, 0.3236064910888672, 0.009037766605615616, 0.019917631521821022, 0.012475213035941124, 0.013939463533461094, 0.03449185937643051, 0.0, 0.0, 0.0, 0.0, 0.0], [0.7319562435150146, 0.030870581045746803, 0.005064086057245731, 0.08703780919313431, 0.004982689395546913, 0.044726088643074036, 0.023506229743361473, 0.006397766061127186, 0.0034696944057941437, 0.04865314066410065, 0.0133355762809515, 0.0, 0.0, 0.0, 0.0], [0.1371050924062729, 0.012017946690320969, 0.14592358469963074, 0.015683377161622047, 0.4412526488304138, 0.0043424819596111774, 0.01111790630966425, 0.007466613780707121, 0.0012341701658442616, 0.019460158422589302, 0.1684284210205078, 0.035967640578746796, 0.0, 0.0, 0.0], [0.4052465558052063, 0.009721014648675919, 0.03158159926533699, 0.09247049689292908, 0.04880879446864128, 0.008174268528819084, 0.03170832246541977, 0.027879104018211365, 0.14128056168556213, 0.030233968049287796, 0.033928822726011276, 0.03171442821621895, 0.10725203901529312, 0.0, 0.0], [0.8084707260131836, 0.005670265294611454, 0.006755997892469168, 0.008696516044437885, 0.01047342736274004, 0.0034647274296730757, 0.0067609637044370174, 0.002588908653706312, 0.01509770192205906, 0.0160359013825655, 0.011288031004369259, 0.017277367413043976, 0.007799165323376656, 0.0796203687787056, 0.0], [0.029390843585133553, 0.0016060526249930263, 0.06005579233169556, 0.008175655268132687, 0.8099169731140137, 0.0003979634493589401, 0.002828235737979412, 0.003363249357789755, 0.0001569111191201955, 0.0036458997055888176, 0.05494052171707153, 0.0016660401597619057, 0.015368967317044735, 5.016649447497912e-05, 0.008436771109700203]], [[1.0, 0.0, 0.0, 0.0, 0.0, 0.0, 0.0, 0.0, 0.0, 0.0, 0.0, 0.0, 0.0, 0.0, 0.0], [0.9124025702476501, 0.08759743720293045, 0.0, 0.0, 0.0, 0.0, 0.0, 0.0, 0.0, 0.0, 0.0, 0.0, 0.0, 0.0, 0.0], [0.9740748405456543, 0.014344047755002975, 0.011581061407923698, 0.0, 0.0, 0.0, 0.0, 0.0, 0.0, 0.0, 0.0, 0.0, 0.0, 0.0, 0.0], [0.8240252137184143, 0.03700496256351471, 0.06643939018249512, 0.07253037393093109, 0.0, 0.0, 0.0, 0.0, 0.0, 0.0, 0.0, 0.0, 0.0, 0.0, 0.0], [0.5370805263519287, 0.15483331680297852, 0.0903126448392868, 0.12131170183420181, 0.09646184742450714, 0.0, 0.0, 0.0, 0.0, 0.0, 0.0, 0.0, 0.0, 0.0, 0.0], [0.9388007521629333, 0.02873297594487667, 0.0003430960059631616, 0.01048114150762558, 0.0008399165817536414, 0.02080211415886879, 0.0, 0.0, 0.0, 0.0, 0.0, 0.0, 0.0, 0.0, 0.0], [0.6318812966346741, 0.059302784502506256, 0.03517930582165718, 0.03174086660146713, 0.11746899783611298, 0.06869596242904663, 0.055730827152729034, 0.0, 0.0, 0.0, 0.0, 0.0, 0.0, 0.0, 0.0], [0.7625221014022827, 0.04435163363814354, 0.010552952997386456, 0.034276239573955536, 0.014203878119587898, 0.012703494168817997, 0.07259663194417953, 0.048792991787195206, 0.0, 0.0, 0.0, 0.0, 0.0, 0.0, 0.0], [0.5726001262664795, 0.12681755423545837, 0.03727029636502266, 0.04314134642481804, 0.04129566252231598, 0.046447545289993286, 0.02916434034705162, 0.03751188516616821, 0.06575125455856323, 0.0, 0.0, 0.0, 0.0, 0.0, 0.0], [0.12316922098398209, 0.026347119361162186, 0.2796073257923126, 0.041989654302597046, 0.44105619192123413, 0.006139002274721861, 0.0077930330298841, 0.007175304926931858, 0.011286797001957893, 0.05543631687760353, 0.0, 0.0, 0.0, 0.0, 0.0], [0.44855940341949463, 0.1432490348815918, 0.010774154216051102, 0.07855053246021271, 0.014047708362340927, 0.014864646829664707, 0.008633695542812347, 0.0030146613717079163, 0.012792026624083519, 0.1640857756137848, 0.10142840445041656, 0.0, 0.0, 0.0, 0.0], [0.10228199511766434, 0.023883385583758354, 0.055250752717256546, 0.05206827446818352, 0.5759834051132202, 0.0011948221363127232, 0.0013662613928318024, 0.0025677988305687904, 0.0018699975917115808, 0.043160054832696915, 0.10887210071086884, 0.031501177698373795, 0.0, 0.0, 0.0], [0.3931329548358917, 0.04406285285949707, 0.04009941220283508, 0.0740741416811943, 0.04061640426516533, 0.007346783764660358, 0.00950714759528637, 0.013865083456039429, 0.06405344605445862, 0.048942118883132935, 0.06277546286582947, 0.09996495395898819, 0.10155930370092392, 0.0, 0.0], [0.7573201656341553, 0.015095740556716919, 0.007350162137299776, 0.013156408444046974, 0.005726391915231943, 0.00855643954128027, 0.008282594382762909, 0.010307078249752522, 0.002904864028096199, 0.017329011112451553, 0.015188912861049175, 0.07965743541717529, 0.03024439327418804, 0.02888050489127636, 0.0], [0.08579494059085846, 0.02377365157008171, 0.028759578242897987, 0.050303928554058075, 0.6746453642845154, 0.0010763931786641479, 0.0011514900252223015, 0.002721983939409256, 0.0005617675487883389, 0.03909151628613472, 0.04861969128251076, 0.01551993377506733, 0.004084514919668436, 0.00043291214387863874, 0.023462308570742607]], [[1.0, 0.0, 0.0, 0.0, 0.0, 0.0, 0.0, 0.0, 0.0, 0.0, 0.0, 0.0, 0.0, 0.0, 0.0], [0.969173014163971, 0.03082701377570629, 0.0, 0.0, 0.0, 0.0, 0.0, 0.0, 0.0, 0.0, 0.0, 0.0, 0.0, 0.0, 0.0], [0.9864584803581238, 0.0076599097810685635, 0.005881612654775381, 0.0, 0.0, 0.0, 0.0, 0.0, 0.0, 0.0, 0.0, 0.0, 0.0, 0.0, 0.0], [0.9318374991416931, 0.011915641836822033, 0.02053176611661911, 0.0357150174677372, 0.0, 0.0, 0.0, 0.0, 0.0, 0.0, 0.0, 0.0, 0.0, 0.0, 0.0], [0.8786699175834656, 0.03427623212337494, 0.01315794326364994, 0.02705136127769947, 0.046844594180583954, 0.0, 0.0, 0.0, 0.0, 0.0, 0.0, 0.0, 0.0, 0.0, 0.0], [0.9850096106529236, 0.005019501317292452, 0.001392017351463437, 0.0018760602688416839, 0.004171154461801052, 0.0025315876118838787, 0.0, 0.0, 0.0, 0.0, 0.0, 0.0, 0.0, 0.0, 0.0], [0.8907078504562378, 0.020262710750102997, 0.020904742181301117, 0.009134700521826744, 0.04057852178812027, 0.003215133910998702, 0.015196307562291622, 0.0, 0.0, 0.0, 0.0, 0.0, 0.0, 0.0, 0.0], [0.9318528175354004, 0.012423884123563766, 0.007052915170788765, 0.006267676129937172, 0.009715717285871506, 0.0013882835628464818, 0.01269752997905016, 0.0186011865735054, 0.0, 0.0, 0.0, 0.0, 0.0, 0.0, 0.0], [0.7722932696342468, 0.03829532861709595, 0.039436422288417816, 0.009729268029332161, 0.11019419133663177, 0.009773539379239082, 0.00886814296245575, 0.00397777184844017, 0.007432002108544111, 0.0, 0.0, 0.0, 0.0, 0.0, 0.0], [0.665927529335022, 0.01989385113120079, 0.05748210847377777, 0.02604658529162407, 0.18978658318519592, 0.0017340354388579726, 0.004116121679544449, 0.004545125644654036, 0.007496014703065157, 0.022972147911787033, 0.0, 0.0, 0.0, 0.0, 0.0], [0.8588324189186096, 0.018521763384342194, 0.010080400854349136, 0.016174744814634323, 0.044801369309425354, 0.01823575608432293, 0.0026933057233691216, 0.000904473417904228, 0.004338272847235203, 0.010200451128184795, 0.015217049047350883, 0.0, 0.0, 0.0, 0.0], [0.7452796101570129, 0.020592380315065384, 0.033448725938797, 0.04560331627726555, 0.0939769446849823, 0.0019108151318505406, 0.00391621608287096, 0.004672238137573004, 0.0032161062117666006, 0.018068108707666397, 0.01630055345594883, 0.01301496010273695, 0.0, 0.0, 0.0], [0.7450794577598572, 0.016003089025616646, 0.02564341202378273, 0.030005285516381264, 0.06691109389066696, 0.003224331187084317, 0.00653074961155653, 0.006865648087114096, 0.04355347156524658, 0.012662984430789948, 0.010547305457293987, 0.010315675288438797, 0.02265765704214573, 0.0, 0.0], [0.836357831954956, 0.013512644916772842, 0.016558866947889328, 0.008880365639925003, 0.056307390332221985, 0.00225577550008893, 0.002398418029770255, 0.0012933621183037758, 0.0031502281781286, 0.013540959917008877, 0.02165033295750618, 0.005392785649746656, 0.00432278448715806, 0.014378231018781662, 0.0], [0.7888533473014832, 0.014087756164371967, 0.022161122411489487, 0.0422065369784832, 0.06532461196184158, 0.0011145027820020914, 0.0019568174611777067, 0.0025142657104879618, 0.0014487121952697635, 0.012026246637105942, 0.0096076475456357, 0.006895543076097965, 0.004557112697511911, 0.003263341262936592, 0.023982582613825798]]], \"attentionHeadNames\": [\"L10H7\", \"L11H10\", \"L11H2\"], \"tokens\": [\"<|endoftext|>\", \"When\", \" John\", \" and\", \" Mary\", \" went\", \" to\", \" the\", \" shops\", \",\", \" John\", \" gave\", \" the\", \" bag\", \" to\"]}\n",
              "    )\n",
              "    </script></div>"
            ],
            "text/plain": [
              "<IPython.core.display.HTML object>"
            ]
          },
          "execution_count": 20,
          "metadata": {},
          "output_type": "execute_result"
        }
      ],
      "source": [
        "top_k = 3\n",
        "\n",
        "top_positive_logit_attr_heads = torch.topk(\n",
        "    per_head_logit_diffs.flatten(), k=top_k\n",
        ").indices\n",
        "\n",
        "positive_html = visualize_attention_patterns(\n",
        "    top_positive_logit_attr_heads,\n",
        "    cache,\n",
        "    tokens[0],\n",
        "    f\"Top {top_k} Positive Logit Attribution Heads\",\n",
        ")\n",
        "\n",
        "top_negative_logit_attr_heads = torch.topk(\n",
        "    -per_head_logit_diffs.flatten(), k=top_k\n",
        ").indices\n",
        "\n",
        "negative_html = visualize_attention_patterns(\n",
        "    top_negative_logit_attr_heads,\n",
        "    cache,\n",
        "    tokens[0],\n",
        "    title=f\"Top {top_k} Negative Logit Attribution Heads\",\n",
        ")\n",
        "\n",
        "HTML(positive_html + negative_html)"
      ]
    },
    {
      "cell_type": "markdown",
      "metadata": {
        "id": "OWr3NhisUvqC"
      },
      "source": [
        "## Activation Patching"
      ]
    },
    {
      "cell_type": "markdown",
      "metadata": {
        "id": "NprEbLGZUvqC"
      },
      "source": [
        "**This section explains how to do activation patching conceptually by implementing it from scratch. To use it in practice with TransformerLens, see [this demonstration instead](https://colab.research.google.com/github/neelnanda-io/TransformerLens/blob/main/demos/Activation_Patching_in_TL_Demo.ipynb)**.\n",
        "\n",
        "The obvious limitation to the techniques used above is that they only look at the very end of the circuit - the parts that directly affect the logits. Clearly this is not sufficient to understand the circuit! We want to understand how things compose together to produce this final output, and ideally to produce an end-to-end circuit fully explaining this behaviour.\n",
        "\n",
        "The technique we'll use to investigate this is called **activation patching**. This was first introduced in [David Bau and Kevin Meng's excellent ROME paper](https://rome.baulab.info/), there called causal tracing.\n",
        "\n",
        "The setup of activation patching is to take two runs of the model on two different inputs, the clean run and the corrupted run. The clean run outputs the correct answer and the corrupted run does not. The key idea is that we give the model the corrupted input, but then **intervene** on a specific activation and **patch** in the corresponding activation from the clean run (ie replace the corrupted activation with the clean activation), and then continue the run. And we then measure how much the output has updated towards the correct answer.\n",
        "\n",
        "We can then iterate over many possible activations and look at how much they affect the corrupted run. If patching in an activation significantly increases the probability of the correct answer, this allows us to *localise* which activations matter.\n",
        "\n",
        "The ability to localise is a key move in mechanistic interpretability - if the computation is diffuse and spread across the entire model, it is likely much harder to form a clean mechanistic story for what's going on. But if we can identify precisely which parts of the model matter, we can then zoom in and determine what they represent and how they connect up with each other, and ultimately reverse engineer the underlying circuit that they represent.\n",
        "\n",
        "Here's an animation from the ROME paper demonstrating this technique (they studied factual recall, and use stars to represent corruption applied to the subject of the sentence, but the same principles apply):\n",
        "\n",
        "![CT Animation](https://rome.baulab.info/images/small-ct-animation.gif)\n",
        "\n",
        "See also [the explanation in a mech interp explainer](https://dynalist.io/d/n2ZWtnoYHrU1s4vnFSAQ519J#z=qeWBvs-R-taFfcCq-S_hgMqx) and [this piece](https://www.neelnanda.io/mechanistic-interpretability/attribution-patching#how-to-think-about-activation-patching) describing how to think about patching on a conceptual level"
      ]
    },
    {
      "cell_type": "markdown",
      "metadata": {
        "id": "Koa4itZwUvqC"
      },
      "source": [
        "The above was all fairly abstract, so let's zoom in and lay out a concrete example to understand Indirect Object Identification.\n",
        "\n",
        "Here our clean input will be eg \"After John and Mary went to the store, **John** gave a bottle of milk to\" and our corrupted input will be eg \"After John and Mary went to the store, **Mary** gave a bottle of milk to\". These prompts are identical except for the name of the indirect object, and so patching is a causal intervention which will allow us to understand precisely which parts of the network are identifying the indirect object.\n",
        "\n",
        "One natural thing to patch in is the residual stream at a specific layer and specific position. For example, the model is likely initially doing some processing on the second subject token to realise that it's a duplicate, but then uses attention to move that information to the \" to\" token. So patching in the residual stream at the \" to\" token will likely matter a lot in later layers but not at all in early layers.\n",
        "\n",
        "We can zoom in much further and patch in specific activations from specific layers. For example, we think that the output of head L9H9 on the final token is significant for directly connecting to the logits\n",
        "\n",
        "We can patch in specific activations, and can zoom in as far as seems reasonable. For example, if we patch in the output of head L9H9 on the final token, we would predict that it will significantly affect performance.\n",
        "\n",
        "Note that this technique does *not* tell us how the components of the circuit connect up, just what they are.\n",
        "\n",
        "<details> <summary>Technical details</summary>\n",
        "The choice of clean and corrupted prompt has both pros and cons. By carefully setting up the counterfactual, that <i>only</i> differs in the second subject, we avoid detecting the parts of the model doing irrelevant computation like detecting that the indirect object task is relevant at all or that it should be outputting a name rather than an article or pronoun. Or even context like that John and Mary are names at all.\n",
        "\n",
        "However, it *also* bakes in some details that *are* relevant to the task. Such as finding the location of the second subject, and of the names in the first clause. Or that the name mover heads have learned to copy whatever they look at.\n",
        "\n",
        "Some of these could be patched by also changing up the order of the names in the original sentence - patching in \"After <b>John and Mary</b> went to the store, John gave a bottle of milk to\" vs \"After <b>Mary and John</b> went to the store, John gave a bottle of milk to\".\n",
        "\n",
        "In the ROME paper they take a different tack. Rather than carefully setting up counterfactuals between two different but related inputs, they **corrupt** the clean input by adding Gaussian noise to the token embedding for the subject. This is in some ways much lower effort (you don't need to set up a similar but different prompt) but can also introduce some issues, such as ways this noise might break things. In practice, you should take care about how you choose your counterfactuals and try out several. Try to reason beforehand about what they will and will not tell you, and compare the results between different counterfactuals.\n",
        "\n",
        "I discuss some of these limitations and how the author's solved them with much more refined usage of these techniques <a href=\"https://www.youtube.com/watch?v=gzwj0jWbvbo\">in our interview</a>\n",
        "</details>"
      ]
    },
    {
      "cell_type": "markdown",
      "metadata": {
        "id": "ZWjW_5MhUvqC"
      },
      "source": [
        "## Residual Stream"
      ]
    },
    {
      "cell_type": "markdown",
      "metadata": {
        "id": "a2s_xqcHUvqC"
      },
      "source": [
        "Lets begin by patching in the residual stream at the start of each layer and for each token position."
      ]
    },
    {
      "cell_type": "markdown",
      "metadata": {
        "id": "7O-Sy1_gUvqD"
      },
      "source": [
        "We first create a set of corrupted tokens - where we swap each pair of prompts to have the opposite answer."
      ]
    },
    {
      "cell_type": "code",
      "execution_count": 34,
      "metadata": {
        "colab": {
          "base_uri": "https://localhost:8080/"
        },
        "id": "KhcnpOjvUvqD",
        "outputId": "346b30b1-353d-4b69-b650-f606fe636170"
      },
      "outputs": [
        {
          "name": "stdout",
          "output_type": "stream",
          "text": [
            "Corrupted Average Logit Diff -3.55\n",
            "Clean Average Logit Diff 3.55\n"
          ]
        }
      ],
      "source": [
        "corrupted_prompts = []\n",
        "for i in range(0, len(prompts), 2):\n",
        "    corrupted_prompts.append(prompts[i + 1])\n",
        "    corrupted_prompts.append(prompts[i])\n",
        "corrupted_tokens = model.to_tokens(corrupted_prompts, prepend_bos=True)\n",
        "corrupted_logits, corrupted_cache = model.run_with_cache(\n",
        "    corrupted_tokens, return_type=\"logits\"\n",
        ")\n",
        "corrupted_average_logit_diff = logits_to_ave_logit_diff(corrupted_logits, answer_tokens)\n",
        "print(\"Corrupted Average Logit Diff\", round(corrupted_average_logit_diff.item(), 2))\n",
        "print(\"Clean Average Logit Diff\", round(original_average_logit_diff.item(), 2))"
      ]
    },
    {
      "cell_type": "code",
      "execution_count": 35,
      "metadata": {
        "colab": {
          "base_uri": "https://localhost:8080/"
        },
        "id": "d0KrcFiiUvqD",
        "outputId": "a6a6f1cb-429f-4f89-f657-d1123542a9a3"
      },
      "outputs": [
        {
          "data": {
            "text/plain": [
              "['<|endoftext|>When John and Mary went to the shops, Mary gave the bag to',\n",
              " '<|endoftext|>When John and Mary went to the shops, John gave the bag to',\n",
              " '<|endoftext|>When Tom and James went to the park, Tom gave the ball to',\n",
              " '<|endoftext|>When Tom and James went to the park, James gave the ball to',\n",
              " '<|endoftext|>When Dan and Sid went to the shops, Dan gave an apple to',\n",
              " '<|endoftext|>When Dan and Sid went to the shops, Sid gave an apple to',\n",
              " '<|endoftext|>After Martin and Amy went to the park, Martin gave a drink to',\n",
              " '<|endoftext|>After Martin and Amy went to the park, Amy gave a drink to']"
            ]
          },
          "execution_count": 35,
          "metadata": {},
          "output_type": "execute_result"
        }
      ],
      "source": [
        "model.to_string(corrupted_tokens)"
      ]
    },
    {
      "cell_type": "markdown",
      "metadata": {
        "id": "xVSEhD64UvqD"
      },
      "source": [
        "We now intervene on the corrupted run and patch in the clean residual stream at a specific layer and position.\n",
        "\n",
        "We do the intervention using TransformerLens's `HookPoint` feature. We can design a hook function that takes in a specific activation and returns an edited copy, and temporarily add it in with `model.run_with_hooks`."
      ]
    },
    {
      "cell_type": "code",
      "execution_count": 36,
      "metadata": {
        "id": "vgvHIJvaUvqD"
      },
      "outputs": [],
      "source": [
        "def patch_residual_component(\n",
        "    corrupted_residual_component: Float[torch.Tensor, \"batch pos d_model\"],\n",
        "    hook,\n",
        "    pos,\n",
        "    clean_cache,\n",
        "):\n",
        "    corrupted_residual_component[:, pos, :] = clean_cache[hook.name][:, pos, :]\n",
        "    return corrupted_residual_component\n",
        "\n",
        "\n",
        "def normalize_patched_logit_diff(patched_logit_diff):\n",
        "    # Subtract corrupted logit diff to measure the improvement, divide by the total improvement from clean to corrupted to normalise\n",
        "    # 0 means zero change, negative means actively made worse, 1 means totally recovered clean performance, >1 means actively *improved* on clean performance\n",
        "    return (patched_logit_diff - corrupted_average_logit_diff) / (\n",
        "        original_average_logit_diff - corrupted_average_logit_diff\n",
        "    )\n",
        "\n",
        "\n",
        "patched_residual_stream_diff = torch.zeros(\n",
        "    model.cfg.n_layers, tokens.shape[1], device=device, dtype=torch.float32\n",
        ")\n",
        "for layer in range(model.cfg.n_layers):\n",
        "    for position in range(tokens.shape[1]):\n",
        "        hook_fn = partial(patch_residual_component, pos=position, clean_cache=cache)\n",
        "        patched_logits = model.run_with_hooks(\n",
        "            corrupted_tokens,\n",
        "            fwd_hooks=[(utils.get_act_name(\"resid_pre\", layer), hook_fn)],\n",
        "            return_type=\"logits\",\n",
        "        )\n",
        "        patched_logit_diff = logits_to_ave_logit_diff(patched_logits, answer_tokens)\n",
        "\n",
        "        patched_residual_stream_diff[layer, position] = normalize_patched_logit_diff(\n",
        "            patched_logit_diff\n",
        "        )"
      ]
    },
    {
      "cell_type": "markdown",
      "metadata": {
        "id": "6GdSVDULUvqD"
      },
      "source": [
        "We can immediately see that, exactly as predicted, originally all relevant computation happens on the second subject token, and at layers 7 and 8, the information is moved to the final token. Moving the residual stream at the correct position near *exactly* recovers performance!\n",
        "\n",
        "For reference, tokens and their index from the first prompt are on the x-axis. In an abuse of notation, note that the difference here is averaged over *all* 8 prompts, while the labels only come from the *first* prompt.\n",
        "\n",
        "To be easier to interpret, we normalise the logit difference, by subtracting the corrupted logit difference, and dividing by the total improvement from clean to corrupted to normalise\n",
        "0 means zero change, negative means actively made worse, 1 means totally recovered clean performance, >1 means actively *improved* on clean performance"
      ]
    },
    {
      "cell_type": "code",
      "execution_count": 37,
      "metadata": {
        "colab": {
          "base_uri": "https://localhost:8080/",
          "height": 542
        },
        "id": "r_8xn9E2UvqD",
        "outputId": "8f76e7e4-91d6-4a39-cb17-2aa58c7950cb"
      },
      "outputs": [
        {
          "data": {
            "text/html": [
              "<html>\n",
              "<head><meta charset=\"utf-8\" /></head>\n",
              "<body>\n",
              "    <div>            <script src=\"https://cdnjs.cloudflare.com/ajax/libs/mathjax/2.7.5/MathJax.js?config=TeX-AMS-MML_SVG\"></script><script type=\"text/javascript\">if (window.MathJax && window.MathJax.Hub && window.MathJax.Hub.Config) {window.MathJax.Hub.Config({SVG: {font: \"STIX-Web\"}});}</script>                <script type=\"text/javascript\">window.PlotlyConfig = {MathJaxConfig: 'local'};</script>\n",
              "        <script charset=\"utf-8\" src=\"https://cdn.plot.ly/plotly-2.24.1.min.js\"></script>                <div id=\"5de3ee70-9177-4b0c-8b64-a72065f72be9\" class=\"plotly-graph-div\" style=\"height:525px; width:100%;\"></div>            <script type=\"text/javascript\">                                    window.PLOTLYENV=window.PLOTLYENV || {};                                    if (document.getElementById(\"5de3ee70-9177-4b0c-8b64-a72065f72be9\")) {                    Plotly.newPlot(                        \"5de3ee70-9177-4b0c-8b64-a72065f72be9\",                        [{\"coloraxis\":\"coloraxis\",\"name\":\"0\",\"x\":[\"\\u003c|endoftext|\\u003e_0\",\"When_1\",\" John_2\",\" and_3\",\" Mary_4\",\" went_5\",\" to_6\",\" the_7\",\" shops_8\",\",_9\",\" John_10\",\" gave_11\",\" the_12\",\" bag_13\",\" to_14\"],\"z\":[[0.0,0.0,0.0,0.0,0.0,0.0,0.0,0.0,0.0,0.0,1.0,0.0,0.0,0.0,0.0],[0.0,0.0,0.0,0.0,0.0,0.0,0.0,0.0,0.0,0.0,1.0006505250930786,-0.00024748817668296397,8.826877092360519e-06,-0.0003653924504760653,-4.883310248260386e-05],[0.0,0.0,0.0,0.0,0.0,0.0,0.0,0.0,0.0,0.0,1.001051902770996,-2.7420375772635452e-05,-2.097641845466569e-05,-0.0004594339116010815,-0.000594723445829004],[0.0,0.0,0.0,0.0,0.0,0.0,0.0,0.0,0.0,0.0,1.0002659559249878,0.0008684237254783511,0.0005167918279767036,-0.0009926041821017861,-0.0008662422187626362],[0.0,0.0,0.0,0.0,0.0,0.0,0.0,0.0,0.0,0.0,0.9949083924293518,0.0054296706803143024,0.001605652621947229,-0.0006187540129758418,-0.0016321667935699224],[0.0,0.0,0.0,0.0,0.0,0.0,0.0,0.0,0.0,0.0,0.9675664305686951,0.03134249523282051,0.0028416167479008436,-0.0012298894580453634,-0.0009863615268841386],[0.0,0.0,0.0,0.0,0.0,0.0,0.0,0.0,0.0,0.0,0.9675202369689941,0.031001301482319832,0.0017817538464441895,-0.0004866193630732596,-0.0006465100450441241],[0.0,0.0,0.0,0.0,0.0,0.0,0.0,0.0,0.0,0.0,0.9228315353393555,0.05134627968072891,0.00472909165546298,0.0009340044343844056,0.01704644411802292],[0.0,0.0,0.0,0.0,0.0,0.0,0.0,0.0,0.0,0.0,0.6565486788749695,0.023856565356254578,0.0023567762691527605,-1.6646885342197493e-05,0.31869134306907654],[0.0,0.0,0.0,0.0,0.0,0.0,0.0,0.0,0.0,0.0,0.02730109542608261,0.03142432123422623,0.0018203504150733352,0.0007990840822458267,0.9383887052536011],[0.0,0.0,0.0,0.0,0.0,0.0,0.0,0.0,0.0,0.0,-0.02684280276298523,0.020980311557650566,0.0012520404998213053,0.00032323822961188853,1.004828929901123],[0.0,0.0,0.0,0.0,0.0,0.0,0.0,0.0,0.0,0.0,-0.005687563214451075,0.014262924902141094,0.0004871563578490168,-9.065169433597475e-05,0.9914227724075317]],\"type\":\"heatmap\",\"xaxis\":\"x\",\"yaxis\":\"y\",\"hovertemplate\":\"Position: %{x}\\u003cbr\\u003eLayer: %{y}\\u003cbr\\u003ecolor: %{z}\\u003cextra\\u003e\\u003c\\u002fextra\\u003e\"}],                        {\"template\":{\"data\":{\"histogram2dcontour\":[{\"type\":\"histogram2dcontour\",\"colorbar\":{\"outlinewidth\":0,\"ticks\":\"\"},\"colorscale\":[[0.0,\"#0d0887\"],[0.1111111111111111,\"#46039f\"],[0.2222222222222222,\"#7201a8\"],[0.3333333333333333,\"#9c179e\"],[0.4444444444444444,\"#bd3786\"],[0.5555555555555556,\"#d8576b\"],[0.6666666666666666,\"#ed7953\"],[0.7777777777777778,\"#fb9f3a\"],[0.8888888888888888,\"#fdca26\"],[1.0,\"#f0f921\"]]}],\"choropleth\":[{\"type\":\"choropleth\",\"colorbar\":{\"outlinewidth\":0,\"ticks\":\"\"}}],\"histogram2d\":[{\"type\":\"histogram2d\",\"colorbar\":{\"outlinewidth\":0,\"ticks\":\"\"},\"colorscale\":[[0.0,\"#0d0887\"],[0.1111111111111111,\"#46039f\"],[0.2222222222222222,\"#7201a8\"],[0.3333333333333333,\"#9c179e\"],[0.4444444444444444,\"#bd3786\"],[0.5555555555555556,\"#d8576b\"],[0.6666666666666666,\"#ed7953\"],[0.7777777777777778,\"#fb9f3a\"],[0.8888888888888888,\"#fdca26\"],[1.0,\"#f0f921\"]]}],\"heatmap\":[{\"type\":\"heatmap\",\"colorbar\":{\"outlinewidth\":0,\"ticks\":\"\"},\"colorscale\":[[0.0,\"#0d0887\"],[0.1111111111111111,\"#46039f\"],[0.2222222222222222,\"#7201a8\"],[0.3333333333333333,\"#9c179e\"],[0.4444444444444444,\"#bd3786\"],[0.5555555555555556,\"#d8576b\"],[0.6666666666666666,\"#ed7953\"],[0.7777777777777778,\"#fb9f3a\"],[0.8888888888888888,\"#fdca26\"],[1.0,\"#f0f921\"]]}],\"heatmapgl\":[{\"type\":\"heatmapgl\",\"colorbar\":{\"outlinewidth\":0,\"ticks\":\"\"},\"colorscale\":[[0.0,\"#0d0887\"],[0.1111111111111111,\"#46039f\"],[0.2222222222222222,\"#7201a8\"],[0.3333333333333333,\"#9c179e\"],[0.4444444444444444,\"#bd3786\"],[0.5555555555555556,\"#d8576b\"],[0.6666666666666666,\"#ed7953\"],[0.7777777777777778,\"#fb9f3a\"],[0.8888888888888888,\"#fdca26\"],[1.0,\"#f0f921\"]]}],\"contourcarpet\":[{\"type\":\"contourcarpet\",\"colorbar\":{\"outlinewidth\":0,\"ticks\":\"\"}}],\"contour\":[{\"type\":\"contour\",\"colorbar\":{\"outlinewidth\":0,\"ticks\":\"\"},\"colorscale\":[[0.0,\"#0d0887\"],[0.1111111111111111,\"#46039f\"],[0.2222222222222222,\"#7201a8\"],[0.3333333333333333,\"#9c179e\"],[0.4444444444444444,\"#bd3786\"],[0.5555555555555556,\"#d8576b\"],[0.6666666666666666,\"#ed7953\"],[0.7777777777777778,\"#fb9f3a\"],[0.8888888888888888,\"#fdca26\"],[1.0,\"#f0f921\"]]}],\"surface\":[{\"type\":\"surface\",\"colorbar\":{\"outlinewidth\":0,\"ticks\":\"\"},\"colorscale\":[[0.0,\"#0d0887\"],[0.1111111111111111,\"#46039f\"],[0.2222222222222222,\"#7201a8\"],[0.3333333333333333,\"#9c179e\"],[0.4444444444444444,\"#bd3786\"],[0.5555555555555556,\"#d8576b\"],[0.6666666666666666,\"#ed7953\"],[0.7777777777777778,\"#fb9f3a\"],[0.8888888888888888,\"#fdca26\"],[1.0,\"#f0f921\"]]}],\"mesh3d\":[{\"type\":\"mesh3d\",\"colorbar\":{\"outlinewidth\":0,\"ticks\":\"\"}}],\"scatter\":[{\"fillpattern\":{\"fillmode\":\"overlay\",\"size\":10,\"solidity\":0.2},\"type\":\"scatter\"}],\"parcoords\":[{\"type\":\"parcoords\",\"line\":{\"colorbar\":{\"outlinewidth\":0,\"ticks\":\"\"}}}],\"scatterpolargl\":[{\"type\":\"scatterpolargl\",\"marker\":{\"colorbar\":{\"outlinewidth\":0,\"ticks\":\"\"}}}],\"bar\":[{\"error_x\":{\"color\":\"#2a3f5f\"},\"error_y\":{\"color\":\"#2a3f5f\"},\"marker\":{\"line\":{\"color\":\"#E5ECF6\",\"width\":0.5},\"pattern\":{\"fillmode\":\"overlay\",\"size\":10,\"solidity\":0.2}},\"type\":\"bar\"}],\"scattergeo\":[{\"type\":\"scattergeo\",\"marker\":{\"colorbar\":{\"outlinewidth\":0,\"ticks\":\"\"}}}],\"scatterpolar\":[{\"type\":\"scatterpolar\",\"marker\":{\"colorbar\":{\"outlinewidth\":0,\"ticks\":\"\"}}}],\"histogram\":[{\"marker\":{\"pattern\":{\"fillmode\":\"overlay\",\"size\":10,\"solidity\":0.2}},\"type\":\"histogram\"}],\"scattergl\":[{\"type\":\"scattergl\",\"marker\":{\"colorbar\":{\"outlinewidth\":0,\"ticks\":\"\"}}}],\"scatter3d\":[{\"type\":\"scatter3d\",\"line\":{\"colorbar\":{\"outlinewidth\":0,\"ticks\":\"\"}},\"marker\":{\"colorbar\":{\"outlinewidth\":0,\"ticks\":\"\"}}}],\"scattermapbox\":[{\"type\":\"scattermapbox\",\"marker\":{\"colorbar\":{\"outlinewidth\":0,\"ticks\":\"\"}}}],\"scatterternary\":[{\"type\":\"scatterternary\",\"marker\":{\"colorbar\":{\"outlinewidth\":0,\"ticks\":\"\"}}}],\"scattercarpet\":[{\"type\":\"scattercarpet\",\"marker\":{\"colorbar\":{\"outlinewidth\":0,\"ticks\":\"\"}}}],\"carpet\":[{\"aaxis\":{\"endlinecolor\":\"#2a3f5f\",\"gridcolor\":\"white\",\"linecolor\":\"white\",\"minorgridcolor\":\"white\",\"startlinecolor\":\"#2a3f5f\"},\"baxis\":{\"endlinecolor\":\"#2a3f5f\",\"gridcolor\":\"white\",\"linecolor\":\"white\",\"minorgridcolor\":\"white\",\"startlinecolor\":\"#2a3f5f\"},\"type\":\"carpet\"}],\"table\":[{\"cells\":{\"fill\":{\"color\":\"#EBF0F8\"},\"line\":{\"color\":\"white\"}},\"header\":{\"fill\":{\"color\":\"#C8D4E3\"},\"line\":{\"color\":\"white\"}},\"type\":\"table\"}],\"barpolar\":[{\"marker\":{\"line\":{\"color\":\"#E5ECF6\",\"width\":0.5},\"pattern\":{\"fillmode\":\"overlay\",\"size\":10,\"solidity\":0.2}},\"type\":\"barpolar\"}],\"pie\":[{\"automargin\":true,\"type\":\"pie\"}]},\"layout\":{\"autotypenumbers\":\"strict\",\"colorway\":[\"#636efa\",\"#EF553B\",\"#00cc96\",\"#ab63fa\",\"#FFA15A\",\"#19d3f3\",\"#FF6692\",\"#B6E880\",\"#FF97FF\",\"#FECB52\"],\"font\":{\"color\":\"#2a3f5f\"},\"hovermode\":\"closest\",\"hoverlabel\":{\"align\":\"left\"},\"paper_bgcolor\":\"white\",\"plot_bgcolor\":\"#E5ECF6\",\"polar\":{\"bgcolor\":\"#E5ECF6\",\"angularaxis\":{\"gridcolor\":\"white\",\"linecolor\":\"white\",\"ticks\":\"\"},\"radialaxis\":{\"gridcolor\":\"white\",\"linecolor\":\"white\",\"ticks\":\"\"}},\"ternary\":{\"bgcolor\":\"#E5ECF6\",\"aaxis\":{\"gridcolor\":\"white\",\"linecolor\":\"white\",\"ticks\":\"\"},\"baxis\":{\"gridcolor\":\"white\",\"linecolor\":\"white\",\"ticks\":\"\"},\"caxis\":{\"gridcolor\":\"white\",\"linecolor\":\"white\",\"ticks\":\"\"}},\"coloraxis\":{\"colorbar\":{\"outlinewidth\":0,\"ticks\":\"\"}},\"colorscale\":{\"sequential\":[[0.0,\"#0d0887\"],[0.1111111111111111,\"#46039f\"],[0.2222222222222222,\"#7201a8\"],[0.3333333333333333,\"#9c179e\"],[0.4444444444444444,\"#bd3786\"],[0.5555555555555556,\"#d8576b\"],[0.6666666666666666,\"#ed7953\"],[0.7777777777777778,\"#fb9f3a\"],[0.8888888888888888,\"#fdca26\"],[1.0,\"#f0f921\"]],\"sequentialminus\":[[0.0,\"#0d0887\"],[0.1111111111111111,\"#46039f\"],[0.2222222222222222,\"#7201a8\"],[0.3333333333333333,\"#9c179e\"],[0.4444444444444444,\"#bd3786\"],[0.5555555555555556,\"#d8576b\"],[0.6666666666666666,\"#ed7953\"],[0.7777777777777778,\"#fb9f3a\"],[0.8888888888888888,\"#fdca26\"],[1.0,\"#f0f921\"]],\"diverging\":[[0,\"#8e0152\"],[0.1,\"#c51b7d\"],[0.2,\"#de77ae\"],[0.3,\"#f1b6da\"],[0.4,\"#fde0ef\"],[0.5,\"#f7f7f7\"],[0.6,\"#e6f5d0\"],[0.7,\"#b8e186\"],[0.8,\"#7fbc41\"],[0.9,\"#4d9221\"],[1,\"#276419\"]]},\"xaxis\":{\"gridcolor\":\"white\",\"linecolor\":\"white\",\"ticks\":\"\",\"title\":{\"standoff\":15},\"zerolinecolor\":\"white\",\"automargin\":true,\"zerolinewidth\":2},\"yaxis\":{\"gridcolor\":\"white\",\"linecolor\":\"white\",\"ticks\":\"\",\"title\":{\"standoff\":15},\"zerolinecolor\":\"white\",\"automargin\":true,\"zerolinewidth\":2},\"scene\":{\"xaxis\":{\"backgroundcolor\":\"#E5ECF6\",\"gridcolor\":\"white\",\"linecolor\":\"white\",\"showbackground\":true,\"ticks\":\"\",\"zerolinecolor\":\"white\",\"gridwidth\":2},\"yaxis\":{\"backgroundcolor\":\"#E5ECF6\",\"gridcolor\":\"white\",\"linecolor\":\"white\",\"showbackground\":true,\"ticks\":\"\",\"zerolinecolor\":\"white\",\"gridwidth\":2},\"zaxis\":{\"backgroundcolor\":\"#E5ECF6\",\"gridcolor\":\"white\",\"linecolor\":\"white\",\"showbackground\":true,\"ticks\":\"\",\"zerolinecolor\":\"white\",\"gridwidth\":2}},\"shapedefaults\":{\"line\":{\"color\":\"#2a3f5f\"}},\"annotationdefaults\":{\"arrowcolor\":\"#2a3f5f\",\"arrowhead\":0,\"arrowwidth\":1},\"geo\":{\"bgcolor\":\"white\",\"landcolor\":\"#E5ECF6\",\"subunitcolor\":\"white\",\"showland\":true,\"showlakes\":true,\"lakecolor\":\"white\"},\"title\":{\"x\":0.05},\"mapbox\":{\"style\":\"light\"}}},\"xaxis\":{\"anchor\":\"y\",\"domain\":[0.0,1.0],\"scaleanchor\":\"y\",\"constrain\":\"domain\",\"title\":{\"text\":\"Position\"}},\"yaxis\":{\"anchor\":\"x\",\"domain\":[0.0,1.0],\"autorange\":\"reversed\",\"constrain\":\"domain\",\"title\":{\"text\":\"Layer\"}},\"coloraxis\":{\"colorscale\":[[0.0,\"rgb(103,0,31)\"],[0.1,\"rgb(178,24,43)\"],[0.2,\"rgb(214,96,77)\"],[0.3,\"rgb(244,165,130)\"],[0.4,\"rgb(253,219,199)\"],[0.5,\"rgb(247,247,247)\"],[0.6,\"rgb(209,229,240)\"],[0.7,\"rgb(146,197,222)\"],[0.8,\"rgb(67,147,195)\"],[0.9,\"rgb(33,102,172)\"],[1.0,\"rgb(5,48,97)\"]],\"cmid\":0.0},\"title\":{\"text\":\"Logit Difference From Patched Residual Stream\"}},                        {\"responsive\": true}                    ).then(function(){\n",
              "                            \n",
              "var gd = document.getElementById('5de3ee70-9177-4b0c-8b64-a72065f72be9');\n",
              "var x = new MutationObserver(function (mutations, observer) {{\n",
              "        var display = window.getComputedStyle(gd).display;\n",
              "        if (!display || display === 'none') {{\n",
              "            console.log([gd, 'removed!']);\n",
              "            Plotly.purge(gd);\n",
              "            observer.disconnect();\n",
              "        }}\n",
              "}});\n",
              "\n",
              "// Listen for the removal of the full notebook cells\n",
              "var notebookContainer = gd.closest('#notebook-container');\n",
              "if (notebookContainer) {{\n",
              "    x.observe(notebookContainer, {childList: true});\n",
              "}}\n",
              "\n",
              "// Listen for the clearing of the current output cell\n",
              "var outputEl = gd.closest('.output');\n",
              "if (outputEl) {{\n",
              "    x.observe(outputEl, {childList: true});\n",
              "}}\n",
              "\n",
              "                        })                };                            </script>        </div>\n",
              "</body>\n",
              "</html>"
            ]
          },
          "metadata": {},
          "output_type": "display_data"
        }
      ],
      "source": [
        "prompt_position_labels = [\n",
        "    f\"{tok}_{i}\" for i, tok in enumerate(model.to_str_tokens(tokens[0]))\n",
        "]\n",
        "imshow(\n",
        "    patched_residual_stream_diff,\n",
        "    x=prompt_position_labels,\n",
        "    title=\"Logit Difference From Patched Residual Stream\",\n",
        "    labels={\"x\": \"Position\", \"y\": \"Layer\"},\n",
        ")"
      ]
    },
    {
      "cell_type": "markdown",
      "metadata": {
        "id": "hIH-Jl-KUvqE"
      },
      "source": [
        "## Layers"
      ]
    },
    {
      "cell_type": "markdown",
      "metadata": {
        "id": "SRotUJJhUvqE"
      },
      "source": [
        "We can apply exactly the same idea, but this time patching in attention or MLP layers. These are also residual components with identical shapes to the residual stream terms, so we can reuse the same hooks."
      ]
    },
    {
      "cell_type": "code",
      "execution_count": 38,
      "metadata": {
        "id": "dGbYPlOaUvqE"
      },
      "outputs": [],
      "source": [
        "patched_attn_diff = torch.zeros(\n",
        "    model.cfg.n_layers, tokens.shape[1], device=device, dtype=torch.float32\n",
        ")\n",
        "patched_mlp_diff = torch.zeros(\n",
        "    model.cfg.n_layers, tokens.shape[1], device=device, dtype=torch.float32\n",
        ")\n",
        "for layer in range(model.cfg.n_layers):\n",
        "    for position in range(tokens.shape[1]):\n",
        "        hook_fn = partial(patch_residual_component, pos=position, clean_cache=cache)\n",
        "        patched_attn_logits = model.run_with_hooks(\n",
        "            corrupted_tokens,\n",
        "            fwd_hooks=[(utils.get_act_name(\"attn_out\", layer), hook_fn)],\n",
        "            return_type=\"logits\",\n",
        "        )\n",
        "        patched_attn_logit_diff = logits_to_ave_logit_diff(\n",
        "            patched_attn_logits, answer_tokens\n",
        "        )\n",
        "        patched_mlp_logits = model.run_with_hooks(\n",
        "            corrupted_tokens,\n",
        "            fwd_hooks=[(utils.get_act_name(\"mlp_out\", layer), hook_fn)],\n",
        "            return_type=\"logits\",\n",
        "        )\n",
        "        patched_mlp_logit_diff = logits_to_ave_logit_diff(\n",
        "            patched_mlp_logits, answer_tokens\n",
        "        )\n",
        "\n",
        "        patched_attn_diff[layer, position] = normalize_patched_logit_diff(\n",
        "            patched_attn_logit_diff\n",
        "        )\n",
        "        patched_mlp_diff[layer, position] = normalize_patched_logit_diff(\n",
        "            patched_mlp_logit_diff\n",
        "        )"
      ]
    },
    {
      "cell_type": "markdown",
      "metadata": {
        "id": "NARUavOEUvqE"
      },
      "source": [
        "We see that several attention layers are significant but that, matching the residual stream results, early layers matter on the second subject token, and later layers matter on the final token, and layers essentially don't matter on any other token. Extremely localised! As with direct logit attribution, layer 9 is positive and layers 10 and 11 are not, suggesting that the late layers only matter for direct logit effects, but we also see that layers 7 and 8 matter significantly. Presumably these are the heads that move information about which name is duplicated from the second subject token to the final token."
      ]
    },
    {
      "cell_type": "code",
      "execution_count": 39,
      "metadata": {
        "colab": {
          "base_uri": "https://localhost:8080/",
          "height": 542
        },
        "id": "Bt9EanblUvqE",
        "outputId": "e8fbbd3b-7473-498d-97ad-3dbe4fabeb0c"
      },
      "outputs": [
        {
          "data": {
            "text/html": [
              "<html>\n",
              "<head><meta charset=\"utf-8\" /></head>\n",
              "<body>\n",
              "    <div>            <script src=\"https://cdnjs.cloudflare.com/ajax/libs/mathjax/2.7.5/MathJax.js?config=TeX-AMS-MML_SVG\"></script><script type=\"text/javascript\">if (window.MathJax && window.MathJax.Hub && window.MathJax.Hub.Config) {window.MathJax.Hub.Config({SVG: {font: \"STIX-Web\"}});}</script>                <script type=\"text/javascript\">window.PlotlyConfig = {MathJaxConfig: 'local'};</script>\n",
              "        <script charset=\"utf-8\" src=\"https://cdn.plot.ly/plotly-2.24.1.min.js\"></script>                <div id=\"cebdbd23-2658-4f7d-ac3c-95e7e1d252d2\" class=\"plotly-graph-div\" style=\"height:525px; width:100%;\"></div>            <script type=\"text/javascript\">                                    window.PLOTLYENV=window.PLOTLYENV || {};                                    if (document.getElementById(\"cebdbd23-2658-4f7d-ac3c-95e7e1d252d2\")) {                    Plotly.newPlot(                        \"cebdbd23-2658-4f7d-ac3c-95e7e1d252d2\",                        [{\"coloraxis\":\"coloraxis\",\"name\":\"0\",\"x\":[\"\\u003c|endoftext|\\u003e_0\",\"When_1\",\" John_2\",\" and_3\",\" Mary_4\",\" went_5\",\" to_6\",\" the_7\",\" shops_8\",\",_9\",\" John_10\",\" gave_11\",\" the_12\",\" bag_13\",\" to_14\"],\"z\":[[0.0,0.0,0.0,0.0,0.0,0.0,0.0,0.0,0.0,0.0,0.035457365214824677,-0.00024748817668296397,8.826877092360519e-06,-0.0003653924504760653,-4.883310248260386e-05],[0.0,0.0,0.0,0.0,0.0,0.0,0.0,0.0,0.0,0.0,-0.0029843905940651894,7.957614434417337e-05,2.0640796719817445e-05,8.058301318669692e-05,-0.0005964351003058255],[0.0,0.0,0.0,0.0,0.0,0.0,0.0,0.0,0.0,0.0,-0.0019122775411233306,0.000666445994284004,0.000394826551200822,-0.0007051097345538437,-0.0002730290580075234],[0.0,0.0,0.0,0.0,0.0,0.0,0.0,0.0,0.0,0.0,0.15463212132453918,0.0038018333725631237,0.0005167583003640175,-0.00011995155364274979,-0.0005609933286905289],[0.0,0.0,0.0,0.0,0.0,0.0,0.0,0.0,0.0,0.0,-0.005406512413173914,0.01958194002509117,0.001007438637316227,-0.00024295727780554444,0.0007938483613543212],[0.0,0.0,0.0,0.0,0.0,0.0,0.0,0.0,0.0,0.0,0.35209712386131287,0.0010531505104154348,0.00022469939722213894,0.00013314152602106333,8.276455628219992e-05],[0.0,0.0,0.0,0.0,0.0,0.0,0.0,0.0,0.0,0.0,0.1198607012629509,0.02124417945742607,0.00272750505246222,0.0013411147519946098,0.01797350123524666],[0.0,0.0,0.0,0.0,0.0,0.0,0.0,0.0,0.0,0.0,0.013310393318533897,0.011508938856422901,0.00037472276017069817,-4.0912407712312415e-05,0.2976025938987732],[0.0,0.0,0.0,0.0,0.0,0.0,0.0,0.0,0.0,0.0,-0.0015010053757578135,0.017351727932691574,0.0005843862309120595,0.0010117010679095984,0.5697327852249146],[0.0,0.0,0.0,0.0,0.0,0.0,0.0,0.0,0.0,0.0,-0.00012904693721793592,0.006300813052803278,0.0001412300334777683,0.0003120955661870539,0.27152326703071594],[0.0,0.0,0.0,0.0,0.0,0.0,0.0,0.0,0.0,0.0,-0.0009371257037855685,8.672490366734564e-05,0.00033139385050162673,1.107554908230668e-06,-0.19297926127910614],[0.0,0.0,0.0,0.0,0.0,0.0,0.0,0.0,0.0,0.0,0.0,0.0,0.0,0.0,-0.4061796963214874]],\"type\":\"heatmap\",\"xaxis\":\"x\",\"yaxis\":\"y\",\"hovertemplate\":\"Position: %{x}\\u003cbr\\u003eLayer: %{y}\\u003cbr\\u003ecolor: %{z}\\u003cextra\\u003e\\u003c\\u002fextra\\u003e\"}],                        {\"template\":{\"data\":{\"histogram2dcontour\":[{\"type\":\"histogram2dcontour\",\"colorbar\":{\"outlinewidth\":0,\"ticks\":\"\"},\"colorscale\":[[0.0,\"#0d0887\"],[0.1111111111111111,\"#46039f\"],[0.2222222222222222,\"#7201a8\"],[0.3333333333333333,\"#9c179e\"],[0.4444444444444444,\"#bd3786\"],[0.5555555555555556,\"#d8576b\"],[0.6666666666666666,\"#ed7953\"],[0.7777777777777778,\"#fb9f3a\"],[0.8888888888888888,\"#fdca26\"],[1.0,\"#f0f921\"]]}],\"choropleth\":[{\"type\":\"choropleth\",\"colorbar\":{\"outlinewidth\":0,\"ticks\":\"\"}}],\"histogram2d\":[{\"type\":\"histogram2d\",\"colorbar\":{\"outlinewidth\":0,\"ticks\":\"\"},\"colorscale\":[[0.0,\"#0d0887\"],[0.1111111111111111,\"#46039f\"],[0.2222222222222222,\"#7201a8\"],[0.3333333333333333,\"#9c179e\"],[0.4444444444444444,\"#bd3786\"],[0.5555555555555556,\"#d8576b\"],[0.6666666666666666,\"#ed7953\"],[0.7777777777777778,\"#fb9f3a\"],[0.8888888888888888,\"#fdca26\"],[1.0,\"#f0f921\"]]}],\"heatmap\":[{\"type\":\"heatmap\",\"colorbar\":{\"outlinewidth\":0,\"ticks\":\"\"},\"colorscale\":[[0.0,\"#0d0887\"],[0.1111111111111111,\"#46039f\"],[0.2222222222222222,\"#7201a8\"],[0.3333333333333333,\"#9c179e\"],[0.4444444444444444,\"#bd3786\"],[0.5555555555555556,\"#d8576b\"],[0.6666666666666666,\"#ed7953\"],[0.7777777777777778,\"#fb9f3a\"],[0.8888888888888888,\"#fdca26\"],[1.0,\"#f0f921\"]]}],\"heatmapgl\":[{\"type\":\"heatmapgl\",\"colorbar\":{\"outlinewidth\":0,\"ticks\":\"\"},\"colorscale\":[[0.0,\"#0d0887\"],[0.1111111111111111,\"#46039f\"],[0.2222222222222222,\"#7201a8\"],[0.3333333333333333,\"#9c179e\"],[0.4444444444444444,\"#bd3786\"],[0.5555555555555556,\"#d8576b\"],[0.6666666666666666,\"#ed7953\"],[0.7777777777777778,\"#fb9f3a\"],[0.8888888888888888,\"#fdca26\"],[1.0,\"#f0f921\"]]}],\"contourcarpet\":[{\"type\":\"contourcarpet\",\"colorbar\":{\"outlinewidth\":0,\"ticks\":\"\"}}],\"contour\":[{\"type\":\"contour\",\"colorbar\":{\"outlinewidth\":0,\"ticks\":\"\"},\"colorscale\":[[0.0,\"#0d0887\"],[0.1111111111111111,\"#46039f\"],[0.2222222222222222,\"#7201a8\"],[0.3333333333333333,\"#9c179e\"],[0.4444444444444444,\"#bd3786\"],[0.5555555555555556,\"#d8576b\"],[0.6666666666666666,\"#ed7953\"],[0.7777777777777778,\"#fb9f3a\"],[0.8888888888888888,\"#fdca26\"],[1.0,\"#f0f921\"]]}],\"surface\":[{\"type\":\"surface\",\"colorbar\":{\"outlinewidth\":0,\"ticks\":\"\"},\"colorscale\":[[0.0,\"#0d0887\"],[0.1111111111111111,\"#46039f\"],[0.2222222222222222,\"#7201a8\"],[0.3333333333333333,\"#9c179e\"],[0.4444444444444444,\"#bd3786\"],[0.5555555555555556,\"#d8576b\"],[0.6666666666666666,\"#ed7953\"],[0.7777777777777778,\"#fb9f3a\"],[0.8888888888888888,\"#fdca26\"],[1.0,\"#f0f921\"]]}],\"mesh3d\":[{\"type\":\"mesh3d\",\"colorbar\":{\"outlinewidth\":0,\"ticks\":\"\"}}],\"scatter\":[{\"fillpattern\":{\"fillmode\":\"overlay\",\"size\":10,\"solidity\":0.2},\"type\":\"scatter\"}],\"parcoords\":[{\"type\":\"parcoords\",\"line\":{\"colorbar\":{\"outlinewidth\":0,\"ticks\":\"\"}}}],\"scatterpolargl\":[{\"type\":\"scatterpolargl\",\"marker\":{\"colorbar\":{\"outlinewidth\":0,\"ticks\":\"\"}}}],\"bar\":[{\"error_x\":{\"color\":\"#2a3f5f\"},\"error_y\":{\"color\":\"#2a3f5f\"},\"marker\":{\"line\":{\"color\":\"#E5ECF6\",\"width\":0.5},\"pattern\":{\"fillmode\":\"overlay\",\"size\":10,\"solidity\":0.2}},\"type\":\"bar\"}],\"scattergeo\":[{\"type\":\"scattergeo\",\"marker\":{\"colorbar\":{\"outlinewidth\":0,\"ticks\":\"\"}}}],\"scatterpolar\":[{\"type\":\"scatterpolar\",\"marker\":{\"colorbar\":{\"outlinewidth\":0,\"ticks\":\"\"}}}],\"histogram\":[{\"marker\":{\"pattern\":{\"fillmode\":\"overlay\",\"size\":10,\"solidity\":0.2}},\"type\":\"histogram\"}],\"scattergl\":[{\"type\":\"scattergl\",\"marker\":{\"colorbar\":{\"outlinewidth\":0,\"ticks\":\"\"}}}],\"scatter3d\":[{\"type\":\"scatter3d\",\"line\":{\"colorbar\":{\"outlinewidth\":0,\"ticks\":\"\"}},\"marker\":{\"colorbar\":{\"outlinewidth\":0,\"ticks\":\"\"}}}],\"scattermapbox\":[{\"type\":\"scattermapbox\",\"marker\":{\"colorbar\":{\"outlinewidth\":0,\"ticks\":\"\"}}}],\"scatterternary\":[{\"type\":\"scatterternary\",\"marker\":{\"colorbar\":{\"outlinewidth\":0,\"ticks\":\"\"}}}],\"scattercarpet\":[{\"type\":\"scattercarpet\",\"marker\":{\"colorbar\":{\"outlinewidth\":0,\"ticks\":\"\"}}}],\"carpet\":[{\"aaxis\":{\"endlinecolor\":\"#2a3f5f\",\"gridcolor\":\"white\",\"linecolor\":\"white\",\"minorgridcolor\":\"white\",\"startlinecolor\":\"#2a3f5f\"},\"baxis\":{\"endlinecolor\":\"#2a3f5f\",\"gridcolor\":\"white\",\"linecolor\":\"white\",\"minorgridcolor\":\"white\",\"startlinecolor\":\"#2a3f5f\"},\"type\":\"carpet\"}],\"table\":[{\"cells\":{\"fill\":{\"color\":\"#EBF0F8\"},\"line\":{\"color\":\"white\"}},\"header\":{\"fill\":{\"color\":\"#C8D4E3\"},\"line\":{\"color\":\"white\"}},\"type\":\"table\"}],\"barpolar\":[{\"marker\":{\"line\":{\"color\":\"#E5ECF6\",\"width\":0.5},\"pattern\":{\"fillmode\":\"overlay\",\"size\":10,\"solidity\":0.2}},\"type\":\"barpolar\"}],\"pie\":[{\"automargin\":true,\"type\":\"pie\"}]},\"layout\":{\"autotypenumbers\":\"strict\",\"colorway\":[\"#636efa\",\"#EF553B\",\"#00cc96\",\"#ab63fa\",\"#FFA15A\",\"#19d3f3\",\"#FF6692\",\"#B6E880\",\"#FF97FF\",\"#FECB52\"],\"font\":{\"color\":\"#2a3f5f\"},\"hovermode\":\"closest\",\"hoverlabel\":{\"align\":\"left\"},\"paper_bgcolor\":\"white\",\"plot_bgcolor\":\"#E5ECF6\",\"polar\":{\"bgcolor\":\"#E5ECF6\",\"angularaxis\":{\"gridcolor\":\"white\",\"linecolor\":\"white\",\"ticks\":\"\"},\"radialaxis\":{\"gridcolor\":\"white\",\"linecolor\":\"white\",\"ticks\":\"\"}},\"ternary\":{\"bgcolor\":\"#E5ECF6\",\"aaxis\":{\"gridcolor\":\"white\",\"linecolor\":\"white\",\"ticks\":\"\"},\"baxis\":{\"gridcolor\":\"white\",\"linecolor\":\"white\",\"ticks\":\"\"},\"caxis\":{\"gridcolor\":\"white\",\"linecolor\":\"white\",\"ticks\":\"\"}},\"coloraxis\":{\"colorbar\":{\"outlinewidth\":0,\"ticks\":\"\"}},\"colorscale\":{\"sequential\":[[0.0,\"#0d0887\"],[0.1111111111111111,\"#46039f\"],[0.2222222222222222,\"#7201a8\"],[0.3333333333333333,\"#9c179e\"],[0.4444444444444444,\"#bd3786\"],[0.5555555555555556,\"#d8576b\"],[0.6666666666666666,\"#ed7953\"],[0.7777777777777778,\"#fb9f3a\"],[0.8888888888888888,\"#fdca26\"],[1.0,\"#f0f921\"]],\"sequentialminus\":[[0.0,\"#0d0887\"],[0.1111111111111111,\"#46039f\"],[0.2222222222222222,\"#7201a8\"],[0.3333333333333333,\"#9c179e\"],[0.4444444444444444,\"#bd3786\"],[0.5555555555555556,\"#d8576b\"],[0.6666666666666666,\"#ed7953\"],[0.7777777777777778,\"#fb9f3a\"],[0.8888888888888888,\"#fdca26\"],[1.0,\"#f0f921\"]],\"diverging\":[[0,\"#8e0152\"],[0.1,\"#c51b7d\"],[0.2,\"#de77ae\"],[0.3,\"#f1b6da\"],[0.4,\"#fde0ef\"],[0.5,\"#f7f7f7\"],[0.6,\"#e6f5d0\"],[0.7,\"#b8e186\"],[0.8,\"#7fbc41\"],[0.9,\"#4d9221\"],[1,\"#276419\"]]},\"xaxis\":{\"gridcolor\":\"white\",\"linecolor\":\"white\",\"ticks\":\"\",\"title\":{\"standoff\":15},\"zerolinecolor\":\"white\",\"automargin\":true,\"zerolinewidth\":2},\"yaxis\":{\"gridcolor\":\"white\",\"linecolor\":\"white\",\"ticks\":\"\",\"title\":{\"standoff\":15},\"zerolinecolor\":\"white\",\"automargin\":true,\"zerolinewidth\":2},\"scene\":{\"xaxis\":{\"backgroundcolor\":\"#E5ECF6\",\"gridcolor\":\"white\",\"linecolor\":\"white\",\"showbackground\":true,\"ticks\":\"\",\"zerolinecolor\":\"white\",\"gridwidth\":2},\"yaxis\":{\"backgroundcolor\":\"#E5ECF6\",\"gridcolor\":\"white\",\"linecolor\":\"white\",\"showbackground\":true,\"ticks\":\"\",\"zerolinecolor\":\"white\",\"gridwidth\":2},\"zaxis\":{\"backgroundcolor\":\"#E5ECF6\",\"gridcolor\":\"white\",\"linecolor\":\"white\",\"showbackground\":true,\"ticks\":\"\",\"zerolinecolor\":\"white\",\"gridwidth\":2}},\"shapedefaults\":{\"line\":{\"color\":\"#2a3f5f\"}},\"annotationdefaults\":{\"arrowcolor\":\"#2a3f5f\",\"arrowhead\":0,\"arrowwidth\":1},\"geo\":{\"bgcolor\":\"white\",\"landcolor\":\"#E5ECF6\",\"subunitcolor\":\"white\",\"showland\":true,\"showlakes\":true,\"lakecolor\":\"white\"},\"title\":{\"x\":0.05},\"mapbox\":{\"style\":\"light\"}}},\"xaxis\":{\"anchor\":\"y\",\"domain\":[0.0,1.0],\"scaleanchor\":\"y\",\"constrain\":\"domain\",\"title\":{\"text\":\"Position\"}},\"yaxis\":{\"anchor\":\"x\",\"domain\":[0.0,1.0],\"autorange\":\"reversed\",\"constrain\":\"domain\",\"title\":{\"text\":\"Layer\"}},\"coloraxis\":{\"colorscale\":[[0.0,\"rgb(103,0,31)\"],[0.1,\"rgb(178,24,43)\"],[0.2,\"rgb(214,96,77)\"],[0.3,\"rgb(244,165,130)\"],[0.4,\"rgb(253,219,199)\"],[0.5,\"rgb(247,247,247)\"],[0.6,\"rgb(209,229,240)\"],[0.7,\"rgb(146,197,222)\"],[0.8,\"rgb(67,147,195)\"],[0.9,\"rgb(33,102,172)\"],[1.0,\"rgb(5,48,97)\"]],\"cmid\":0.0},\"title\":{\"text\":\"Logit Difference From Patched Attention Layer\"}},                        {\"responsive\": true}                    ).then(function(){\n",
              "                            \n",
              "var gd = document.getElementById('cebdbd23-2658-4f7d-ac3c-95e7e1d252d2');\n",
              "var x = new MutationObserver(function (mutations, observer) {{\n",
              "        var display = window.getComputedStyle(gd).display;\n",
              "        if (!display || display === 'none') {{\n",
              "            console.log([gd, 'removed!']);\n",
              "            Plotly.purge(gd);\n",
              "            observer.disconnect();\n",
              "        }}\n",
              "}});\n",
              "\n",
              "// Listen for the removal of the full notebook cells\n",
              "var notebookContainer = gd.closest('#notebook-container');\n",
              "if (notebookContainer) {{\n",
              "    x.observe(notebookContainer, {childList: true});\n",
              "}}\n",
              "\n",
              "// Listen for the clearing of the current output cell\n",
              "var outputEl = gd.closest('.output');\n",
              "if (outputEl) {{\n",
              "    x.observe(outputEl, {childList: true});\n",
              "}}\n",
              "\n",
              "                        })                };                            </script>        </div>\n",
              "</body>\n",
              "</html>"
            ]
          },
          "metadata": {},
          "output_type": "display_data"
        }
      ],
      "source": [
        "imshow(\n",
        "    patched_attn_diff,\n",
        "    x=prompt_position_labels,\n",
        "    title=\"Logit Difference From Patched Attention Layer\",\n",
        "    labels={\"x\": \"Position\", \"y\": \"Layer\"},\n",
        ")"
      ]
    },
    {
      "cell_type": "markdown",
      "metadata": {
        "id": "UTXq1cCqUvqE"
      },
      "source": [
        "In contrast, the MLP layers do not matter much. This makes sense, since this is more a task about moving information than about processing it, and the MLP layers specialise in processing information.\n",
        "\n",
        "The one exception is MLP 0, which matters a lot, but I think this is misleading and just a generally true statement about MLP 0 rather than being about the circuit on this task.\n",
        "\n",
        "<details> <summary>My takes on MLP0</summary>\n",
        "It's often observed on GPT-2 Small that MLP0 matters a lot, and that ablating it utterly destroys performance. My current best guess is that the first MLP layer is essentially acting as an extension of the embedding (for whatever reason) and that when later layers want to access the input tokens they mostly read in the output of the first MLP layer, rather than the token embeddings. Within this frame, the first attention layer doesn't do much.\n",
        "\n",
        "In this framing, it makes sense that MLP0 matters on the second subject token, because that's the one position with a different input token!\n",
        "\n",
        "I'm not entirely sure why this happens, but I would guess that it's because the embedding and unembedding matrices in GPT-2 Small are the same. This is pretty unprincipled, as the tasks of embedding and unembedding tokens are <i>not</i> inverses, but this is common practice, and plausibly models want to dedicate some parameters to overcoming this.\n",
        "\n",
        "I only have suggestive evidence of this, and would love to see someone look into this properly!\n",
        "</details>"
      ]
    },
    {
      "cell_type": "code",
      "execution_count": 40,
      "metadata": {
        "colab": {
          "base_uri": "https://localhost:8080/",
          "height": 542
        },
        "id": "V9jkKFgoUvqE",
        "outputId": "897c611b-af45-4034-8ad1-a7177f159a6f"
      },
      "outputs": [
        {
          "data": {
            "text/html": [
              "<html>\n",
              "<head><meta charset=\"utf-8\" /></head>\n",
              "<body>\n",
              "    <div>            <script src=\"https://cdnjs.cloudflare.com/ajax/libs/mathjax/2.7.5/MathJax.js?config=TeX-AMS-MML_SVG\"></script><script type=\"text/javascript\">if (window.MathJax && window.MathJax.Hub && window.MathJax.Hub.Config) {window.MathJax.Hub.Config({SVG: {font: \"STIX-Web\"}});}</script>                <script type=\"text/javascript\">window.PlotlyConfig = {MathJaxConfig: 'local'};</script>\n",
              "        <script charset=\"utf-8\" src=\"https://cdn.plot.ly/plotly-2.24.1.min.js\"></script>                <div id=\"cc8aac36-443c-44fc-bcd3-89562e6515ca\" class=\"plotly-graph-div\" style=\"height:525px; width:100%;\"></div>            <script type=\"text/javascript\">                                    window.PLOTLYENV=window.PLOTLYENV || {};                                    if (document.getElementById(\"cc8aac36-443c-44fc-bcd3-89562e6515ca\")) {                    Plotly.newPlot(                        \"cc8aac36-443c-44fc-bcd3-89562e6515ca\",                        [{\"coloraxis\":\"coloraxis\",\"name\":\"0\",\"x\":[\"\\u003c|endoftext|\\u003e_0\",\"When_1\",\" John_2\",\" and_3\",\" Mary_4\",\" went_5\",\" to_6\",\" the_7\",\" shops_8\",\",_9\",\" John_10\",\" gave_11\",\" the_12\",\" bag_13\",\" to_14\"],\"z\":[[0.0,0.0,0.0,0.0,0.0,0.0,0.0,0.0,0.0,0.0,0.8507903814315796,-0.0002783990348689258,-7.299793651327491e-05,-0.00047386568621732295,3.983841452281922e-05],[0.0,0.0,0.0,0.0,0.0,0.0,0.0,0.0,0.0,0.0,0.008864366449415684,0.00022134317259769887,0.00014958703832235187,-4.8665293434169143e-05,0.0003038392460439354],[0.0,0.0,0.0,0.0,0.0,0.0,0.0,0.0,0.0,0.0,0.01354992762207985,5.86332862440031e-05,-0.00032974930945783854,-0.0006386564346030354,0.0007723685121163726],[0.0,0.0,0.0,0.0,0.0,0.0,0.0,0.0,0.0,0.0,0.0019470815313979983,0.0004987688735127449,0.00017341625061817467,0.0001689860364422202,0.0004071439034305513],[0.0,0.0,0.0,0.0,0.0,0.0,0.0,0.0,0.0,0.0,-0.01978609897196293,0.004128193017095327,-4.893379082204774e-05,-0.00016932166181504726,0.0007914990419521928],[0.0,0.0,0.0,0.0,0.0,0.0,0.0,0.0,0.0,0.0,0.09652428328990936,-0.0018828097963705659,-0.0004841693153139204,0.0007093385793268681,-0.00018439111590851098],[0.0,0.0,0.0,0.0,0.0,0.0,0.0,0.0,0.0,0.0,-0.015899017453193665,-0.0008500316180288792,0.00012340846296865493,2.8427242796169594e-05,-0.007238273974508047],[0.0,0.0,0.0,0.0,0.0,0.0,0.0,0.0,0.0,0.0,0.010360907763242722,0.0031513965222984552,0.0005307201645337045,0.00023604344460181892,0.008496926166117191],[0.0,0.0,0.0,0.0,0.0,0.0,0.0,0.0,0.0,0.0,-0.012533326633274555,2.1983287297189236e-05,-0.0003536792064551264,8.642284956295043e-05,-0.0216317567974329],[0.0,0.0,0.0,0.0,0.0,0.0,0.0,0.0,0.0,0.0,-0.00033532065572217107,0.0008093877113424242,1.617701491340995e-05,0.00012881199654657394,0.03162435069680214],[0.0,0.0,0.0,0.0,0.0,0.0,0.0,0.0,0.0,0.0,0.0013597754295915365,-0.00019492967112455517,-9.87066378002055e-05,-0.00014247183571569622,0.028764275833964348],[0.0,0.0,0.0,0.0,0.0,0.0,0.0,0.0,0.0,0.0,0.0,0.0,0.0,0.0,0.020448215305805206]],\"type\":\"heatmap\",\"xaxis\":\"x\",\"yaxis\":\"y\",\"hovertemplate\":\"Position: %{x}\\u003cbr\\u003eLayer: %{y}\\u003cbr\\u003ecolor: %{z}\\u003cextra\\u003e\\u003c\\u002fextra\\u003e\"}],                        {\"template\":{\"data\":{\"histogram2dcontour\":[{\"type\":\"histogram2dcontour\",\"colorbar\":{\"outlinewidth\":0,\"ticks\":\"\"},\"colorscale\":[[0.0,\"#0d0887\"],[0.1111111111111111,\"#46039f\"],[0.2222222222222222,\"#7201a8\"],[0.3333333333333333,\"#9c179e\"],[0.4444444444444444,\"#bd3786\"],[0.5555555555555556,\"#d8576b\"],[0.6666666666666666,\"#ed7953\"],[0.7777777777777778,\"#fb9f3a\"],[0.8888888888888888,\"#fdca26\"],[1.0,\"#f0f921\"]]}],\"choropleth\":[{\"type\":\"choropleth\",\"colorbar\":{\"outlinewidth\":0,\"ticks\":\"\"}}],\"histogram2d\":[{\"type\":\"histogram2d\",\"colorbar\":{\"outlinewidth\":0,\"ticks\":\"\"},\"colorscale\":[[0.0,\"#0d0887\"],[0.1111111111111111,\"#46039f\"],[0.2222222222222222,\"#7201a8\"],[0.3333333333333333,\"#9c179e\"],[0.4444444444444444,\"#bd3786\"],[0.5555555555555556,\"#d8576b\"],[0.6666666666666666,\"#ed7953\"],[0.7777777777777778,\"#fb9f3a\"],[0.8888888888888888,\"#fdca26\"],[1.0,\"#f0f921\"]]}],\"heatmap\":[{\"type\":\"heatmap\",\"colorbar\":{\"outlinewidth\":0,\"ticks\":\"\"},\"colorscale\":[[0.0,\"#0d0887\"],[0.1111111111111111,\"#46039f\"],[0.2222222222222222,\"#7201a8\"],[0.3333333333333333,\"#9c179e\"],[0.4444444444444444,\"#bd3786\"],[0.5555555555555556,\"#d8576b\"],[0.6666666666666666,\"#ed7953\"],[0.7777777777777778,\"#fb9f3a\"],[0.8888888888888888,\"#fdca26\"],[1.0,\"#f0f921\"]]}],\"heatmapgl\":[{\"type\":\"heatmapgl\",\"colorbar\":{\"outlinewidth\":0,\"ticks\":\"\"},\"colorscale\":[[0.0,\"#0d0887\"],[0.1111111111111111,\"#46039f\"],[0.2222222222222222,\"#7201a8\"],[0.3333333333333333,\"#9c179e\"],[0.4444444444444444,\"#bd3786\"],[0.5555555555555556,\"#d8576b\"],[0.6666666666666666,\"#ed7953\"],[0.7777777777777778,\"#fb9f3a\"],[0.8888888888888888,\"#fdca26\"],[1.0,\"#f0f921\"]]}],\"contourcarpet\":[{\"type\":\"contourcarpet\",\"colorbar\":{\"outlinewidth\":0,\"ticks\":\"\"}}],\"contour\":[{\"type\":\"contour\",\"colorbar\":{\"outlinewidth\":0,\"ticks\":\"\"},\"colorscale\":[[0.0,\"#0d0887\"],[0.1111111111111111,\"#46039f\"],[0.2222222222222222,\"#7201a8\"],[0.3333333333333333,\"#9c179e\"],[0.4444444444444444,\"#bd3786\"],[0.5555555555555556,\"#d8576b\"],[0.6666666666666666,\"#ed7953\"],[0.7777777777777778,\"#fb9f3a\"],[0.8888888888888888,\"#fdca26\"],[1.0,\"#f0f921\"]]}],\"surface\":[{\"type\":\"surface\",\"colorbar\":{\"outlinewidth\":0,\"ticks\":\"\"},\"colorscale\":[[0.0,\"#0d0887\"],[0.1111111111111111,\"#46039f\"],[0.2222222222222222,\"#7201a8\"],[0.3333333333333333,\"#9c179e\"],[0.4444444444444444,\"#bd3786\"],[0.5555555555555556,\"#d8576b\"],[0.6666666666666666,\"#ed7953\"],[0.7777777777777778,\"#fb9f3a\"],[0.8888888888888888,\"#fdca26\"],[1.0,\"#f0f921\"]]}],\"mesh3d\":[{\"type\":\"mesh3d\",\"colorbar\":{\"outlinewidth\":0,\"ticks\":\"\"}}],\"scatter\":[{\"fillpattern\":{\"fillmode\":\"overlay\",\"size\":10,\"solidity\":0.2},\"type\":\"scatter\"}],\"parcoords\":[{\"type\":\"parcoords\",\"line\":{\"colorbar\":{\"outlinewidth\":0,\"ticks\":\"\"}}}],\"scatterpolargl\":[{\"type\":\"scatterpolargl\",\"marker\":{\"colorbar\":{\"outlinewidth\":0,\"ticks\":\"\"}}}],\"bar\":[{\"error_x\":{\"color\":\"#2a3f5f\"},\"error_y\":{\"color\":\"#2a3f5f\"},\"marker\":{\"line\":{\"color\":\"#E5ECF6\",\"width\":0.5},\"pattern\":{\"fillmode\":\"overlay\",\"size\":10,\"solidity\":0.2}},\"type\":\"bar\"}],\"scattergeo\":[{\"type\":\"scattergeo\",\"marker\":{\"colorbar\":{\"outlinewidth\":0,\"ticks\":\"\"}}}],\"scatterpolar\":[{\"type\":\"scatterpolar\",\"marker\":{\"colorbar\":{\"outlinewidth\":0,\"ticks\":\"\"}}}],\"histogram\":[{\"marker\":{\"pattern\":{\"fillmode\":\"overlay\",\"size\":10,\"solidity\":0.2}},\"type\":\"histogram\"}],\"scattergl\":[{\"type\":\"scattergl\",\"marker\":{\"colorbar\":{\"outlinewidth\":0,\"ticks\":\"\"}}}],\"scatter3d\":[{\"type\":\"scatter3d\",\"line\":{\"colorbar\":{\"outlinewidth\":0,\"ticks\":\"\"}},\"marker\":{\"colorbar\":{\"outlinewidth\":0,\"ticks\":\"\"}}}],\"scattermapbox\":[{\"type\":\"scattermapbox\",\"marker\":{\"colorbar\":{\"outlinewidth\":0,\"ticks\":\"\"}}}],\"scatterternary\":[{\"type\":\"scatterternary\",\"marker\":{\"colorbar\":{\"outlinewidth\":0,\"ticks\":\"\"}}}],\"scattercarpet\":[{\"type\":\"scattercarpet\",\"marker\":{\"colorbar\":{\"outlinewidth\":0,\"ticks\":\"\"}}}],\"carpet\":[{\"aaxis\":{\"endlinecolor\":\"#2a3f5f\",\"gridcolor\":\"white\",\"linecolor\":\"white\",\"minorgridcolor\":\"white\",\"startlinecolor\":\"#2a3f5f\"},\"baxis\":{\"endlinecolor\":\"#2a3f5f\",\"gridcolor\":\"white\",\"linecolor\":\"white\",\"minorgridcolor\":\"white\",\"startlinecolor\":\"#2a3f5f\"},\"type\":\"carpet\"}],\"table\":[{\"cells\":{\"fill\":{\"color\":\"#EBF0F8\"},\"line\":{\"color\":\"white\"}},\"header\":{\"fill\":{\"color\":\"#C8D4E3\"},\"line\":{\"color\":\"white\"}},\"type\":\"table\"}],\"barpolar\":[{\"marker\":{\"line\":{\"color\":\"#E5ECF6\",\"width\":0.5},\"pattern\":{\"fillmode\":\"overlay\",\"size\":10,\"solidity\":0.2}},\"type\":\"barpolar\"}],\"pie\":[{\"automargin\":true,\"type\":\"pie\"}]},\"layout\":{\"autotypenumbers\":\"strict\",\"colorway\":[\"#636efa\",\"#EF553B\",\"#00cc96\",\"#ab63fa\",\"#FFA15A\",\"#19d3f3\",\"#FF6692\",\"#B6E880\",\"#FF97FF\",\"#FECB52\"],\"font\":{\"color\":\"#2a3f5f\"},\"hovermode\":\"closest\",\"hoverlabel\":{\"align\":\"left\"},\"paper_bgcolor\":\"white\",\"plot_bgcolor\":\"#E5ECF6\",\"polar\":{\"bgcolor\":\"#E5ECF6\",\"angularaxis\":{\"gridcolor\":\"white\",\"linecolor\":\"white\",\"ticks\":\"\"},\"radialaxis\":{\"gridcolor\":\"white\",\"linecolor\":\"white\",\"ticks\":\"\"}},\"ternary\":{\"bgcolor\":\"#E5ECF6\",\"aaxis\":{\"gridcolor\":\"white\",\"linecolor\":\"white\",\"ticks\":\"\"},\"baxis\":{\"gridcolor\":\"white\",\"linecolor\":\"white\",\"ticks\":\"\"},\"caxis\":{\"gridcolor\":\"white\",\"linecolor\":\"white\",\"ticks\":\"\"}},\"coloraxis\":{\"colorbar\":{\"outlinewidth\":0,\"ticks\":\"\"}},\"colorscale\":{\"sequential\":[[0.0,\"#0d0887\"],[0.1111111111111111,\"#46039f\"],[0.2222222222222222,\"#7201a8\"],[0.3333333333333333,\"#9c179e\"],[0.4444444444444444,\"#bd3786\"],[0.5555555555555556,\"#d8576b\"],[0.6666666666666666,\"#ed7953\"],[0.7777777777777778,\"#fb9f3a\"],[0.8888888888888888,\"#fdca26\"],[1.0,\"#f0f921\"]],\"sequentialminus\":[[0.0,\"#0d0887\"],[0.1111111111111111,\"#46039f\"],[0.2222222222222222,\"#7201a8\"],[0.3333333333333333,\"#9c179e\"],[0.4444444444444444,\"#bd3786\"],[0.5555555555555556,\"#d8576b\"],[0.6666666666666666,\"#ed7953\"],[0.7777777777777778,\"#fb9f3a\"],[0.8888888888888888,\"#fdca26\"],[1.0,\"#f0f921\"]],\"diverging\":[[0,\"#8e0152\"],[0.1,\"#c51b7d\"],[0.2,\"#de77ae\"],[0.3,\"#f1b6da\"],[0.4,\"#fde0ef\"],[0.5,\"#f7f7f7\"],[0.6,\"#e6f5d0\"],[0.7,\"#b8e186\"],[0.8,\"#7fbc41\"],[0.9,\"#4d9221\"],[1,\"#276419\"]]},\"xaxis\":{\"gridcolor\":\"white\",\"linecolor\":\"white\",\"ticks\":\"\",\"title\":{\"standoff\":15},\"zerolinecolor\":\"white\",\"automargin\":true,\"zerolinewidth\":2},\"yaxis\":{\"gridcolor\":\"white\",\"linecolor\":\"white\",\"ticks\":\"\",\"title\":{\"standoff\":15},\"zerolinecolor\":\"white\",\"automargin\":true,\"zerolinewidth\":2},\"scene\":{\"xaxis\":{\"backgroundcolor\":\"#E5ECF6\",\"gridcolor\":\"white\",\"linecolor\":\"white\",\"showbackground\":true,\"ticks\":\"\",\"zerolinecolor\":\"white\",\"gridwidth\":2},\"yaxis\":{\"backgroundcolor\":\"#E5ECF6\",\"gridcolor\":\"white\",\"linecolor\":\"white\",\"showbackground\":true,\"ticks\":\"\",\"zerolinecolor\":\"white\",\"gridwidth\":2},\"zaxis\":{\"backgroundcolor\":\"#E5ECF6\",\"gridcolor\":\"white\",\"linecolor\":\"white\",\"showbackground\":true,\"ticks\":\"\",\"zerolinecolor\":\"white\",\"gridwidth\":2}},\"shapedefaults\":{\"line\":{\"color\":\"#2a3f5f\"}},\"annotationdefaults\":{\"arrowcolor\":\"#2a3f5f\",\"arrowhead\":0,\"arrowwidth\":1},\"geo\":{\"bgcolor\":\"white\",\"landcolor\":\"#E5ECF6\",\"subunitcolor\":\"white\",\"showland\":true,\"showlakes\":true,\"lakecolor\":\"white\"},\"title\":{\"x\":0.05},\"mapbox\":{\"style\":\"light\"}}},\"xaxis\":{\"anchor\":\"y\",\"domain\":[0.0,1.0],\"scaleanchor\":\"y\",\"constrain\":\"domain\",\"title\":{\"text\":\"Position\"}},\"yaxis\":{\"anchor\":\"x\",\"domain\":[0.0,1.0],\"autorange\":\"reversed\",\"constrain\":\"domain\",\"title\":{\"text\":\"Layer\"}},\"coloraxis\":{\"colorscale\":[[0.0,\"rgb(103,0,31)\"],[0.1,\"rgb(178,24,43)\"],[0.2,\"rgb(214,96,77)\"],[0.3,\"rgb(244,165,130)\"],[0.4,\"rgb(253,219,199)\"],[0.5,\"rgb(247,247,247)\"],[0.6,\"rgb(209,229,240)\"],[0.7,\"rgb(146,197,222)\"],[0.8,\"rgb(67,147,195)\"],[0.9,\"rgb(33,102,172)\"],[1.0,\"rgb(5,48,97)\"]],\"cmid\":0.0},\"title\":{\"text\":\"Logit Difference From Patched MLP Layer\"}},                        {\"responsive\": true}                    ).then(function(){\n",
              "                            \n",
              "var gd = document.getElementById('cc8aac36-443c-44fc-bcd3-89562e6515ca');\n",
              "var x = new MutationObserver(function (mutations, observer) {{\n",
              "        var display = window.getComputedStyle(gd).display;\n",
              "        if (!display || display === 'none') {{\n",
              "            console.log([gd, 'removed!']);\n",
              "            Plotly.purge(gd);\n",
              "            observer.disconnect();\n",
              "        }}\n",
              "}});\n",
              "\n",
              "// Listen for the removal of the full notebook cells\n",
              "var notebookContainer = gd.closest('#notebook-container');\n",
              "if (notebookContainer) {{\n",
              "    x.observe(notebookContainer, {childList: true});\n",
              "}}\n",
              "\n",
              "// Listen for the clearing of the current output cell\n",
              "var outputEl = gd.closest('.output');\n",
              "if (outputEl) {{\n",
              "    x.observe(outputEl, {childList: true});\n",
              "}}\n",
              "\n",
              "                        })                };                            </script>        </div>\n",
              "</body>\n",
              "</html>"
            ]
          },
          "metadata": {},
          "output_type": "display_data"
        }
      ],
      "source": [
        "imshow(\n",
        "    patched_mlp_diff,\n",
        "    x=prompt_position_labels,\n",
        "    title=\"Logit Difference From Patched MLP Layer\",\n",
        "    labels={\"x\": \"Position\", \"y\": \"Layer\"},\n",
        ")"
      ]
    },
    {
      "cell_type": "markdown",
      "metadata": {
        "id": "mNOtmRvlUvqF"
      },
      "source": [
        "## Heads\n",
        "\n",
        "We can refine the above analysis by patching in individual heads! This is somewhat more annoying, because there are now three dimensions (head_index, position and layer), so for now lets patch in a head's output across all positions.\n",
        "\n",
        "The easiest way to do this is to patch in the activation `z`, the \"mixed value\" of the attention head. That is, the average of all previous values weighted by the attention pattern, ie the activation that is then multiplied by `W_O`, the output weights."
      ]
    },
    {
      "cell_type": "code",
      "execution_count": 41,
      "metadata": {
        "id": "QEA7JWk-UvqF"
      },
      "outputs": [],
      "source": [
        "def patch_head_vector(\n",
        "    corrupted_head_vector: Float[torch.Tensor, \"batch pos head_index d_head\"],\n",
        "    hook,\n",
        "    head_index,\n",
        "    clean_cache,\n",
        "):\n",
        "    corrupted_head_vector[:, :, head_index, :] = clean_cache[hook.name][\n",
        "        :, :, head_index, :\n",
        "    ]\n",
        "    return corrupted_head_vector\n",
        "\n",
        "\n",
        "patched_head_z_diff = torch.zeros(\n",
        "    model.cfg.n_layers, model.cfg.n_heads, device=device, dtype=torch.float32\n",
        ")\n",
        "for layer in range(model.cfg.n_layers):\n",
        "    for head_index in range(model.cfg.n_heads):\n",
        "        hook_fn = partial(patch_head_vector, head_index=head_index, clean_cache=cache)\n",
        "        patched_logits = model.run_with_hooks(\n",
        "            corrupted_tokens,\n",
        "            fwd_hooks=[(utils.get_act_name(\"z\", layer, \"attn\"), hook_fn)],\n",
        "            return_type=\"logits\",\n",
        "        )\n",
        "        patched_logit_diff = logits_to_ave_logit_diff(patched_logits, answer_tokens)\n",
        "\n",
        "        patched_head_z_diff[layer, head_index] = normalize_patched_logit_diff(\n",
        "            patched_logit_diff\n",
        "        )"
      ]
    },
    {
      "cell_type": "markdown",
      "metadata": {
        "id": "nsflPAwtUvqF"
      },
      "source": [
        "We can now see that, in addition to the name mover heads identified before, in mid-late layers the heads L8H6, L8H10, L7H9 matter and are presumably responsible for moving information from the second subject to the final token. And heads L5H5, L6H9, L3H0 also matter a lot, and are presumably involved in detecting duplicated tokens."
      ]
    },
    {
      "cell_type": "code",
      "execution_count": 42,
      "metadata": {
        "colab": {
          "base_uri": "https://localhost:8080/",
          "height": 542
        },
        "id": "tZC_PciIUvqF",
        "outputId": "69b252e6-867c-4178-8307-c4651b1f6d86"
      },
      "outputs": [
        {
          "data": {
            "text/html": [
              "<html>\n",
              "<head><meta charset=\"utf-8\" /></head>\n",
              "<body>\n",
              "    <div>            <script src=\"https://cdnjs.cloudflare.com/ajax/libs/mathjax/2.7.5/MathJax.js?config=TeX-AMS-MML_SVG\"></script><script type=\"text/javascript\">if (window.MathJax && window.MathJax.Hub && window.MathJax.Hub.Config) {window.MathJax.Hub.Config({SVG: {font: \"STIX-Web\"}});}</script>                <script type=\"text/javascript\">window.PlotlyConfig = {MathJaxConfig: 'local'};</script>\n",
              "        <script charset=\"utf-8\" src=\"https://cdn.plot.ly/plotly-2.24.1.min.js\"></script>                <div id=\"f22b7252-2184-4c91-8e1f-6521a41d18e4\" class=\"plotly-graph-div\" style=\"height:525px; width:100%;\"></div>            <script type=\"text/javascript\">                                    window.PLOTLYENV=window.PLOTLYENV || {};                                    if (document.getElementById(\"f22b7252-2184-4c91-8e1f-6521a41d18e4\")) {                    Plotly.newPlot(                        \"f22b7252-2184-4c91-8e1f-6521a41d18e4\",                        [{\"coloraxis\":\"coloraxis\",\"name\":\"0\",\"z\":[[0.0009497787104919553,0.016124622896313667,0.0018547853687778115,0.0034388238564133644,-0.009822837077081203,0.011059674434363842,-0.004064290318638086,-0.0015788028249517083,-0.0012078725267201662,0.0038294214755296707,-0.004257676191627979,-0.0011425939155742526],[-0.0010771475499495864,-0.00037807898479513824,2.3829211386328097e-06,-0.0002608124050311744,-0.0001409279793733731,0.003832710674032569,-0.000428153871325776,-0.0014292157720774412,-0.0009220226784236729,0.0006934300763532519,0.0004342957690823823,-0.0035708576906472445],[-0.0004967551794834435,0.0008061321568675339,0.0005431717727333307,-0.0005318948533385992,-0.0007155140629038215,-0.0010378460865467787,-0.0009488725336268544,-8.65235342644155e-05,0.0002765195386018604,0.002107677049934864,-0.00019670846813824028,-0.0016399197047576308],[0.11626215279102325,0.00025054236175492406,-0.0014673760160803795,-0.00039747796836309135,0.018962381407618523,-0.00018801583792082965,0.011170497164130211,-0.0013307775370776653,-0.0007355842972174287,-0.0003030337393283844,-0.00014549244951922446,-0.00022308841289486736],[-0.0016506260726600885,0.0002929650654550642,-0.0014360288623720407,0.030841780826449394,-0.007432532496750355,-0.00028266143635846674,0.0060167755000293255,-0.011006411164999008,-0.0012666401453316212,0.0014901312533766031,-0.00018016227113548666,0.002944317413493991],[-0.004211427178233862,0.002960158744826913,0.002045116852968931,0.0013402757467702031,-0.001218612538650632,0.34349915385246277,0.0005628057406283915,-0.00012518727453425527,-0.005152714904397726,0.01624041423201561,0.017090344801545143,-0.004174575675278902],[0.03977541998028755,0.015226698480546474,-0.0010230786865577102,0.0008084479486569762,-0.004935029894113541,-0.0021233169827610254,-0.01427383255213499,0.0013752476079389453,0.0014832174638286233,0.13027118146419525,-0.0003358912072144449,0.0012927179923281074],[0.0003719035303220153,0.019514748826622963,0.0002229877281934023,0.12424936890602112,-0.00040466029895469546,-0.0076521639712154865,0.0013011085102334619,-0.0011253764387220144,-0.007449783850461245,0.19224116206169128,-0.0032746372744441032,-0.0005018566153012216],[-0.001008479157462716,3.07430382235907e-05,-0.0008585900068283081,0.012359540909528732,-0.0004044589295517653,-0.004329499322921038,0.3185547888278961,0.00232918793335557,0.0021180142648518085,0.00014106222079135478,0.27793610095977783,0.005738711915910244],[0.005889541003853083,-0.0009693790343590081,0.009125917218625546,0.020675331354141235,-0.03700451925396919,0.014263595454394817,-0.04828419163823128,0.05834156274795532,0.0006514100823551416,0.2636086642742157,0.0004919221973977983,-0.0026108426973223686],[0.08374226093292236,0.020676137879490852,-0.0037436699494719505,0.010851152241230011,-0.0010965128894895315,0.00047413419815711677,0.04818001389503479,-0.4799131751060486,0.00018378699314780533,0.011861879378557205,0.060885414481163025,0.0008458698866888881],[0.005327708553522825,-0.011493567377328873,-0.1135089099407196,0.006329407915472984,0.0003159887855872512,-0.0011602140730246902,-0.022669736295938492,0.004069861490279436,0.0073160044848918915,-0.008345258422195911,-0.2781760096549988,0.003634558990597725]],\"type\":\"heatmap\",\"xaxis\":\"x\",\"yaxis\":\"y\",\"hovertemplate\":\"Head: %{x}\\u003cbr\\u003eLayer: %{y}\\u003cbr\\u003ecolor: %{z}\\u003cextra\\u003e\\u003c\\u002fextra\\u003e\"}],                        {\"template\":{\"data\":{\"histogram2dcontour\":[{\"type\":\"histogram2dcontour\",\"colorbar\":{\"outlinewidth\":0,\"ticks\":\"\"},\"colorscale\":[[0.0,\"#0d0887\"],[0.1111111111111111,\"#46039f\"],[0.2222222222222222,\"#7201a8\"],[0.3333333333333333,\"#9c179e\"],[0.4444444444444444,\"#bd3786\"],[0.5555555555555556,\"#d8576b\"],[0.6666666666666666,\"#ed7953\"],[0.7777777777777778,\"#fb9f3a\"],[0.8888888888888888,\"#fdca26\"],[1.0,\"#f0f921\"]]}],\"choropleth\":[{\"type\":\"choropleth\",\"colorbar\":{\"outlinewidth\":0,\"ticks\":\"\"}}],\"histogram2d\":[{\"type\":\"histogram2d\",\"colorbar\":{\"outlinewidth\":0,\"ticks\":\"\"},\"colorscale\":[[0.0,\"#0d0887\"],[0.1111111111111111,\"#46039f\"],[0.2222222222222222,\"#7201a8\"],[0.3333333333333333,\"#9c179e\"],[0.4444444444444444,\"#bd3786\"],[0.5555555555555556,\"#d8576b\"],[0.6666666666666666,\"#ed7953\"],[0.7777777777777778,\"#fb9f3a\"],[0.8888888888888888,\"#fdca26\"],[1.0,\"#f0f921\"]]}],\"heatmap\":[{\"type\":\"heatmap\",\"colorbar\":{\"outlinewidth\":0,\"ticks\":\"\"},\"colorscale\":[[0.0,\"#0d0887\"],[0.1111111111111111,\"#46039f\"],[0.2222222222222222,\"#7201a8\"],[0.3333333333333333,\"#9c179e\"],[0.4444444444444444,\"#bd3786\"],[0.5555555555555556,\"#d8576b\"],[0.6666666666666666,\"#ed7953\"],[0.7777777777777778,\"#fb9f3a\"],[0.8888888888888888,\"#fdca26\"],[1.0,\"#f0f921\"]]}],\"heatmapgl\":[{\"type\":\"heatmapgl\",\"colorbar\":{\"outlinewidth\":0,\"ticks\":\"\"},\"colorscale\":[[0.0,\"#0d0887\"],[0.1111111111111111,\"#46039f\"],[0.2222222222222222,\"#7201a8\"],[0.3333333333333333,\"#9c179e\"],[0.4444444444444444,\"#bd3786\"],[0.5555555555555556,\"#d8576b\"],[0.6666666666666666,\"#ed7953\"],[0.7777777777777778,\"#fb9f3a\"],[0.8888888888888888,\"#fdca26\"],[1.0,\"#f0f921\"]]}],\"contourcarpet\":[{\"type\":\"contourcarpet\",\"colorbar\":{\"outlinewidth\":0,\"ticks\":\"\"}}],\"contour\":[{\"type\":\"contour\",\"colorbar\":{\"outlinewidth\":0,\"ticks\":\"\"},\"colorscale\":[[0.0,\"#0d0887\"],[0.1111111111111111,\"#46039f\"],[0.2222222222222222,\"#7201a8\"],[0.3333333333333333,\"#9c179e\"],[0.4444444444444444,\"#bd3786\"],[0.5555555555555556,\"#d8576b\"],[0.6666666666666666,\"#ed7953\"],[0.7777777777777778,\"#fb9f3a\"],[0.8888888888888888,\"#fdca26\"],[1.0,\"#f0f921\"]]}],\"surface\":[{\"type\":\"surface\",\"colorbar\":{\"outlinewidth\":0,\"ticks\":\"\"},\"colorscale\":[[0.0,\"#0d0887\"],[0.1111111111111111,\"#46039f\"],[0.2222222222222222,\"#7201a8\"],[0.3333333333333333,\"#9c179e\"],[0.4444444444444444,\"#bd3786\"],[0.5555555555555556,\"#d8576b\"],[0.6666666666666666,\"#ed7953\"],[0.7777777777777778,\"#fb9f3a\"],[0.8888888888888888,\"#fdca26\"],[1.0,\"#f0f921\"]]}],\"mesh3d\":[{\"type\":\"mesh3d\",\"colorbar\":{\"outlinewidth\":0,\"ticks\":\"\"}}],\"scatter\":[{\"fillpattern\":{\"fillmode\":\"overlay\",\"size\":10,\"solidity\":0.2},\"type\":\"scatter\"}],\"parcoords\":[{\"type\":\"parcoords\",\"line\":{\"colorbar\":{\"outlinewidth\":0,\"ticks\":\"\"}}}],\"scatterpolargl\":[{\"type\":\"scatterpolargl\",\"marker\":{\"colorbar\":{\"outlinewidth\":0,\"ticks\":\"\"}}}],\"bar\":[{\"error_x\":{\"color\":\"#2a3f5f\"},\"error_y\":{\"color\":\"#2a3f5f\"},\"marker\":{\"line\":{\"color\":\"#E5ECF6\",\"width\":0.5},\"pattern\":{\"fillmode\":\"overlay\",\"size\":10,\"solidity\":0.2}},\"type\":\"bar\"}],\"scattergeo\":[{\"type\":\"scattergeo\",\"marker\":{\"colorbar\":{\"outlinewidth\":0,\"ticks\":\"\"}}}],\"scatterpolar\":[{\"type\":\"scatterpolar\",\"marker\":{\"colorbar\":{\"outlinewidth\":0,\"ticks\":\"\"}}}],\"histogram\":[{\"marker\":{\"pattern\":{\"fillmode\":\"overlay\",\"size\":10,\"solidity\":0.2}},\"type\":\"histogram\"}],\"scattergl\":[{\"type\":\"scattergl\",\"marker\":{\"colorbar\":{\"outlinewidth\":0,\"ticks\":\"\"}}}],\"scatter3d\":[{\"type\":\"scatter3d\",\"line\":{\"colorbar\":{\"outlinewidth\":0,\"ticks\":\"\"}},\"marker\":{\"colorbar\":{\"outlinewidth\":0,\"ticks\":\"\"}}}],\"scattermapbox\":[{\"type\":\"scattermapbox\",\"marker\":{\"colorbar\":{\"outlinewidth\":0,\"ticks\":\"\"}}}],\"scatterternary\":[{\"type\":\"scatterternary\",\"marker\":{\"colorbar\":{\"outlinewidth\":0,\"ticks\":\"\"}}}],\"scattercarpet\":[{\"type\":\"scattercarpet\",\"marker\":{\"colorbar\":{\"outlinewidth\":0,\"ticks\":\"\"}}}],\"carpet\":[{\"aaxis\":{\"endlinecolor\":\"#2a3f5f\",\"gridcolor\":\"white\",\"linecolor\":\"white\",\"minorgridcolor\":\"white\",\"startlinecolor\":\"#2a3f5f\"},\"baxis\":{\"endlinecolor\":\"#2a3f5f\",\"gridcolor\":\"white\",\"linecolor\":\"white\",\"minorgridcolor\":\"white\",\"startlinecolor\":\"#2a3f5f\"},\"type\":\"carpet\"}],\"table\":[{\"cells\":{\"fill\":{\"color\":\"#EBF0F8\"},\"line\":{\"color\":\"white\"}},\"header\":{\"fill\":{\"color\":\"#C8D4E3\"},\"line\":{\"color\":\"white\"}},\"type\":\"table\"}],\"barpolar\":[{\"marker\":{\"line\":{\"color\":\"#E5ECF6\",\"width\":0.5},\"pattern\":{\"fillmode\":\"overlay\",\"size\":10,\"solidity\":0.2}},\"type\":\"barpolar\"}],\"pie\":[{\"automargin\":true,\"type\":\"pie\"}]},\"layout\":{\"autotypenumbers\":\"strict\",\"colorway\":[\"#636efa\",\"#EF553B\",\"#00cc96\",\"#ab63fa\",\"#FFA15A\",\"#19d3f3\",\"#FF6692\",\"#B6E880\",\"#FF97FF\",\"#FECB52\"],\"font\":{\"color\":\"#2a3f5f\"},\"hovermode\":\"closest\",\"hoverlabel\":{\"align\":\"left\"},\"paper_bgcolor\":\"white\",\"plot_bgcolor\":\"#E5ECF6\",\"polar\":{\"bgcolor\":\"#E5ECF6\",\"angularaxis\":{\"gridcolor\":\"white\",\"linecolor\":\"white\",\"ticks\":\"\"},\"radialaxis\":{\"gridcolor\":\"white\",\"linecolor\":\"white\",\"ticks\":\"\"}},\"ternary\":{\"bgcolor\":\"#E5ECF6\",\"aaxis\":{\"gridcolor\":\"white\",\"linecolor\":\"white\",\"ticks\":\"\"},\"baxis\":{\"gridcolor\":\"white\",\"linecolor\":\"white\",\"ticks\":\"\"},\"caxis\":{\"gridcolor\":\"white\",\"linecolor\":\"white\",\"ticks\":\"\"}},\"coloraxis\":{\"colorbar\":{\"outlinewidth\":0,\"ticks\":\"\"}},\"colorscale\":{\"sequential\":[[0.0,\"#0d0887\"],[0.1111111111111111,\"#46039f\"],[0.2222222222222222,\"#7201a8\"],[0.3333333333333333,\"#9c179e\"],[0.4444444444444444,\"#bd3786\"],[0.5555555555555556,\"#d8576b\"],[0.6666666666666666,\"#ed7953\"],[0.7777777777777778,\"#fb9f3a\"],[0.8888888888888888,\"#fdca26\"],[1.0,\"#f0f921\"]],\"sequentialminus\":[[0.0,\"#0d0887\"],[0.1111111111111111,\"#46039f\"],[0.2222222222222222,\"#7201a8\"],[0.3333333333333333,\"#9c179e\"],[0.4444444444444444,\"#bd3786\"],[0.5555555555555556,\"#d8576b\"],[0.6666666666666666,\"#ed7953\"],[0.7777777777777778,\"#fb9f3a\"],[0.8888888888888888,\"#fdca26\"],[1.0,\"#f0f921\"]],\"diverging\":[[0,\"#8e0152\"],[0.1,\"#c51b7d\"],[0.2,\"#de77ae\"],[0.3,\"#f1b6da\"],[0.4,\"#fde0ef\"],[0.5,\"#f7f7f7\"],[0.6,\"#e6f5d0\"],[0.7,\"#b8e186\"],[0.8,\"#7fbc41\"],[0.9,\"#4d9221\"],[1,\"#276419\"]]},\"xaxis\":{\"gridcolor\":\"white\",\"linecolor\":\"white\",\"ticks\":\"\",\"title\":{\"standoff\":15},\"zerolinecolor\":\"white\",\"automargin\":true,\"zerolinewidth\":2},\"yaxis\":{\"gridcolor\":\"white\",\"linecolor\":\"white\",\"ticks\":\"\",\"title\":{\"standoff\":15},\"zerolinecolor\":\"white\",\"automargin\":true,\"zerolinewidth\":2},\"scene\":{\"xaxis\":{\"backgroundcolor\":\"#E5ECF6\",\"gridcolor\":\"white\",\"linecolor\":\"white\",\"showbackground\":true,\"ticks\":\"\",\"zerolinecolor\":\"white\",\"gridwidth\":2},\"yaxis\":{\"backgroundcolor\":\"#E5ECF6\",\"gridcolor\":\"white\",\"linecolor\":\"white\",\"showbackground\":true,\"ticks\":\"\",\"zerolinecolor\":\"white\",\"gridwidth\":2},\"zaxis\":{\"backgroundcolor\":\"#E5ECF6\",\"gridcolor\":\"white\",\"linecolor\":\"white\",\"showbackground\":true,\"ticks\":\"\",\"zerolinecolor\":\"white\",\"gridwidth\":2}},\"shapedefaults\":{\"line\":{\"color\":\"#2a3f5f\"}},\"annotationdefaults\":{\"arrowcolor\":\"#2a3f5f\",\"arrowhead\":0,\"arrowwidth\":1},\"geo\":{\"bgcolor\":\"white\",\"landcolor\":\"#E5ECF6\",\"subunitcolor\":\"white\",\"showland\":true,\"showlakes\":true,\"lakecolor\":\"white\"},\"title\":{\"x\":0.05},\"mapbox\":{\"style\":\"light\"}}},\"xaxis\":{\"anchor\":\"y\",\"domain\":[0.0,1.0],\"scaleanchor\":\"y\",\"constrain\":\"domain\",\"title\":{\"text\":\"Head\"}},\"yaxis\":{\"anchor\":\"x\",\"domain\":[0.0,1.0],\"autorange\":\"reversed\",\"constrain\":\"domain\",\"title\":{\"text\":\"Layer\"}},\"coloraxis\":{\"colorscale\":[[0.0,\"rgb(103,0,31)\"],[0.1,\"rgb(178,24,43)\"],[0.2,\"rgb(214,96,77)\"],[0.3,\"rgb(244,165,130)\"],[0.4,\"rgb(253,219,199)\"],[0.5,\"rgb(247,247,247)\"],[0.6,\"rgb(209,229,240)\"],[0.7,\"rgb(146,197,222)\"],[0.8,\"rgb(67,147,195)\"],[0.9,\"rgb(33,102,172)\"],[1.0,\"rgb(5,48,97)\"]],\"cmid\":0.0},\"title\":{\"text\":\"Logit Difference From Patched Head Output\"}},                        {\"responsive\": true}                    ).then(function(){\n",
              "                            \n",
              "var gd = document.getElementById('f22b7252-2184-4c91-8e1f-6521a41d18e4');\n",
              "var x = new MutationObserver(function (mutations, observer) {{\n",
              "        var display = window.getComputedStyle(gd).display;\n",
              "        if (!display || display === 'none') {{\n",
              "            console.log([gd, 'removed!']);\n",
              "            Plotly.purge(gd);\n",
              "            observer.disconnect();\n",
              "        }}\n",
              "}});\n",
              "\n",
              "// Listen for the removal of the full notebook cells\n",
              "var notebookContainer = gd.closest('#notebook-container');\n",
              "if (notebookContainer) {{\n",
              "    x.observe(notebookContainer, {childList: true});\n",
              "}}\n",
              "\n",
              "// Listen for the clearing of the current output cell\n",
              "var outputEl = gd.closest('.output');\n",
              "if (outputEl) {{\n",
              "    x.observe(outputEl, {childList: true});\n",
              "}}\n",
              "\n",
              "                        })                };                            </script>        </div>\n",
              "</body>\n",
              "</html>"
            ]
          },
          "metadata": {},
          "output_type": "display_data"
        }
      ],
      "source": [
        "imshow(\n",
        "    patched_head_z_diff,\n",
        "    title=\"Logit Difference From Patched Head Output\",\n",
        "    labels={\"x\": \"Head\", \"y\": \"Layer\"},\n",
        ")"
      ]
    },
    {
      "cell_type": "markdown",
      "metadata": {
        "id": "vbCO4L_zUvqF"
      },
      "source": [
        "## Decomposing Heads"
      ]
    },
    {
      "cell_type": "markdown",
      "metadata": {
        "id": "dTjlFCEzUvqF"
      },
      "source": [
        "Decomposing attention layers into patching in individual heads has already helped us localise the behaviour a lot. But we can understand it further by decomposing heads. An attention head consists of two semi-independent operations - calculating *where* to move information from and to (represented by the attention pattern and implemented via the QK-circuit) and calculating *what* information to move (represented by the value vectors and implemented by the OV circuit). We can disentangle which of these is important by patching in just the attention pattern *or* the value vectors. (See [A Mathematical Framework](https://transformer-circuits.pub/2021/framework/index.html) or [my walkthrough video](https://www.youtube.com/watch?v=KV5gbOmHbjU) for more on this decomposition. If you're not familiar with the details of how attention is implemented, I recommend checking out [my clean transformer implementation](https://colab.research.google.com/github/neelnanda-io/TransformerLens/blob/clean-transformer-demo/Clean_Transformer_Demo.ipynb#scrollTo=3Pb0NYbZ900e) to see how the code works))"
      ]
    },
    {
      "cell_type": "markdown",
      "metadata": {
        "id": "MDvYPqwpUvqF"
      },
      "source": [
        "First let's patch in the value vectors, to measure when figuring out what to move is important. . This has the same shape as z ([batch, pos, head_index, d_head]) so we can reuse the same hook."
      ]
    },
    {
      "cell_type": "code",
      "execution_count": 43,
      "metadata": {
        "id": "slP1rhuRUvqF"
      },
      "outputs": [],
      "source": [
        "patched_head_v_diff = torch.zeros(\n",
        "    model.cfg.n_layers, model.cfg.n_heads, device=device, dtype=torch.float32\n",
        ")\n",
        "for layer in range(model.cfg.n_layers):\n",
        "    for head_index in range(model.cfg.n_heads):\n",
        "        hook_fn = partial(patch_head_vector, head_index=head_index, clean_cache=cache)\n",
        "        patched_logits = model.run_with_hooks(\n",
        "            corrupted_tokens,\n",
        "            fwd_hooks=[(utils.get_act_name(\"v\", layer, \"attn\"), hook_fn)],\n",
        "            return_type=\"logits\",\n",
        "        )\n",
        "        patched_logit_diff = logits_to_ave_logit_diff(patched_logits, answer_tokens)\n",
        "\n",
        "        patched_head_v_diff[layer, head_index] = normalize_patched_logit_diff(\n",
        "            patched_logit_diff\n",
        "        )"
      ]
    },
    {
      "cell_type": "markdown",
      "metadata": {
        "id": "dpebtiwbUvqG"
      },
      "source": [
        "We can plot this as a heatmap and it's initially hard to interpret."
      ]
    },
    {
      "cell_type": "code",
      "execution_count": 44,
      "metadata": {
        "colab": {
          "base_uri": "https://localhost:8080/",
          "height": 542
        },
        "id": "7WwnxkRGUvqG",
        "outputId": "a80b4614-8cd8-4b66-df83-c3e3cc130b2b"
      },
      "outputs": [
        {
          "data": {
            "text/html": [
              "<html>\n",
              "<head><meta charset=\"utf-8\" /></head>\n",
              "<body>\n",
              "    <div>            <script src=\"https://cdnjs.cloudflare.com/ajax/libs/mathjax/2.7.5/MathJax.js?config=TeX-AMS-MML_SVG\"></script><script type=\"text/javascript\">if (window.MathJax && window.MathJax.Hub && window.MathJax.Hub.Config) {window.MathJax.Hub.Config({SVG: {font: \"STIX-Web\"}});}</script>                <script type=\"text/javascript\">window.PlotlyConfig = {MathJaxConfig: 'local'};</script>\n",
              "        <script charset=\"utf-8\" src=\"https://cdn.plot.ly/plotly-2.24.1.min.js\"></script>                <div id=\"fc392a82-5056-4a8e-bb52-e203d168a6b0\" class=\"plotly-graph-div\" style=\"height:525px; width:100%;\"></div>            <script type=\"text/javascript\">                                    window.PLOTLYENV=window.PLOTLYENV || {};                                    if (document.getElementById(\"fc392a82-5056-4a8e-bb52-e203d168a6b0\")) {                    Plotly.newPlot(                        \"fc392a82-5056-4a8e-bb52-e203d168a6b0\",                        [{\"coloraxis\":\"coloraxis\",\"name\":\"0\",\"z\":[[-0.00019818521104753017,0.005340126343071461,0.0006519471062347293,0.0035054113250225782,-0.008983713574707508,0.0034819848369807005,-0.0008616441627964377,-3.359583206474781e-05,0.0005171610391698778,0.0004423842765390873,-0.003906950354576111,-0.0001882172073237598],[-0.0004393636772874743,-0.0004459083138499409,-6.668823334621266e-05,7.212531636469066e-05,-3.6079440178582445e-05,-0.001932045677676797,-0.00015791048645041883,1.5203708244371228e-05,0.00020577028044499457,0.0003372672654222697,0.0003520682221278548,-0.0005662961630150676],[0.00021046899200882763,-0.0007204141584224999,0.00048712280113250017,-0.0005973748629912734,-0.000592172727920115,-0.000544547860044986,-0.00022718301624991,-0.00047977265785448253,0.00020630727522075176,0.0011836070334538817,-0.00035753886913880706,-0.0009094704291783273],[0.0010391214163973927,-0.00012018649431411177,-7.682403520448133e-05,-0.0007266566972248256,-0.0013102374505251646,-0.002311097923666239,0.010987112298607826,-5.051121843280271e-05,0.00014408283459488302,0.00015106378123164177,-7.957614434417337e-05,-1.9801738744718023e-05],[-0.0005376004264689982,-0.0008130460046231747,-0.00013341002340894192,0.0306100994348526,-0.007186252623796463,0.00014864729018881917,0.0013341002631932497,-0.011421877890825272,-0.0005330024287104607,0.0005132678197696805,0.0003731117758434266,0.002956399694085121],[7.551510861958377e-06,6.3432689785258844e-06,0.0015974969137459993,0.00033975086989812553,-0.0012594242580235004,-5.463937486638315e-05,0.0006336892256513238,-0.00027101533487439156,7.420618203468621e-05,-0.006704298313707113,0.003177038161084056,-0.0017281884793192148],[0.04863179847598076,0.015315168537199497,-0.00046460251905955374,-0.00011642751633189619,-4.913516386295669e-05,-0.003953669220209122,-0.017375489696860313,-0.0001538158830953762,0.0012200220953673124,-0.00018039719725493342,-0.00042754976311698556,0.00012367696035653353],[-2.9333425118238665e-05,-0.001384678645990789,-0.00012159610923845321,0.13321633636951447,-0.00024433332146145403,-0.007315668743103743,0.00033354185870848596,-0.0007943182718008757,-0.007937980815768242,0.20841287076473236,-0.00019140563381370157,-0.00020630727522075176],[-0.0020484395790845156,-0.00037700499524362385,-0.0033140727318823338,-0.009665564633905888,-0.0003173984005115926,-0.005141035187989473,0.3171701431274414,0.002842321526259184,0.00047212044592015445,-0.001152561977505684,0.2726716697216034,-0.0031763333827257156],[-0.0004395650466904044,5.7089422625722364e-05,-0.0020633076783269644,0.02006600983440876,-0.007870889268815517,0.01131521724164486,0.0030575229320675135,0.06856238096952438,-0.0027478772681206465,-0.00927919615060091,0.0005065553705208004,-0.0013156745117157698],[-0.012957586906850338,-0.0030458096880465746,-0.017923226580023766,-0.004358631558716297,-0.0011527297319844365,0.0004993394832126796,-0.003113202750682831,0.01958455890417099,4.312751843826845e-05,0.012969434261322021,-0.007696063723415136,-0.0009150081896223128],[0.004100000485777855,-0.020459258928894997,-0.035875819623470306,0.014655468985438347,0.000844258931465447,0.0017798407934606075,-0.018043512478470802,0.0035191047936677933,0.008252794854342937,-0.001766013097949326,0.04416657239198685,0.006474329624325037]],\"type\":\"heatmap\",\"xaxis\":\"x\",\"yaxis\":\"y\",\"hovertemplate\":\"Head: %{x}\\u003cbr\\u003eLayer: %{y}\\u003cbr\\u003ecolor: %{z}\\u003cextra\\u003e\\u003c\\u002fextra\\u003e\"}],                        {\"template\":{\"data\":{\"histogram2dcontour\":[{\"type\":\"histogram2dcontour\",\"colorbar\":{\"outlinewidth\":0,\"ticks\":\"\"},\"colorscale\":[[0.0,\"#0d0887\"],[0.1111111111111111,\"#46039f\"],[0.2222222222222222,\"#7201a8\"],[0.3333333333333333,\"#9c179e\"],[0.4444444444444444,\"#bd3786\"],[0.5555555555555556,\"#d8576b\"],[0.6666666666666666,\"#ed7953\"],[0.7777777777777778,\"#fb9f3a\"],[0.8888888888888888,\"#fdca26\"],[1.0,\"#f0f921\"]]}],\"choropleth\":[{\"type\":\"choropleth\",\"colorbar\":{\"outlinewidth\":0,\"ticks\":\"\"}}],\"histogram2d\":[{\"type\":\"histogram2d\",\"colorbar\":{\"outlinewidth\":0,\"ticks\":\"\"},\"colorscale\":[[0.0,\"#0d0887\"],[0.1111111111111111,\"#46039f\"],[0.2222222222222222,\"#7201a8\"],[0.3333333333333333,\"#9c179e\"],[0.4444444444444444,\"#bd3786\"],[0.5555555555555556,\"#d8576b\"],[0.6666666666666666,\"#ed7953\"],[0.7777777777777778,\"#fb9f3a\"],[0.8888888888888888,\"#fdca26\"],[1.0,\"#f0f921\"]]}],\"heatmap\":[{\"type\":\"heatmap\",\"colorbar\":{\"outlinewidth\":0,\"ticks\":\"\"},\"colorscale\":[[0.0,\"#0d0887\"],[0.1111111111111111,\"#46039f\"],[0.2222222222222222,\"#7201a8\"],[0.3333333333333333,\"#9c179e\"],[0.4444444444444444,\"#bd3786\"],[0.5555555555555556,\"#d8576b\"],[0.6666666666666666,\"#ed7953\"],[0.7777777777777778,\"#fb9f3a\"],[0.8888888888888888,\"#fdca26\"],[1.0,\"#f0f921\"]]}],\"heatmapgl\":[{\"type\":\"heatmapgl\",\"colorbar\":{\"outlinewidth\":0,\"ticks\":\"\"},\"colorscale\":[[0.0,\"#0d0887\"],[0.1111111111111111,\"#46039f\"],[0.2222222222222222,\"#7201a8\"],[0.3333333333333333,\"#9c179e\"],[0.4444444444444444,\"#bd3786\"],[0.5555555555555556,\"#d8576b\"],[0.6666666666666666,\"#ed7953\"],[0.7777777777777778,\"#fb9f3a\"],[0.8888888888888888,\"#fdca26\"],[1.0,\"#f0f921\"]]}],\"contourcarpet\":[{\"type\":\"contourcarpet\",\"colorbar\":{\"outlinewidth\":0,\"ticks\":\"\"}}],\"contour\":[{\"type\":\"contour\",\"colorbar\":{\"outlinewidth\":0,\"ticks\":\"\"},\"colorscale\":[[0.0,\"#0d0887\"],[0.1111111111111111,\"#46039f\"],[0.2222222222222222,\"#7201a8\"],[0.3333333333333333,\"#9c179e\"],[0.4444444444444444,\"#bd3786\"],[0.5555555555555556,\"#d8576b\"],[0.6666666666666666,\"#ed7953\"],[0.7777777777777778,\"#fb9f3a\"],[0.8888888888888888,\"#fdca26\"],[1.0,\"#f0f921\"]]}],\"surface\":[{\"type\":\"surface\",\"colorbar\":{\"outlinewidth\":0,\"ticks\":\"\"},\"colorscale\":[[0.0,\"#0d0887\"],[0.1111111111111111,\"#46039f\"],[0.2222222222222222,\"#7201a8\"],[0.3333333333333333,\"#9c179e\"],[0.4444444444444444,\"#bd3786\"],[0.5555555555555556,\"#d8576b\"],[0.6666666666666666,\"#ed7953\"],[0.7777777777777778,\"#fb9f3a\"],[0.8888888888888888,\"#fdca26\"],[1.0,\"#f0f921\"]]}],\"mesh3d\":[{\"type\":\"mesh3d\",\"colorbar\":{\"outlinewidth\":0,\"ticks\":\"\"}}],\"scatter\":[{\"fillpattern\":{\"fillmode\":\"overlay\",\"size\":10,\"solidity\":0.2},\"type\":\"scatter\"}],\"parcoords\":[{\"type\":\"parcoords\",\"line\":{\"colorbar\":{\"outlinewidth\":0,\"ticks\":\"\"}}}],\"scatterpolargl\":[{\"type\":\"scatterpolargl\",\"marker\":{\"colorbar\":{\"outlinewidth\":0,\"ticks\":\"\"}}}],\"bar\":[{\"error_x\":{\"color\":\"#2a3f5f\"},\"error_y\":{\"color\":\"#2a3f5f\"},\"marker\":{\"line\":{\"color\":\"#E5ECF6\",\"width\":0.5},\"pattern\":{\"fillmode\":\"overlay\",\"size\":10,\"solidity\":0.2}},\"type\":\"bar\"}],\"scattergeo\":[{\"type\":\"scattergeo\",\"marker\":{\"colorbar\":{\"outlinewidth\":0,\"ticks\":\"\"}}}],\"scatterpolar\":[{\"type\":\"scatterpolar\",\"marker\":{\"colorbar\":{\"outlinewidth\":0,\"ticks\":\"\"}}}],\"histogram\":[{\"marker\":{\"pattern\":{\"fillmode\":\"overlay\",\"size\":10,\"solidity\":0.2}},\"type\":\"histogram\"}],\"scattergl\":[{\"type\":\"scattergl\",\"marker\":{\"colorbar\":{\"outlinewidth\":0,\"ticks\":\"\"}}}],\"scatter3d\":[{\"type\":\"scatter3d\",\"line\":{\"colorbar\":{\"outlinewidth\":0,\"ticks\":\"\"}},\"marker\":{\"colorbar\":{\"outlinewidth\":0,\"ticks\":\"\"}}}],\"scattermapbox\":[{\"type\":\"scattermapbox\",\"marker\":{\"colorbar\":{\"outlinewidth\":0,\"ticks\":\"\"}}}],\"scatterternary\":[{\"type\":\"scatterternary\",\"marker\":{\"colorbar\":{\"outlinewidth\":0,\"ticks\":\"\"}}}],\"scattercarpet\":[{\"type\":\"scattercarpet\",\"marker\":{\"colorbar\":{\"outlinewidth\":0,\"ticks\":\"\"}}}],\"carpet\":[{\"aaxis\":{\"endlinecolor\":\"#2a3f5f\",\"gridcolor\":\"white\",\"linecolor\":\"white\",\"minorgridcolor\":\"white\",\"startlinecolor\":\"#2a3f5f\"},\"baxis\":{\"endlinecolor\":\"#2a3f5f\",\"gridcolor\":\"white\",\"linecolor\":\"white\",\"minorgridcolor\":\"white\",\"startlinecolor\":\"#2a3f5f\"},\"type\":\"carpet\"}],\"table\":[{\"cells\":{\"fill\":{\"color\":\"#EBF0F8\"},\"line\":{\"color\":\"white\"}},\"header\":{\"fill\":{\"color\":\"#C8D4E3\"},\"line\":{\"color\":\"white\"}},\"type\":\"table\"}],\"barpolar\":[{\"marker\":{\"line\":{\"color\":\"#E5ECF6\",\"width\":0.5},\"pattern\":{\"fillmode\":\"overlay\",\"size\":10,\"solidity\":0.2}},\"type\":\"barpolar\"}],\"pie\":[{\"automargin\":true,\"type\":\"pie\"}]},\"layout\":{\"autotypenumbers\":\"strict\",\"colorway\":[\"#636efa\",\"#EF553B\",\"#00cc96\",\"#ab63fa\",\"#FFA15A\",\"#19d3f3\",\"#FF6692\",\"#B6E880\",\"#FF97FF\",\"#FECB52\"],\"font\":{\"color\":\"#2a3f5f\"},\"hovermode\":\"closest\",\"hoverlabel\":{\"align\":\"left\"},\"paper_bgcolor\":\"white\",\"plot_bgcolor\":\"#E5ECF6\",\"polar\":{\"bgcolor\":\"#E5ECF6\",\"angularaxis\":{\"gridcolor\":\"white\",\"linecolor\":\"white\",\"ticks\":\"\"},\"radialaxis\":{\"gridcolor\":\"white\",\"linecolor\":\"white\",\"ticks\":\"\"}},\"ternary\":{\"bgcolor\":\"#E5ECF6\",\"aaxis\":{\"gridcolor\":\"white\",\"linecolor\":\"white\",\"ticks\":\"\"},\"baxis\":{\"gridcolor\":\"white\",\"linecolor\":\"white\",\"ticks\":\"\"},\"caxis\":{\"gridcolor\":\"white\",\"linecolor\":\"white\",\"ticks\":\"\"}},\"coloraxis\":{\"colorbar\":{\"outlinewidth\":0,\"ticks\":\"\"}},\"colorscale\":{\"sequential\":[[0.0,\"#0d0887\"],[0.1111111111111111,\"#46039f\"],[0.2222222222222222,\"#7201a8\"],[0.3333333333333333,\"#9c179e\"],[0.4444444444444444,\"#bd3786\"],[0.5555555555555556,\"#d8576b\"],[0.6666666666666666,\"#ed7953\"],[0.7777777777777778,\"#fb9f3a\"],[0.8888888888888888,\"#fdca26\"],[1.0,\"#f0f921\"]],\"sequentialminus\":[[0.0,\"#0d0887\"],[0.1111111111111111,\"#46039f\"],[0.2222222222222222,\"#7201a8\"],[0.3333333333333333,\"#9c179e\"],[0.4444444444444444,\"#bd3786\"],[0.5555555555555556,\"#d8576b\"],[0.6666666666666666,\"#ed7953\"],[0.7777777777777778,\"#fb9f3a\"],[0.8888888888888888,\"#fdca26\"],[1.0,\"#f0f921\"]],\"diverging\":[[0,\"#8e0152\"],[0.1,\"#c51b7d\"],[0.2,\"#de77ae\"],[0.3,\"#f1b6da\"],[0.4,\"#fde0ef\"],[0.5,\"#f7f7f7\"],[0.6,\"#e6f5d0\"],[0.7,\"#b8e186\"],[0.8,\"#7fbc41\"],[0.9,\"#4d9221\"],[1,\"#276419\"]]},\"xaxis\":{\"gridcolor\":\"white\",\"linecolor\":\"white\",\"ticks\":\"\",\"title\":{\"standoff\":15},\"zerolinecolor\":\"white\",\"automargin\":true,\"zerolinewidth\":2},\"yaxis\":{\"gridcolor\":\"white\",\"linecolor\":\"white\",\"ticks\":\"\",\"title\":{\"standoff\":15},\"zerolinecolor\":\"white\",\"automargin\":true,\"zerolinewidth\":2},\"scene\":{\"xaxis\":{\"backgroundcolor\":\"#E5ECF6\",\"gridcolor\":\"white\",\"linecolor\":\"white\",\"showbackground\":true,\"ticks\":\"\",\"zerolinecolor\":\"white\",\"gridwidth\":2},\"yaxis\":{\"backgroundcolor\":\"#E5ECF6\",\"gridcolor\":\"white\",\"linecolor\":\"white\",\"showbackground\":true,\"ticks\":\"\",\"zerolinecolor\":\"white\",\"gridwidth\":2},\"zaxis\":{\"backgroundcolor\":\"#E5ECF6\",\"gridcolor\":\"white\",\"linecolor\":\"white\",\"showbackground\":true,\"ticks\":\"\",\"zerolinecolor\":\"white\",\"gridwidth\":2}},\"shapedefaults\":{\"line\":{\"color\":\"#2a3f5f\"}},\"annotationdefaults\":{\"arrowcolor\":\"#2a3f5f\",\"arrowhead\":0,\"arrowwidth\":1},\"geo\":{\"bgcolor\":\"white\",\"landcolor\":\"#E5ECF6\",\"subunitcolor\":\"white\",\"showland\":true,\"showlakes\":true,\"lakecolor\":\"white\"},\"title\":{\"x\":0.05},\"mapbox\":{\"style\":\"light\"}}},\"xaxis\":{\"anchor\":\"y\",\"domain\":[0.0,1.0],\"scaleanchor\":\"y\",\"constrain\":\"domain\",\"title\":{\"text\":\"Head\"}},\"yaxis\":{\"anchor\":\"x\",\"domain\":[0.0,1.0],\"autorange\":\"reversed\",\"constrain\":\"domain\",\"title\":{\"text\":\"Layer\"}},\"coloraxis\":{\"colorscale\":[[0.0,\"rgb(103,0,31)\"],[0.1,\"rgb(178,24,43)\"],[0.2,\"rgb(214,96,77)\"],[0.3,\"rgb(244,165,130)\"],[0.4,\"rgb(253,219,199)\"],[0.5,\"rgb(247,247,247)\"],[0.6,\"rgb(209,229,240)\"],[0.7,\"rgb(146,197,222)\"],[0.8,\"rgb(67,147,195)\"],[0.9,\"rgb(33,102,172)\"],[1.0,\"rgb(5,48,97)\"]],\"cmid\":0.0},\"title\":{\"text\":\"Logit Difference From Patched Head Value\"}},                        {\"responsive\": true}                    ).then(function(){\n",
              "                            \n",
              "var gd = document.getElementById('fc392a82-5056-4a8e-bb52-e203d168a6b0');\n",
              "var x = new MutationObserver(function (mutations, observer) {{\n",
              "        var display = window.getComputedStyle(gd).display;\n",
              "        if (!display || display === 'none') {{\n",
              "            console.log([gd, 'removed!']);\n",
              "            Plotly.purge(gd);\n",
              "            observer.disconnect();\n",
              "        }}\n",
              "}});\n",
              "\n",
              "// Listen for the removal of the full notebook cells\n",
              "var notebookContainer = gd.closest('#notebook-container');\n",
              "if (notebookContainer) {{\n",
              "    x.observe(notebookContainer, {childList: true});\n",
              "}}\n",
              "\n",
              "// Listen for the clearing of the current output cell\n",
              "var outputEl = gd.closest('.output');\n",
              "if (outputEl) {{\n",
              "    x.observe(outputEl, {childList: true});\n",
              "}}\n",
              "\n",
              "                        })                };                            </script>        </div>\n",
              "</body>\n",
              "</html>"
            ]
          },
          "metadata": {},
          "output_type": "display_data"
        }
      ],
      "source": [
        "imshow(\n",
        "    patched_head_v_diff,\n",
        "    title=\"Logit Difference From Patched Head Value\",\n",
        "    labels={\"x\": \"Head\", \"y\": \"Layer\"},\n",
        ")"
      ]
    },
    {
      "cell_type": "markdown",
      "metadata": {
        "id": "-_4mmCVkUvqG"
      },
      "source": [
        "But it's very easy to interpret if we plot a scatter plot against patching head outputs. Here we see that the earlier heads (L5H5, L6H9, L3H0) and late name movers (L9H9, L10H7, L11H10) don't matter at all now, while the mid-late heads (L8H6, L8H10, L7H9) do.\n",
        "\n",
        "Meta lesson: Plot things early, often and in diverse ways as you explore a model's internals!"
      ]
    },
    {
      "cell_type": "code",
      "execution_count": 45,
      "metadata": {
        "colab": {
          "base_uri": "https://localhost:8080/",
          "height": 542
        },
        "id": "hGez426rUvqG",
        "outputId": "3f021a2a-12d1-467e-b8fb-d120f280b273"
      },
      "outputs": [
        {
          "data": {
            "text/html": [
              "<html>\n",
              "<head><meta charset=\"utf-8\" /></head>\n",
              "<body>\n",
              "    <div>            <script src=\"https://cdnjs.cloudflare.com/ajax/libs/mathjax/2.7.5/MathJax.js?config=TeX-AMS-MML_SVG\"></script><script type=\"text/javascript\">if (window.MathJax && window.MathJax.Hub && window.MathJax.Hub.Config) {window.MathJax.Hub.Config({SVG: {font: \"STIX-Web\"}});}</script>                <script type=\"text/javascript\">window.PlotlyConfig = {MathJaxConfig: 'local'};</script>\n",
              "        <script charset=\"utf-8\" src=\"https://cdn.plot.ly/plotly-2.24.1.min.js\"></script>                <div id=\"592e64c3-3544-461e-af8f-06598daf0538\" class=\"plotly-graph-div\" style=\"height:525px; width:100%;\"></div>            <script type=\"text/javascript\">                                    window.PLOTLYENV=window.PLOTLYENV || {};                                    if (document.getElementById(\"592e64c3-3544-461e-af8f-06598daf0538\")) {                    Plotly.newPlot(                        \"592e64c3-3544-461e-af8f-06598daf0538\",                        [{\"hovertemplate\":\"\\u003cb\\u003e%{hovertext}\\u003c\\u002fb\\u003e\\u003cbr\\u003e\\u003cbr\\u003eValue Patch=%{x}\\u003cbr\\u003eOutput Patch=%{y}\\u003cbr\\u003eLayer=%{marker.color}\\u003cextra\\u003e\\u003c\\u002fextra\\u003e\",\"hovertext\":[\"L0H0\",\"L0H1\",\"L0H2\",\"L0H3\",\"L0H4\",\"L0H5\",\"L0H6\",\"L0H7\",\"L0H8\",\"L0H9\",\"L0H10\",\"L0H11\",\"L1H0\",\"L1H1\",\"L1H2\",\"L1H3\",\"L1H4\",\"L1H5\",\"L1H6\",\"L1H7\",\"L1H8\",\"L1H9\",\"L1H10\",\"L1H11\",\"L2H0\",\"L2H1\",\"L2H2\",\"L2H3\",\"L2H4\",\"L2H5\",\"L2H6\",\"L2H7\",\"L2H8\",\"L2H9\",\"L2H10\",\"L2H11\",\"L3H0\",\"L3H1\",\"L3H2\",\"L3H3\",\"L3H4\",\"L3H5\",\"L3H6\",\"L3H7\",\"L3H8\",\"L3H9\",\"L3H10\",\"L3H11\",\"L4H0\",\"L4H1\",\"L4H2\",\"L4H3\",\"L4H4\",\"L4H5\",\"L4H6\",\"L4H7\",\"L4H8\",\"L4H9\",\"L4H10\",\"L4H11\",\"L5H0\",\"L5H1\",\"L5H2\",\"L5H3\",\"L5H4\",\"L5H5\",\"L5H6\",\"L5H7\",\"L5H8\",\"L5H9\",\"L5H10\",\"L5H11\",\"L6H0\",\"L6H1\",\"L6H2\",\"L6H3\",\"L6H4\",\"L6H5\",\"L6H6\",\"L6H7\",\"L6H8\",\"L6H9\",\"L6H10\",\"L6H11\",\"L7H0\",\"L7H1\",\"L7H2\",\"L7H3\",\"L7H4\",\"L7H5\",\"L7H6\",\"L7H7\",\"L7H8\",\"L7H9\",\"L7H10\",\"L7H11\",\"L8H0\",\"L8H1\",\"L8H2\",\"L8H3\",\"L8H4\",\"L8H5\",\"L8H6\",\"L8H7\",\"L8H8\",\"L8H9\",\"L8H10\",\"L8H11\",\"L9H0\",\"L9H1\",\"L9H2\",\"L9H3\",\"L9H4\",\"L9H5\",\"L9H6\",\"L9H7\",\"L9H8\",\"L9H9\",\"L9H10\",\"L9H11\",\"L10H0\",\"L10H1\",\"L10H2\",\"L10H3\",\"L10H4\",\"L10H5\",\"L10H6\",\"L10H7\",\"L10H8\",\"L10H9\",\"L10H10\",\"L10H11\",\"L11H0\",\"L11H1\",\"L11H2\",\"L11H3\",\"L11H4\",\"L11H5\",\"L11H6\",\"L11H7\",\"L11H8\",\"L11H9\",\"L11H10\",\"L11H11\"],\"legendgroup\":\"\",\"marker\":{\"color\":[0,0,0,0,0,0,0,0,0,0,0,0,1,1,1,1,1,1,1,1,1,1,1,1,2,2,2,2,2,2,2,2,2,2,2,2,3,3,3,3,3,3,3,3,3,3,3,3,4,4,4,4,4,4,4,4,4,4,4,4,5,5,5,5,5,5,5,5,5,5,5,5,6,6,6,6,6,6,6,6,6,6,6,6,7,7,7,7,7,7,7,7,7,7,7,7,8,8,8,8,8,8,8,8,8,8,8,8,9,9,9,9,9,9,9,9,9,9,9,9,10,10,10,10,10,10,10,10,10,10,10,10,11,11,11,11,11,11,11,11,11,11,11,11],\"coloraxis\":\"coloraxis\",\"symbol\":\"circle\"},\"mode\":\"markers\",\"name\":\"\",\"orientation\":\"v\",\"showlegend\":false,\"x\":[-0.00019818521104753017,0.005340126343071461,0.0006519471062347293,0.0035054113250225782,-0.008983713574707508,0.0034819848369807005,-0.0008616441627964377,-3.359583206474781e-05,0.0005171610391698778,0.0004423842765390873,-0.003906950354576111,-0.0001882172073237598,-0.0004393636772874743,-0.0004459083138499409,-6.668823334621266e-05,7.212531636469066e-05,-3.6079440178582445e-05,-0.001932045677676797,-0.00015791048645041883,1.5203708244371228e-05,0.00020577028044499457,0.0003372672654222697,0.0003520682221278548,-0.0005662961630150676,0.00021046899200882763,-0.0007204141584224999,0.00048712280113250017,-0.0005973748629912734,-0.000592172727920115,-0.000544547860044986,-0.00022718301624991,-0.00047977265785448253,0.00020630727522075176,0.0011836070334538817,-0.00035753886913880706,-0.0009094704291783273,0.0010391214163973927,-0.00012018649431411177,-7.682403520448133e-05,-0.0007266566972248256,-0.0013102374505251646,-0.002311097923666239,0.010987112298607826,-5.051121843280271e-05,0.00014408283459488302,0.00015106378123164177,-7.957614434417337e-05,-1.9801738744718023e-05,-0.0005376004264689982,-0.0008130460046231747,-0.00013341002340894192,0.0306100994348526,-0.007186252623796463,0.00014864729018881917,0.0013341002631932497,-0.011421877890825272,-0.0005330024287104607,0.0005132678197696805,0.0003731117758434266,0.002956399694085121,7.551510861958377e-06,6.3432689785258844e-06,0.0015974969137459993,0.00033975086989812553,-0.0012594242580235004,-5.463937486638315e-05,0.0006336892256513238,-0.00027101533487439156,7.420618203468621e-05,-0.006704298313707113,0.003177038161084056,-0.0017281884793192148,0.04863179847598076,0.015315168537199497,-0.00046460251905955374,-0.00011642751633189619,-4.913516386295669e-05,-0.003953669220209122,-0.017375489696860313,-0.0001538158830953762,0.0012200220953673124,-0.00018039719725493342,-0.00042754976311698556,0.00012367696035653353,-2.9333425118238665e-05,-0.001384678645990789,-0.00012159610923845321,0.13321633636951447,-0.00024433332146145403,-0.007315668743103743,0.00033354185870848596,-0.0007943182718008757,-0.007937980815768242,0.20841287076473236,-0.00019140563381370157,-0.00020630727522075176,-0.0020484395790845156,-0.00037700499524362385,-0.0033140727318823338,-0.009665564633905888,-0.0003173984005115926,-0.005141035187989473,0.3171701431274414,0.002842321526259184,0.00047212044592015445,-0.001152561977505684,0.2726716697216034,-0.0031763333827257156,-0.0004395650466904044,5.7089422625722364e-05,-0.0020633076783269644,0.02006600983440876,-0.007870889268815517,0.01131521724164486,0.0030575229320675135,0.06856238096952438,-0.0027478772681206465,-0.00927919615060091,0.0005065553705208004,-0.0013156745117157698,-0.012957586906850338,-0.0030458096880465746,-0.017923226580023766,-0.004358631558716297,-0.0011527297319844365,0.0004993394832126796,-0.003113202750682831,0.01958455890417099,4.312751843826845e-05,0.012969434261322021,-0.007696063723415136,-0.0009150081896223128,0.004100000485777855,-0.020459258928894997,-0.035875819623470306,0.014655468985438347,0.000844258931465447,0.0017798407934606075,-0.018043512478470802,0.0035191047936677933,0.008252794854342937,-0.001766013097949326,0.04416657239198685,0.006474329624325037],\"xaxis\":\"x\",\"y\":[0.0009497787104919553,0.016124622896313667,0.0018547853687778115,0.0034388238564133644,-0.009822837077081203,0.011059674434363842,-0.004064290318638086,-0.0015788028249517083,-0.0012078725267201662,0.0038294214755296707,-0.004257676191627979,-0.0011425939155742526,-0.0010771475499495864,-0.00037807898479513824,2.3829211386328097e-06,-0.0002608124050311744,-0.0001409279793733731,0.003832710674032569,-0.000428153871325776,-0.0014292157720774412,-0.0009220226784236729,0.0006934300763532519,0.0004342957690823823,-0.0035708576906472445,-0.0004967551794834435,0.0008061321568675339,0.0005431717727333307,-0.0005318948533385992,-0.0007155140629038215,-0.0010378460865467787,-0.0009488725336268544,-8.65235342644155e-05,0.0002765195386018604,0.002107677049934864,-0.00019670846813824028,-0.0016399197047576308,0.11626215279102325,0.00025054236175492406,-0.0014673760160803795,-0.00039747796836309135,0.018962381407618523,-0.00018801583792082965,0.011170497164130211,-0.0013307775370776653,-0.0007355842972174287,-0.0003030337393283844,-0.00014549244951922446,-0.00022308841289486736,-0.0016506260726600885,0.0002929650654550642,-0.0014360288623720407,0.030841780826449394,-0.007432532496750355,-0.00028266143635846674,0.0060167755000293255,-0.011006411164999008,-0.0012666401453316212,0.0014901312533766031,-0.00018016227113548666,0.002944317413493991,-0.004211427178233862,0.002960158744826913,0.002045116852968931,0.0013402757467702031,-0.001218612538650632,0.34349915385246277,0.0005628057406283915,-0.00012518727453425527,-0.005152714904397726,0.01624041423201561,0.017090344801545143,-0.004174575675278902,0.03977541998028755,0.015226698480546474,-0.0010230786865577102,0.0008084479486569762,-0.004935029894113541,-0.0021233169827610254,-0.01427383255213499,0.0013752476079389453,0.0014832174638286233,0.13027118146419525,-0.0003358912072144449,0.0012927179923281074,0.0003719035303220153,0.019514748826622963,0.0002229877281934023,0.12424936890602112,-0.00040466029895469546,-0.0076521639712154865,0.0013011085102334619,-0.0011253764387220144,-0.007449783850461245,0.19224116206169128,-0.0032746372744441032,-0.0005018566153012216,-0.001008479157462716,3.07430382235907e-05,-0.0008585900068283081,0.012359540909528732,-0.0004044589295517653,-0.004329499322921038,0.3185547888278961,0.00232918793335557,0.0021180142648518085,0.00014106222079135478,0.27793610095977783,0.005738711915910244,0.005889541003853083,-0.0009693790343590081,0.009125917218625546,0.020675331354141235,-0.03700451925396919,0.014263595454394817,-0.04828419163823128,0.05834156274795532,0.0006514100823551416,0.2636086642742157,0.0004919221973977983,-0.0026108426973223686,0.08374226093292236,0.020676137879490852,-0.0037436699494719505,0.010851152241230011,-0.0010965128894895315,0.00047413419815711677,0.04818001389503479,-0.4799131751060486,0.00018378699314780533,0.011861879378557205,0.060885414481163025,0.0008458698866888881,0.005327708553522825,-0.011493567377328873,-0.1135089099407196,0.006329407915472984,0.0003159887855872512,-0.0011602140730246902,-0.022669736295938492,0.004069861490279436,0.0073160044848918915,-0.008345258422195911,-0.2781760096549988,0.003634558990597725],\"yaxis\":\"y\",\"type\":\"scatter\"}],                        {\"template\":{\"data\":{\"histogram2dcontour\":[{\"type\":\"histogram2dcontour\",\"colorbar\":{\"outlinewidth\":0,\"ticks\":\"\"},\"colorscale\":[[0.0,\"#0d0887\"],[0.1111111111111111,\"#46039f\"],[0.2222222222222222,\"#7201a8\"],[0.3333333333333333,\"#9c179e\"],[0.4444444444444444,\"#bd3786\"],[0.5555555555555556,\"#d8576b\"],[0.6666666666666666,\"#ed7953\"],[0.7777777777777778,\"#fb9f3a\"],[0.8888888888888888,\"#fdca26\"],[1.0,\"#f0f921\"]]}],\"choropleth\":[{\"type\":\"choropleth\",\"colorbar\":{\"outlinewidth\":0,\"ticks\":\"\"}}],\"histogram2d\":[{\"type\":\"histogram2d\",\"colorbar\":{\"outlinewidth\":0,\"ticks\":\"\"},\"colorscale\":[[0.0,\"#0d0887\"],[0.1111111111111111,\"#46039f\"],[0.2222222222222222,\"#7201a8\"],[0.3333333333333333,\"#9c179e\"],[0.4444444444444444,\"#bd3786\"],[0.5555555555555556,\"#d8576b\"],[0.6666666666666666,\"#ed7953\"],[0.7777777777777778,\"#fb9f3a\"],[0.8888888888888888,\"#fdca26\"],[1.0,\"#f0f921\"]]}],\"heatmap\":[{\"type\":\"heatmap\",\"colorbar\":{\"outlinewidth\":0,\"ticks\":\"\"},\"colorscale\":[[0.0,\"#0d0887\"],[0.1111111111111111,\"#46039f\"],[0.2222222222222222,\"#7201a8\"],[0.3333333333333333,\"#9c179e\"],[0.4444444444444444,\"#bd3786\"],[0.5555555555555556,\"#d8576b\"],[0.6666666666666666,\"#ed7953\"],[0.7777777777777778,\"#fb9f3a\"],[0.8888888888888888,\"#fdca26\"],[1.0,\"#f0f921\"]]}],\"heatmapgl\":[{\"type\":\"heatmapgl\",\"colorbar\":{\"outlinewidth\":0,\"ticks\":\"\"},\"colorscale\":[[0.0,\"#0d0887\"],[0.1111111111111111,\"#46039f\"],[0.2222222222222222,\"#7201a8\"],[0.3333333333333333,\"#9c179e\"],[0.4444444444444444,\"#bd3786\"],[0.5555555555555556,\"#d8576b\"],[0.6666666666666666,\"#ed7953\"],[0.7777777777777778,\"#fb9f3a\"],[0.8888888888888888,\"#fdca26\"],[1.0,\"#f0f921\"]]}],\"contourcarpet\":[{\"type\":\"contourcarpet\",\"colorbar\":{\"outlinewidth\":0,\"ticks\":\"\"}}],\"contour\":[{\"type\":\"contour\",\"colorbar\":{\"outlinewidth\":0,\"ticks\":\"\"},\"colorscale\":[[0.0,\"#0d0887\"],[0.1111111111111111,\"#46039f\"],[0.2222222222222222,\"#7201a8\"],[0.3333333333333333,\"#9c179e\"],[0.4444444444444444,\"#bd3786\"],[0.5555555555555556,\"#d8576b\"],[0.6666666666666666,\"#ed7953\"],[0.7777777777777778,\"#fb9f3a\"],[0.8888888888888888,\"#fdca26\"],[1.0,\"#f0f921\"]]}],\"surface\":[{\"type\":\"surface\",\"colorbar\":{\"outlinewidth\":0,\"ticks\":\"\"},\"colorscale\":[[0.0,\"#0d0887\"],[0.1111111111111111,\"#46039f\"],[0.2222222222222222,\"#7201a8\"],[0.3333333333333333,\"#9c179e\"],[0.4444444444444444,\"#bd3786\"],[0.5555555555555556,\"#d8576b\"],[0.6666666666666666,\"#ed7953\"],[0.7777777777777778,\"#fb9f3a\"],[0.8888888888888888,\"#fdca26\"],[1.0,\"#f0f921\"]]}],\"mesh3d\":[{\"type\":\"mesh3d\",\"colorbar\":{\"outlinewidth\":0,\"ticks\":\"\"}}],\"scatter\":[{\"fillpattern\":{\"fillmode\":\"overlay\",\"size\":10,\"solidity\":0.2},\"type\":\"scatter\"}],\"parcoords\":[{\"type\":\"parcoords\",\"line\":{\"colorbar\":{\"outlinewidth\":0,\"ticks\":\"\"}}}],\"scatterpolargl\":[{\"type\":\"scatterpolargl\",\"marker\":{\"colorbar\":{\"outlinewidth\":0,\"ticks\":\"\"}}}],\"bar\":[{\"error_x\":{\"color\":\"#2a3f5f\"},\"error_y\":{\"color\":\"#2a3f5f\"},\"marker\":{\"line\":{\"color\":\"#E5ECF6\",\"width\":0.5},\"pattern\":{\"fillmode\":\"overlay\",\"size\":10,\"solidity\":0.2}},\"type\":\"bar\"}],\"scattergeo\":[{\"type\":\"scattergeo\",\"marker\":{\"colorbar\":{\"outlinewidth\":0,\"ticks\":\"\"}}}],\"scatterpolar\":[{\"type\":\"scatterpolar\",\"marker\":{\"colorbar\":{\"outlinewidth\":0,\"ticks\":\"\"}}}],\"histogram\":[{\"marker\":{\"pattern\":{\"fillmode\":\"overlay\",\"size\":10,\"solidity\":0.2}},\"type\":\"histogram\"}],\"scattergl\":[{\"type\":\"scattergl\",\"marker\":{\"colorbar\":{\"outlinewidth\":0,\"ticks\":\"\"}}}],\"scatter3d\":[{\"type\":\"scatter3d\",\"line\":{\"colorbar\":{\"outlinewidth\":0,\"ticks\":\"\"}},\"marker\":{\"colorbar\":{\"outlinewidth\":0,\"ticks\":\"\"}}}],\"scattermapbox\":[{\"type\":\"scattermapbox\",\"marker\":{\"colorbar\":{\"outlinewidth\":0,\"ticks\":\"\"}}}],\"scatterternary\":[{\"type\":\"scatterternary\",\"marker\":{\"colorbar\":{\"outlinewidth\":0,\"ticks\":\"\"}}}],\"scattercarpet\":[{\"type\":\"scattercarpet\",\"marker\":{\"colorbar\":{\"outlinewidth\":0,\"ticks\":\"\"}}}],\"carpet\":[{\"aaxis\":{\"endlinecolor\":\"#2a3f5f\",\"gridcolor\":\"white\",\"linecolor\":\"white\",\"minorgridcolor\":\"white\",\"startlinecolor\":\"#2a3f5f\"},\"baxis\":{\"endlinecolor\":\"#2a3f5f\",\"gridcolor\":\"white\",\"linecolor\":\"white\",\"minorgridcolor\":\"white\",\"startlinecolor\":\"#2a3f5f\"},\"type\":\"carpet\"}],\"table\":[{\"cells\":{\"fill\":{\"color\":\"#EBF0F8\"},\"line\":{\"color\":\"white\"}},\"header\":{\"fill\":{\"color\":\"#C8D4E3\"},\"line\":{\"color\":\"white\"}},\"type\":\"table\"}],\"barpolar\":[{\"marker\":{\"line\":{\"color\":\"#E5ECF6\",\"width\":0.5},\"pattern\":{\"fillmode\":\"overlay\",\"size\":10,\"solidity\":0.2}},\"type\":\"barpolar\"}],\"pie\":[{\"automargin\":true,\"type\":\"pie\"}]},\"layout\":{\"autotypenumbers\":\"strict\",\"colorway\":[\"#636efa\",\"#EF553B\",\"#00cc96\",\"#ab63fa\",\"#FFA15A\",\"#19d3f3\",\"#FF6692\",\"#B6E880\",\"#FF97FF\",\"#FECB52\"],\"font\":{\"color\":\"#2a3f5f\"},\"hovermode\":\"closest\",\"hoverlabel\":{\"align\":\"left\"},\"paper_bgcolor\":\"white\",\"plot_bgcolor\":\"#E5ECF6\",\"polar\":{\"bgcolor\":\"#E5ECF6\",\"angularaxis\":{\"gridcolor\":\"white\",\"linecolor\":\"white\",\"ticks\":\"\"},\"radialaxis\":{\"gridcolor\":\"white\",\"linecolor\":\"white\",\"ticks\":\"\"}},\"ternary\":{\"bgcolor\":\"#E5ECF6\",\"aaxis\":{\"gridcolor\":\"white\",\"linecolor\":\"white\",\"ticks\":\"\"},\"baxis\":{\"gridcolor\":\"white\",\"linecolor\":\"white\",\"ticks\":\"\"},\"caxis\":{\"gridcolor\":\"white\",\"linecolor\":\"white\",\"ticks\":\"\"}},\"coloraxis\":{\"colorbar\":{\"outlinewidth\":0,\"ticks\":\"\"}},\"colorscale\":{\"sequential\":[[0.0,\"#0d0887\"],[0.1111111111111111,\"#46039f\"],[0.2222222222222222,\"#7201a8\"],[0.3333333333333333,\"#9c179e\"],[0.4444444444444444,\"#bd3786\"],[0.5555555555555556,\"#d8576b\"],[0.6666666666666666,\"#ed7953\"],[0.7777777777777778,\"#fb9f3a\"],[0.8888888888888888,\"#fdca26\"],[1.0,\"#f0f921\"]],\"sequentialminus\":[[0.0,\"#0d0887\"],[0.1111111111111111,\"#46039f\"],[0.2222222222222222,\"#7201a8\"],[0.3333333333333333,\"#9c179e\"],[0.4444444444444444,\"#bd3786\"],[0.5555555555555556,\"#d8576b\"],[0.6666666666666666,\"#ed7953\"],[0.7777777777777778,\"#fb9f3a\"],[0.8888888888888888,\"#fdca26\"],[1.0,\"#f0f921\"]],\"diverging\":[[0,\"#8e0152\"],[0.1,\"#c51b7d\"],[0.2,\"#de77ae\"],[0.3,\"#f1b6da\"],[0.4,\"#fde0ef\"],[0.5,\"#f7f7f7\"],[0.6,\"#e6f5d0\"],[0.7,\"#b8e186\"],[0.8,\"#7fbc41\"],[0.9,\"#4d9221\"],[1,\"#276419\"]]},\"xaxis\":{\"gridcolor\":\"white\",\"linecolor\":\"white\",\"ticks\":\"\",\"title\":{\"standoff\":15},\"zerolinecolor\":\"white\",\"automargin\":true,\"zerolinewidth\":2},\"yaxis\":{\"gridcolor\":\"white\",\"linecolor\":\"white\",\"ticks\":\"\",\"title\":{\"standoff\":15},\"zerolinecolor\":\"white\",\"automargin\":true,\"zerolinewidth\":2},\"scene\":{\"xaxis\":{\"backgroundcolor\":\"#E5ECF6\",\"gridcolor\":\"white\",\"linecolor\":\"white\",\"showbackground\":true,\"ticks\":\"\",\"zerolinecolor\":\"white\",\"gridwidth\":2},\"yaxis\":{\"backgroundcolor\":\"#E5ECF6\",\"gridcolor\":\"white\",\"linecolor\":\"white\",\"showbackground\":true,\"ticks\":\"\",\"zerolinecolor\":\"white\",\"gridwidth\":2},\"zaxis\":{\"backgroundcolor\":\"#E5ECF6\",\"gridcolor\":\"white\",\"linecolor\":\"white\",\"showbackground\":true,\"ticks\":\"\",\"zerolinecolor\":\"white\",\"gridwidth\":2}},\"shapedefaults\":{\"line\":{\"color\":\"#2a3f5f\"}},\"annotationdefaults\":{\"arrowcolor\":\"#2a3f5f\",\"arrowhead\":0,\"arrowwidth\":1},\"geo\":{\"bgcolor\":\"white\",\"landcolor\":\"#E5ECF6\",\"subunitcolor\":\"white\",\"showland\":true,\"showlakes\":true,\"lakecolor\":\"white\"},\"title\":{\"x\":0.05},\"mapbox\":{\"style\":\"light\"}}},\"xaxis\":{\"anchor\":\"y\",\"domain\":[0.0,1.0],\"title\":{\"text\":\"Value Patch\"},\"range\":[-0.5,0.5]},\"yaxis\":{\"anchor\":\"x\",\"domain\":[0.0,1.0],\"title\":{\"text\":\"Output Patch\"},\"range\":[-0.5,0.5]},\"coloraxis\":{\"colorbar\":{\"title\":{\"text\":\"Layer\"}},\"colorscale\":[[0.0,\"#0d0887\"],[0.1111111111111111,\"#46039f\"],[0.2222222222222222,\"#7201a8\"],[0.3333333333333333,\"#9c179e\"],[0.4444444444444444,\"#bd3786\"],[0.5555555555555556,\"#d8576b\"],[0.6666666666666666,\"#ed7953\"],[0.7777777777777778,\"#fb9f3a\"],[0.8888888888888888,\"#fdca26\"],[1.0,\"#f0f921\"]]},\"legend\":{\"tracegroupgap\":0},\"title\":{\"text\":\"Scatter plot of output patching vs value patching\"}},                        {\"responsive\": true}                    ).then(function(){\n",
              "                            \n",
              "var gd = document.getElementById('592e64c3-3544-461e-af8f-06598daf0538');\n",
              "var x = new MutationObserver(function (mutations, observer) {{\n",
              "        var display = window.getComputedStyle(gd).display;\n",
              "        if (!display || display === 'none') {{\n",
              "            console.log([gd, 'removed!']);\n",
              "            Plotly.purge(gd);\n",
              "            observer.disconnect();\n",
              "        }}\n",
              "}});\n",
              "\n",
              "// Listen for the removal of the full notebook cells\n",
              "var notebookContainer = gd.closest('#notebook-container');\n",
              "if (notebookContainer) {{\n",
              "    x.observe(notebookContainer, {childList: true});\n",
              "}}\n",
              "\n",
              "// Listen for the clearing of the current output cell\n",
              "var outputEl = gd.closest('.output');\n",
              "if (outputEl) {{\n",
              "    x.observe(outputEl, {childList: true});\n",
              "}}\n",
              "\n",
              "                        })                };                            </script>        </div>\n",
              "</body>\n",
              "</html>"
            ]
          },
          "metadata": {},
          "output_type": "display_data"
        }
      ],
      "source": [
        "head_labels = [\n",
        "    f\"L{l}H{h}\" for l in range(model.cfg.n_layers) for h in range(model.cfg.n_heads)\n",
        "]\n",
        "scatter(\n",
        "    x=utils.to_numpy(patched_head_v_diff.flatten()),\n",
        "    y=utils.to_numpy(patched_head_z_diff.flatten()),\n",
        "    xaxis=\"Value Patch\",\n",
        "    yaxis=\"Output Patch\",\n",
        "    caxis=\"Layer\",\n",
        "    hover_name=head_labels,\n",
        "    color=einops.repeat(\n",
        "        np.arange(model.cfg.n_layers), \"layer -> (layer head)\", head=model.cfg.n_heads\n",
        "    ),\n",
        "    range_x=(-0.5, 0.5),\n",
        "    range_y=(-0.5, 0.5),\n",
        "    title=\"Scatter plot of output patching vs value patching\",\n",
        ")"
      ]
    },
    {
      "cell_type": "markdown",
      "metadata": {
        "id": "iU8uKkl5UvqG"
      },
      "source": [
        "When we patch in attention patterns, we see the opposite effect - early and late heads matter a lot, middle heads don't. (In fact, the sum of value patching and pattern patching is approx the same as output patching)"
      ]
    },
    {
      "cell_type": "code",
      "execution_count": 46,
      "metadata": {
        "id": "Evh3bpwAUvqG"
      },
      "outputs": [],
      "source": [
        "def patch_head_pattern(\n",
        "    corrupted_head_pattern: Float[torch.Tensor, \"batch head_index query_pos d_head\"],\n",
        "    hook,\n",
        "    head_index,\n",
        "    clean_cache,\n",
        "):\n",
        "    corrupted_head_pattern[:, head_index, :, :] = clean_cache[hook.name][\n",
        "        :, head_index, :, :\n",
        "    ]\n",
        "    return corrupted_head_pattern\n",
        "\n",
        "\n",
        "patched_head_attn_diff = torch.zeros(\n",
        "    model.cfg.n_layers, model.cfg.n_heads, device=device, dtype=torch.float32\n",
        ")\n",
        "for layer in range(model.cfg.n_layers):\n",
        "    for head_index in range(model.cfg.n_heads):\n",
        "        hook_fn = partial(patch_head_pattern, head_index=head_index, clean_cache=cache)\n",
        "        patched_logits = model.run_with_hooks(\n",
        "            corrupted_tokens,\n",
        "            fwd_hooks=[(utils.get_act_name(\"attn\", layer, \"attn\"), hook_fn)],\n",
        "            return_type=\"logits\",\n",
        "        )\n",
        "        patched_logit_diff = logits_to_ave_logit_diff(patched_logits, answer_tokens)\n",
        "\n",
        "        patched_head_attn_diff[layer, head_index] = normalize_patched_logit_diff(\n",
        "            patched_logit_diff\n",
        "        )"
      ]
    },
    {
      "cell_type": "code",
      "execution_count": 47,
      "metadata": {
        "colab": {
          "base_uri": "https://localhost:8080/",
          "height": 1000
        },
        "id": "rmIhzPOVUvqG",
        "outputId": "18ea102a-ddec-4b5f-f8be-61cace6dac1a"
      },
      "outputs": [
        {
          "data": {
            "text/html": [
              "<html>\n",
              "<head><meta charset=\"utf-8\" /></head>\n",
              "<body>\n",
              "    <div>            <script src=\"https://cdnjs.cloudflare.com/ajax/libs/mathjax/2.7.5/MathJax.js?config=TeX-AMS-MML_SVG\"></script><script type=\"text/javascript\">if (window.MathJax && window.MathJax.Hub && window.MathJax.Hub.Config) {window.MathJax.Hub.Config({SVG: {font: \"STIX-Web\"}});}</script>                <script type=\"text/javascript\">window.PlotlyConfig = {MathJaxConfig: 'local'};</script>\n",
              "        <script charset=\"utf-8\" src=\"https://cdn.plot.ly/plotly-2.24.1.min.js\"></script>                <div id=\"d148453a-886f-4570-bff8-5f86fe26413e\" class=\"plotly-graph-div\" style=\"height:525px; width:100%;\"></div>            <script type=\"text/javascript\">                                    window.PLOTLYENV=window.PLOTLYENV || {};                                    if (document.getElementById(\"d148453a-886f-4570-bff8-5f86fe26413e\")) {                    Plotly.newPlot(                        \"d148453a-886f-4570-bff8-5f86fe26413e\",                        [{\"coloraxis\":\"coloraxis\",\"name\":\"0\",\"z\":[[0.0006399989360943437,0.005319317802786827,0.0011588380439206958,-5.893534762435593e-05,-0.0010667431633919477,0.0050794146955013275,-0.0030822916887700558,-0.0020519301760941744,-0.001440526219084859,0.003492858959361911,-0.002567077288404107,-0.0009156794403679669],[-0.0007606217404827476,0.00016871753905434161,0.00012253584282007068,-0.00034864485496655107,1.4599587302654982e-05,0.005009470973163843,-0.0002977309050038457,-0.0014446207787841558,-0.0010996677447110415,0.00047393282875418663,5.168589632376097e-05,-0.003494839183986187],[-0.0007241059793159366,0.0017474195919930935,-0.00015582962078042328,5.739148400607519e-05,-9.72298948909156e-05,-0.0004228510370012373,-0.000791566155385226,0.00027289483114145696,0.0001019621777231805,0.000422448298195377,0.0001524398394394666,-0.0007430686964653432],[0.11458061635494232,0.00021167723753023893,-0.0009410525090061128,0.00042996625415980816,0.02004328742623329,0.002104387851431966,7.668978651054204e-05,-0.0015438980190083385,-0.0008485548896715045,-0.0005821711383759975,0.000119146061479114,-1.970105222426355e-05],[-0.0011274573625996709,0.0012382464483380318,-0.0012324065901339054,-0.0005952939973212779,-0.0007542449166066945,-0.0005842520040459931,0.004812863189727068,0.00018113557598553598,-0.0005363250966183841,0.0008571468060836196,-0.0002984021557494998,-1.2048854841850698e-05],[-0.004241297487169504,0.0029521372634917498,0.0005222289473749697,0.0009533698321320117,0.00016307907935697585,0.34350866079330444,-0.00030461116693913937,0.00010337179264752194,-0.005300522781908512,0.02486618608236313,0.01438334584236145,-0.0023290873505175114],[-0.0023893986362963915,-0.0021728884894400835,-0.0004766178026329726,0.00043332247878424823,-0.004674519412219524,0.00185804080683738,-0.0026539366226643324,0.001436431659385562,0.0003036042908206582,0.13043127954006195,8.779890049481764e-05,0.0011768945259973407],[0.0003190093848388642,0.02057061716914177,0.0003183381340932101,-0.0025122365914285183,-0.00026215490652248263,-0.00024681692593730986,0.0005526699242182076,-0.00043090598774142563,0.0002575568505562842,0.008090957067906857,-0.0030692361760884523,-0.00042399216908961535],[0.0009766285074874759,0.00039277924224734306,0.0017529238248243928,0.022595630958676338,-4.5107692130841315e-05,0.0001415320875821635,0.009585484862327576,-0.00031565316021442413,0.0015265127876773477,0.0011816268088296056,-0.01077372394502163,0.009366423822939396],[0.006314103491604328,-0.0010953047312796116,0.011661311611533165,0.0013479614863172174,-0.029186522588133812,0.003832609858363867,-0.044094011187553406,-0.005032293498516083,0.0048216562718153,0.2766474783420563,-3.1951280107023194e-05,-0.0006613445584662259],[0.09538856893777847,0.025068968534469604,0.014239229261875153,0.014753672294318676,9.91093838820234e-05,-8.984619489638135e-05,0.05082888528704643,-0.5051016211509705,0.0001471705618314445,-0.001602464122697711,0.06883125007152557,0.002326704328879714],[0.0013425914803519845,0.009630458429455757,-0.0777638778090477,-0.007728887256234884,-0.000572773686144501,-0.0029572052881121635,-0.004947515204548836,0.00045876268995925784,-0.0006335549987852573,-0.006520779803395271,-0.3204899728298187,-0.002473103115335107]],\"type\":\"heatmap\",\"xaxis\":\"x\",\"yaxis\":\"y\",\"hovertemplate\":\"Head: %{x}\\u003cbr\\u003eLayer: %{y}\\u003cbr\\u003ecolor: %{z}\\u003cextra\\u003e\\u003c\\u002fextra\\u003e\"}],                        {\"template\":{\"data\":{\"histogram2dcontour\":[{\"type\":\"histogram2dcontour\",\"colorbar\":{\"outlinewidth\":0,\"ticks\":\"\"},\"colorscale\":[[0.0,\"#0d0887\"],[0.1111111111111111,\"#46039f\"],[0.2222222222222222,\"#7201a8\"],[0.3333333333333333,\"#9c179e\"],[0.4444444444444444,\"#bd3786\"],[0.5555555555555556,\"#d8576b\"],[0.6666666666666666,\"#ed7953\"],[0.7777777777777778,\"#fb9f3a\"],[0.8888888888888888,\"#fdca26\"],[1.0,\"#f0f921\"]]}],\"choropleth\":[{\"type\":\"choropleth\",\"colorbar\":{\"outlinewidth\":0,\"ticks\":\"\"}}],\"histogram2d\":[{\"type\":\"histogram2d\",\"colorbar\":{\"outlinewidth\":0,\"ticks\":\"\"},\"colorscale\":[[0.0,\"#0d0887\"],[0.1111111111111111,\"#46039f\"],[0.2222222222222222,\"#7201a8\"],[0.3333333333333333,\"#9c179e\"],[0.4444444444444444,\"#bd3786\"],[0.5555555555555556,\"#d8576b\"],[0.6666666666666666,\"#ed7953\"],[0.7777777777777778,\"#fb9f3a\"],[0.8888888888888888,\"#fdca26\"],[1.0,\"#f0f921\"]]}],\"heatmap\":[{\"type\":\"heatmap\",\"colorbar\":{\"outlinewidth\":0,\"ticks\":\"\"},\"colorscale\":[[0.0,\"#0d0887\"],[0.1111111111111111,\"#46039f\"],[0.2222222222222222,\"#7201a8\"],[0.3333333333333333,\"#9c179e\"],[0.4444444444444444,\"#bd3786\"],[0.5555555555555556,\"#d8576b\"],[0.6666666666666666,\"#ed7953\"],[0.7777777777777778,\"#fb9f3a\"],[0.8888888888888888,\"#fdca26\"],[1.0,\"#f0f921\"]]}],\"heatmapgl\":[{\"type\":\"heatmapgl\",\"colorbar\":{\"outlinewidth\":0,\"ticks\":\"\"},\"colorscale\":[[0.0,\"#0d0887\"],[0.1111111111111111,\"#46039f\"],[0.2222222222222222,\"#7201a8\"],[0.3333333333333333,\"#9c179e\"],[0.4444444444444444,\"#bd3786\"],[0.5555555555555556,\"#d8576b\"],[0.6666666666666666,\"#ed7953\"],[0.7777777777777778,\"#fb9f3a\"],[0.8888888888888888,\"#fdca26\"],[1.0,\"#f0f921\"]]}],\"contourcarpet\":[{\"type\":\"contourcarpet\",\"colorbar\":{\"outlinewidth\":0,\"ticks\":\"\"}}],\"contour\":[{\"type\":\"contour\",\"colorbar\":{\"outlinewidth\":0,\"ticks\":\"\"},\"colorscale\":[[0.0,\"#0d0887\"],[0.1111111111111111,\"#46039f\"],[0.2222222222222222,\"#7201a8\"],[0.3333333333333333,\"#9c179e\"],[0.4444444444444444,\"#bd3786\"],[0.5555555555555556,\"#d8576b\"],[0.6666666666666666,\"#ed7953\"],[0.7777777777777778,\"#fb9f3a\"],[0.8888888888888888,\"#fdca26\"],[1.0,\"#f0f921\"]]}],\"surface\":[{\"type\":\"surface\",\"colorbar\":{\"outlinewidth\":0,\"ticks\":\"\"},\"colorscale\":[[0.0,\"#0d0887\"],[0.1111111111111111,\"#46039f\"],[0.2222222222222222,\"#7201a8\"],[0.3333333333333333,\"#9c179e\"],[0.4444444444444444,\"#bd3786\"],[0.5555555555555556,\"#d8576b\"],[0.6666666666666666,\"#ed7953\"],[0.7777777777777778,\"#fb9f3a\"],[0.8888888888888888,\"#fdca26\"],[1.0,\"#f0f921\"]]}],\"mesh3d\":[{\"type\":\"mesh3d\",\"colorbar\":{\"outlinewidth\":0,\"ticks\":\"\"}}],\"scatter\":[{\"fillpattern\":{\"fillmode\":\"overlay\",\"size\":10,\"solidity\":0.2},\"type\":\"scatter\"}],\"parcoords\":[{\"type\":\"parcoords\",\"line\":{\"colorbar\":{\"outlinewidth\":0,\"ticks\":\"\"}}}],\"scatterpolargl\":[{\"type\":\"scatterpolargl\",\"marker\":{\"colorbar\":{\"outlinewidth\":0,\"ticks\":\"\"}}}],\"bar\":[{\"error_x\":{\"color\":\"#2a3f5f\"},\"error_y\":{\"color\":\"#2a3f5f\"},\"marker\":{\"line\":{\"color\":\"#E5ECF6\",\"width\":0.5},\"pattern\":{\"fillmode\":\"overlay\",\"size\":10,\"solidity\":0.2}},\"type\":\"bar\"}],\"scattergeo\":[{\"type\":\"scattergeo\",\"marker\":{\"colorbar\":{\"outlinewidth\":0,\"ticks\":\"\"}}}],\"scatterpolar\":[{\"type\":\"scatterpolar\",\"marker\":{\"colorbar\":{\"outlinewidth\":0,\"ticks\":\"\"}}}],\"histogram\":[{\"marker\":{\"pattern\":{\"fillmode\":\"overlay\",\"size\":10,\"solidity\":0.2}},\"type\":\"histogram\"}],\"scattergl\":[{\"type\":\"scattergl\",\"marker\":{\"colorbar\":{\"outlinewidth\":0,\"ticks\":\"\"}}}],\"scatter3d\":[{\"type\":\"scatter3d\",\"line\":{\"colorbar\":{\"outlinewidth\":0,\"ticks\":\"\"}},\"marker\":{\"colorbar\":{\"outlinewidth\":0,\"ticks\":\"\"}}}],\"scattermapbox\":[{\"type\":\"scattermapbox\",\"marker\":{\"colorbar\":{\"outlinewidth\":0,\"ticks\":\"\"}}}],\"scatterternary\":[{\"type\":\"scatterternary\",\"marker\":{\"colorbar\":{\"outlinewidth\":0,\"ticks\":\"\"}}}],\"scattercarpet\":[{\"type\":\"scattercarpet\",\"marker\":{\"colorbar\":{\"outlinewidth\":0,\"ticks\":\"\"}}}],\"carpet\":[{\"aaxis\":{\"endlinecolor\":\"#2a3f5f\",\"gridcolor\":\"white\",\"linecolor\":\"white\",\"minorgridcolor\":\"white\",\"startlinecolor\":\"#2a3f5f\"},\"baxis\":{\"endlinecolor\":\"#2a3f5f\",\"gridcolor\":\"white\",\"linecolor\":\"white\",\"minorgridcolor\":\"white\",\"startlinecolor\":\"#2a3f5f\"},\"type\":\"carpet\"}],\"table\":[{\"cells\":{\"fill\":{\"color\":\"#EBF0F8\"},\"line\":{\"color\":\"white\"}},\"header\":{\"fill\":{\"color\":\"#C8D4E3\"},\"line\":{\"color\":\"white\"}},\"type\":\"table\"}],\"barpolar\":[{\"marker\":{\"line\":{\"color\":\"#E5ECF6\",\"width\":0.5},\"pattern\":{\"fillmode\":\"overlay\",\"size\":10,\"solidity\":0.2}},\"type\":\"barpolar\"}],\"pie\":[{\"automargin\":true,\"type\":\"pie\"}]},\"layout\":{\"autotypenumbers\":\"strict\",\"colorway\":[\"#636efa\",\"#EF553B\",\"#00cc96\",\"#ab63fa\",\"#FFA15A\",\"#19d3f3\",\"#FF6692\",\"#B6E880\",\"#FF97FF\",\"#FECB52\"],\"font\":{\"color\":\"#2a3f5f\"},\"hovermode\":\"closest\",\"hoverlabel\":{\"align\":\"left\"},\"paper_bgcolor\":\"white\",\"plot_bgcolor\":\"#E5ECF6\",\"polar\":{\"bgcolor\":\"#E5ECF6\",\"angularaxis\":{\"gridcolor\":\"white\",\"linecolor\":\"white\",\"ticks\":\"\"},\"radialaxis\":{\"gridcolor\":\"white\",\"linecolor\":\"white\",\"ticks\":\"\"}},\"ternary\":{\"bgcolor\":\"#E5ECF6\",\"aaxis\":{\"gridcolor\":\"white\",\"linecolor\":\"white\",\"ticks\":\"\"},\"baxis\":{\"gridcolor\":\"white\",\"linecolor\":\"white\",\"ticks\":\"\"},\"caxis\":{\"gridcolor\":\"white\",\"linecolor\":\"white\",\"ticks\":\"\"}},\"coloraxis\":{\"colorbar\":{\"outlinewidth\":0,\"ticks\":\"\"}},\"colorscale\":{\"sequential\":[[0.0,\"#0d0887\"],[0.1111111111111111,\"#46039f\"],[0.2222222222222222,\"#7201a8\"],[0.3333333333333333,\"#9c179e\"],[0.4444444444444444,\"#bd3786\"],[0.5555555555555556,\"#d8576b\"],[0.6666666666666666,\"#ed7953\"],[0.7777777777777778,\"#fb9f3a\"],[0.8888888888888888,\"#fdca26\"],[1.0,\"#f0f921\"]],\"sequentialminus\":[[0.0,\"#0d0887\"],[0.1111111111111111,\"#46039f\"],[0.2222222222222222,\"#7201a8\"],[0.3333333333333333,\"#9c179e\"],[0.4444444444444444,\"#bd3786\"],[0.5555555555555556,\"#d8576b\"],[0.6666666666666666,\"#ed7953\"],[0.7777777777777778,\"#fb9f3a\"],[0.8888888888888888,\"#fdca26\"],[1.0,\"#f0f921\"]],\"diverging\":[[0,\"#8e0152\"],[0.1,\"#c51b7d\"],[0.2,\"#de77ae\"],[0.3,\"#f1b6da\"],[0.4,\"#fde0ef\"],[0.5,\"#f7f7f7\"],[0.6,\"#e6f5d0\"],[0.7,\"#b8e186\"],[0.8,\"#7fbc41\"],[0.9,\"#4d9221\"],[1,\"#276419\"]]},\"xaxis\":{\"gridcolor\":\"white\",\"linecolor\":\"white\",\"ticks\":\"\",\"title\":{\"standoff\":15},\"zerolinecolor\":\"white\",\"automargin\":true,\"zerolinewidth\":2},\"yaxis\":{\"gridcolor\":\"white\",\"linecolor\":\"white\",\"ticks\":\"\",\"title\":{\"standoff\":15},\"zerolinecolor\":\"white\",\"automargin\":true,\"zerolinewidth\":2},\"scene\":{\"xaxis\":{\"backgroundcolor\":\"#E5ECF6\",\"gridcolor\":\"white\",\"linecolor\":\"white\",\"showbackground\":true,\"ticks\":\"\",\"zerolinecolor\":\"white\",\"gridwidth\":2},\"yaxis\":{\"backgroundcolor\":\"#E5ECF6\",\"gridcolor\":\"white\",\"linecolor\":\"white\",\"showbackground\":true,\"ticks\":\"\",\"zerolinecolor\":\"white\",\"gridwidth\":2},\"zaxis\":{\"backgroundcolor\":\"#E5ECF6\",\"gridcolor\":\"white\",\"linecolor\":\"white\",\"showbackground\":true,\"ticks\":\"\",\"zerolinecolor\":\"white\",\"gridwidth\":2}},\"shapedefaults\":{\"line\":{\"color\":\"#2a3f5f\"}},\"annotationdefaults\":{\"arrowcolor\":\"#2a3f5f\",\"arrowhead\":0,\"arrowwidth\":1},\"geo\":{\"bgcolor\":\"white\",\"landcolor\":\"#E5ECF6\",\"subunitcolor\":\"white\",\"showland\":true,\"showlakes\":true,\"lakecolor\":\"white\"},\"title\":{\"x\":0.05},\"mapbox\":{\"style\":\"light\"}}},\"xaxis\":{\"anchor\":\"y\",\"domain\":[0.0,1.0],\"scaleanchor\":\"y\",\"constrain\":\"domain\",\"title\":{\"text\":\"Head\"}},\"yaxis\":{\"anchor\":\"x\",\"domain\":[0.0,1.0],\"autorange\":\"reversed\",\"constrain\":\"domain\",\"title\":{\"text\":\"Layer\"}},\"coloraxis\":{\"colorscale\":[[0.0,\"rgb(103,0,31)\"],[0.1,\"rgb(178,24,43)\"],[0.2,\"rgb(214,96,77)\"],[0.3,\"rgb(244,165,130)\"],[0.4,\"rgb(253,219,199)\"],[0.5,\"rgb(247,247,247)\"],[0.6,\"rgb(209,229,240)\"],[0.7,\"rgb(146,197,222)\"],[0.8,\"rgb(67,147,195)\"],[0.9,\"rgb(33,102,172)\"],[1.0,\"rgb(5,48,97)\"]],\"cmid\":0.0},\"title\":{\"text\":\"Logit Difference From Patched Head Pattern\"}},                        {\"responsive\": true}                    ).then(function(){\n",
              "                            \n",
              "var gd = document.getElementById('d148453a-886f-4570-bff8-5f86fe26413e');\n",
              "var x = new MutationObserver(function (mutations, observer) {{\n",
              "        var display = window.getComputedStyle(gd).display;\n",
              "        if (!display || display === 'none') {{\n",
              "            console.log([gd, 'removed!']);\n",
              "            Plotly.purge(gd);\n",
              "            observer.disconnect();\n",
              "        }}\n",
              "}});\n",
              "\n",
              "// Listen for the removal of the full notebook cells\n",
              "var notebookContainer = gd.closest('#notebook-container');\n",
              "if (notebookContainer) {{\n",
              "    x.observe(notebookContainer, {childList: true});\n",
              "}}\n",
              "\n",
              "// Listen for the clearing of the current output cell\n",
              "var outputEl = gd.closest('.output');\n",
              "if (outputEl) {{\n",
              "    x.observe(outputEl, {childList: true});\n",
              "}}\n",
              "\n",
              "                        })                };                            </script>        </div>\n",
              "</body>\n",
              "</html>"
            ]
          },
          "metadata": {},
          "output_type": "display_data"
        },
        {
          "data": {
            "text/html": [
              "<html>\n",
              "<head><meta charset=\"utf-8\" /></head>\n",
              "<body>\n",
              "    <div>            <script src=\"https://cdnjs.cloudflare.com/ajax/libs/mathjax/2.7.5/MathJax.js?config=TeX-AMS-MML_SVG\"></script><script type=\"text/javascript\">if (window.MathJax && window.MathJax.Hub && window.MathJax.Hub.Config) {window.MathJax.Hub.Config({SVG: {font: \"STIX-Web\"}});}</script>                <script type=\"text/javascript\">window.PlotlyConfig = {MathJaxConfig: 'local'};</script>\n",
              "        <script charset=\"utf-8\" src=\"https://cdn.plot.ly/plotly-2.24.1.min.js\"></script>                <div id=\"44b381c5-0439-4571-baa2-7509bd1c8c1b\" class=\"plotly-graph-div\" style=\"height:525px; width:100%;\"></div>            <script type=\"text/javascript\">                                    window.PLOTLYENV=window.PLOTLYENV || {};                                    if (document.getElementById(\"44b381c5-0439-4571-baa2-7509bd1c8c1b\")) {                    Plotly.newPlot(                        \"44b381c5-0439-4571-baa2-7509bd1c8c1b\",                        [{\"hovertemplate\":\"\\u003cb\\u003e%{hovertext}\\u003c\\u002fb\\u003e\\u003cbr\\u003e\\u003cbr\\u003eAttention Patch=%{x}\\u003cbr\\u003eOutput Patch=%{y}\\u003cextra\\u003e\\u003c\\u002fextra\\u003e\",\"hovertext\":[\"L0H0\",\"L0H1\",\"L0H2\",\"L0H3\",\"L0H4\",\"L0H5\",\"L0H6\",\"L0H7\",\"L0H8\",\"L0H9\",\"L0H10\",\"L0H11\",\"L1H0\",\"L1H1\",\"L1H2\",\"L1H3\",\"L1H4\",\"L1H5\",\"L1H6\",\"L1H7\",\"L1H8\",\"L1H9\",\"L1H10\",\"L1H11\",\"L2H0\",\"L2H1\",\"L2H2\",\"L2H3\",\"L2H4\",\"L2H5\",\"L2H6\",\"L2H7\",\"L2H8\",\"L2H9\",\"L2H10\",\"L2H11\",\"L3H0\",\"L3H1\",\"L3H2\",\"L3H3\",\"L3H4\",\"L3H5\",\"L3H6\",\"L3H7\",\"L3H8\",\"L3H9\",\"L3H10\",\"L3H11\",\"L4H0\",\"L4H1\",\"L4H2\",\"L4H3\",\"L4H4\",\"L4H5\",\"L4H6\",\"L4H7\",\"L4H8\",\"L4H9\",\"L4H10\",\"L4H11\",\"L5H0\",\"L5H1\",\"L5H2\",\"L5H3\",\"L5H4\",\"L5H5\",\"L5H6\",\"L5H7\",\"L5H8\",\"L5H9\",\"L5H10\",\"L5H11\",\"L6H0\",\"L6H1\",\"L6H2\",\"L6H3\",\"L6H4\",\"L6H5\",\"L6H6\",\"L6H7\",\"L6H8\",\"L6H9\",\"L6H10\",\"L6H11\",\"L7H0\",\"L7H1\",\"L7H2\",\"L7H3\",\"L7H4\",\"L7H5\",\"L7H6\",\"L7H7\",\"L7H8\",\"L7H9\",\"L7H10\",\"L7H11\",\"L8H0\",\"L8H1\",\"L8H2\",\"L8H3\",\"L8H4\",\"L8H5\",\"L8H6\",\"L8H7\",\"L8H8\",\"L8H9\",\"L8H10\",\"L8H11\",\"L9H0\",\"L9H1\",\"L9H2\",\"L9H3\",\"L9H4\",\"L9H5\",\"L9H6\",\"L9H7\",\"L9H8\",\"L9H9\",\"L9H10\",\"L9H11\",\"L10H0\",\"L10H1\",\"L10H2\",\"L10H3\",\"L10H4\",\"L10H5\",\"L10H6\",\"L10H7\",\"L10H8\",\"L10H9\",\"L10H10\",\"L10H11\",\"L11H0\",\"L11H1\",\"L11H2\",\"L11H3\",\"L11H4\",\"L11H5\",\"L11H6\",\"L11H7\",\"L11H8\",\"L11H9\",\"L11H10\",\"L11H11\"],\"legendgroup\":\"\",\"marker\":{\"color\":\"#636efa\",\"symbol\":\"circle\"},\"mode\":\"markers\",\"name\":\"\",\"orientation\":\"v\",\"showlegend\":false,\"x\":[0.0006399989360943437,0.005319317802786827,0.0011588380439206958,-5.893534762435593e-05,-0.0010667431633919477,0.0050794146955013275,-0.0030822916887700558,-0.0020519301760941744,-0.001440526219084859,0.003492858959361911,-0.002567077288404107,-0.0009156794403679669,-0.0007606217404827476,0.00016871753905434161,0.00012253584282007068,-0.00034864485496655107,1.4599587302654982e-05,0.005009470973163843,-0.0002977309050038457,-0.0014446207787841558,-0.0010996677447110415,0.00047393282875418663,5.168589632376097e-05,-0.003494839183986187,-0.0007241059793159366,0.0017474195919930935,-0.00015582962078042328,5.739148400607519e-05,-9.72298948909156e-05,-0.0004228510370012373,-0.000791566155385226,0.00027289483114145696,0.0001019621777231805,0.000422448298195377,0.0001524398394394666,-0.0007430686964653432,0.11458061635494232,0.00021167723753023893,-0.0009410525090061128,0.00042996625415980816,0.02004328742623329,0.002104387851431966,7.668978651054204e-05,-0.0015438980190083385,-0.0008485548896715045,-0.0005821711383759975,0.000119146061479114,-1.970105222426355e-05,-0.0011274573625996709,0.0012382464483380318,-0.0012324065901339054,-0.0005952939973212779,-0.0007542449166066945,-0.0005842520040459931,0.004812863189727068,0.00018113557598553598,-0.0005363250966183841,0.0008571468060836196,-0.0002984021557494998,-1.2048854841850698e-05,-0.004241297487169504,0.0029521372634917498,0.0005222289473749697,0.0009533698321320117,0.00016307907935697585,0.34350866079330444,-0.00030461116693913937,0.00010337179264752194,-0.005300522781908512,0.02486618608236313,0.01438334584236145,-0.0023290873505175114,-0.0023893986362963915,-0.0021728884894400835,-0.0004766178026329726,0.00043332247878424823,-0.004674519412219524,0.00185804080683738,-0.0026539366226643324,0.001436431659385562,0.0003036042908206582,0.13043127954006195,8.779890049481764e-05,0.0011768945259973407,0.0003190093848388642,0.02057061716914177,0.0003183381340932101,-0.0025122365914285183,-0.00026215490652248263,-0.00024681692593730986,0.0005526699242182076,-0.00043090598774142563,0.0002575568505562842,0.008090957067906857,-0.0030692361760884523,-0.00042399216908961535,0.0009766285074874759,0.00039277924224734306,0.0017529238248243928,0.022595630958676338,-4.5107692130841315e-05,0.0001415320875821635,0.009585484862327576,-0.00031565316021442413,0.0015265127876773477,0.0011816268088296056,-0.01077372394502163,0.009366423822939396,0.006314103491604328,-0.0010953047312796116,0.011661311611533165,0.0013479614863172174,-0.029186522588133812,0.003832609858363867,-0.044094011187553406,-0.005032293498516083,0.0048216562718153,0.2766474783420563,-3.1951280107023194e-05,-0.0006613445584662259,0.09538856893777847,0.025068968534469604,0.014239229261875153,0.014753672294318676,9.91093838820234e-05,-8.984619489638135e-05,0.05082888528704643,-0.5051016211509705,0.0001471705618314445,-0.001602464122697711,0.06883125007152557,0.002326704328879714,0.0013425914803519845,0.009630458429455757,-0.0777638778090477,-0.007728887256234884,-0.000572773686144501,-0.0029572052881121635,-0.004947515204548836,0.00045876268995925784,-0.0006335549987852573,-0.006520779803395271,-0.3204899728298187,-0.002473103115335107],\"xaxis\":\"x\",\"y\":[0.0009497787104919553,0.016124622896313667,0.0018547853687778115,0.0034388238564133644,-0.009822837077081203,0.011059674434363842,-0.004064290318638086,-0.0015788028249517083,-0.0012078725267201662,0.0038294214755296707,-0.004257676191627979,-0.0011425939155742526,-0.0010771475499495864,-0.00037807898479513824,2.3829211386328097e-06,-0.0002608124050311744,-0.0001409279793733731,0.003832710674032569,-0.000428153871325776,-0.0014292157720774412,-0.0009220226784236729,0.0006934300763532519,0.0004342957690823823,-0.0035708576906472445,-0.0004967551794834435,0.0008061321568675339,0.0005431717727333307,-0.0005318948533385992,-0.0007155140629038215,-0.0010378460865467787,-0.0009488725336268544,-8.65235342644155e-05,0.0002765195386018604,0.002107677049934864,-0.00019670846813824028,-0.0016399197047576308,0.11626215279102325,0.00025054236175492406,-0.0014673760160803795,-0.00039747796836309135,0.018962381407618523,-0.00018801583792082965,0.011170497164130211,-0.0013307775370776653,-0.0007355842972174287,-0.0003030337393283844,-0.00014549244951922446,-0.00022308841289486736,-0.0016506260726600885,0.0002929650654550642,-0.0014360288623720407,0.030841780826449394,-0.007432532496750355,-0.00028266143635846674,0.0060167755000293255,-0.011006411164999008,-0.0012666401453316212,0.0014901312533766031,-0.00018016227113548666,0.002944317413493991,-0.004211427178233862,0.002960158744826913,0.002045116852968931,0.0013402757467702031,-0.001218612538650632,0.34349915385246277,0.0005628057406283915,-0.00012518727453425527,-0.005152714904397726,0.01624041423201561,0.017090344801545143,-0.004174575675278902,0.03977541998028755,0.015226698480546474,-0.0010230786865577102,0.0008084479486569762,-0.004935029894113541,-0.0021233169827610254,-0.01427383255213499,0.0013752476079389453,0.0014832174638286233,0.13027118146419525,-0.0003358912072144449,0.0012927179923281074,0.0003719035303220153,0.019514748826622963,0.0002229877281934023,0.12424936890602112,-0.00040466029895469546,-0.0076521639712154865,0.0013011085102334619,-0.0011253764387220144,-0.007449783850461245,0.19224116206169128,-0.0032746372744441032,-0.0005018566153012216,-0.001008479157462716,3.07430382235907e-05,-0.0008585900068283081,0.012359540909528732,-0.0004044589295517653,-0.004329499322921038,0.3185547888278961,0.00232918793335557,0.0021180142648518085,0.00014106222079135478,0.27793610095977783,0.005738711915910244,0.005889541003853083,-0.0009693790343590081,0.009125917218625546,0.020675331354141235,-0.03700451925396919,0.014263595454394817,-0.04828419163823128,0.05834156274795532,0.0006514100823551416,0.2636086642742157,0.0004919221973977983,-0.0026108426973223686,0.08374226093292236,0.020676137879490852,-0.0037436699494719505,0.010851152241230011,-0.0010965128894895315,0.00047413419815711677,0.04818001389503479,-0.4799131751060486,0.00018378699314780533,0.011861879378557205,0.060885414481163025,0.0008458698866888881,0.005327708553522825,-0.011493567377328873,-0.1135089099407196,0.006329407915472984,0.0003159887855872512,-0.0011602140730246902,-0.022669736295938492,0.004069861490279436,0.0073160044848918915,-0.008345258422195911,-0.2781760096549988,0.003634558990597725],\"yaxis\":\"y\",\"type\":\"scatter\"}],                        {\"template\":{\"data\":{\"histogram2dcontour\":[{\"type\":\"histogram2dcontour\",\"colorbar\":{\"outlinewidth\":0,\"ticks\":\"\"},\"colorscale\":[[0.0,\"#0d0887\"],[0.1111111111111111,\"#46039f\"],[0.2222222222222222,\"#7201a8\"],[0.3333333333333333,\"#9c179e\"],[0.4444444444444444,\"#bd3786\"],[0.5555555555555556,\"#d8576b\"],[0.6666666666666666,\"#ed7953\"],[0.7777777777777778,\"#fb9f3a\"],[0.8888888888888888,\"#fdca26\"],[1.0,\"#f0f921\"]]}],\"choropleth\":[{\"type\":\"choropleth\",\"colorbar\":{\"outlinewidth\":0,\"ticks\":\"\"}}],\"histogram2d\":[{\"type\":\"histogram2d\",\"colorbar\":{\"outlinewidth\":0,\"ticks\":\"\"},\"colorscale\":[[0.0,\"#0d0887\"],[0.1111111111111111,\"#46039f\"],[0.2222222222222222,\"#7201a8\"],[0.3333333333333333,\"#9c179e\"],[0.4444444444444444,\"#bd3786\"],[0.5555555555555556,\"#d8576b\"],[0.6666666666666666,\"#ed7953\"],[0.7777777777777778,\"#fb9f3a\"],[0.8888888888888888,\"#fdca26\"],[1.0,\"#f0f921\"]]}],\"heatmap\":[{\"type\":\"heatmap\",\"colorbar\":{\"outlinewidth\":0,\"ticks\":\"\"},\"colorscale\":[[0.0,\"#0d0887\"],[0.1111111111111111,\"#46039f\"],[0.2222222222222222,\"#7201a8\"],[0.3333333333333333,\"#9c179e\"],[0.4444444444444444,\"#bd3786\"],[0.5555555555555556,\"#d8576b\"],[0.6666666666666666,\"#ed7953\"],[0.7777777777777778,\"#fb9f3a\"],[0.8888888888888888,\"#fdca26\"],[1.0,\"#f0f921\"]]}],\"heatmapgl\":[{\"type\":\"heatmapgl\",\"colorbar\":{\"outlinewidth\":0,\"ticks\":\"\"},\"colorscale\":[[0.0,\"#0d0887\"],[0.1111111111111111,\"#46039f\"],[0.2222222222222222,\"#7201a8\"],[0.3333333333333333,\"#9c179e\"],[0.4444444444444444,\"#bd3786\"],[0.5555555555555556,\"#d8576b\"],[0.6666666666666666,\"#ed7953\"],[0.7777777777777778,\"#fb9f3a\"],[0.8888888888888888,\"#fdca26\"],[1.0,\"#f0f921\"]]}],\"contourcarpet\":[{\"type\":\"contourcarpet\",\"colorbar\":{\"outlinewidth\":0,\"ticks\":\"\"}}],\"contour\":[{\"type\":\"contour\",\"colorbar\":{\"outlinewidth\":0,\"ticks\":\"\"},\"colorscale\":[[0.0,\"#0d0887\"],[0.1111111111111111,\"#46039f\"],[0.2222222222222222,\"#7201a8\"],[0.3333333333333333,\"#9c179e\"],[0.4444444444444444,\"#bd3786\"],[0.5555555555555556,\"#d8576b\"],[0.6666666666666666,\"#ed7953\"],[0.7777777777777778,\"#fb9f3a\"],[0.8888888888888888,\"#fdca26\"],[1.0,\"#f0f921\"]]}],\"surface\":[{\"type\":\"surface\",\"colorbar\":{\"outlinewidth\":0,\"ticks\":\"\"},\"colorscale\":[[0.0,\"#0d0887\"],[0.1111111111111111,\"#46039f\"],[0.2222222222222222,\"#7201a8\"],[0.3333333333333333,\"#9c179e\"],[0.4444444444444444,\"#bd3786\"],[0.5555555555555556,\"#d8576b\"],[0.6666666666666666,\"#ed7953\"],[0.7777777777777778,\"#fb9f3a\"],[0.8888888888888888,\"#fdca26\"],[1.0,\"#f0f921\"]]}],\"mesh3d\":[{\"type\":\"mesh3d\",\"colorbar\":{\"outlinewidth\":0,\"ticks\":\"\"}}],\"scatter\":[{\"fillpattern\":{\"fillmode\":\"overlay\",\"size\":10,\"solidity\":0.2},\"type\":\"scatter\"}],\"parcoords\":[{\"type\":\"parcoords\",\"line\":{\"colorbar\":{\"outlinewidth\":0,\"ticks\":\"\"}}}],\"scatterpolargl\":[{\"type\":\"scatterpolargl\",\"marker\":{\"colorbar\":{\"outlinewidth\":0,\"ticks\":\"\"}}}],\"bar\":[{\"error_x\":{\"color\":\"#2a3f5f\"},\"error_y\":{\"color\":\"#2a3f5f\"},\"marker\":{\"line\":{\"color\":\"#E5ECF6\",\"width\":0.5},\"pattern\":{\"fillmode\":\"overlay\",\"size\":10,\"solidity\":0.2}},\"type\":\"bar\"}],\"scattergeo\":[{\"type\":\"scattergeo\",\"marker\":{\"colorbar\":{\"outlinewidth\":0,\"ticks\":\"\"}}}],\"scatterpolar\":[{\"type\":\"scatterpolar\",\"marker\":{\"colorbar\":{\"outlinewidth\":0,\"ticks\":\"\"}}}],\"histogram\":[{\"marker\":{\"pattern\":{\"fillmode\":\"overlay\",\"size\":10,\"solidity\":0.2}},\"type\":\"histogram\"}],\"scattergl\":[{\"type\":\"scattergl\",\"marker\":{\"colorbar\":{\"outlinewidth\":0,\"ticks\":\"\"}}}],\"scatter3d\":[{\"type\":\"scatter3d\",\"line\":{\"colorbar\":{\"outlinewidth\":0,\"ticks\":\"\"}},\"marker\":{\"colorbar\":{\"outlinewidth\":0,\"ticks\":\"\"}}}],\"scattermapbox\":[{\"type\":\"scattermapbox\",\"marker\":{\"colorbar\":{\"outlinewidth\":0,\"ticks\":\"\"}}}],\"scatterternary\":[{\"type\":\"scatterternary\",\"marker\":{\"colorbar\":{\"outlinewidth\":0,\"ticks\":\"\"}}}],\"scattercarpet\":[{\"type\":\"scattercarpet\",\"marker\":{\"colorbar\":{\"outlinewidth\":0,\"ticks\":\"\"}}}],\"carpet\":[{\"aaxis\":{\"endlinecolor\":\"#2a3f5f\",\"gridcolor\":\"white\",\"linecolor\":\"white\",\"minorgridcolor\":\"white\",\"startlinecolor\":\"#2a3f5f\"},\"baxis\":{\"endlinecolor\":\"#2a3f5f\",\"gridcolor\":\"white\",\"linecolor\":\"white\",\"minorgridcolor\":\"white\",\"startlinecolor\":\"#2a3f5f\"},\"type\":\"carpet\"}],\"table\":[{\"cells\":{\"fill\":{\"color\":\"#EBF0F8\"},\"line\":{\"color\":\"white\"}},\"header\":{\"fill\":{\"color\":\"#C8D4E3\"},\"line\":{\"color\":\"white\"}},\"type\":\"table\"}],\"barpolar\":[{\"marker\":{\"line\":{\"color\":\"#E5ECF6\",\"width\":0.5},\"pattern\":{\"fillmode\":\"overlay\",\"size\":10,\"solidity\":0.2}},\"type\":\"barpolar\"}],\"pie\":[{\"automargin\":true,\"type\":\"pie\"}]},\"layout\":{\"autotypenumbers\":\"strict\",\"colorway\":[\"#636efa\",\"#EF553B\",\"#00cc96\",\"#ab63fa\",\"#FFA15A\",\"#19d3f3\",\"#FF6692\",\"#B6E880\",\"#FF97FF\",\"#FECB52\"],\"font\":{\"color\":\"#2a3f5f\"},\"hovermode\":\"closest\",\"hoverlabel\":{\"align\":\"left\"},\"paper_bgcolor\":\"white\",\"plot_bgcolor\":\"#E5ECF6\",\"polar\":{\"bgcolor\":\"#E5ECF6\",\"angularaxis\":{\"gridcolor\":\"white\",\"linecolor\":\"white\",\"ticks\":\"\"},\"radialaxis\":{\"gridcolor\":\"white\",\"linecolor\":\"white\",\"ticks\":\"\"}},\"ternary\":{\"bgcolor\":\"#E5ECF6\",\"aaxis\":{\"gridcolor\":\"white\",\"linecolor\":\"white\",\"ticks\":\"\"},\"baxis\":{\"gridcolor\":\"white\",\"linecolor\":\"white\",\"ticks\":\"\"},\"caxis\":{\"gridcolor\":\"white\",\"linecolor\":\"white\",\"ticks\":\"\"}},\"coloraxis\":{\"colorbar\":{\"outlinewidth\":0,\"ticks\":\"\"}},\"colorscale\":{\"sequential\":[[0.0,\"#0d0887\"],[0.1111111111111111,\"#46039f\"],[0.2222222222222222,\"#7201a8\"],[0.3333333333333333,\"#9c179e\"],[0.4444444444444444,\"#bd3786\"],[0.5555555555555556,\"#d8576b\"],[0.6666666666666666,\"#ed7953\"],[0.7777777777777778,\"#fb9f3a\"],[0.8888888888888888,\"#fdca26\"],[1.0,\"#f0f921\"]],\"sequentialminus\":[[0.0,\"#0d0887\"],[0.1111111111111111,\"#46039f\"],[0.2222222222222222,\"#7201a8\"],[0.3333333333333333,\"#9c179e\"],[0.4444444444444444,\"#bd3786\"],[0.5555555555555556,\"#d8576b\"],[0.6666666666666666,\"#ed7953\"],[0.7777777777777778,\"#fb9f3a\"],[0.8888888888888888,\"#fdca26\"],[1.0,\"#f0f921\"]],\"diverging\":[[0,\"#8e0152\"],[0.1,\"#c51b7d\"],[0.2,\"#de77ae\"],[0.3,\"#f1b6da\"],[0.4,\"#fde0ef\"],[0.5,\"#f7f7f7\"],[0.6,\"#e6f5d0\"],[0.7,\"#b8e186\"],[0.8,\"#7fbc41\"],[0.9,\"#4d9221\"],[1,\"#276419\"]]},\"xaxis\":{\"gridcolor\":\"white\",\"linecolor\":\"white\",\"ticks\":\"\",\"title\":{\"standoff\":15},\"zerolinecolor\":\"white\",\"automargin\":true,\"zerolinewidth\":2},\"yaxis\":{\"gridcolor\":\"white\",\"linecolor\":\"white\",\"ticks\":\"\",\"title\":{\"standoff\":15},\"zerolinecolor\":\"white\",\"automargin\":true,\"zerolinewidth\":2},\"scene\":{\"xaxis\":{\"backgroundcolor\":\"#E5ECF6\",\"gridcolor\":\"white\",\"linecolor\":\"white\",\"showbackground\":true,\"ticks\":\"\",\"zerolinecolor\":\"white\",\"gridwidth\":2},\"yaxis\":{\"backgroundcolor\":\"#E5ECF6\",\"gridcolor\":\"white\",\"linecolor\":\"white\",\"showbackground\":true,\"ticks\":\"\",\"zerolinecolor\":\"white\",\"gridwidth\":2},\"zaxis\":{\"backgroundcolor\":\"#E5ECF6\",\"gridcolor\":\"white\",\"linecolor\":\"white\",\"showbackground\":true,\"ticks\":\"\",\"zerolinecolor\":\"white\",\"gridwidth\":2}},\"shapedefaults\":{\"line\":{\"color\":\"#2a3f5f\"}},\"annotationdefaults\":{\"arrowcolor\":\"#2a3f5f\",\"arrowhead\":0,\"arrowwidth\":1},\"geo\":{\"bgcolor\":\"white\",\"landcolor\":\"#E5ECF6\",\"subunitcolor\":\"white\",\"showland\":true,\"showlakes\":true,\"lakecolor\":\"white\"},\"title\":{\"x\":0.05},\"mapbox\":{\"style\":\"light\"}}},\"xaxis\":{\"anchor\":\"y\",\"domain\":[0.0,1.0],\"title\":{\"text\":\"Attention Patch\"}},\"yaxis\":{\"anchor\":\"x\",\"domain\":[0.0,1.0],\"title\":{\"text\":\"Output Patch\"}},\"legend\":{\"tracegroupgap\":0},\"title\":{\"text\":\"Scatter plot of output patching vs attention patching\"}},                        {\"responsive\": true}                    ).then(function(){\n",
              "                            \n",
              "var gd = document.getElementById('44b381c5-0439-4571-baa2-7509bd1c8c1b');\n",
              "var x = new MutationObserver(function (mutations, observer) {{\n",
              "        var display = window.getComputedStyle(gd).display;\n",
              "        if (!display || display === 'none') {{\n",
              "            console.log([gd, 'removed!']);\n",
              "            Plotly.purge(gd);\n",
              "            observer.disconnect();\n",
              "        }}\n",
              "}});\n",
              "\n",
              "// Listen for the removal of the full notebook cells\n",
              "var notebookContainer = gd.closest('#notebook-container');\n",
              "if (notebookContainer) {{\n",
              "    x.observe(notebookContainer, {childList: true});\n",
              "}}\n",
              "\n",
              "// Listen for the clearing of the current output cell\n",
              "var outputEl = gd.closest('.output');\n",
              "if (outputEl) {{\n",
              "    x.observe(outputEl, {childList: true});\n",
              "}}\n",
              "\n",
              "                        })                };                            </script>        </div>\n",
              "</body>\n",
              "</html>"
            ]
          },
          "metadata": {},
          "output_type": "display_data"
        }
      ],
      "source": [
        "imshow(\n",
        "    patched_head_attn_diff,\n",
        "    title=\"Logit Difference From Patched Head Pattern\",\n",
        "    labels={\"x\": \"Head\", \"y\": \"Layer\"},\n",
        ")\n",
        "head_labels = [\n",
        "    f\"L{l}H{h}\" for l in range(model.cfg.n_layers) for h in range(model.cfg.n_heads)\n",
        "]\n",
        "scatter(\n",
        "    x=utils.to_numpy(patched_head_attn_diff.flatten()),\n",
        "    y=utils.to_numpy(patched_head_z_diff.flatten()),\n",
        "    hover_name=head_labels,\n",
        "    xaxis=\"Attention Patch\",\n",
        "    yaxis=\"Output Patch\",\n",
        "    title=\"Scatter plot of output patching vs attention patching\",\n",
        ")"
      ]
    },
    {
      "cell_type": "markdown",
      "metadata": {
        "id": "Rdta86K2UvqG"
      },
      "source": [
        "## Consolidating Understanding\n",
        "\n",
        "OK, let's zoom out and reconsolidate. At a high-level, we find that all the action is on the second subject token until layer 7 and then transitions to the final token. And that attention layers matter a lot, MLP layers not so much (apart from MLP0, likely as an extended embedding).\n",
        "\n",
        "We've further localised important behaviour to several categories of heads. We've found 3 categories of heads that matter a lot - early heads (L5H5, L6H9, L3H0) whose output matters on the second subject and whose behaviour is determined by their attention patterns, mid-late heads (L8H6, L8H10, L7H9, L7H3) whose output matters on the final token and whose behaviour is determined by their value vectors, and late heads (L9H9, L10H7, L11H10) whose output matters on the final token and whose behaviour is determined by their attention patterns.\n",
        "\n",
        "A natural speculation is that early heads detect both that the second subject is a repeated token and *which* is repeated (ie the \" John\" token is repeated), middle heads compose with this and move this duplicated token information from the second subject token to the final token, and the late heads compose with this to *inhibit* their attention to the duplicated token, and then attend to the correct indirect object name and copy that directly to the logits."
      ]
    },
    {
      "cell_type": "markdown",
      "metadata": {
        "id": "6mkpRlF_UvqH"
      },
      "source": [
        "### Visualizing Attention Patterns\n",
        "\n",
        "We can validate this by looking at the attention patterns of these heads! Let's take the top 10 heads by output patching (in absolute value) and split it into early, middle and late.\n",
        "\n",
        "We see that middle heads attend from the final token to the second subject, and late heads attend from the final token to the indirect object, which is completely consistent with the above speculation! But weirdly, while *one* early head attends from the second subject to its first copy, the other two mysteriously attend to the word *after* the first copy."
      ]
    },
    {
      "cell_type": "code",
      "execution_count": 48,
      "metadata": {
        "colab": {
          "base_uri": "https://localhost:8080/",
          "height": 1000
        },
        "id": "KWT2TMbpUvqH",
        "outputId": "a2dd2fbc-5952-4523-9996-4f1e81837cce"
      },
      "outputs": [
        {
          "data": {
            "text/html": [
              "<div style='max-width: 700px;'><h2>Top Early Heads</h2><br/><div id=\"circuits-vis-a5fecac6-56a4\" style=\"margin: 15px 0;\"/>\n",
              "    <script crossorigin type=\"module\">\n",
              "    import { render, AttentionHeads } from \"https://unpkg.com/circuitsvis@1.43.2/dist/cdn/esm.js\";\n",
              "    render(\n",
              "      \"circuits-vis-a5fecac6-56a4\",\n",
              "      AttentionHeads,\n",
              "      {\"attention\": [[[1.0, 0.0, 0.0, 0.0, 0.0, 0.0, 0.0, 0.0, 0.0, 0.0, 0.0, 0.0, 0.0, 0.0, 0.0], [0.9964697360992432, 0.003530216868966818, 0.0, 0.0, 0.0, 0.0, 0.0, 0.0, 0.0, 0.0, 0.0, 0.0, 0.0, 0.0, 0.0], [0.9966080188751221, 0.0017803339287638664, 0.0016116512706503272, 0.0, 0.0, 0.0, 0.0, 0.0, 0.0, 0.0, 0.0, 0.0, 0.0, 0.0, 0.0], [0.9577603340148926, 0.002041338477283716, 0.0057670860551297665, 0.034431301057338715, 0.0, 0.0, 0.0, 0.0, 0.0, 0.0, 0.0, 0.0, 0.0, 0.0, 0.0], [0.9969283938407898, 0.0006081231986172497, 0.001611500745639205, 0.0005201369640417397, 0.000331782823195681, 0.0, 0.0, 0.0, 0.0, 0.0, 0.0, 0.0, 0.0, 0.0, 0.0], [0.9679327011108398, 0.0013422647025436163, 0.011834671720862389, 0.004275843501091003, 0.005249625537544489, 0.009364952333271503, 0.0, 0.0, 0.0, 0.0, 0.0, 0.0, 0.0, 0.0, 0.0], [0.9869165420532227, 0.0013478457694873214, 0.008249795064330101, 0.00044454378075897694, 0.0012885769829154015, 0.000849607982672751, 0.0009031338850036263, 0.0, 0.0, 0.0, 0.0, 0.0, 0.0, 0.0, 0.0], [0.9841057658195496, 0.00514560379087925, 0.00325059168972075, 0.0002386581909377128, 0.0014756047166883945, 0.0009722106624394655, 0.0013405353529378772, 0.0034710706677287817, 0.0, 0.0, 0.0, 0.0, 0.0, 0.0, 0.0], [0.9905135631561279, 0.0026424843817949295, 0.0020855802576988935, 4.153350801061606e-07, 1.7417996787116863e-05, 0.00030960203730501235, 0.00018154055578634143, 0.0010755106341093779, 0.0031737734097987413, 0.0, 0.0, 0.0, 0.0, 0.0, 0.0], [0.9528716206550598, 0.007327665574848652, 0.008451273664832115, 0.00028046462102793157, 0.002839928027242422, 0.0027732125017791986, 0.0011097623500972986, 0.001147703267633915, 0.005757128819823265, 0.017441261559724808, 0.0, 0.0, 0.0, 0.0, 0.0], [0.04626929759979248, 0.00023600933491252363, 0.0001257897965842858, 0.5745648145675659, 0.35467538237571716, 0.01928783394396305, 9.036258416017517e-05, 0.0004469134146347642, 0.004133356269448996, 3.6332278341433266e-06, 0.00016657433297950774, 0.0, 0.0, 0.0, 0.0], [0.8876798152923584, 0.005508155561983585, 0.008590040728449821, 0.02278907410800457, 0.034916870296001434, 0.0014860169030725956, 7.143660332076252e-05, 0.0006066819769330323, 0.01060185395181179, 0.00014759297482669353, 0.004989868961274624, 0.022612519562244415, 0.0, 0.0, 0.0], [0.9325920939445496, 0.009143217466771603, 0.0023391982540488243, 0.0008593907114118338, 0.001248445245437324, 0.0003723319969139993, 0.0001396295556332916, 5.667179721058346e-05, 0.029758309945464134, 0.0026664542965590954, 0.00340132974088192, 0.0010437127202749252, 0.01637924276292324, 0.0, 0.0], [0.9817626476287842, 0.0019176139030605555, 0.0004077623307239264, 1.3564293510626158e-07, 1.2641009561775718e-05, 2.9349046599236317e-05, 3.7204026739345863e-05, 1.9605684428825043e-05, 0.0003428011841606349, 0.0020146118476986885, 0.007377090398222208, 4.7510325202893e-06, 0.00043247532448731363, 0.005641311407089233, 0.0], [0.9087746739387512, 0.004100940655916929, 0.0067781065590679646, 1.580037314852234e-05, 0.00011194066610187292, 8.6434323748108e-05, 3.1872932595433667e-06, 0.0015851568896323442, 0.0037993963342159986, 0.006704840809106827, 0.013977260328829288, 0.00011608969361986965, 0.004422872327268124, 0.021179767325520515, 0.028343578800559044]], [[1.0, 0.0, 0.0, 0.0, 0.0, 0.0, 0.0, 0.0, 0.0, 0.0, 0.0, 0.0, 0.0, 0.0, 0.0], [0.9990116357803345, 0.0009883962338790298, 0.0, 0.0, 0.0, 0.0, 0.0, 0.0, 0.0, 0.0, 0.0, 0.0, 0.0, 0.0, 0.0], [0.9985805749893188, 0.0004404893552418798, 0.0009789441246539354, 0.0, 0.0, 0.0, 0.0, 0.0, 0.0, 0.0, 0.0, 0.0, 0.0, 0.0, 0.0], [0.9970335960388184, 0.00046376779209822416, 0.0009368644095957279, 0.0015658114571124315, 0.0, 0.0, 0.0, 0.0, 0.0, 0.0, 0.0, 0.0, 0.0, 0.0, 0.0], [0.9892035126686096, 8.868396253092214e-05, 0.000574228644836694, 0.009837929159402847, 0.0002956112439278513, 0.0, 0.0, 0.0, 0.0, 0.0, 0.0, 0.0, 0.0, 0.0, 0.0], [0.9954046010971069, 0.00010050242417491972, 0.0013416114961728454, 3.8867972762091085e-05, 0.00012061728921253234, 0.002993942704051733, 0.0, 0.0, 0.0, 0.0, 0.0, 0.0, 0.0, 0.0, 0.0], [0.9989855885505676, 0.00010352006211178377, 0.000417279516113922, 7.227480637084227e-06, 6.046839916962199e-05, 0.0002549670753069222, 0.00017089983157347888, 0.0, 0.0, 0.0, 0.0, 0.0, 0.0, 0.0, 0.0], [0.9980852603912354, 0.00016822981706354767, 0.00010910445416811854, 4.1011767279997e-06, 5.1034887292189524e-05, 0.00010561966337263584, 4.150076711084694e-05, 0.0014351840363815427, 0.0, 0.0, 0.0, 0.0, 0.0, 0.0, 0.0], [0.9972645044326782, 7.076135807437822e-05, 6.327262963168323e-05, 2.6154014065582487e-08, 5.10685276822187e-06, 3.738361192517914e-05, 3.4554443118395284e-05, 0.00046177287003956735, 0.0020626664627343416, 0.0, 0.0, 0.0, 0.0, 0.0, 0.0], [0.9859043955802917, 0.0015692627057433128, 0.0019859701860696077, 5.883384346816456e-06, 0.0003162044449709356, 0.00014976877719163895, 2.4110491722240113e-05, 0.00012667437840718776, 0.0012655550381168723, 0.008652174845337868, 0.0, 0.0, 0.0, 0.0, 0.0], [0.32128357887268066, 0.002611377974972129, 0.0017525902949273586, 0.48284682631492615, 0.17529509961605072, 0.012053584679961205, 5.731591227231547e-05, 0.00047417538007721305, 0.0011855904012918472, 4.623117274604738e-05, 0.002393607050180435, 0.0, 0.0, 0.0, 0.0], [0.9928818941116333, 0.001145292422734201, 0.0015605854569002986, 5.570517896558158e-05, 0.0020913362968713045, 0.0002502401766832918, 9.752026244314038e-07, 1.4541850759997033e-05, 0.0006855776300653815, 3.300491880509071e-05, 0.00034185219556093216, 0.0009391459752805531, 0.0, 0.0, 0.0], [0.9924141764640808, 0.0006524138734675944, 0.0001626686134841293, 7.948437996674329e-06, 0.00015110702952370048, 6.227401900105178e-05, 7.466455258509086e-07, 4.0006281665228016e-07, 0.0024407075252383947, 3.03059696307173e-05, 4.814890053239651e-05, 9.094978304347023e-05, 0.003938065376132727, 0.0, 0.0], [0.9971887469291687, 0.0006214724271558225, 3.946366996387951e-05, 1.9362756731311492e-08, 1.8006727486863383e-06, 1.9081184291280806e-05, 9.159251931123435e-06, 7.050163617350336e-07, 6.76624767947942e-05, 0.0008072950295172632, 0.0001361270115012303, 2.2040474050299963e-06, 2.1164918507565744e-05, 0.0010851196711882949, 0.0], [0.9784427881240845, 0.0038412443827837706, 0.0017940751276910305, 9.544613931211643e-06, 0.00016132778546307236, 0.00021571700926870108, 3.43853059803223e-07, 0.0001912007137434557, 0.001858404604718089, 0.0022621399257332087, 0.0028807837516069412, 0.00015137516311369836, 3.800488048000261e-05, 0.00441895704716444, 0.0037340603303164244]], [[1.0, 0.0, 0.0, 0.0, 0.0, 0.0, 0.0, 0.0, 0.0, 0.0, 0.0, 0.0, 0.0, 0.0, 0.0], [0.9793283939361572, 0.020671553909778595, 0.0, 0.0, 0.0, 0.0, 0.0, 0.0, 0.0, 0.0, 0.0, 0.0, 0.0, 0.0, 0.0], [0.9060317277908325, 0.0005559842684306204, 0.09341225028038025, 0.0, 0.0, 0.0, 0.0, 0.0, 0.0, 0.0, 0.0, 0.0, 0.0, 0.0, 0.0], [0.9916712045669556, 0.0009248421411029994, 0.0019154048059135675, 0.005488503724336624, 0.0, 0.0, 0.0, 0.0, 0.0, 0.0, 0.0, 0.0, 0.0, 0.0, 0.0], [0.9500626921653748, 0.0015093714464455843, 0.00022879056632518768, 0.0011742772767320275, 0.04702487587928772, 0.0, 0.0, 0.0, 0.0, 0.0, 0.0, 0.0, 0.0, 0.0, 0.0], [0.9742834568023682, 0.0013348325155675411, 0.00016252580098807812, 0.001139272702857852, 1.2687505659414455e-06, 0.02307862974703312, 0.0, 0.0, 0.0, 0.0, 0.0, 0.0, 0.0, 0.0, 0.0], [0.9734271764755249, 0.0036637617740780115, 0.0007961259689182043, 0.002033661585301161, 1.725973743305076e-05, 0.013762403279542923, 0.006299535743892193, 0.0, 0.0, 0.0, 0.0, 0.0, 0.0, 0.0, 0.0], [0.9740444421768188, 0.0018358442466706038, 0.0003173499135300517, 0.0013147084973752499, 4.377588993520476e-05, 0.0004517791676335037, 0.0003593153669498861, 0.021632784977555275, 0.0, 0.0, 0.0, 0.0, 0.0, 0.0, 0.0], [0.8537225723266602, 0.0009385410230606794, 1.892857108032331e-05, 0.0007116535562090576, 4.0574814192950726e-05, 2.7068454073742032e-05, 0.0005688078235834837, 0.013039003126323223, 0.13093282282352448, 0.0, 0.0, 0.0, 0.0, 0.0, 0.0], [0.9718613028526306, 0.0030211997218430042, 0.0018890720093622804, 0.005877863150089979, 0.0006584366201423109, 0.002494561020284891, 0.0011563540901988745, 0.008928307332098484, 0.0013289437629282475, 0.002783977659419179, 0.0, 0.0, 0.0, 0.0, 0.0], [0.21994651854038239, 0.0028093450237065554, 0.663567841053009, 0.007326297927647829, 0.0011535731609910727, 0.0018521107267588377, 0.001364746131002903, 0.00837025512009859, 0.00012475400581024587, 0.002670726040378213, 0.09081382304430008, 0.0, 0.0, 0.0, 0.0], [0.9398402571678162, 0.003739825449883938, 0.0006579074542969465, 0.00275516789406538, 1.396489460603334e-05, 0.002081190934404731, 0.007874617353081703, 0.008091994561254978, 0.0027850489132106304, 0.003697346430271864, 0.0001285762555198744, 0.02833406627178192, 0.0, 0.0, 0.0], [0.9256281852722168, 0.0036807639990001917, 0.0006159039330668747, 0.00431013060733676, 7.914523303043097e-05, 0.0015225636307150126, 0.0014093436766415834, 0.041066430509090424, 0.0011927636805921793, 0.0027047593612223864, 8.953280485002324e-05, 0.0003125174844171852, 0.01738804019987583, 0.0, 0.0], [0.7785989046096802, 0.005006601568311453, 8.588748460169882e-05, 0.0016439200844615698, 3.5171960917068645e-05, 0.0007985620177350938, 0.00408822251483798, 0.03206506371498108, 0.02768588252365589, 0.003920271527022123, 2.5869212549878284e-05, 0.0010157220531255007, 0.009296727366745472, 0.1357332170009613, 0.0], [0.9545032382011414, 0.006336829159408808, 0.0003258493961766362, 0.0035448423586785793, 2.090794987452682e-05, 0.007449440658092499, 0.009912989102303982, 0.0054562087170779705, 0.000552987796254456, 0.0011178167769685388, 6.704569386783987e-05, 0.003978247754275799, 0.002447613049298525, 6.584390939678997e-05, 0.004220085684210062]]], \"attentionHeadNames\": [\"L5H5\", \"L6H9\", \"L3H0\"], \"tokens\": [\"<|endoftext|>\", \"When\", \" John\", \" and\", \" Mary\", \" went\", \" to\", \" the\", \" shops\", \",\", \" John\", \" gave\", \" the\", \" bag\", \" to\"]}\n",
              "    )\n",
              "    </script></div><div style='max-width: 700px;'><h2>Top Middle Heads</h2><br/><div id=\"circuits-vis-e1ead132-9701\" style=\"margin: 15px 0;\"/>\n",
              "    <script crossorigin type=\"module\">\n",
              "    import { render, AttentionHeads } from \"https://unpkg.com/circuitsvis@1.43.2/dist/cdn/esm.js\";\n",
              "    render(\n",
              "      \"circuits-vis-e1ead132-9701\",\n",
              "      AttentionHeads,\n",
              "      {\"attention\": [[[1.0, 0.0, 0.0, 0.0, 0.0, 0.0, 0.0, 0.0, 0.0, 0.0, 0.0, 0.0, 0.0, 0.0, 0.0], [0.9883803129196167, 0.011619738303124905, 0.0, 0.0, 0.0, 0.0, 0.0, 0.0, 0.0, 0.0, 0.0, 0.0, 0.0, 0.0, 0.0], [0.9756757020950317, 0.006998061202466488, 0.017326124012470245, 0.0, 0.0, 0.0, 0.0, 0.0, 0.0, 0.0, 0.0, 0.0, 0.0, 0.0, 0.0], [0.06910058110952377, 0.005814325995743275, 0.9046230912208557, 0.0204619150608778, 0.0, 0.0, 0.0, 0.0, 0.0, 0.0, 0.0, 0.0, 0.0, 0.0, 0.0], [0.8063387274742126, 0.003319834591820836, 0.05377698689699173, 0.110008105635643, 0.026556262746453285, 0.0, 0.0, 0.0, 0.0, 0.0, 0.0, 0.0, 0.0, 0.0, 0.0], [0.9564917683601379, 0.004251319449394941, 0.01147798914462328, 0.011219588108360767, 0.005006628576666117, 0.011552720330655575, 0.0, 0.0, 0.0, 0.0, 0.0, 0.0, 0.0, 0.0, 0.0], [0.9077332615852356, 0.0036374570336192846, 0.04021432250738144, 0.012946891598403454, 0.01961183361709118, 0.011057578958570957, 0.004798687528818846, 0.0, 0.0, 0.0, 0.0, 0.0, 0.0, 0.0, 0.0], [0.9552405476570129, 0.009812583215534687, 0.011687526479363441, 0.009024374186992645, 0.003436619881540537, 0.00439991382881999, 0.0033402671106159687, 0.003058273810893297, 0.0, 0.0, 0.0, 0.0, 0.0, 0.0, 0.0], [0.9294586777687073, 0.009998355060815811, 0.004449529107660055, 0.0062215146608650684, 0.0014876272762194276, 0.018290329724550247, 0.007122088689357042, 0.003623188706114888, 0.01934865489602089, 0.0, 0.0, 0.0, 0.0, 0.0, 0.0], [0.6007111668586731, 0.014475342817604542, 0.09337001293897629, 0.016602061688899994, 0.050988901406526566, 0.10098627209663391, 0.051672205328941345, 0.027431076392531395, 0.02603607438504696, 0.017726808786392212, 0.0, 0.0, 0.0, 0.0, 0.0], [0.6264258027076721, 0.012645034119486809, 0.016069965437054634, 0.024194255471229553, 0.02919536828994751, 0.11857006698846817, 0.06370418518781662, 0.023378416895866394, 0.0016588603612035513, 0.06528978049755096, 0.01886829547584057, 0.0, 0.0, 0.0, 0.0], [0.2991047501564026, 0.002142744604498148, 0.02443760819733143, 0.005155459977686405, 0.010526861064136028, 0.0033212837297469378, 0.009254595264792442, 0.005843589548021555, 0.0021181886550039053, 0.01768188364803791, 0.6048204898834229, 0.015592576004564762, 0.0, 0.0, 0.0], [0.864164412021637, 0.004937583580613136, 0.019023772329092026, 0.0016702665016055107, 0.006097331643104553, 0.0005472703487612307, 0.0035640913993120193, 0.00030002943822182715, 0.007774061057716608, 0.007787005044519901, 0.06421244889497757, 0.005789358168840408, 0.014132457785308361, 0.0, 0.0], [0.9178587198257446, 0.0051385145634412766, 0.003403151175007224, 0.0021887863986194134, 0.0026149428449571133, 0.0028868429362773895, 0.0028416842687875032, 0.0013744994066655636, 0.0064310599118471146, 0.012306805700063705, 0.009081629104912281, 0.013100463896989822, 0.008110187947750092, 0.012662735767662525, 0.0], [0.01948792114853859, 5.700236215488985e-05, 0.026276348158717155, 0.000910384114831686, 0.005632825195789337, 7.981718226801604e-05, 5.7736750022741035e-05, 0.00030768406577408314, 0.00014904847193975002, 0.00028529707924462855, 0.9430450201034546, 0.0007767550996504724, 0.0018659624038264155, 0.0006072799442335963, 0.0004609230672940612]], [[1.0, 0.0, 0.0, 0.0, 0.0, 0.0, 0.0, 0.0, 0.0, 0.0, 0.0, 0.0, 0.0, 0.0, 0.0], [0.9562382698059082, 0.043761689215898514, 0.0, 0.0, 0.0, 0.0, 0.0, 0.0, 0.0, 0.0, 0.0, 0.0, 0.0, 0.0, 0.0], [0.9643058180809021, 0.007428080774843693, 0.02826606296002865, 0.0, 0.0, 0.0, 0.0, 0.0, 0.0, 0.0, 0.0, 0.0, 0.0, 0.0, 0.0], [0.6456200480461121, 0.02912183478474617, 0.20926150679588318, 0.11599663645029068, 0.0, 0.0, 0.0, 0.0, 0.0, 0.0, 0.0, 0.0, 0.0, 0.0, 0.0], [0.7634042501449585, 0.01714024320244789, 0.02651244029402733, 0.08158671855926514, 0.11135628819465637, 0.0, 0.0, 0.0, 0.0, 0.0, 0.0, 0.0, 0.0, 0.0, 0.0], [0.8267459869384766, 0.029910048469901085, 0.015236102975904942, 0.03457241877913475, 0.02703070268034935, 0.06650472432374954, 0.0, 0.0, 0.0, 0.0, 0.0, 0.0, 0.0, 0.0, 0.0], [0.7882238626480103, 0.02833329327404499, 0.04124215617775917, 0.02498338185250759, 0.057883672416210175, 0.0202901903539896, 0.03904343396425247, 0.0, 0.0, 0.0, 0.0, 0.0, 0.0, 0.0, 0.0], [0.7217299342155457, 0.02777162939310074, 0.020819853991270065, 0.02450411207973957, 0.018139608204364777, 0.014079057611525059, 0.04442397132515907, 0.12853184342384338, 0.0, 0.0, 0.0, 0.0, 0.0, 0.0, 0.0], [0.7728032469749451, 0.041336383670568466, 0.006504571530967951, 0.007949043065309525, 0.006013230420649052, 0.015620406717061996, 0.039801906794309616, 0.05545507371425629, 0.054516106843948364, 0.0, 0.0, 0.0, 0.0, 0.0, 0.0], [0.4707321524620056, 0.030822286382317543, 0.07406146824359894, 0.05525265261530876, 0.14865732192993164, 0.06233660504221916, 0.03405356407165527, 0.026126952841877937, 0.04243951290845871, 0.05551747977733612, 0.0, 0.0, 0.0, 0.0, 0.0], [0.696202278137207, 0.005297192372381687, 0.0042296298779547215, 0.05190792307257652, 0.007751099299639463, 0.03517875075340271, 0.030573507770895958, 0.021498678252100945, 0.0156601220369339, 0.05138501152396202, 0.08031575381755829, 0.0, 0.0, 0.0, 0.0], [0.3781746029853821, 0.006224600598216057, 0.023588724434375763, 0.04411531239748001, 0.05945134535431862, 0.009539015591144562, 0.012997779063880444, 0.014349016360938549, 0.020393814891576767, 0.0178549662232399, 0.33459779620170593, 0.0787130743265152, 0.0, 0.0, 0.0], [0.4760018289089203, 0.01102609746158123, 0.018324624747037888, 0.04565666615962982, 0.026791362091898918, 0.011260136030614376, 0.018724335357546806, 0.018448911607265472, 0.040689848363399506, 0.02309623546898365, 0.12447705119848251, 0.08994491398334503, 0.09555799514055252, 0.0, 0.0], [0.764153003692627, 0.008243841119110584, 0.0032178943511098623, 0.004948901943862438, 0.004036615137010813, 0.007506768684834242, 0.011691177263855934, 0.013843992725014687, 0.01143647637218237, 0.022236300632357597, 0.013085402548313141, 0.03330942615866661, 0.03673044964671135, 0.06555969268083572, 0.0], [0.13033586740493774, 0.002237471751868725, 0.03736339136958122, 0.06384994089603424, 0.11956258863210678, 0.01128672156482935, 0.006565197836607695, 0.00851498544216156, 0.0056333462707698345, 0.007633770816028118, 0.5373679995536804, 0.03011547401547432, 0.02091587707400322, 0.005129645578563213, 0.013487703166902065]], [[1.0, 0.0, 0.0, 0.0, 0.0, 0.0, 0.0, 0.0, 0.0, 0.0, 0.0, 0.0, 0.0, 0.0, 0.0], [0.972596287727356, 0.027403684332966805, 0.0, 0.0, 0.0, 0.0, 0.0, 0.0, 0.0, 0.0, 0.0, 0.0, 0.0, 0.0, 0.0], [0.9560407996177673, 0.03730243444442749, 0.006656755693256855, 0.0, 0.0, 0.0, 0.0, 0.0, 0.0, 0.0, 0.0, 0.0, 0.0, 0.0, 0.0], [0.500942051410675, 0.0898304283618927, 0.3484278619289398, 0.060799699276685715, 0.0, 0.0, 0.0, 0.0, 0.0, 0.0, 0.0, 0.0, 0.0, 0.0, 0.0], [0.767420768737793, 0.17525574564933777, 0.02116425894200802, 0.023899653926491737, 0.012259536422789097, 0.0, 0.0, 0.0, 0.0, 0.0, 0.0, 0.0, 0.0, 0.0, 0.0], [0.7222581505775452, 0.1838817447423935, 0.02373574674129486, 0.007100505288690329, 0.007225363980978727, 0.05579853057861328, 0.0, 0.0, 0.0, 0.0, 0.0, 0.0, 0.0, 0.0, 0.0], [0.6940839290618896, 0.13069206476211548, 0.028726331889629364, 0.009216166101396084, 0.011527230963110924, 0.08933056890964508, 0.036423660814762115, 0.0, 0.0, 0.0, 0.0, 0.0, 0.0, 0.0, 0.0], [0.6924442648887634, 0.12459246814250946, 0.015318788588047028, 0.007924932986497879, 0.00671349698677659, 0.07965241372585297, 0.04910321906208992, 0.024250295013189316, 0.0, 0.0, 0.0, 0.0, 0.0, 0.0, 0.0], [0.6969735622406006, 0.1013403832912445, 0.01163417473435402, 0.007826575078070164, 0.003278004005551338, 0.04264723137021065, 0.058419354259967804, 0.042912743985652924, 0.03496792912483215, 0.0, 0.0, 0.0, 0.0, 0.0, 0.0], [0.6869092583656311, 0.023936614394187927, 0.10650124400854111, 0.02046998217701912, 0.025522029027342796, 0.04722585529088974, 0.0221908837556839, 0.007245865650475025, 0.01975422538816929, 0.04024398699402809, 0.0, 0.0, 0.0, 0.0, 0.0], [0.5810415744781494, 0.0113522382453084, 0.0033975536935031414, 0.036563802510499954, 0.020549090579152107, 0.051691684871912, 0.02465149387717247, 0.015467961318790913, 0.049508366733789444, 0.1576736718416214, 0.04810256138443947, 0.0, 0.0, 0.0, 0.0], [0.43489062786102295, 0.006897153332829475, 0.0120418481528759, 0.0038146863225847483, 0.010545252822339535, 0.0076635112054646015, 0.007842808030545712, 0.00641734478995204, 0.0442136712372303, 0.10390942543745041, 0.3332021236419678, 0.028561515733599663, 0.0, 0.0, 0.0], [0.4747906029224396, 0.024992918595671654, 0.009554716758430004, 0.003750272560864687, 0.008160538040101528, 0.023397602140903473, 0.010678837075829506, 0.0014934663195163012, 0.03086295910179615, 0.19498735666275024, 0.1508423537015915, 0.0541498102247715, 0.012338677421212196, 0.0, 0.0], [0.7144927382469177, 0.009456107392907143, 0.0035060946829617023, 0.002985783386975527, 0.0012290707090869546, 0.011995979584753513, 0.008696487173438072, 0.007586537394672632, 0.00963098555803299, 0.062103189527988434, 0.014413942582905293, 0.07928195595741272, 0.04383737966418266, 0.03078377991914749, 0.0], [0.10134048759937286, 0.003883677301928401, 0.017923833802342415, 0.0038827103562653065, 0.009177404455840588, 0.0131694246083498, 0.0034797422122210264, 0.0019710820633918047, 0.004929658025503159, 0.12965911626815796, 0.6630266308784485, 0.033024195581674576, 0.008983823470771313, 0.0017172042280435562, 0.003830959554761648]], [[1.0, 0.0, 0.0, 0.0, 0.0, 0.0, 0.0, 0.0, 0.0, 0.0, 0.0, 0.0, 0.0, 0.0, 0.0], [0.9765116572380066, 0.02348831109702587, 0.0, 0.0, 0.0, 0.0, 0.0, 0.0, 0.0, 0.0, 0.0, 0.0, 0.0, 0.0, 0.0], [0.974312424659729, 0.009410626254975796, 0.016276951879262924, 0.0, 0.0, 0.0, 0.0, 0.0, 0.0, 0.0, 0.0, 0.0, 0.0, 0.0, 0.0], [0.5441396832466125, 0.019679129123687744, 0.33595290780067444, 0.10022830218076706, 0.0, 0.0, 0.0, 0.0, 0.0, 0.0, 0.0, 0.0, 0.0, 0.0, 0.0], [0.85941481590271, 0.02182220108807087, 0.02571103349328041, 0.03842548280954361, 0.05462643876671791, 0.0, 0.0, 0.0, 0.0, 0.0, 0.0, 0.0, 0.0, 0.0, 0.0], [0.7619718313217163, 0.07210119813680649, 0.03744212165474892, 0.04506199434399605, 0.03174478933215141, 0.051678095012903214, 0.0, 0.0, 0.0, 0.0, 0.0, 0.0, 0.0, 0.0, 0.0], [0.8025389909744263, 0.026160528883337975, 0.03313220664858818, 0.02643781714141369, 0.03139317408204079, 0.04932873323559761, 0.03100842610001564, 0.0, 0.0, 0.0, 0.0, 0.0, 0.0, 0.0, 0.0], [0.7639768719673157, 0.02156013436615467, 0.016495684161782265, 0.025408577173948288, 0.027263568714261055, 0.06810111552476883, 0.047423530369997025, 0.02977052517235279, 0.0, 0.0, 0.0, 0.0, 0.0, 0.0, 0.0], [0.754335343837738, 0.015973078086972237, 0.008247417397797108, 0.00967293418943882, 0.013097797520458698, 0.03411851450800896, 0.039470553398132324, 0.03229909390211105, 0.09278538078069687, 0.0, 0.0, 0.0, 0.0, 0.0, 0.0], [0.585637092590332, 0.02131676860153675, 0.02623765915632248, 0.020695077255368233, 0.02824075147509575, 0.11104557663202286, 0.047171443700790405, 0.022986000403761864, 0.049254775047302246, 0.08741480112075806, 0.0, 0.0, 0.0, 0.0, 0.0], [0.64667147397995, 0.015195724554359913, 0.005940458737313747, 0.02527458593249321, 0.010863549076020718, 0.08686582744121552, 0.03273146599531174, 0.021324871107935905, 0.04200933501124382, 0.09539304673671722, 0.0177296195179224, 0.0, 0.0, 0.0, 0.0], [0.4277121424674988, 0.014421720057725906, 0.02412952296435833, 0.026095200330018997, 0.014888358302414417, 0.01052782777696848, 0.012212677858769894, 0.015342852100729942, 0.017333969473838806, 0.04439067468047142, 0.2898298501968384, 0.10311514884233475, 0.0, 0.0, 0.0], [0.4405152201652527, 0.018903935328125954, 0.010929621756076813, 0.015466149896383286, 0.013489481061697006, 0.020115548744797707, 0.01965588703751564, 0.005925860721617937, 0.02277292311191559, 0.06206527352333069, 0.16126008331775665, 0.1731940358877182, 0.03570606932044029, 0.0, 0.0], [0.7304283976554871, 0.008421980775892735, 0.0022353066597133875, 0.004027623683214188, 0.0036414475180208683, 0.009633272886276245, 0.021349186077713966, 0.021967098116874695, 0.026103071868419647, 0.05093499645590782, 0.00836271047592163, 0.023242903873324394, 0.0385158509016037, 0.05113602429628372, 0.0], [0.1657790243625641, 0.004480819683521986, 0.00778642063960433, 0.007284631486982107, 0.013379685580730438, 0.01925141178071499, 0.010158227756619453, 0.01172461174428463, 0.011870532296597958, 0.03469732776284218, 0.14483006298542023, 0.41439974308013916, 0.08938249200582504, 0.01955881156027317, 0.045416153967380524]]], \"attentionHeadNames\": [\"L8H6\", \"L8H10\", \"L7H9\", \"L7H3\"], \"tokens\": [\"<|endoftext|>\", \"When\", \" John\", \" and\", \" Mary\", \" went\", \" to\", \" the\", \" shops\", \",\", \" John\", \" gave\", \" the\", \" bag\", \" to\"]}\n",
              "    )\n",
              "    </script></div><div style='max-width: 700px;'><h2>Top Late Heads</h2><br/><div id=\"circuits-vis-3b69bb75-306d\" style=\"margin: 15px 0;\"/>\n",
              "    <script crossorigin type=\"module\">\n",
              "    import { render, AttentionHeads } from \"https://unpkg.com/circuitsvis@1.43.2/dist/cdn/esm.js\";\n",
              "    render(\n",
              "      \"circuits-vis-3b69bb75-306d\",\n",
              "      AttentionHeads,\n",
              "      {\"attention\": [[[1.0, 0.0, 0.0, 0.0, 0.0, 0.0, 0.0, 0.0, 0.0, 0.0, 0.0, 0.0, 0.0, 0.0, 0.0], [0.9628915190696716, 0.037108421325683594, 0.0, 0.0, 0.0, 0.0, 0.0, 0.0, 0.0, 0.0, 0.0, 0.0, 0.0, 0.0, 0.0], [0.97783362865448, 0.003486411878839135, 0.018679998815059662, 0.0, 0.0, 0.0, 0.0, 0.0, 0.0, 0.0, 0.0, 0.0, 0.0, 0.0, 0.0], [0.8737699389457703, 0.005964337848126888, 0.08126728981733322, 0.03899846225976944, 0.0, 0.0, 0.0, 0.0, 0.0, 0.0, 0.0, 0.0, 0.0, 0.0, 0.0], [0.8745148777961731, 0.017276139929890633, 0.018874438479542732, 0.05426814779639244, 0.03506650775671005, 0.0, 0.0, 0.0, 0.0, 0.0, 0.0, 0.0, 0.0, 0.0, 0.0], [0.9704693555831909, 0.0035177813842892647, 0.0003239803190808743, 0.004373434465378523, 0.00039529622881673276, 0.020920228213071823, 0.0, 0.0, 0.0, 0.0, 0.0, 0.0, 0.0, 0.0, 0.0], [0.7694653272628784, 0.006685908883810043, 0.011966495774686337, 0.040966227650642395, 0.03344427049160004, 0.044010359793901443, 0.09346142411231995, 0.0, 0.0, 0.0, 0.0, 0.0, 0.0, 0.0, 0.0], [0.8177716732025146, 0.00911263283342123, 0.004233663436025381, 0.03900324925780296, 0.012653200887143612, 0.007337893359363079, 0.074100561439991, 0.03578713536262512, 0.0, 0.0, 0.0, 0.0, 0.0, 0.0, 0.0], [0.8309932351112366, 0.018796684220433235, 0.003303250065073371, 0.019832052290439606, 0.004009451251477003, 0.012078293599188328, 0.032460082322359085, 0.010322323068976402, 0.06820470839738846, 0.0, 0.0, 0.0, 0.0, 0.0, 0.0], [0.3140343725681305, 0.015227984637022018, 0.1978924572467804, 0.059379611164331436, 0.3236023783683777, 0.009037788026034832, 0.019917836412787437, 0.012475373223423958, 0.013939776457846165, 0.03449240326881409, 0.0, 0.0, 0.0, 0.0, 0.0], [0.7319576740264893, 0.030870281159877777, 0.005063989665359259, 0.0870375856757164, 0.0049826353788375854, 0.044725533574819565, 0.023506220430135727, 0.00639775674790144, 0.0034696818329393864, 0.048653289675712585, 0.013335400260984898, 0.0, 0.0, 0.0, 0.0], [0.13710562884807587, 0.012017909437417984, 0.14592285454273224, 0.015683390200138092, 0.441253662109375, 0.004342456813901663, 0.011117982678115368, 0.007466656621545553, 0.0012341744732111692, 0.019460219889879227, 0.1684274822473526, 0.035967566072940826, 0.0, 0.0, 0.0], [0.4052480161190033, 0.00972098670899868, 0.03158130124211311, 0.09247064590454102, 0.04880824685096741, 0.00817426759749651, 0.03170836344361305, 0.02787911333143711, 0.14128004014492035, 0.03023405745625496, 0.03392865136265755, 0.031714413315057755, 0.10725190490484238, 0.0, 0.0], [0.8084695339202881, 0.005670268088579178, 0.006755929905921221, 0.00869650486856699, 0.01047329418361187, 0.0034647213760763407, 0.006760983262211084, 0.0025889226235449314, 0.01509768981486559, 0.01603599451482296, 0.011287951841950417, 0.017277443781495094, 0.007799162529408932, 0.07962166517972946, 0.0], [0.02939075604081154, 0.0016060509951785207, 0.06005501002073288, 0.008175638504326344, 0.8099182844161987, 0.00039796208147890866, 0.0028282515704631805, 0.0033632605336606503, 0.0001569101877976209, 0.00364590622484684, 0.05494006723165512, 0.0016660430701449513, 0.015368924476206303, 5.0166621804237366e-05, 0.008436761796474457]], [[1.0, 0.0, 0.0, 0.0, 0.0, 0.0, 0.0, 0.0, 0.0, 0.0, 0.0, 0.0, 0.0, 0.0, 0.0], [0.912402331829071, 0.08759769797325134, 0.0, 0.0, 0.0, 0.0, 0.0, 0.0, 0.0, 0.0, 0.0, 0.0, 0.0, 0.0, 0.0], [0.9740747213363647, 0.01434414368122816, 0.011581121943891048, 0.0, 0.0, 0.0, 0.0, 0.0, 0.0, 0.0, 0.0, 0.0, 0.0, 0.0, 0.0], [0.8240256905555725, 0.0370049923658371, 0.06643903255462646, 0.07253026962280273, 0.0, 0.0, 0.0, 0.0, 0.0, 0.0, 0.0, 0.0, 0.0, 0.0, 0.0], [0.537079393863678, 0.15483354032039642, 0.09031286090612411, 0.12131208181381226, 0.09646209329366684, 0.0, 0.0, 0.0, 0.0, 0.0, 0.0, 0.0, 0.0, 0.0, 0.0], [0.9388003945350647, 0.028733091428875923, 0.00034309952752664685, 0.010481178760528564, 0.0008399211801588535, 0.020802300423383713, 0.0, 0.0, 0.0, 0.0, 0.0, 0.0, 0.0, 0.0, 0.0], [0.6318812966346741, 0.05930289253592491, 0.035179220139980316, 0.031740929931402206, 0.11746818572282791, 0.06869637966156006, 0.055731046944856644, 0.0, 0.0, 0.0, 0.0, 0.0, 0.0, 0.0, 0.0], [0.7625215649604797, 0.04435178264975548, 0.010552985593676567, 0.034276317805051804, 0.014203868806362152, 0.012703627347946167, 0.07259674370288849, 0.04879304766654968, 0.0, 0.0, 0.0, 0.0, 0.0, 0.0, 0.0], [0.5725985169410706, 0.12681825459003448, 0.03727066144347191, 0.043141502887010574, 0.04129578545689583, 0.04644753038883209, 0.0291643925011158, 0.03751204162836075, 0.06575129181146622, 0.0, 0.0, 0.0, 0.0, 0.0, 0.0], [0.12316987663507462, 0.026347173377871513, 0.2796061933040619, 0.041989706456661224, 0.4410562813282013, 0.006139012984931469, 0.007793031167238951, 0.007175313774496317, 0.011286805383861065, 0.05543655902147293, 0.0, 0.0, 0.0, 0.0, 0.0], [0.44855931401252747, 0.14324848353862762, 0.01077419426292181, 0.0785503163933754, 0.014047803357243538, 0.014864728786051273, 0.008633716031908989, 0.0030146625358611345, 0.01279208529740572, 0.16408592462539673, 0.10142872482538223, 0.0, 0.0, 0.0, 0.0], [0.10228220373392105, 0.023883407935500145, 0.055250514298677444, 0.05206847935914993, 0.5759830474853516, 0.0011948198080062866, 0.0013662632554769516, 0.0025678023230284452, 0.0018699894426390529, 0.04316018521785736, 0.10887189954519272, 0.031501345336437225, 0.0, 0.0, 0.0], [0.3931325376033783, 0.04406299069523811, 0.04009915143251419, 0.07407446205615997, 0.04061620309948921, 0.007346854079514742, 0.00950721837580204, 0.013865179382264614, 0.06405311822891235, 0.04894253611564636, 0.06277543306350708, 0.09996508806943893, 0.10155919939279556, 0.0, 0.0], [0.757319986820221, 0.015095757320523262, 0.0073501719161868095, 0.013156401924788952, 0.005726391449570656, 0.008556434884667397, 0.008282600902020931, 0.010307112708687782, 0.002904855413362384, 0.017329085618257523, 0.015188992023468018, 0.0796574056148529, 0.03024437092244625, 0.02888048253953457, 0.0], [0.08579490333795547, 0.02377365715801716, 0.028759462758898735, 0.05030403658747673, 0.6746451258659363, 0.001076392480172217, 0.0011514914222061634, 0.0027219809126108885, 0.000561763416044414, 0.03909151628613472, 0.04861963540315628, 0.015520060434937477, 0.004084537271410227, 0.000432913308031857, 0.02346242591738701]], [[1.0, 0.0, 0.0, 0.0, 0.0, 0.0, 0.0, 0.0, 0.0, 0.0, 0.0, 0.0, 0.0, 0.0, 0.0], [0.9979304075241089, 0.00206964579410851, 0.0, 0.0, 0.0, 0.0, 0.0, 0.0, 0.0, 0.0, 0.0, 0.0, 0.0, 0.0, 0.0], [0.9971864819526672, 0.00105167250148952, 0.0017618441488593817, 0.0, 0.0, 0.0, 0.0, 0.0, 0.0, 0.0, 0.0, 0.0, 0.0, 0.0, 0.0], [0.9594859480857849, 0.0013107308186590672, 0.03694293275475502, 0.0022604812402278185, 0.0, 0.0, 0.0, 0.0, 0.0, 0.0, 0.0, 0.0, 0.0, 0.0, 0.0], [0.9891611933708191, 0.0010526366531848907, 0.004854186903685331, 0.0011043644044548273, 0.003827576292678714, 0.0, 0.0, 0.0, 0.0, 0.0, 0.0, 0.0, 0.0, 0.0, 0.0], [0.9963597655296326, 0.0007981911185197532, 0.000776433851569891, 0.0001926252880366519, 0.0002416191273368895, 0.0016313617816194892, 0.0, 0.0, 0.0, 0.0, 0.0, 0.0, 0.0, 0.0, 0.0], [0.9812862277030945, 0.0018637938192114234, 0.006344181951135397, 0.00029609675402753055, 0.004604989197105169, 0.0013967141276225448, 0.0042079780250787735, 0.0, 0.0, 0.0, 0.0, 0.0, 0.0, 0.0, 0.0], [0.9950010180473328, 0.0013230618787929416, 0.0007920796633698046, 0.00024644812219776213, 0.00034051784314215183, 0.00016826315550133586, 0.000283779896562919, 0.0018447877373546362, 0.0, 0.0, 0.0, 0.0, 0.0, 0.0, 0.0], [0.9920290112495422, 0.0013540114741772413, 0.0007168412557803094, 9.21427781577222e-05, 0.0001341938623227179, 0.00019706660532392561, 0.0003527891531120986, 0.00024261393991764635, 0.004881205502897501, 0.0, 0.0, 0.0, 0.0, 0.0, 0.0], [0.5483195185661316, 0.007583861704915762, 0.2826605439186096, 0.0029685732442885637, 0.14815594255924225, 0.0008173033711500466, 0.0006479957373812795, 0.0017078552627936006, 0.004129338543862104, 0.003009046195074916, 0.0, 0.0, 0.0, 0.0, 0.0], [0.8642551898956299, 0.003649322548881173, 0.004925838205963373, 0.0695750042796135, 0.03868312016129494, 0.009609885513782501, 0.0008548662881366909, 0.0005643035401590168, 0.003707139054313302, 0.0013952708104625344, 0.002780064009130001, 0.0, 0.0, 0.0, 0.0], [0.30252817273139954, 0.006584469228982925, 0.1401752531528473, 0.03006601892411709, 0.48067110776901245, 0.0005923623102717102, 0.0005309807602316141, 0.002413492649793625, 0.00850580632686615, 0.0013766336487606168, 0.023764874786138535, 0.002790828701108694, 0.0, 0.0, 0.0], [0.7773910164833069, 0.0037229065783321857, 0.022378159686923027, 0.015139506198465824, 0.017408261075615883, 0.002416654024273157, 0.0007095659384503961, 0.0007399598835036159, 0.13850027322769165, 0.0023606542963534594, 0.005776858422905207, 0.002801443450152874, 0.010654659941792488, 0.0, 0.0], [0.9735959768295288, 0.001281259348616004, 0.002617946360260248, 9.89187101367861e-05, 0.0005098520196042955, 0.00012000654533039778, 0.00045229741954244673, 0.00010779693548101932, 0.0029545268043875694, 0.0016443931963294744, 0.0012141303159296513, 0.00018637243192642927, 0.0008510793559253216, 0.01436532847583294, 0.0], [0.09902853518724442, 0.0009710828890092671, 0.0641322061419487, 0.00524701876565814, 0.8110417723655701, 8.25033857836388e-05, 6.596866296604276e-05, 0.0011991404462605715, 0.0008852770552039146, 0.00024891187786124647, 0.010336349718272686, 7.952364103402942e-05, 0.004943316336721182, 0.000289186486043036, 0.0014492416521534324]]], \"attentionHeadNames\": [\"L10H7\", \"L11H10\", \"L9H9\"], \"tokens\": [\"<|endoftext|>\", \"When\", \" John\", \" and\", \" Mary\", \" went\", \" to\", \" the\", \" shops\", \",\", \" John\", \" gave\", \" the\", \" bag\", \" to\"]}\n",
              "    )\n",
              "    </script></div>"
            ],
            "text/plain": [
              "<IPython.core.display.HTML object>"
            ]
          },
          "execution_count": 48,
          "metadata": {},
          "output_type": "execute_result"
        }
      ],
      "source": [
        "top_k = 10\n",
        "top_heads_by_output_patch = torch.topk(\n",
        "    patched_head_z_diff.abs().flatten(), k=top_k\n",
        ").indices\n",
        "first_mid_layer = 7\n",
        "first_late_layer = 9\n",
        "early_heads = top_heads_by_output_patch[\n",
        "    top_heads_by_output_patch < model.cfg.n_heads * first_mid_layer\n",
        "]\n",
        "mid_heads = top_heads_by_output_patch[\n",
        "    torch.logical_and(\n",
        "        model.cfg.n_heads * first_mid_layer <= top_heads_by_output_patch,\n",
        "        top_heads_by_output_patch < model.cfg.n_heads * first_late_layer,\n",
        "    )\n",
        "]\n",
        "late_heads = top_heads_by_output_patch[\n",
        "    model.cfg.n_heads * first_late_layer <= top_heads_by_output_patch\n",
        "]\n",
        "\n",
        "early = visualize_attention_patterns(\n",
        "    early_heads, cache, tokens[0], title=f\"Top Early Heads\"\n",
        ")\n",
        "mid = visualize_attention_patterns(\n",
        "    mid_heads, cache, tokens[0], title=f\"Top Middle Heads\"\n",
        ")\n",
        "late = visualize_attention_patterns(\n",
        "    late_heads, cache, tokens[0], title=f\"Top Late Heads\"\n",
        ")\n",
        "\n",
        "HTML(early + mid + late)"
      ]
    },
    {
      "cell_type": "markdown",
      "metadata": {
        "id": "zdNG-Fl4UvqH"
      },
      "source": [
        "### Comparing to the Paper\n",
        "\n",
        "We can now refer to the (far, far more rigorous and detailed) analysis in the paper to compare our results! Here's the diagram they give of their results.\n",
        "\n",
        "![IOI1](https://pbs.twimg.com/media/FghGkTAWAAAmkhm.jpg)\n",
        "\n",
        "(Head 1.2 in their notation is L1H2 in my notation etc. And note - in the [latest version of the paper](https://arxiv.org/pdf/2211.00593.pdf) they add 9.0 as a backup name mover, and remove 11.3)\n",
        "\n",
        "The heads form three categories corresponding to the early, middle and late categories we found and we did fairly well! Definitely not perfect, but with some fairly generic techniques and some a priori reasoning, we found the broad strokes of the circuit and what it looks like. We focused on the most important heads, so we didn't find all relevant heads in each category (especially not the heads in brackets, which are more minor), but this serves as a good base for doing more rigorous and involved analysis, especially for finding the *complete* circuit (ie all of the parts of the model which participate in this behaviour) rather than just a partial and suggestive circuit. Go check out [their paper](https://arxiv.org/abs/2211.00593) or [our interview](https://www.youtube.com/watch?v=gzwj0jWbvbo) to learn more about what they did and what they found!\n",
        "\n",
        "Breaking down their categories:\n",
        "\n",
        "* Early: The duplicate token heads, previous token heads and induction heads. These serve the purpose of detecting that the second subject is duplicated and which earlier name is the duplicate.\n",
        "    * We found a direct duplicate token head which behaves exactly as expected, L3H0. Heads L5H0 and L6H9 are induction heads, which explains why they don't attend directly to the earlier copy of John!\n",
        "    * Note that the duplicate token heads and induction heads do not compose with each other - both directly add to the S-Inhibition heads. The diagram is somewhat misleading.\n",
        "* Middle: They call these S-Inhibition heads - they copy the information about the duplicate token from the second subject to the to token, and their output is used to *inhibit* the attention paid from the name movers to the first subject copy. We found all these heads, and had a decent guess for what they did.\n",
        "    * In either case they attend to the second subject, so the patch that mattered was their value vectors!\n",
        "* Late: They call these name movers, and we found some of them. They attend from the final token to the indirect object name and copy that to the logits, using the S-Inhibition heads to inhibit attention to the first copy of the subject token.\n",
        "    * We did find their surprising result of *negative* name movers - name movers that inhibit the correct answer!\n",
        "    * They have an entire category of heads we missed called backup name movers - we'll get to these later.\n",
        "\n",
        "So, now, let's dig into the two anomalies we missed - induction heads and backup name mover heads"
      ]
    },
    {
      "cell_type": "markdown",
      "metadata": {
        "id": "cThqhov9UvqH"
      },
      "source": [
        "## Bonus: Exploring Anomalies"
      ]
    },
    {
      "cell_type": "markdown",
      "metadata": {
        "id": "PDxtfytTUvqH"
      },
      "source": [
        "### Early Heads are Induction Heads(?!)\n",
        "\n",
        "A really weird observation is that some of the early heads detecting duplicated tokens are induction heads, not just direct duplicate token heads. This is very weird! What's up with that?\n",
        "\n",
        "First off, what's an induction head? An induction head is an important type of attention head that can detect and continue repeated sequences. It is the second head in a two head induction circuit, which looks for previous copies of the current token and attends to the token *after* it, and then copies that to the current position and predicts that it will come next. They're enough of a big deal that [we wrote a whole paper on them](https://transformer-circuits.pub/2022/in-context-learning-and-induction-heads/index.html).\n",
        "\n",
        "![Move image demo](https://pbs.twimg.com/media/FNWAzXjVEAEOGRe.jpg)\n",
        "\n",
        "Second, why is it surprising that they come up here? It's surprising because it feels like overkill. The model doesn't care about *what* token comes after the first copy of the subject, just that it's duplicated. And it already has simpler duplicate token heads. My best guess is that it just already had induction heads around and that, in addition to their main function, they *also* only activate on duplicated tokens. So it was useful to repurpose this existing machinery.\n",
        "\n",
        "This suggests that as we look for circuits in larger models life may get more and more complicated, as components in simpler circuits get repurposed and built upon."
      ]
    },
    {
      "cell_type": "markdown",
      "metadata": {
        "id": "Z-6Tc8FHUvqH"
      },
      "source": [
        "We can verify that these are induction heads by running the model on repeated text and plotting the heads."
      ]
    },
    {
      "cell_type": "code",
      "execution_count": 49,
      "metadata": {
        "id": "hmDBLsHwUvqH"
      },
      "outputs": [],
      "source": [
        "example_text = \"Research in mechanistic interpretability seeks to explain behaviors of machine learning models in terms of their internal components.\"\n",
        "example_repeated_text = example_text + example_text\n",
        "example_repeated_tokens = model.to_tokens(example_repeated_text, prepend_bos=True)\n",
        "example_repeated_logits, example_repeated_cache = model.run_with_cache(\n",
        "    example_repeated_tokens\n",
        ")\n",
        "induction_head_labels = [81, 65]"
      ]
    },
    {
      "cell_type": "code",
      "execution_count": 50,
      "metadata": {
        "colab": {
          "base_uri": "https://localhost:8080/",
          "height": 1000
        },
        "id": "c3QWgsZwUvqH",
        "outputId": "50287749-441e-4436-c4b6-269324a71210"
      },
      "outputs": [
        {
          "data": {
            "text/html": [
              "<div style='max-width: 800px;'><h2>Induction Heads</h2><br/><div id=\"circuits-vis-009ac66b-11d0\" style=\"margin: 15px 0;\"/>\n",
              "    <script crossorigin type=\"module\">\n",
              "    import { render, AttentionHeads } from \"https://unpkg.com/circuitsvis@1.43.2/dist/cdn/esm.js\";\n",
              "    render(\n",
              "      \"circuits-vis-009ac66b-11d0\",\n",
              "      AttentionHeads,\n",
              "      {\"attention\": [[[1.0, 0.0, 0.0, 0.0, 0.0, 0.0, 0.0, 0.0, 0.0, 0.0, 0.0, 0.0, 0.0, 0.0, 0.0, 0.0, 0.0, 0.0, 0.0, 0.0, 0.0, 0.0, 0.0, 0.0, 0.0, 0.0, 0.0, 0.0, 0.0, 0.0, 0.0, 0.0, 0.0, 0.0, 0.0, 0.0, 0.0, 0.0, 0.0, 0.0, 0.0, 0.0, 0.0], [0.9995203018188477, 0.00047967658611014485, 0.0, 0.0, 0.0, 0.0, 0.0, 0.0, 0.0, 0.0, 0.0, 0.0, 0.0, 0.0, 0.0, 0.0, 0.0, 0.0, 0.0, 0.0, 0.0, 0.0, 0.0, 0.0, 0.0, 0.0, 0.0, 0.0, 0.0, 0.0, 0.0, 0.0, 0.0, 0.0, 0.0, 0.0, 0.0, 0.0, 0.0, 0.0, 0.0, 0.0, 0.0], [0.9989193677902222, 0.00011719651956809685, 0.0009635166497901082, 0.0, 0.0, 0.0, 0.0, 0.0, 0.0, 0.0, 0.0, 0.0, 0.0, 0.0, 0.0, 0.0, 0.0, 0.0, 0.0, 0.0, 0.0, 0.0, 0.0, 0.0, 0.0, 0.0, 0.0, 0.0, 0.0, 0.0, 0.0, 0.0, 0.0, 0.0, 0.0, 0.0, 0.0, 0.0, 0.0, 0.0, 0.0, 0.0, 0.0], [0.999607503414154, 4.175249341642484e-05, 9.658391718403436e-06, 0.00034111845889128745, 0.0, 0.0, 0.0, 0.0, 0.0, 0.0, 0.0, 0.0, 0.0, 0.0, 0.0, 0.0, 0.0, 0.0, 0.0, 0.0, 0.0, 0.0, 0.0, 0.0, 0.0, 0.0, 0.0, 0.0, 0.0, 0.0, 0.0, 0.0, 0.0, 0.0, 0.0, 0.0, 0.0, 0.0, 0.0, 0.0, 0.0, 0.0, 0.0], [0.9989573955535889, 3.091451435466297e-05, 1.2123881788284052e-05, 0.00024593702983111143, 0.0007535316981375217, 0.0, 0.0, 0.0, 0.0, 0.0, 0.0, 0.0, 0.0, 0.0, 0.0, 0.0, 0.0, 0.0, 0.0, 0.0, 0.0, 0.0, 0.0, 0.0, 0.0, 0.0, 0.0, 0.0, 0.0, 0.0, 0.0, 0.0, 0.0, 0.0, 0.0, 0.0, 0.0, 0.0, 0.0, 0.0, 0.0, 0.0, 0.0], [0.9994303584098816, 3.227220440749079e-05, 2.1622607164317742e-05, 0.00043822461157105863, 4.195743167656474e-05, 3.5627188481157646e-05, 0.0, 0.0, 0.0, 0.0, 0.0, 0.0, 0.0, 0.0, 0.0, 0.0, 0.0, 0.0, 0.0, 0.0, 0.0, 0.0, 0.0, 0.0, 0.0, 0.0, 0.0, 0.0, 0.0, 0.0, 0.0, 0.0, 0.0, 0.0, 0.0, 0.0, 0.0, 0.0, 0.0, 0.0, 0.0, 0.0, 0.0], [0.998076319694519, 1.6860116375028156e-05, 2.0439838408492506e-06, 6.71973466523923e-05, 1.810857952477818e-07, 0.0001643027935642749, 0.0016730459174141288, 0.0, 0.0, 0.0, 0.0, 0.0, 0.0, 0.0, 0.0, 0.0, 0.0, 0.0, 0.0, 0.0, 0.0, 0.0, 0.0, 0.0, 0.0, 0.0, 0.0, 0.0, 0.0, 0.0, 0.0, 0.0, 0.0, 0.0, 0.0, 0.0, 0.0, 0.0, 0.0, 0.0, 0.0, 0.0, 0.0], [0.9989305138587952, 0.00013402766489889473, 1.5985369827831164e-05, 0.0004916199832223356, 6.565107923961477e-08, 6.484161986008985e-06, 1.1354778507666197e-05, 0.0004098910139873624, 0.0, 0.0, 0.0, 0.0, 0.0, 0.0, 0.0, 0.0, 0.0, 0.0, 0.0, 0.0, 0.0, 0.0, 0.0, 0.0, 0.0, 0.0, 0.0, 0.0, 0.0, 0.0, 0.0, 0.0, 0.0, 0.0, 0.0, 0.0, 0.0, 0.0, 0.0, 0.0, 0.0, 0.0, 0.0], [0.9949487447738647, 0.0005971423233859241, 1.4574263332178816e-05, 0.0018354561179876328, 9.743301916387281e-07, 7.463620568159968e-05, 5.586372481047874e-06, 0.0002028986782534048, 0.0023199894931167364, 0.0, 0.0, 0.0, 0.0, 0.0, 0.0, 0.0, 0.0, 0.0, 0.0, 0.0, 0.0, 0.0, 0.0, 0.0, 0.0, 0.0, 0.0, 0.0, 0.0, 0.0, 0.0, 0.0, 0.0, 0.0, 0.0, 0.0, 0.0, 0.0, 0.0, 0.0, 0.0, 0.0, 0.0], [0.9855782985687256, 6.499145820271224e-05, 8.181583689292893e-05, 0.0024699470959603786, 4.049623569812866e-08, 3.498103978927247e-05, 0.0015608821995556355, 0.0018861356656998396, 0.00011740407353499904, 0.00820555817335844, 0.0, 0.0, 0.0, 0.0, 0.0, 0.0, 0.0, 0.0, 0.0, 0.0, 0.0, 0.0, 0.0, 0.0, 0.0, 0.0, 0.0, 0.0, 0.0, 0.0, 0.0, 0.0, 0.0, 0.0, 0.0, 0.0, 0.0, 0.0, 0.0, 0.0, 0.0, 0.0, 0.0], [0.9950633645057678, 0.00021361011022236198, 0.0001461313950130716, 0.00030726229306310415, 2.2922080461285077e-05, 0.00023850756406318396, 1.9861390683217905e-05, 0.0009607878164388239, 0.00013654331269208342, 0.0016751227667555213, 0.0012159617617726326, 0.0, 0.0, 0.0, 0.0, 0.0, 0.0, 0.0, 0.0, 0.0, 0.0, 0.0, 0.0, 0.0, 0.0, 0.0, 0.0, 0.0, 0.0, 0.0, 0.0, 0.0, 0.0, 0.0, 0.0, 0.0, 0.0, 0.0, 0.0, 0.0, 0.0, 0.0, 0.0], [0.9907191395759583, 0.00013381309690885246, 3.014615685970057e-06, 0.002397411037236452, 2.1563122572842985e-05, 0.000424162921262905, 1.3834222045261413e-05, 5.452393088489771e-05, 2.246499207103625e-05, 0.0017353295115754008, 0.002256514737382531, 0.002218205016106367, 0.0, 0.0, 0.0, 0.0, 0.0, 0.0, 0.0, 0.0, 0.0, 0.0, 0.0, 0.0, 0.0, 0.0, 0.0, 0.0, 0.0, 0.0, 0.0, 0.0, 0.0, 0.0, 0.0, 0.0, 0.0, 0.0, 0.0, 0.0, 0.0, 0.0, 0.0], [0.9976303577423096, 7.049016858218238e-05, 1.2420551911418443e-06, 6.923179898876697e-05, 0.000747633574064821, 0.0007635915535502136, 7.526663466705941e-06, 7.549758447567001e-05, 2.769233446997532e-07, 9.996321750804782e-05, 3.433542951825075e-05, 0.00019309749768581241, 0.0003068299556616694, 0.0, 0.0, 0.0, 0.0, 0.0, 0.0, 0.0, 0.0, 0.0, 0.0, 0.0, 0.0, 0.0, 0.0, 0.0, 0.0, 0.0, 0.0, 0.0, 0.0, 0.0, 0.0, 0.0, 0.0, 0.0, 0.0, 0.0, 0.0, 0.0, 0.0], [0.9413585662841797, 0.0009730339515954256, 0.0004518731730058789, 0.0012102582259103656, 2.0859847609244753e-06, 0.0018085282063111663, 1.965550472959876e-05, 0.039661262184381485, 0.0004176597576588392, 0.0030351958703249693, 0.0026040629018098116, 0.00038386275991797447, 0.007335419300943613, 0.000738470465876162, 0.0, 0.0, 0.0, 0.0, 0.0, 0.0, 0.0, 0.0, 0.0, 0.0, 0.0, 0.0, 0.0, 0.0, 0.0, 0.0, 0.0, 0.0, 0.0, 0.0, 0.0, 0.0, 0.0, 0.0, 0.0, 0.0, 0.0, 0.0, 0.0], [0.98450767993927, 0.00010836256842594594, 2.4642658900120296e-05, 0.00042062357533723116, 1.2694034694504808e-06, 0.00011915779759874567, 9.773622878128663e-05, 0.0023661735467612743, 0.0003619119815994054, 0.003964307252317667, 0.0009553332929499447, 0.0006011743680574, 0.002696618437767029, 0.00010731021029641852, 0.00366759835742414, 0.0, 0.0, 0.0, 0.0, 0.0, 0.0, 0.0, 0.0, 0.0, 0.0, 0.0, 0.0, 0.0, 0.0, 0.0, 0.0, 0.0, 0.0, 0.0, 0.0, 0.0, 0.0, 0.0, 0.0, 0.0, 0.0, 0.0, 0.0], [0.9236851334571838, 0.00042204311466775835, 1.1906843610631768e-05, 0.03695932403206825, 0.00012378059909678996, 0.0005373564781621099, 0.0029661483131349087, 0.0006544990465044975, 5.2796080126427114e-05, 0.007721546106040478, 0.013184604234993458, 7.147179712774232e-05, 0.009510375559329987, 0.0007938630296848714, 0.0006112097180448472, 0.002694066846743226, 0.0, 0.0, 0.0, 0.0, 0.0, 0.0, 0.0, 0.0, 0.0, 0.0, 0.0, 0.0, 0.0, 0.0, 0.0, 0.0, 0.0, 0.0, 0.0, 0.0, 0.0, 0.0, 0.0, 0.0, 0.0, 0.0, 0.0], [0.9707467555999756, 7.25058707757853e-05, 4.715010391009855e-07, 0.0007666999590583146, 1.6137819329742342e-06, 4.3756732338806614e-05, 0.00013073367881588638, 0.0010341583983972669, 0.000541804707609117, 0.0066409483551979065, 0.014592590741813183, 0.0001845812948886305, 0.0039357892237603664, 3.716354058269644e-06, 2.8840759114245884e-05, 0.0008475397480651736, 0.00042747490806505084, 0.0, 0.0, 0.0, 0.0, 0.0, 0.0, 0.0, 0.0, 0.0, 0.0, 0.0, 0.0, 0.0, 0.0, 0.0, 0.0, 0.0, 0.0, 0.0, 0.0, 0.0, 0.0, 0.0, 0.0, 0.0, 0.0], [0.9573937058448792, 0.0001959982910193503, 2.3228503209793416e-07, 0.0033897149842232466, 9.589925866748672e-07, 5.782735752291046e-05, 1.3954346286482178e-05, 9.882848098641261e-05, 0.0001484968524891883, 0.006945927161723375, 0.015626341104507446, 8.080909537966363e-06, 0.01118206512182951, 6.349539034999907e-06, 2.5934630684787408e-05, 0.00012999321916140616, 0.0007364024640992284, 0.0040392703376710415, 0.0, 0.0, 0.0, 0.0, 0.0, 0.0, 0.0, 0.0, 0.0, 0.0, 0.0, 0.0, 0.0, 0.0, 0.0, 0.0, 0.0, 0.0, 0.0, 0.0, 0.0, 0.0, 0.0, 0.0, 0.0], [0.9906195402145386, 6.466334161814302e-05, 9.901234534481773e-07, 0.0002127401385223493, 1.4795834431424737e-05, 0.00017918703088071197, 6.777994713047519e-06, 7.372225081780925e-05, 0.0002996256807819009, 0.0013087086845189333, 0.0005674035637639463, 0.0011630486696958542, 0.002864943817257881, 9.635425521992147e-05, 8.433802577201277e-05, 0.000287683738861233, 4.3501233449205756e-05, 0.00038703493191860616, 0.0017249291995540261, 0.0, 0.0, 0.0, 0.0, 0.0, 0.0, 0.0, 0.0, 0.0, 0.0, 0.0, 0.0, 0.0, 0.0, 0.0, 0.0, 0.0, 0.0, 0.0, 0.0, 0.0, 0.0, 0.0, 0.0], [0.9956457018852234, 2.6692609026213177e-05, 3.946094651041676e-08, 0.0011813784949481487, 1.471557879995089e-05, 0.00014451867900788784, 0.00043700667447410524, 3.2137613743543625e-05, 8.180467858664997e-08, 9.595022129360586e-05, 0.0007029102998785675, 1.2536586837086361e-05, 0.00018710526637732983, 0.00011147724580951035, 7.007011504356342e-07, 4.4111429815529846e-06, 0.0007388260564766824, 4.97325981996255e-06, 9.905389015330002e-05, 0.0005597183480858803, 0.0, 0.0, 0.0, 0.0, 0.0, 0.0, 0.0, 0.0, 0.0, 0.0, 0.0, 0.0, 0.0, 0.0, 0.0, 0.0, 0.0, 0.0, 0.0, 0.0, 0.0, 0.0, 0.0], [0.9956768155097961, 3.464370820438489e-05, 5.037114902961548e-08, 0.00012908702774439007, 3.528785327944206e-06, 8.075713594735134e-06, 3.118976383120753e-05, 6.715238123433664e-05, 1.5350565263361204e-07, 0.00010576446948107332, 0.0004207962774671614, 4.7395940782735124e-05, 0.0001738043356454, 3.9103101698856335e-06, 3.713012802109006e-06, 6.0502967244246975e-05, 4.920066930935718e-05, 4.5886663428973407e-05, 0.0002990032662637532, 0.00027883463189937174, 0.002560459775850177, 0.0, 0.0, 0.0, 0.0, 0.0, 0.0, 0.0, 0.0, 0.0, 0.0, 0.0, 0.0, 0.0, 0.0, 0.0, 0.0, 0.0, 0.0, 0.0, 0.0, 0.0, 0.0], [0.9873837828636169, 0.0027358082588762045, 1.09640359369223e-05, 0.0005862349644303322, 6.101590770413168e-06, 6.327818118734285e-05, 2.1912048396188766e-05, 0.0003378754190634936, 6.588618271052837e-05, 0.0013113364111632109, 0.0019715456292033195, 0.00013529103307519108, 0.0018900413997471333, 0.00018076199921779335, 0.0002610664814710617, 0.00037815608084201813, 9.486180351814255e-05, 4.875268859905191e-05, 0.0003568365646060556, 0.0007243863074108958, 0.00010285373718943447, 0.0013322194572538137, 0.0, 0.0, 0.0, 0.0, 0.0, 0.0, 0.0, 0.0, 0.0, 0.0, 0.0, 0.0, 0.0, 0.0, 0.0, 0.0, 0.0, 0.0, 0.0, 0.0, 0.0], [0.38080424070358276, 0.0052290260791778564, 0.6019284129142761, 0.006041396409273148, 3.194482997059822e-05, 4.27003760705702e-05, 8.645898924442008e-05, 0.0006069979863241315, 0.0006299747619777918, 0.0009579949546605349, 0.0006117234588600695, 0.00024893941008485854, 0.0002464638091623783, 6.495623529190198e-05, 0.0006897072889842093, 0.00021990961977280676, 7.00271048117429e-05, 0.00014192238450050354, 2.700341610761825e-05, 5.169451469555497e-05, 4.572323177853832e-06, 0.0002989705535583198, 0.0009650229476392269, 0.0, 0.0, 0.0, 0.0, 0.0, 0.0, 0.0, 0.0, 0.0, 0.0, 0.0, 0.0, 0.0, 0.0, 0.0, 0.0, 0.0, 0.0, 0.0, 0.0], [0.5637966394424438, 0.00857650488615036, 0.004927228670567274, 0.3419382572174072, 2.1189320250414312e-05, 0.00020753777062054724, 0.00035932002356275916, 0.0014688498340547085, 0.0003070342354476452, 0.02934197150170803, 0.004261506721377373, 8.383036401937716e-06, 0.0024304059334099293, 9.930065425578505e-05, 0.0005422984249889851, 9.130277612712234e-05, 0.03218026086688042, 7.99008848844096e-05, 0.00038109312299638987, 0.0001083763490896672, 3.338039823574945e-05, 0.0008215130656026304, 0.001781002152711153, 0.006236824672669172, 0.0, 0.0, 0.0, 0.0, 0.0, 0.0, 0.0, 0.0, 0.0, 0.0, 0.0, 0.0, 0.0, 0.0, 0.0, 0.0, 0.0, 0.0, 0.0], [0.37409302592277527, 0.00012492523819673806, 8.869198609318119e-06, 0.0009476628620177507, 0.6135847568511963, 0.0025169760920107365, 0.0002441519754938781, 5.6423526984872296e-05, 1.7959886235985323e-06, 0.00044393615098670125, 5.296093149809167e-05, 0.0001609590108273551, 0.0007701241411268711, 0.005056822206825018, 1.3820218555338215e-05, 5.8823345170821995e-05, 0.00018946045020129532, 0.0001265484606847167, 3.178484985255636e-05, 6.542123446706682e-05, 1.7726668374962173e-05, 0.0008768252446316183, 0.00038723868783563375, 9.015344062390795e-07, 0.0001680403802311048, 0.0, 0.0, 0.0, 0.0, 0.0, 0.0, 0.0, 0.0, 0.0, 0.0, 0.0, 0.0, 0.0, 0.0, 0.0, 0.0, 0.0, 0.0], [0.18932867050170898, 0.00035223644226789474, 1.1454510058683809e-05, 0.0007540036458522081, 0.0030708075501024723, 0.7761416435241699, 5.7844357797876e-05, 0.004086366854608059, 1.6755235265009105e-05, 0.0018927197670564055, 0.000316364923492074, 0.0005395820480771363, 0.005218222737312317, 0.007962388917803764, 0.004062096122652292, 0.002489617094397545, 1.4082437701290473e-05, 1.4990790077717975e-05, 0.00015581304614897817, 0.00039969838690012693, 5.508803224074654e-05, 0.0019400607561692595, 0.0003281836397945881, 1.412311974036129e-07, 8.962308129412122e-06, 0.0007822568877600133, 0.0, 0.0, 0.0, 0.0, 0.0, 0.0, 0.0, 0.0, 0.0, 0.0, 0.0, 0.0, 0.0, 0.0, 0.0, 0.0, 0.0], [0.020108399912714958, 2.6355583031545393e-05, 2.733346946115489e-06, 0.0002452966582495719, 1.4769937479286455e-05, 2.0046027202624828e-05, 0.9765579104423523, 0.0007374218548648059, 2.233240593341179e-06, 0.00016837158182170242, 0.0013784437905997038, 1.0426787184769637e-06, 9.273777686757967e-05, 6.001157544233138e-06, 1.8524962797528133e-05, 7.49039973015897e-05, 2.8922324418090284e-05, 4.028308467241004e-05, 1.9591727323131636e-05, 2.944990774267353e-05, 8.47641331347404e-06, 0.00025614610058255494, 5.941186464042403e-05, 2.0145162693552265e-07, 7.743869355181232e-05, 7.49450373405125e-06, 1.742761924106162e-05, 0.0, 0.0, 0.0, 0.0, 0.0, 0.0, 0.0, 0.0, 0.0, 0.0, 0.0, 0.0, 0.0, 0.0, 0.0, 0.0], [0.2227802276611328, 0.0025939911138266325, 2.901130073951208e-06, 0.0005522925639525056, 1.9044117607336375e-06, 0.0006727963918820024, 0.002130653942003846, 0.6761499047279358, 6.977621524129063e-05, 0.0037763158325105906, 0.06293285638093948, 0.001586599973961711, 0.0017082234844565392, 3.8815061998320743e-05, 0.009209943935275078, 0.0013166195712983608, 0.00018038900452665985, 0.0012674994068220258, 0.0018657507607713342, 0.000992511515505612, 3.759014725801535e-05, 0.006426866631954908, 0.0020985305309295654, 3.3771772223190055e-07, 2.868694173230324e-05, 2.6980981715496455e-07, 0.000251806020969525, 0.0013259504921734333, 0.0, 0.0, 0.0, 0.0, 0.0, 0.0, 0.0, 0.0, 0.0, 0.0, 0.0, 0.0, 0.0, 0.0, 0.0], [0.08230322599411011, 0.0005252960836514831, 4.2606475290085655e-06, 0.0006264048861339688, 8.583457145050488e-08, 4.224420081300195e-06, 4.716593139164615e-06, 0.00039614312117919326, 0.8586450815200806, 0.05151989310979843, 0.002633955329656601, 1.6450600014650263e-05, 0.0006709648878313601, 1.5013055190138402e-06, 9.040282748173922e-05, 7.098255446180701e-05, 7.72733983467333e-06, 0.00020618656708393246, 0.0005296015879139304, 0.0013012818526476622, 5.2624262281142364e-08, 9.972603584174067e-05, 0.00018814776558429003, 2.380550313318963e-06, 6.255413609324023e-05, 3.802476555847534e-08, 9.557952580507845e-07, 3.836779342236696e-06, 8.390744915232062e-05, 0.0, 0.0, 0.0, 0.0, 0.0, 0.0, 0.0, 0.0, 0.0, 0.0, 0.0, 0.0, 0.0, 0.0], [0.4652339220046997, 0.004093334078788757, 6.743429366906639e-06, 0.00412183441221714, 5.443490636025672e-07, 5.419616718427278e-05, 9.295230825046019e-07, 0.0002601756132207811, 0.009076246060431004, 0.5008084177970886, 0.0023183836601674557, 2.4238628611783497e-05, 0.0030431465711444616, 4.682189683080651e-05, 0.00012087421782780439, 0.0001290332875214517, 0.00011785412789322436, 4.014387377537787e-05, 0.0024619558826088905, 0.003423013025894761, 1.7263928384636529e-06, 0.0002791084989439696, 0.002281593857333064, 4.889820957032498e-06, 0.0002508987672626972, 2.817847644109861e-07, 1.0507178558327723e-05, 1.0710270998970373e-06, 4.7869929403532296e-05, 0.0017402982339262962, 0.0, 0.0, 0.0, 0.0, 0.0, 0.0, 0.0, 0.0, 0.0, 0.0, 0.0, 0.0, 0.0], [0.3585169017314911, 0.0011027742875739932, 0.00016593238979112357, 0.01335781067609787, 2.5467846853644005e-07, 6.18532722000964e-05, 0.005729354452341795, 0.010611996985971928, 0.0007551885209977627, 0.06400910764932632, 0.4949069321155548, 8.391532173845917e-05, 0.005665616597980261, 2.1221455881459406e-06, 0.000281403394183144, 0.0004684636078309268, 0.00041582100675441325, 0.0012447132030501962, 0.012713367119431496, 0.0010433262214064598, 1.1126503522973508e-05, 0.001142079127021134, 0.0006368821486830711, 7.04239500919357e-05, 0.002744999947026372, 1.2284689887565037e-07, 1.4838302377029322e-05, 0.0051102708093822, 0.004603638779371977, 0.00015697012713644654, 0.014371775090694427, 0.0, 0.0, 0.0, 0.0, 0.0, 0.0, 0.0, 0.0, 0.0, 0.0, 0.0, 0.0], [0.38702788949012756, 0.0012950845994055271, 4.0595270547783e-05, 0.0016053697327151895, 5.9154670452699065e-05, 0.00023957413213793188, 2.7291360311210155e-05, 0.004568342585116625, 0.0004761870368383825, 0.01562528870999813, 0.011085627600550652, 0.4952244460582733, 0.03870175778865814, 0.0002671679249033332, 0.0020083205308765173, 0.004042855929583311, 0.0003264124970883131, 0.0036370146553963423, 0.005066343583166599, 0.003996877931058407, 5.8714504120871425e-06, 0.012405109591782093, 0.004702393431216478, 1.1574748896236997e-05, 0.0001442650391254574, 1.3831986507284455e-05, 7.560406811535358e-05, 1.5469950085389428e-05, 0.002026753732934594, 3.810090129263699e-05, 0.003570316359400749, 0.0016691484488546848, 0.0, 0.0, 0.0, 0.0, 0.0, 0.0, 0.0, 0.0, 0.0, 0.0, 0.0], [0.4725516736507416, 0.0012542848708108068, 1.6021378996811109e-06, 0.007470527198165655, 2.0981073248549365e-05, 0.00022496016754303128, 3.1447714263777016e-06, 0.0001559993834234774, 5.6978267821250483e-05, 0.008746342733502388, 0.00650102598592639, 0.005835695657879114, 0.4674137830734253, 0.0013900228077545762, 0.0022286183666437864, 0.0015983190387487411, 0.0009148843819275498, 4.252983126207255e-05, 0.007089745718985796, 0.0029377867467701435, 9.027445230458397e-06, 0.0025265817530453205, 0.004196937195956707, 9.686211797088617e-07, 0.0005582970916293561, 1.8584763893159106e-05, 8.944956061895937e-05, 6.846856649644906e-06, 7.68067839089781e-05, 1.4904536328685936e-05, 0.0030944340396672487, 0.0010494368616491556, 0.0019187163561582565, 0.0, 0.0, 0.0, 0.0, 0.0, 0.0, 0.0, 0.0, 0.0, 0.0], [0.1430497169494629, 0.00016882272029761225, 5.145517434357316e-07, 0.00013525423128157854, 0.0016709648771211505, 0.0005643671611323953, 4.049823019158794e-06, 4.103495666640811e-05, 6.743650260432332e-07, 0.0002663614577613771, 3.5424305679043755e-05, 0.0003840407298412174, 0.0011047705775126815, 0.8484553694725037, 0.00022314817761071026, 0.0012599597685039043, 2.182326170441229e-05, 4.023316932943999e-07, 9.149222933046985e-06, 7.982214447110891e-05, 3.274951086496003e-05, 0.0008183338213711977, 0.00027380691608414054, 6.036059829739315e-08, 5.658011559717124e-06, 0.0007130113081075251, 0.0002614622935652733, 3.5882349038729444e-06, 2.1928575733909383e-05, 4.1590965338400565e-08, 0.00011863761028507724, 1.6391015833505662e-06, 3.8121110264910385e-05, 0.0002352952869841829, 0.0, 0.0, 0.0, 0.0, 0.0, 0.0, 0.0, 0.0, 0.0], [0.2432819902896881, 0.000906387169379741, 0.00027179234893992543, 0.0012521813623607159, 3.105606310782605e-06, 0.0017615612596273422, 7.013417871348793e-06, 0.040555182844400406, 0.00035386442323215306, 0.0030454411171376705, 0.0016024978831410408, 0.0006016586557962, 0.009119261987507343, 0.0008690398535691202, 0.6830171942710876, 0.00262630358338356, 0.00010224709694739431, 7.455583727278281e-06, 3.9915565139381215e-05, 0.00021530954109039158, 2.0861668872385053e-06, 0.0007260881830006838, 0.0004009826516266912, 1.7029064110829495e-05, 6.652146839769557e-05, 3.073163554745406e-07, 0.00018005730817094445, 5.35248773303465e-06, 0.007104632444679737, 2.117301119142212e-05, 0.0004474907764233649, 5.9419362514745444e-05, 3.588040272006765e-05, 0.001178029808215797, 0.00011552043724805117, 0.0, 0.0, 0.0, 0.0, 0.0, 0.0, 0.0, 0.0], [0.24816100299358368, 0.0004487377591431141, 9.697791938378941e-06, 0.0010719134006649256, 7.626467322552344e-06, 0.00018865619495045394, 6.339073297567666e-05, 0.004560567904263735, 0.0010741851292550564, 0.015649646520614624, 0.002170299645513296, 0.0007331641972996294, 0.00709714787080884, 0.0004451059503480792, 0.016780352219939232, 0.6907839179039001, 0.0001930251019075513, 0.0003835233219433576, 0.00092487403890118, 0.0018626822857186198, 2.057452235249002e-07, 0.002524254610762, 0.0015590714756399393, 3.324734336729307e-07, 1.708437775960192e-05, 4.2711531023087446e-07, 1.1026295396732166e-05, 4.37853486801032e-06, 0.0001584380806889385, 1.5476616681553423e-05, 0.0009950618259608746, 4.2884465074166656e-05, 5.062411219114438e-05, 0.0009952264372259378, 1.3690211744687986e-05, 0.0010022484930232167, 0.0, 0.0, 0.0, 0.0, 0.0, 0.0, 0.0], [0.15202684700489044, 0.0005997215630486608, 1.1835537407023367e-05, 0.10644830763339996, 9.087703074328601e-05, 0.0003228101704735309, 0.0005420813686214387, 0.0006674145697616041, 0.00022457409068010747, 0.021209990605711937, 0.01974121853709221, 0.00012132866686442867, 0.015024001710116863, 0.0003238548815716058, 0.000343534629791975, 0.003281851066276431, 0.6119692325592041, 0.0022423265036195517, 0.00803436990827322, 0.003956139553338289, 0.0014328195247799158, 0.011238888837397099, 0.0009119222522713244, 1.6120926375151612e-05, 0.03457143157720566, 4.0499799069948494e-05, 7.184935384429991e-05, 0.0005501545965671539, 0.00015637943579349667, 6.361381565511692e-06, 0.0014731729170307517, 0.000995436916127801, 1.2639769920497201e-05, 0.0010144715197384357, 3.702457615872845e-05, 5.788551061414182e-05, 0.00023058753868099302, 0.0, 0.0, 0.0, 0.0, 0.0, 0.0], [0.03544413670897484, 2.0005711121484637e-05, 4.1881051515701984e-08, 0.0003809845948126167, 5.874024964214186e-07, 2.7922726530960063e-06, 2.4253104129456915e-05, 8.103449363261461e-05, 0.00011145293683512136, 0.0027194395661354065, 0.0045459638349711895, 4.0838356653694063e-05, 0.0014099020045250654, 5.68077723528404e-07, 3.1568529266223777e-06, 8.669291855767369e-05, 0.0001365120115224272, 0.8487776517868042, 0.10322113335132599, 0.00040228100260719657, 2.2448311938205734e-06, 0.001458885264582932, 0.00012919226719532162, 6.671073293773588e-08, 7.290305802598596e-05, 3.4448063956915576e-07, 1.4172644569043769e-06, 1.9380217054276727e-05, 4.5302858779905364e-05, 6.377230874932138e-06, 0.00026466272538527846, 0.0004582880937959999, 2.117040094162803e-05, 9.945517376763746e-05, 4.3491215961921625e-08, 3.5648460539050575e-07, 2.450887905069976e-06, 8.022384463401977e-06, 0.0, 0.0, 0.0, 0.0, 0.0], [0.23187559843063354, 0.00036184024065732956, 8.543069185407148e-08, 0.006350448355078697, 1.0386291933173197e-06, 1.7067826775019057e-05, 9.306434549216647e-06, 0.00014515456859953701, 9.007035987451673e-05, 0.0154418358579278, 0.041940897703170776, 8.23416849016212e-06, 0.02268674224615097, 5.495789537235396e-06, 2.1405665393103845e-05, 5.323971709003672e-05, 0.0014441153034567833, 0.005718609783798456, 0.6479282975196838, 0.012128136120736599, 4.02838340960443e-05, 0.0025203346740454435, 0.0007621922413818538, 6.570105881564814e-08, 0.0007668307516723871, 4.5477449361897015e-07, 8.12460439192364e-06, 1.3828539522364736e-05, 3.526929867803119e-05, 9.165401934296824e-06, 0.0020919141825288534, 0.004286757204681635, 3.2024875054048607e-06, 0.0017295238794758916, 5.357112513593165e-07, 2.501865765225375e-06, 2.884935383917764e-06, 8.676938159624115e-05, 0.0014117774553596973, 0.0, 0.0, 0.0, 0.0], [0.3010745644569397, 0.0003067207580897957, 7.21451897334191e-07, 0.001078807981684804, 3.671122613013722e-05, 9.958193550119177e-05, 2.711790557441418e-06, 8.515671652276069e-05, 0.0006431519868783653, 0.006474024150520563, 0.002433911431580782, 0.0026007245760411024, 0.012783799320459366, 0.00010471638233866543, 7.19040326657705e-05, 0.00023829005658626556, 0.00014133010699879378, 0.0010901286732405424, 0.006501628551632166, 0.6442990899085999, 0.0005654622800648212, 0.011171974241733551, 0.0017330500995740294, 3.2667369964656245e-07, 7.26744401617907e-05, 1.7261279936064966e-05, 5.252184928394854e-05, 2.8104568627895787e-06, 2.3941545805428177e-05, 6.632934673689306e-05, 0.0023507263977080584, 0.00014581474533770233, 0.0007032514549791813, 0.0013972979504615068, 3.202349034836516e-05, 2.300892629136797e-05, 2.6867190172197297e-05, 1.7945383660844527e-05, 0.00012095340207451954, 0.0014081046683713794, 0.0, 0.0, 0.0], [0.012865179218351841, 1.5182732568064239e-05, 2.9720250704912132e-09, 0.000287561648292467, 1.2527870012490894e-06, 1.2526299542514607e-05, 4.2502097130636685e-06, 8.04067440185463e-06, 3.2277846173656144e-08, 5.23962480656337e-05, 0.0001359823945676908, 1.0025421488535358e-06, 5.5890206567710266e-05, 7.0125856836966705e-06, 9.724568883484608e-08, 3.212419699138991e-07, 4.6703178668394685e-05, 1.5471506458197837e-06, 1.7591766663827002e-05, 5.334255547495559e-05, 0.9805436730384827, 0.0058067478239536285, 1.8608148820931092e-05, 1.2036799335035653e-09, 3.0451117709162645e-05, 6.754528953933914e-07, 4.565179096971406e-06, 5.748406238126336e-06, 3.3397461720596766e-06, 7.534204371495434e-10, 7.689092853979673e-06, 3.901699983543949e-06, 4.307192469354959e-08, 5.192645176066435e-07, 5.106712706037797e-07, 8.534509987612182e-09, 1.0071505407438508e-08, 2.593115823401604e-06, 1.4836145112440136e-07, 3.509654789013439e-07, 4.402175818540854e-06, 0.0, 0.0], [0.2408875972032547, 0.00038437702460214496, 3.82721943026354e-08, 0.0007521219085901976, 4.4298999455349986e-06, 1.3616972864838317e-05, 1.0370712516305503e-05, 0.0002608846116345376, 2.1804637526656734e-06, 0.0008239730959758162, 0.0025784068275243044, 0.00011274939606664702, 0.0012315281201153994, 3.884347279381473e-06, 3.183462467859499e-05, 0.00015905764303170145, 0.00016030071128625423, 0.0003973097773268819, 0.0017629759386181831, 0.001543103833682835, 0.0018109377706423402, 0.7393370270729065, 0.007521918974816799, 2.4823654243277815e-09, 2.4741690140217543e-05, 3.8828673609714315e-07, 2.5054964680748526e-06, 3.2080492928798776e-06, 4.296127372072078e-05, 2.8116348360640586e-08, 1.3948533705843147e-05, 1.636605338717345e-05, 6.464420948759653e-06, 3.0047169275349006e-05, 1.3072205717890029e-07, 9.608648952053045e-07, 1.7877755453810096e-06, 1.7530661580167362e-06, 4.386929504107684e-06, 1.6938178305281326e-05, 1.717616214591544e-05, 2.5725816158228554e-05, 0.0], [0.5535874962806702, 0.17262482643127441, 5.00005335197784e-05, 0.010427887551486492, 8.656363934278488e-05, 0.0002456619404256344, 5.955375308985822e-05, 0.0010452468413859606, 0.0008384400862269104, 0.013573382049798965, 0.011254155077040195, 0.0031058683525770903, 0.020960070192813873, 0.0010894922306761146, 0.0004093704337719828, 0.0023625968024134636, 0.0016563754761591554, 0.000935800839215517, 0.0033136100973933935, 0.005430564284324646, 0.0010150782763957977, 0.03274613618850708, 0.15709589421749115, 3.374218795215711e-05, 0.0007222527638077736, 2.9409638955257833e-05, 6.137140007922426e-05, 3.093154737143777e-05, 0.00024038417905103415, 4.459171032067388e-05, 0.0006923496839590371, 0.0003041492309421301, 0.00017277043662033975, 0.0012000815477222204, 0.00010697086690925062, 2.836858038790524e-05, 1.842522578954231e-05, 2.822393798851408e-05, 3.7450241507031024e-05, 0.0001193425923702307, 0.0001896153698908165, 3.498664955259301e-05, 0.001990505261346698]], [[1.0, 0.0, 0.0, 0.0, 0.0, 0.0, 0.0, 0.0, 0.0, 0.0, 0.0, 0.0, 0.0, 0.0, 0.0, 0.0, 0.0, 0.0, 0.0, 0.0, 0.0, 0.0, 0.0, 0.0, 0.0, 0.0, 0.0, 0.0, 0.0, 0.0, 0.0, 0.0, 0.0, 0.0, 0.0, 0.0, 0.0, 0.0, 0.0, 0.0, 0.0, 0.0, 0.0], [0.9940896034240723, 0.005910438951104879, 0.0, 0.0, 0.0, 0.0, 0.0, 0.0, 0.0, 0.0, 0.0, 0.0, 0.0, 0.0, 0.0, 0.0, 0.0, 0.0, 0.0, 0.0, 0.0, 0.0, 0.0, 0.0, 0.0, 0.0, 0.0, 0.0, 0.0, 0.0, 0.0, 0.0, 0.0, 0.0, 0.0, 0.0, 0.0, 0.0, 0.0, 0.0, 0.0, 0.0, 0.0], [0.9918997287750244, 0.002507390221580863, 0.005592962261289358, 0.0, 0.0, 0.0, 0.0, 0.0, 0.0, 0.0, 0.0, 0.0, 0.0, 0.0, 0.0, 0.0, 0.0, 0.0, 0.0, 0.0, 0.0, 0.0, 0.0, 0.0, 0.0, 0.0, 0.0, 0.0, 0.0, 0.0, 0.0, 0.0, 0.0, 0.0, 0.0, 0.0, 0.0, 0.0, 0.0, 0.0, 0.0, 0.0, 0.0], [0.9934651255607605, 0.003521314822137356, 0.0002705931547097862, 0.0027428774628788233, 0.0, 0.0, 0.0, 0.0, 0.0, 0.0, 0.0, 0.0, 0.0, 0.0, 0.0, 0.0, 0.0, 0.0, 0.0, 0.0, 0.0, 0.0, 0.0, 0.0, 0.0, 0.0, 0.0, 0.0, 0.0, 0.0, 0.0, 0.0, 0.0, 0.0, 0.0, 0.0, 0.0, 0.0, 0.0, 0.0, 0.0, 0.0, 0.0], [0.9289732575416565, 0.0037408226635307074, 0.00012036800035275519, 0.0024648953694850206, 0.06470069289207458, 0.0, 0.0, 0.0, 0.0, 0.0, 0.0, 0.0, 0.0, 0.0, 0.0, 0.0, 0.0, 0.0, 0.0, 0.0, 0.0, 0.0, 0.0, 0.0, 0.0, 0.0, 0.0, 0.0, 0.0, 0.0, 0.0, 0.0, 0.0, 0.0, 0.0, 0.0, 0.0, 0.0, 0.0, 0.0, 0.0, 0.0, 0.0], [0.9885430335998535, 0.0006141008925624192, 0.00041145511204376817, 0.007392792031168938, 0.000539496832061559, 0.0024990371894091368, 0.0, 0.0, 0.0, 0.0, 0.0, 0.0, 0.0, 0.0, 0.0, 0.0, 0.0, 0.0, 0.0, 0.0, 0.0, 0.0, 0.0, 0.0, 0.0, 0.0, 0.0, 0.0, 0.0, 0.0, 0.0, 0.0, 0.0, 0.0, 0.0, 0.0, 0.0, 0.0, 0.0, 0.0, 0.0, 0.0, 0.0], [0.9694592952728271, 0.0009395437664352357, 2.8261558327358216e-05, 0.0020353845320641994, 2.7116866476717405e-05, 0.008294754661619663, 0.019215643405914307, 0.0, 0.0, 0.0, 0.0, 0.0, 0.0, 0.0, 0.0, 0.0, 0.0, 0.0, 0.0, 0.0, 0.0, 0.0, 0.0, 0.0, 0.0, 0.0, 0.0, 0.0, 0.0, 0.0, 0.0, 0.0, 0.0, 0.0, 0.0, 0.0, 0.0, 0.0, 0.0, 0.0, 0.0, 0.0, 0.0], [0.9474751949310303, 0.005424566566944122, 0.004983067978173494, 0.02165890298783779, 1.2853067346441094e-05, 0.0011076435912400484, 0.0015254105674102902, 0.017812354490160942, 0.0, 0.0, 0.0, 0.0, 0.0, 0.0, 0.0, 0.0, 0.0, 0.0, 0.0, 0.0, 0.0, 0.0, 0.0, 0.0, 0.0, 0.0, 0.0, 0.0, 0.0, 0.0, 0.0, 0.0, 0.0, 0.0, 0.0, 0.0, 0.0, 0.0, 0.0, 0.0, 0.0, 0.0, 0.0], [0.9157276153564453, 0.0064538512378931046, 0.0011921687982976437, 0.040773242712020874, 3.281133831478655e-05, 0.0020338334143161774, 0.00022136347251944244, 0.010999561287462711, 0.022565465420484543, 0.0, 0.0, 0.0, 0.0, 0.0, 0.0, 0.0, 0.0, 0.0, 0.0, 0.0, 0.0, 0.0, 0.0, 0.0, 0.0, 0.0, 0.0, 0.0, 0.0, 0.0, 0.0, 0.0, 0.0, 0.0, 0.0, 0.0, 0.0, 0.0, 0.0, 0.0, 0.0, 0.0, 0.0], [0.8299546241760254, 0.002148768398910761, 0.0021852892823517323, 0.044180866330862045, 1.725423317111563e-05, 0.0014081837143748999, 0.020800676196813583, 0.08762478083372116, 0.0009557147277519107, 0.01072390191257, 0.0, 0.0, 0.0, 0.0, 0.0, 0.0, 0.0, 0.0, 0.0, 0.0, 0.0, 0.0, 0.0, 0.0, 0.0, 0.0, 0.0, 0.0, 0.0, 0.0, 0.0, 0.0, 0.0, 0.0, 0.0, 0.0, 0.0, 0.0, 0.0, 0.0, 0.0, 0.0, 0.0], [0.9581496715545654, 0.004779802169650793, 0.00035514935734681785, 0.0029917957726866007, 0.003290673950687051, 0.007958398200571537, 0.001785591128282249, 0.013284221291542053, 0.00015784852439537644, 0.0009225332760252059, 0.006324381101876497, 0.0, 0.0, 0.0, 0.0, 0.0, 0.0, 0.0, 0.0, 0.0, 0.0, 0.0, 0.0, 0.0, 0.0, 0.0, 0.0, 0.0, 0.0, 0.0, 0.0, 0.0, 0.0, 0.0, 0.0, 0.0, 0.0, 0.0, 0.0, 0.0, 0.0, 0.0, 0.0], [0.9442063570022583, 0.002884162589907646, 4.829686076845974e-05, 0.007261461578309536, 0.0004689009510912001, 0.005381003022193909, 0.00017496042710263282, 0.006957030855119228, 0.00012532557593658566, 0.004074045456945896, 0.01688532344996929, 0.011533154174685478, 0.0, 0.0, 0.0, 0.0, 0.0, 0.0, 0.0, 0.0, 0.0, 0.0, 0.0, 0.0, 0.0, 0.0, 0.0, 0.0, 0.0, 0.0, 0.0, 0.0, 0.0, 0.0, 0.0, 0.0, 0.0, 0.0, 0.0, 0.0, 0.0, 0.0, 0.0], [0.7170509696006775, 0.002926334971562028, 1.3725229109695647e-05, 0.0010318096028640866, 0.121646448969841, 0.14445236325263977, 0.0009355014772154391, 0.005332266911864281, 4.777292815560941e-06, 0.0012480445438995957, 0.0003051093954127282, 0.0019744059536606073, 0.003078178269788623, 0.0, 0.0, 0.0, 0.0, 0.0, 0.0, 0.0, 0.0, 0.0, 0.0, 0.0, 0.0, 0.0, 0.0, 0.0, 0.0, 0.0, 0.0, 0.0, 0.0, 0.0, 0.0, 0.0, 0.0, 0.0, 0.0, 0.0, 0.0, 0.0, 0.0], [0.7894385457038879, 0.002097391989082098, 0.0020317728631198406, 0.010099836625158787, 0.0003691038291435689, 0.06713426113128662, 0.0015302473912015557, 0.08991427719593048, 0.00026953808264806867, 0.005345491226762533, 0.005062635987997055, 0.0006220930954441428, 0.019640136510133743, 0.006444662809371948, 0.0, 0.0, 0.0, 0.0, 0.0, 0.0, 0.0, 0.0, 0.0, 0.0, 0.0, 0.0, 0.0, 0.0, 0.0, 0.0, 0.0, 0.0, 0.0, 0.0, 0.0, 0.0, 0.0, 0.0, 0.0, 0.0, 0.0, 0.0, 0.0], [0.8822969794273376, 0.0018603852950036526, 0.0004073238524142653, 0.0036608208902180195, 0.0005736541352234781, 0.00798853300511837, 0.02257091924548149, 0.02860085852444172, 0.000329215225065127, 0.004256600979715586, 0.0061610909178853035, 0.00104432029183954, 0.02063298039138317, 0.005851130001246929, 0.013765180483460426, 0.0, 0.0, 0.0, 0.0, 0.0, 0.0, 0.0, 0.0, 0.0, 0.0, 0.0, 0.0, 0.0, 0.0, 0.0, 0.0, 0.0, 0.0, 0.0, 0.0, 0.0, 0.0, 0.0, 0.0, 0.0, 0.0, 0.0, 0.0], [0.7869665026664734, 0.004213177599012852, 0.00016774964751675725, 0.06983131170272827, 0.002818062901496887, 0.007715740706771612, 0.03119914047420025, 0.017051273956894875, 0.0001833246642490849, 0.012005711905658245, 0.0176620502024889, 0.0002890080795623362, 0.03032478503882885, 0.004889375995844603, 0.003095779335126281, 0.011586968787014484, 0.0, 0.0, 0.0, 0.0, 0.0, 0.0, 0.0, 0.0, 0.0, 0.0, 0.0, 0.0, 0.0, 0.0, 0.0, 0.0, 0.0, 0.0, 0.0, 0.0, 0.0, 0.0, 0.0, 0.0, 0.0, 0.0, 0.0], [0.9286780953407288, 0.0015812712954357266, 1.4040535916137742e-06, 0.0019428277155384421, 1.10351356852334e-05, 0.0002707969397306442, 0.0020380259957164526, 0.0036648523528128862, 0.00022354292741511017, 0.0007879885379225016, 0.04505372419953346, 0.00048092464567162097, 0.01084890030324459, 3.6125634323980194e-06, 6.594551086891443e-05, 0.0008642224711365998, 0.003482864936813712, 0.0, 0.0, 0.0, 0.0, 0.0, 0.0, 0.0, 0.0, 0.0, 0.0, 0.0, 0.0, 0.0, 0.0, 0.0, 0.0, 0.0, 0.0, 0.0, 0.0, 0.0, 0.0, 0.0, 0.0, 0.0, 0.0], [0.8384726047515869, 0.0026207866612821817, 3.342434865771793e-05, 0.012326452881097794, 7.991532766027376e-05, 0.0034311062190681696, 0.002230373676866293, 0.008115547709167004, 0.0006596810999326408, 0.008109659887850285, 0.06382351368665695, 0.00041881404467858374, 0.03681998327374458, 0.0001210474074468948, 0.0005988296470604837, 0.008628005161881447, 0.003624696284532547, 0.009885558858513832, 0.0, 0.0, 0.0, 0.0, 0.0, 0.0, 0.0, 0.0, 0.0, 0.0, 0.0, 0.0, 0.0, 0.0, 0.0, 0.0, 0.0, 0.0, 0.0, 0.0, 0.0, 0.0, 0.0, 0.0, 0.0], [0.8221608400344849, 0.00579711003229022, 0.00019726956088561565, 0.005305662751197815, 0.0009490092634223402, 0.01202870812267065, 0.001905508222989738, 0.0023990904446691275, 0.010596141219139099, 0.01453951746225357, 0.011935134418308735, 0.011704087257385254, 0.04820110648870468, 0.006271719466894865, 0.006691512186080217, 0.024660605937242508, 0.0056568230502307415, 0.005013407673686743, 0.003986766096204519, 0.0, 0.0, 0.0, 0.0, 0.0, 0.0, 0.0, 0.0, 0.0, 0.0, 0.0, 0.0, 0.0, 0.0, 0.0, 0.0, 0.0, 0.0, 0.0, 0.0, 0.0, 0.0, 0.0, 0.0], [0.953766405582428, 0.0015298700891435146, 5.003973456041422e-06, 0.007204117253422737, 0.00028757579275406897, 0.0017434421461075544, 0.009829391725361347, 0.004322233609855175, 3.136176019324921e-06, 0.00010985491098836064, 0.00846505630761385, 0.00034846848575398326, 0.001301098382100463, 0.0008953087381087244, 6.60636942484416e-05, 5.824409890919924e-05, 0.003766677575185895, 0.0005685411742888391, 0.0014568219194188714, 0.0042726644314825535, 0.0, 0.0, 0.0, 0.0, 0.0, 0.0, 0.0, 0.0, 0.0, 0.0, 0.0, 0.0, 0.0, 0.0, 0.0, 0.0, 0.0, 0.0, 0.0, 0.0, 0.0, 0.0, 0.0], [0.9650991559028625, 0.0014334742445498705, 4.690975856647128e-06, 0.0012125521898269653, 0.0003355547378305346, 0.001238243537954986, 0.0013702671276405454, 0.0025649566669017076, 6.760331530131225e-07, 7.471895514754578e-05, 0.0018755631754174829, 0.0005754436715506017, 0.0028298061806708574, 0.0007055312744341791, 0.0002771466097328812, 0.00048612599493935704, 0.0015694688772782683, 0.00039921869756653905, 0.0028444735798984766, 0.004788621328771114, 0.010314353741705418, 0.0, 0.0, 0.0, 0.0, 0.0, 0.0, 0.0, 0.0, 0.0, 0.0, 0.0, 0.0, 0.0, 0.0, 0.0, 0.0, 0.0, 0.0, 0.0, 0.0, 0.0, 0.0], [0.8593106865882874, 0.020267372950911522, 0.0027771375607699156, 0.013781117275357246, 0.0003003512101713568, 0.00228462228551507, 0.0010426490334793925, 0.00992224458605051, 0.0031336781103163958, 0.00788553711026907, 0.00964284036308527, 0.0018546802457422018, 0.007874749600887299, 0.0011871022870764136, 0.0028241551481187344, 0.0024228193797171116, 0.004221766255795956, 0.004099497105926275, 0.006750855129212141, 0.005874980241060257, 0.0021709625143557787, 0.03037029318511486, 0.0, 0.0, 0.0, 0.0, 0.0, 0.0, 0.0, 0.0, 0.0, 0.0, 0.0, 0.0, 0.0, 0.0, 0.0, 0.0, 0.0, 0.0, 0.0, 0.0, 0.0], [0.10544721782207489, 0.012704908847808838, 0.7639006972312927, 0.088425412774086, 0.00018797804659698159, 0.00026289542438462377, 0.0007833890267647803, 0.0017097055679187179, 0.0024095128756016493, 0.014530522748827934, 0.000673936156090349, 3.582106000976637e-05, 0.0008068833267316222, 0.00015087587235029787, 0.0016638058004900813, 0.0002909528848249465, 0.0019696708768606186, 2.8075142836314626e-05, 8.648973744129762e-05, 0.00018316652858629823, 5.4813768656458706e-05, 0.0004074044991284609, 0.003285802900791168, 0.0, 0.0, 0.0, 0.0, 0.0, 0.0, 0.0, 0.0, 0.0, 0.0, 0.0, 0.0, 0.0, 0.0, 0.0, 0.0, 0.0, 0.0, 0.0, 0.0], [0.33122730255126953, 0.007398670073598623, 0.006046570837497711, 0.3809032142162323, 0.0007559175719507039, 0.0035477797500789165, 0.008508812636137009, 0.022009411826729774, 0.0006401430582627654, 0.06486514955759048, 0.012087884359061718, 2.1607465896522626e-05, 0.00476670591160655, 0.0004923181259073317, 0.002488778904080391, 0.00041253515519201756, 0.11648497730493546, 0.00017437430506106466, 0.0011299735633656383, 0.0012968579540029168, 0.0018937712302431464, 0.006374662276357412, 0.012117859907448292, 0.014354717917740345, 0.0, 0.0, 0.0, 0.0, 0.0, 0.0, 0.0, 0.0, 0.0, 0.0, 0.0, 0.0, 0.0, 0.0, 0.0, 0.0, 0.0, 0.0, 0.0], [0.022601308301091194, 0.00043865066254511476, 2.716621338549885e-06, 0.00036944940802641213, 0.936485767364502, 0.03215872868895531, 0.00016639934619888663, 0.0003773013304453343, 2.719375515880529e-07, 9.796144877327606e-05, 2.483229764038697e-05, 0.00014765720698051155, 0.0004301226872485131, 0.004391648806631565, 0.00039110821671783924, 5.064407014288008e-05, 0.0001870474952738732, 6.401274276868207e-06, 2.0584106096066535e-05, 0.00025044428184628487, 4.0589624404674396e-05, 0.0006710238521918654, 0.0006265990668907762, 2.00164640773437e-06, 6.063828550395556e-05, 0.0, 0.0, 0.0, 0.0, 0.0, 0.0, 0.0, 0.0, 0.0, 0.0, 0.0, 0.0, 0.0, 0.0, 0.0, 0.0, 0.0, 0.0], [0.039748795330524445, 0.0016230734763666987, 2.986349500133656e-06, 0.0004959764773957431, 0.0075990972109138966, 0.9035105109214783, 0.000308551883790642, 0.020541159436106682, 3.726061777342693e-06, 0.0009059465955942869, 0.0005234997370280325, 0.00019036780577152967, 0.002769641112536192, 0.0017586157191544771, 0.006682143080979586, 0.0016491096466779709, 0.0002772374718915671, 2.361988117627334e-05, 0.00033515776158310473, 0.0017905993154272437, 0.0001566021383041516, 0.0019276634557172656, 0.001979922642931342, 1.2426302191670402e-06, 5.812770905322395e-05, 0.005136682186275721, 0.0, 0.0, 0.0, 0.0, 0.0, 0.0, 0.0, 0.0, 0.0, 0.0, 0.0, 0.0, 0.0, 0.0, 0.0, 0.0, 0.0], [0.01739455945789814, 8.343024819623679e-05, 1.2994877351957257e-06, 0.0006728337029926479, 1.4733293028257322e-05, 0.00010638110688887537, 0.9528152346611023, 0.021971793845295906, 7.827133003956988e-07, 1.549360968056135e-05, 0.0031969258561730385, 3.257359639974311e-05, 0.00013824547932017595, 2.3893251636764035e-05, 0.0008408251451328397, 0.00010894489969359711, 0.0002893857017625123, 0.0001089485376724042, 6.794308865210041e-05, 0.00012526035425253212, 0.00019726318714674562, 0.0008631333475932479, 0.00029805663507431746, 2.3374368538497947e-06, 0.0003466044436208904, 2.3776778107276186e-05, 0.00025927534443326294, 0.0, 0.0, 0.0, 0.0, 0.0, 0.0, 0.0, 0.0, 0.0, 0.0, 0.0, 0.0, 0.0, 0.0, 0.0, 0.0], [0.05558072030544281, 0.000644560728687793, 4.0934097000899783e-07, 0.0004219433758407831, 1.3407878896032344e-06, 0.0006465360638685524, 0.0018357920926064253, 0.9107968807220459, 6.180154286994366e-06, 0.00014045831630937755, 0.010802135802805424, 0.0002091948699671775, 0.001149547635577619, 1.2848232472606469e-05, 0.0032653864473104477, 0.00011994826490990818, 0.00020614478853531182, 0.0006145958905108273, 0.001219038269482553, 0.0012671974254772067, 0.00038551021134480834, 0.003566898638382554, 0.0011672632535919547, 5.425721383289783e-07, 0.00031768064945936203, 1.1132475492559024e-06, 0.0028038963209837675, 0.002816116204485297, 0.0, 0.0, 0.0, 0.0, 0.0, 0.0, 0.0, 0.0, 0.0, 0.0, 0.0, 0.0, 0.0, 0.0, 0.0], [0.08360982686281204, 0.004941261373460293, 5.052082997281104e-05, 0.0072283814661204815, 1.1925508260901552e-06, 0.00016232246707659215, 0.0002728458202909678, 0.005935745779424906, 0.6047180891036987, 0.26288938522338867, 0.005585707724094391, 7.11756365490146e-05, 0.0013994958717375994, 2.6737500320450636e-06, 0.0015110860113054514, 9.461731679039076e-05, 0.0003633311716839671, 0.0007099809590727091, 0.0009742069523781538, 0.0035783371422439814, 1.0970467883453239e-05, 0.00015639800403732806, 0.0036894248332828283, 0.00028461244073696434, 0.004334039054811001, 1.3892255310565815e-06, 0.0002412845060462132, 0.00018520648882258683, 0.006996495649218559, 0.0, 0.0, 0.0, 0.0, 0.0, 0.0, 0.0, 0.0, 0.0, 0.0, 0.0, 0.0, 0.0, 0.0], [0.11521182209253311, 0.006714878603816032, 0.00016211341426242143, 0.025513209402561188, 6.20657010586001e-06, 0.0004051337600685656, 5.456063445308246e-05, 0.003510815091431141, 0.01420238334685564, 0.7775483727455139, 0.00349064520560205, 5.782095468020998e-05, 0.004768474027514458, 3.6063891457160935e-05, 0.0007714315433986485, 0.0003429591888561845, 0.0028434672858566046, 9.51795736909844e-05, 0.0031367102637887, 0.005728931166231632, 4.4420259655453265e-05, 0.000493974715936929, 0.008516660891473293, 0.0005445093265734613, 0.014522307552397251, 5.894661626371089e-06, 0.00030799827072769403, 2.6790465199155733e-05, 0.0010097159538418055, 0.00992642343044281, 0.0, 0.0, 0.0, 0.0, 0.0, 0.0, 0.0, 0.0, 0.0, 0.0, 0.0, 0.0, 0.0], [0.03713555634021759, 0.0008775252499617636, 7.84845688031055e-05, 0.015298934653401375, 1.4544036730512744e-06, 0.0001087804339476861, 0.006165252532809973, 0.014768721535801888, 7.875545998103917e-05, 0.001974985469132662, 0.8455951809883118, 7.480748899979517e-05, 0.002825537696480751, 5.115794579069188e-07, 0.00017026242858264595, 0.00015173538122326136, 0.006004304625093937, 0.003473171265795827, 0.012612891383469105, 0.0006110280519351363, 0.0005419619847089052, 0.0009975210996344686, 0.002906801411882043, 0.000395679147914052, 0.020268578082323074, 1.6131855318235466e-06, 0.0002111741923727095, 0.007802344858646393, 0.017504578456282616, 2.882440821849741e-05, 0.0013330504298210144, 0.0, 0.0, 0.0, 0.0, 0.0, 0.0, 0.0, 0.0, 0.0, 0.0, 0.0, 0.0], [0.041711799800395966, 0.0007273897645063698, 5.0841567826864775e-06, 0.00042049773037433624, 0.00026829467969946563, 0.0003643770469352603, 0.00021653171279467642, 0.0014349889243021607, 5.139997938385932e-06, 9.150780533673242e-05, 0.0012519502779468894, 0.9164964556694031, 0.02560199424624443, 0.0013075389433652163, 0.00303479190915823, 0.0005533283110707998, 0.0003445622278377414, 0.00023525310098193586, 0.0004293306265026331, 0.0013705289456993341, 3.67069587809965e-05, 0.0015910941874608397, 0.00048218629672192037, 9.564192623656709e-06, 0.00015523884212598205, 0.00017542632122058421, 0.0004897289327345788, 6.954035052331164e-05, 0.0008855760097503662, 1.130451209974126e-06, 4.837063897866756e-05, 0.00018408382311463356, 0.0, 0.0, 0.0, 0.0, 0.0, 0.0, 0.0, 0.0, 0.0, 0.0, 0.0], [0.15541259944438934, 0.0020603337325155735, 5.904576482862467e-06, 0.0051441313698887825, 0.00025822973111644387, 0.0014501188416033983, 5.3917898185318336e-05, 0.002164039295166731, 2.1527859644265845e-05, 0.001606420730240643, 0.010191725566983223, 0.010151131078600883, 0.7491730451583862, 0.0027421503327786922, 0.010175710543990135, 0.00584243843331933, 0.0030404289718717337, 3.0833762139081955e-05, 0.006113030016422272, 0.016732729971408844, 0.00015880029241088778, 0.0020674855913966894, 0.0016374883707612753, 1.1046834515582304e-05, 0.0014025743585079908, 0.0001992516336031258, 0.0012200253549963236, 2.1487778212758712e-05, 0.0007244259468279779, 5.295342361932853e-06, 0.0011675296118482947, 0.0018881658324971795, 0.007125869859009981, 0.0, 0.0, 0.0, 0.0, 0.0, 0.0, 0.0, 0.0, 0.0, 0.0], [0.03857101872563362, 0.00048676866572350264, 8.81192860902047e-08, 0.00012277990754228085, 0.005581687204539776, 0.0025055676233023405, 2.1937901692581363e-05, 0.00011670497769955546, 8.340134627360385e-08, 6.456879782490432e-05, 1.6480806152685545e-05, 0.0003305235004518181, 0.000966412655543536, 0.9410389065742493, 0.002549473661929369, 0.0009866399923339486, 0.0002304939553141594, 2.170184529859398e-07, 9.286000931751914e-06, 0.001075994223356247, 8.328352851094678e-05, 0.0006203468656167388, 0.0003860947326757014, 1.709907877511796e-07, 1.0056046448880807e-05, 0.0019989421125501394, 0.0020208179485052824, 4.052812528243521e-06, 1.930969847308006e-05, 3.9804834983669934e-09, 1.3065035091130994e-05, 4.5675878368456324e-07, 5.041718031861819e-05, 0.00011722389899659902, 0.0, 0.0, 0.0, 0.0, 0.0, 0.0, 0.0, 0.0, 0.0], [0.32134196162223816, 0.00150326918810606, 0.0003571629640646279, 0.009410691447556019, 0.00016890147526282817, 0.016028262674808502, 0.00020538485841825604, 0.01991095207631588, 6.106783985160291e-05, 0.0025995299220085144, 0.0018900498980656266, 0.00034021364990621805, 0.01811370812356472, 0.0032540392130613327, 0.5562412142753601, 0.008188072592020035, 0.0034579229541122913, 2.7599189706961624e-05, 0.00021329167066141963, 0.004111573100090027, 7.46067744330503e-05, 0.002410354558378458, 0.003144567832350731, 0.00028738591936416924, 0.0028005235362797976, 5.076669549453072e-05, 0.01055832952260971, 8.334941230714321e-05, 0.007083605974912643, 1.7151884094346315e-05, 0.0007565994164906442, 0.0001342679897788912, 4.3931646359851584e-05, 0.0036519216373562813, 0.0014778237091377378, 0.0, 0.0, 0.0, 0.0, 0.0, 0.0, 0.0, 0.0], [0.16036275029182434, 0.0012780064716935158, 2.2185440684552304e-05, 0.0023713132832199335, 0.0002248756936751306, 0.0017834955360740423, 0.003998070489615202, 0.0046332720667123795, 4.0764702134765685e-05, 0.0015416477108374238, 0.0015637120231986046, 0.00047259297571145, 0.01683974638581276, 0.003452765056863427, 0.01776772178709507, 0.7616896033287048, 0.004626935813575983, 0.00039177152211777866, 0.0009683491080068052, 0.005093984771519899, 3.4371889796602773e-06, 0.0016141515225172043, 0.0016999240033328533, 1.1049743079638574e-05, 0.000290838215732947, 4.165196878602728e-05, 0.0008305378723889589, 0.00043555808952078223, 0.000447365251602605, 1.9897704532922944e-06, 0.00035038552596233785, 6.375069642672315e-05, 6.234926695469767e-05, 0.002596618141978979, 0.0005663800402544439, 0.0018605223158374429, 0.0, 0.0, 0.0, 0.0, 0.0, 0.0, 0.0], [0.16436275839805603, 0.0026378866750746965, 4.141624231124297e-05, 0.06607706099748611, 0.0011643747566267848, 0.0015624893130734563, 0.012553841806948185, 0.002784143667668104, 3.62744031008333e-05, 0.0043335603550076485, 0.0063444701954722404, 0.00013702132855542004, 0.022220460698008537, 0.0011391096049919724, 0.0015757731162011623, 0.0038945472333580256, 0.575093150138855, 0.0019100926583632827, 0.004216444678604603, 0.005102998111397028, 0.00111782003659755, 0.011999019421637058, 0.0061414120718836784, 8.207793871406466e-05, 0.06961163133382797, 0.0019772578962147236, 0.002405789215117693, 0.013156326487660408, 0.0013538560597226024, 9.25501444726251e-06, 0.003937654662877321, 0.0014234093250706792, 5.669113670592196e-05, 0.005461027380079031, 0.0004025545495096594, 0.0006155903683975339, 0.003060688264667988, 0.0, 0.0, 0.0, 0.0, 0.0, 0.0], [0.07928100228309631, 0.0006841871654614806, 6.815383102320993e-08, 0.001095144310966134, 2.040633262367919e-06, 2.2378706489689648e-05, 0.000631410744972527, 0.00037472936674021184, 2.3558130124001764e-05, 0.00018500909209251404, 0.008331557735800743, 7.647347956662998e-05, 0.004182918928563595, 2.444693620873295e-07, 1.147770308307372e-05, 5.137101106811315e-05, 0.0018863263539969921, 0.6889946460723877, 0.19463719427585602, 0.00476638600230217, 4.986666681361385e-05, 0.0028069806285202503, 0.005557991098612547, 3.9548237396047625e-07, 0.0008065951988101006, 3.353422243890236e-06, 5.2720148232765496e-05, 0.0003899831499438733, 0.0004888026742264628, 7.204240773717174e-06, 9.927106293616816e-05, 0.003168473020195961, 3.950086102122441e-05, 0.0009883935563266277, 7.518787725757647e-08, 1.4315127145891893e-06, 6.484859113697894e-06, 0.0002943144936580211, 0.0, 0.0, 0.0, 0.0, 0.0], [0.2837388217449188, 0.004487852565944195, 5.058240731159458e-06, 0.019317088648676872, 5.446004797704518e-05, 0.0012376145459711552, 0.0017604372696951032, 0.006312692072242498, 0.0002413740148767829, 0.006789281964302063, 0.07160775363445282, 0.0003089974634349346, 0.06864345073699951, 4.332296521170065e-05, 0.000419251766288653, 0.002060116734355688, 0.006795879453420639, 0.01733473129570484, 0.33858904242515564, 0.03910164162516594, 0.0007660684059374034, 0.009993107989430428, 0.00782947987318039, 1.31153619804536e-05, 0.013564805500209332, 6.27016052021645e-05, 0.0021037892438471317, 0.0009936671704053879, 0.0033345811534672976, 9.826574387261644e-05, 0.006462685763835907, 0.03356636315584183, 0.00019831766257993877, 0.030610032379627228, 1.5713869288447313e-05, 0.00012045684707118198, 0.0005064317956566811, 0.0019927602261304855, 0.018918752670288086, 0.0, 0.0, 0.0, 0.0], [0.2541317641735077, 0.007289573550224304, 1.6369660443160683e-05, 0.005644935183227062, 0.00047911435831338167, 0.003032147418707609, 0.0008039323147386312, 0.0005737043102271855, 0.0017708991654217243, 0.005227871239185333, 0.0065732793882489204, 0.0037488650996237993, 0.03955983370542526, 0.0013069516280665994, 0.0020495883654803038, 0.0032922406680881977, 0.005070572253316641, 0.004392898175865412, 0.0029604423325508833, 0.5652288794517517, 0.0066372607834637165, 0.020123692229390144, 0.013719475828111172, 3.5094581107841805e-05, 0.0024925488978624344, 0.0006804364966228604, 0.005004296079277992, 0.0004963100655004382, 0.00029927733703516424, 0.0005683162016794086, 0.006156548857688904, 0.001416328246705234, 0.0020802554208785295, 0.017010817304253578, 0.0011587339686229825, 0.0008447645814158022, 0.0012247699778527021, 0.0020570196211338043, 0.0027713640592992306, 0.002068912610411644, 0.0, 0.0, 0.0], [0.022778842598199844, 0.00018681355868466198, 1.615913269858993e-08, 0.000675371615216136, 3.972029389842646e-06, 1.8965693016070873e-05, 0.00014574467786587775, 0.00015363581769634038, 1.4371023482340206e-08, 3.7149686704651685e-06, 0.0003817665856331587, 9.189683623844758e-06, 0.00013344903709366918, 1.5500265362788923e-05, 4.871684723184444e-06, 4.948607283949968e-07, 0.00040791305946186185, 1.8818998796632513e-05, 3.495810960885137e-05, 0.0001837906747823581, 0.8935845494270325, 0.08001836389303207, 0.0004949920112267137, 6.955423259569216e-08, 0.00036117766285315156, 4.126296516915318e-06, 4.213669672026299e-05, 0.00015350694593507797, 9.319674427388236e-05, 8.534821183125985e-10, 9.503949058853323e-07, 2.6511872420087457e-05, 9.137000347436697e-07, 4.4259750211494975e-06, 3.6229776014806703e-06, 4.96320240017667e-07, 6.715154654557409e-09, 3.286470382590778e-05, 3.7280472042766633e-06, 3.7352072013163706e-06, 1.2850379789597355e-05, 0.0, 0.0], [0.043061353266239166, 0.0004312048840802163, 4.857273694369724e-08, 0.00029497407376766205, 6.446875886467751e-06, 1.7940998077392578e-05, 5.2368184697115794e-05, 0.00012123132182750851, 8.686448005335023e-09, 4.085949967702618e-06, 0.00020099223183933645, 2.152537854271941e-05, 0.00046823787852190435, 1.1544449989742134e-05, 3.749308598344214e-05, 7.7207068898133e-06, 0.0005387167329899967, 8.11818681540899e-05, 0.0002466406440362334, 0.0005759778432548046, 0.0023978177923709154, 0.9488208889961243, 0.002120605204254389, 3.639956247525333e-08, 7.682839350309223e-05, 2.893249984481372e-06, 1.4447650755755603e-05, 1.2731598872051109e-05, 2.7991669412585907e-05, 3.7477190795165427e-10, 5.714418307434244e-07, 1.0850995749933645e-05, 3.7293154946382856e-06, 4.0901973989093676e-05, 3.82679354515858e-06, 6.126383141236147e-06, 5.169562200535438e-07, 4.086154876858927e-05, 1.2315352250880096e-05, 2.700603181438055e-05, 3.1881692848401144e-05, 0.00016747051267884672, 0.0], [0.2622871398925781, 0.04815338924527168, 0.0006689568399451673, 0.02123332768678665, 9.16642602533102e-05, 0.00039222475606948137, 0.00020396806939970702, 0.0021344167180359364, 0.001094861887395382, 0.004910783376544714, 0.006146798375993967, 0.0005123709561303258, 0.009844950400292873, 0.00014303076022770256, 0.001076261978596449, 0.00034581063664518297, 0.010050548240542412, 0.008435613475739956, 0.008105235174298286, 0.006024612113833427, 0.0038135081995278597, 0.04830687493085861, 0.49913105368614197, 0.001253675320185721, 0.03390229865908623, 0.00010517701593926176, 0.0003717830986715853, 8.200456795748323e-05, 0.001206009415909648, 0.00018196301243733615, 0.0013505113311111927, 0.0009115651482716203, 0.00011081754928454757, 0.0016774901887401938, 3.677582208183594e-05, 0.00017677647701930255, 4.578903462970629e-05, 0.001013315748423338, 0.0026200413703918457, 0.0020048057194799185, 0.0010430737165734172, 0.00036674062721431255, 0.008431954309344292]]], \"attentionHeadNames\": [\"L6H9\", \"L5H5\"], \"tokens\": [\"<|endoftext|>\", \"Research\", \" in\", \" mechan\", \"istic\", \" interpret\", \"ability\", \" seeks\", \" to\", \" explain\", \" behaviors\", \" of\", \" machine\", \" learning\", \" models\", \" in\", \" terms\", \" of\", \" their\", \" internal\", \" components\", \".\", \"Research\", \" in\", \" mechan\", \"istic\", \" interpret\", \"ability\", \" seeks\", \" to\", \" explain\", \" behaviors\", \" of\", \" machine\", \" learning\", \" models\", \" in\", \" terms\", \" of\", \" their\", \" internal\", \" components\", \".\"]}\n",
              "    )\n",
              "    </script></div>"
            ],
            "text/plain": [
              "<IPython.core.display.HTML object>"
            ]
          },
          "execution_count": 50,
          "metadata": {},
          "output_type": "execute_result"
        }
      ],
      "source": [
        "code = visualize_attention_patterns(\n",
        "    induction_head_labels,\n",
        "    example_repeated_cache,\n",
        "    example_repeated_tokens,\n",
        "    title=\"Induction Heads\",\n",
        "    max_width=800,\n",
        ")\n",
        "HTML(code)"
      ]
    },
    {
      "cell_type": "markdown",
      "metadata": {
        "id": "XJ2ggiaTUvqH"
      },
      "source": [
        "#### Implications\n",
        "\n",
        "One implication of this is that it's useful to categories heads according to whether they occur in\n",
        "simpler circuits, so that as we look for more complex circuits we can easily look for them. This is\n",
        "easy to do here! An interesting fact about induction heads is that they work on a sequence of\n",
        "repeated random tokens - notable for being wildly off distribution from the natural language GPT-2\n",
        "was trained on. Being able to predict a model's behaviour off distribution is a good mark of success\n",
        "for mechanistic interpretability! This is a good sanity check for whether a head is an induction\n",
        "head or not.\n",
        "\n",
        "We can characterise an induction head by just giving a sequence of random tokens repeated once, and\n",
        "measuring the average attention paid from the second copy of a token to the token after the first\n",
        "copy. At the same time, we can also measure the average attention paid from the second copy of a\n",
        "token to the first copy of the token, which is the attention that the induction head would pay if it\n",
        "were a duplicate token head, and the average attention paid to the previous token to find previous\n",
        "token heads.\n",
        "\n",
        "Note that this is a superficial study of whether something is an induction head - we totally ignore\n",
        "the question of whether it actually does boost the correct token or whether it composes with a\n",
        "single previous head and how. In particular, we sometimes get anti-induction heads which suppress\n",
        "the induction-y token (no clue why!), and this technique will find those too . But given the\n",
        "previous rigorous analysis, we can be pretty confident that this picks up on some true signal about\n",
        "induction heads."
      ]
    },
    {
      "cell_type": "markdown",
      "metadata": {
        "id": "eyuEDNHQUvqI"
      },
      "source": [
        "<details> <summary>Technical Implementation Details</summary>\n",
        "We can do this again by using hooks, this time just to access the attention patterns rather than to intervene on them.\n",
        "\n",
        "Our hook function acts on the attention pattern activation. This has the name\n",
        "\"blocks.{layer}.{layer_type}.hook_{activation_name}\" in general, here it's\n",
        "\"blocks.{layer}.attn.hook_attn\". And it has shape [batch, head_index, query_pos, token_pos]. Our\n",
        "hook function takes in the attention pattern activation, calculates the score for the relevant type\n",
        "of head, and write it to an external cache.\n",
        "\n",
        "We add in hooks using `model.run_with_hooks(tokens, fwd_hooks=[(names_filter, hook_fn)])` to\n",
        "temporarily add in the hooks and run the model, getting the resulting output. Previously\n",
        "names_filter was the name of the activation, but here it's a boolean function mapping activation\n",
        "names to whether we want to hook them or not. Here it's just whether the name ends with hook_attn.\n",
        "hook_fn must take in the two inputs activation (the activation tensor) and hook (the HookPoint\n",
        "object, which contains the name of the activation and some metadata such as the current layer).\n",
        "\n",
        "Internally our hooks use the function `tensor.diagonal`, this takes the diagonal between two\n",
        "dimensions, and allows an arbitrary offset - offset by 1 to get previous tokens, seq_len to get\n",
        "duplicate tokens (the distance to earlier copies) and seq_len-1 to get induction heads (the distance\n",
        "to the token *after* earlier copies). Different offsets give a different length of output tensor,\n",
        "and we can now just average to get a score in [0, 1] for each head\n",
        "</details>"
      ]
    },
    {
      "cell_type": "code",
      "execution_count": null,
      "metadata": {
        "id": "EYbc4ZeMUvqI",
        "outputId": "26a77204-8b4f-4509-b836-5656da4f6fda"
      },
      "outputs": [
        {
          "name": "stdout",
          "output_type": "stream",
          "text": [
            "tensor([[0.0390, 0.0000, 0.0310],\n",
            "        [0.1890, 0.1720, 0.0680],\n",
            "        [0.1570, 0.0210, 0.4820]])\n",
            "tensor([[0.0030, 0.1320, 0.0050],\n",
            "        [0.0000, 0.0000, 0.0020],\n",
            "        [0.0020, 0.0090, 0.0000]])\n",
            "tensor([[0.0040, 0.0000, 0.0040],\n",
            "        [0.0010, 0.0000, 0.0020],\n",
            "        [0.0020, 0.0090, 0.0020]])\n"
          ]
        }
      ],
      "source": [
        "seq_len = 100\n",
        "batch_size = 2\n",
        "\n",
        "prev_token_scores = torch.zeros((model.cfg.n_layers, model.cfg.n_heads), device=device)\n",
        "\n",
        "\n",
        "def prev_token_hook(pattern, hook):\n",
        "    layer = hook.layer()\n",
        "    diagonal = pattern.diagonal(offset=1, dim1=-1, dim2=-2)\n",
        "    # print(diagonal)\n",
        "    # print(pattern)\n",
        "    prev_token_scores[layer] = einops.reduce(\n",
        "        diagonal, \"batch head_index diagonal -> head_index\", \"mean\"\n",
        "    )\n",
        "\n",
        "\n",
        "duplicate_token_scores = torch.zeros(\n",
        "    (model.cfg.n_layers, model.cfg.n_heads), device=device\n",
        ")\n",
        "\n",
        "\n",
        "def duplicate_token_hook(pattern, hook):\n",
        "    layer = hook.layer()\n",
        "    diagonal = pattern.diagonal(offset=seq_len, dim1=-1, dim2=-2)\n",
        "    duplicate_token_scores[layer] = einops.reduce(\n",
        "        diagonal, \"batch head_index diagonal -> head_index\", \"mean\"\n",
        "    )\n",
        "\n",
        "\n",
        "induction_scores = torch.zeros((model.cfg.n_layers, model.cfg.n_heads), device=device)\n",
        "\n",
        "\n",
        "def induction_hook(pattern, hook):\n",
        "    layer = hook.layer()\n",
        "    diagonal = pattern.diagonal(offset=seq_len - 1, dim1=-1, dim2=-2)\n",
        "    induction_scores[layer] = einops.reduce(\n",
        "        diagonal, \"batch head_index diagonal -> head_index\", \"mean\"\n",
        "    )\n",
        "\n",
        "\n",
        "torch.manual_seed(0)\n",
        "original_tokens = torch.randint(\n",
        "    100, 20000, size=(batch_size, seq_len), device=\"cpu\"\n",
        ").to(device)\n",
        "repeated_tokens = einops.repeat(\n",
        "    original_tokens, \"batch seq_len -> batch (2 seq_len)\"\n",
        ").to(device)\n",
        "\n",
        "pattern_filter = lambda act_name: act_name.endswith(\"hook_pattern\")\n",
        "\n",
        "loss = model.run_with_hooks(\n",
        "    repeated_tokens,\n",
        "    return_type=\"loss\",\n",
        "    fwd_hooks=[\n",
        "        (pattern_filter, prev_token_hook),\n",
        "        (pattern_filter, duplicate_token_hook),\n",
        "        (pattern_filter, induction_hook),\n",
        "    ],\n",
        ")\n",
        "print(torch.round(utils.get_corner(prev_token_scores).detach().cpu(), decimals=3))\n",
        "print(torch.round(utils.get_corner(duplicate_token_scores).detach().cpu(), decimals=3))\n",
        "print(torch.round(utils.get_corner(induction_scores).detach().cpu(), decimals=3))"
      ]
    },
    {
      "cell_type": "markdown",
      "metadata": {
        "id": "7bI-3yo6UvqI"
      },
      "source": [
        "We can now plot the head scores, and instantly see that the relevant early heads are induction heads or duplicate token heads (though also that there's a lot of induction heads that are *not* use - I have no idea why!)."
      ]
    },
    {
      "cell_type": "code",
      "execution_count": null,
      "metadata": {
        "id": "f8dwXTtrUvqI",
        "outputId": "41fd7cb0-1c75-4f4f-bd0f-199305b90bfb"
      },
      "outputs": [
        {
          "data": {
            "application/vnd.plotly.v1+json": {
              "config": {
                "plotlyServerURL": "https://plot.ly"
              },
              "data": [
                {
                  "coloraxis": "coloraxis",
                  "hovertemplate": "Head: %{x}<br>Layer: %{y}<br>color: %{z}<extra></extra>",
                  "name": "0",
                  "type": "heatmap",
                  "xaxis": "x",
                  "yaxis": "y",
                  "z": [
                    [
                      0.039069853723049164,
                      0.0004489101702347398,
                      0.03133601322770119,
                      0.007519590202718973,
                      0.034592196345329285,
                      0.00036230171099305153,
                      0.034512776881456375,
                      0.19740213453769684,
                      0.038447845727205276,
                      0.04053792357444763,
                      0.027628764510154724,
                      0.02496313862502575
                    ],
                    [
                      0.1890650987625122,
                      0.17219914495944977,
                      0.06807752698659897,
                      0.04494515433907509,
                      0.07908554375171661,
                      0.03096739575266838,
                      0.028282109647989273,
                      0.03644327446818352,
                      0.026936717331409454,
                      0.018826229497790337,
                      0.045100897550582886,
                      0.0065726665779948235
                    ],
                    [
                      0.15745528042316437,
                      0.020724520087242126,
                      0.4817989468574524,
                      0.2991352379322052,
                      0.10764895379543304,
                      0.33004048466682434,
                      0.0997551754117012,
                      0.04926132410764694,
                      0.25493940711021423,
                      0.3606453835964203,
                      0.1257179230451584,
                      0.07931824028491974
                    ],
                    [
                      0.005844001192599535,
                      0.15787364542484283,
                      0.4189082086086273,
                      0.30129021406173706,
                      0.014345049858093262,
                      0.032344333827495575,
                      0.3312888443470001,
                      0.5285974144935608,
                      0.34242063760757446,
                      0.101837158203125,
                      0.10516070574522018,
                      0.2233113795518875
                    ],
                    [
                      0.10626544803380966,
                      0.11930850893259048,
                      0.022880680859088898,
                      0.22826944291591644,
                      0.020003994926810265,
                      0.10010036826133728,
                      0.1739213615655899,
                      0.17407020926475525,
                      0.02587701380252838,
                      0.10249985754489899,
                      0.009514841251075268,
                      0.9921423196792603
                    ],
                    [
                      0.019766658544540405,
                      0.00528325280174613,
                      0.16648508608341217,
                      0.12087740004062653,
                      0.16500000655651093,
                      0.00803269725292921,
                      0.41770195960998535,
                      0.025827765464782715,
                      0.04802601411938667,
                      0.016231779009103775,
                      0.03110172413289547,
                      0.024261215701699257
                    ],
                    [
                      0.2172909826040268,
                      0.039100028574466705,
                      0.01804858259856701,
                      0.059900715947151184,
                      0.032934583723545074,
                      0.0873451679944992,
                      0.026895340532064438,
                      0.0943947583436966,
                      0.49925994873046875,
                      0.006240115500986576,
                      0.027026718482375145,
                      0.1278565675020218
                    ],
                    [
                      0.2511657178401947,
                      0.01330868061631918,
                      0.006663354113698006,
                      0.037430502474308014,
                      0.02331537753343582,
                      0.01740722358226776,
                      0.022067422047257423,
                      0.022141192108392715,
                      0.04502448812127113,
                      0.0208425372838974,
                      0.008310739882290363,
                      0.017167754471302032
                    ],
                    [
                      0.020890623331069946,
                      0.016537941992282867,
                      0.02158307284116745,
                      0.0150058064609766,
                      0.02421221323311329,
                      0.10198988765478134,
                      0.029100384563207626,
                      0.22793792188167572,
                      0.02781485579907894,
                      0.0179410632699728,
                      0.024828944355249405,
                      0.03806235268712044
                    ],
                    [
                      0.02607586607336998,
                      0.015407431870698929,
                      0.02044427953660488,
                      0.14558182656764984,
                      0.01247025839984417,
                      0.017151640728116035,
                      0.013311829417943954,
                      0.024451706558465958,
                      0.018111787736415863,
                      0.01319331955164671,
                      0.0357399508357048,
                      0.01879822090268135
                    ],
                    [
                      0.02147812582552433,
                      0.018419174477458,
                      0.018183622509241104,
                      0.02172141708433628,
                      0.0315677747130394,
                      0.034705750644207,
                      0.017550116404891014,
                      0.011417553760111332,
                      0.01579565554857254,
                      0.04592214897274971,
                      0.01621554046869278,
                      0.03039470687508583
                    ],
                    [
                      0.03320508822798729,
                      0.0175714660435915,
                      0.015131079591810703,
                      0.04148406535387039,
                      0.015181189402937889,
                      0.01758997142314911,
                      0.015148494392633438,
                      0.01767607219517231,
                      0.06622709333896637,
                      0.018451133742928505,
                      0.01700744964182377,
                      0.029749270528554916
                    ]
                  ]
                }
              ],
              "layout": {
                "coloraxis": {
                  "cmid": 0,
                  "colorscale": [
                    [
                      0,
                      "rgb(103,0,31)"
                    ],
                    [
                      0.1,
                      "rgb(178,24,43)"
                    ],
                    [
                      0.2,
                      "rgb(214,96,77)"
                    ],
                    [
                      0.3,
                      "rgb(244,165,130)"
                    ],
                    [
                      0.4,
                      "rgb(253,219,199)"
                    ],
                    [
                      0.5,
                      "rgb(247,247,247)"
                    ],
                    [
                      0.6,
                      "rgb(209,229,240)"
                    ],
                    [
                      0.7,
                      "rgb(146,197,222)"
                    ],
                    [
                      0.8,
                      "rgb(67,147,195)"
                    ],
                    [
                      0.9,
                      "rgb(33,102,172)"
                    ],
                    [
                      1,
                      "rgb(5,48,97)"
                    ]
                  ]
                },
                "template": {
                  "data": {
                    "bar": [
                      {
                        "error_x": {
                          "color": "#2a3f5f"
                        },
                        "error_y": {
                          "color": "#2a3f5f"
                        },
                        "marker": {
                          "line": {
                            "color": "#E5ECF6",
                            "width": 0.5
                          },
                          "pattern": {
                            "fillmode": "overlay",
                            "size": 10,
                            "solidity": 0.2
                          }
                        },
                        "type": "bar"
                      }
                    ],
                    "barpolar": [
                      {
                        "marker": {
                          "line": {
                            "color": "#E5ECF6",
                            "width": 0.5
                          },
                          "pattern": {
                            "fillmode": "overlay",
                            "size": 10,
                            "solidity": 0.2
                          }
                        },
                        "type": "barpolar"
                      }
                    ],
                    "carpet": [
                      {
                        "aaxis": {
                          "endlinecolor": "#2a3f5f",
                          "gridcolor": "white",
                          "linecolor": "white",
                          "minorgridcolor": "white",
                          "startlinecolor": "#2a3f5f"
                        },
                        "baxis": {
                          "endlinecolor": "#2a3f5f",
                          "gridcolor": "white",
                          "linecolor": "white",
                          "minorgridcolor": "white",
                          "startlinecolor": "#2a3f5f"
                        },
                        "type": "carpet"
                      }
                    ],
                    "choropleth": [
                      {
                        "colorbar": {
                          "outlinewidth": 0,
                          "ticks": ""
                        },
                        "type": "choropleth"
                      }
                    ],
                    "contour": [
                      {
                        "colorbar": {
                          "outlinewidth": 0,
                          "ticks": ""
                        },
                        "colorscale": [
                          [
                            0,
                            "#0d0887"
                          ],
                          [
                            0.1111111111111111,
                            "#46039f"
                          ],
                          [
                            0.2222222222222222,
                            "#7201a8"
                          ],
                          [
                            0.3333333333333333,
                            "#9c179e"
                          ],
                          [
                            0.4444444444444444,
                            "#bd3786"
                          ],
                          [
                            0.5555555555555556,
                            "#d8576b"
                          ],
                          [
                            0.6666666666666666,
                            "#ed7953"
                          ],
                          [
                            0.7777777777777778,
                            "#fb9f3a"
                          ],
                          [
                            0.8888888888888888,
                            "#fdca26"
                          ],
                          [
                            1,
                            "#f0f921"
                          ]
                        ],
                        "type": "contour"
                      }
                    ],
                    "contourcarpet": [
                      {
                        "colorbar": {
                          "outlinewidth": 0,
                          "ticks": ""
                        },
                        "type": "contourcarpet"
                      }
                    ],
                    "heatmap": [
                      {
                        "colorbar": {
                          "outlinewidth": 0,
                          "ticks": ""
                        },
                        "colorscale": [
                          [
                            0,
                            "#0d0887"
                          ],
                          [
                            0.1111111111111111,
                            "#46039f"
                          ],
                          [
                            0.2222222222222222,
                            "#7201a8"
                          ],
                          [
                            0.3333333333333333,
                            "#9c179e"
                          ],
                          [
                            0.4444444444444444,
                            "#bd3786"
                          ],
                          [
                            0.5555555555555556,
                            "#d8576b"
                          ],
                          [
                            0.6666666666666666,
                            "#ed7953"
                          ],
                          [
                            0.7777777777777778,
                            "#fb9f3a"
                          ],
                          [
                            0.8888888888888888,
                            "#fdca26"
                          ],
                          [
                            1,
                            "#f0f921"
                          ]
                        ],
                        "type": "heatmap"
                      }
                    ],
                    "heatmapgl": [
                      {
                        "colorbar": {
                          "outlinewidth": 0,
                          "ticks": ""
                        },
                        "colorscale": [
                          [
                            0,
                            "#0d0887"
                          ],
                          [
                            0.1111111111111111,
                            "#46039f"
                          ],
                          [
                            0.2222222222222222,
                            "#7201a8"
                          ],
                          [
                            0.3333333333333333,
                            "#9c179e"
                          ],
                          [
                            0.4444444444444444,
                            "#bd3786"
                          ],
                          [
                            0.5555555555555556,
                            "#d8576b"
                          ],
                          [
                            0.6666666666666666,
                            "#ed7953"
                          ],
                          [
                            0.7777777777777778,
                            "#fb9f3a"
                          ],
                          [
                            0.8888888888888888,
                            "#fdca26"
                          ],
                          [
                            1,
                            "#f0f921"
                          ]
                        ],
                        "type": "heatmapgl"
                      }
                    ],
                    "histogram": [
                      {
                        "marker": {
                          "pattern": {
                            "fillmode": "overlay",
                            "size": 10,
                            "solidity": 0.2
                          }
                        },
                        "type": "histogram"
                      }
                    ],
                    "histogram2d": [
                      {
                        "colorbar": {
                          "outlinewidth": 0,
                          "ticks": ""
                        },
                        "colorscale": [
                          [
                            0,
                            "#0d0887"
                          ],
                          [
                            0.1111111111111111,
                            "#46039f"
                          ],
                          [
                            0.2222222222222222,
                            "#7201a8"
                          ],
                          [
                            0.3333333333333333,
                            "#9c179e"
                          ],
                          [
                            0.4444444444444444,
                            "#bd3786"
                          ],
                          [
                            0.5555555555555556,
                            "#d8576b"
                          ],
                          [
                            0.6666666666666666,
                            "#ed7953"
                          ],
                          [
                            0.7777777777777778,
                            "#fb9f3a"
                          ],
                          [
                            0.8888888888888888,
                            "#fdca26"
                          ],
                          [
                            1,
                            "#f0f921"
                          ]
                        ],
                        "type": "histogram2d"
                      }
                    ],
                    "histogram2dcontour": [
                      {
                        "colorbar": {
                          "outlinewidth": 0,
                          "ticks": ""
                        },
                        "colorscale": [
                          [
                            0,
                            "#0d0887"
                          ],
                          [
                            0.1111111111111111,
                            "#46039f"
                          ],
                          [
                            0.2222222222222222,
                            "#7201a8"
                          ],
                          [
                            0.3333333333333333,
                            "#9c179e"
                          ],
                          [
                            0.4444444444444444,
                            "#bd3786"
                          ],
                          [
                            0.5555555555555556,
                            "#d8576b"
                          ],
                          [
                            0.6666666666666666,
                            "#ed7953"
                          ],
                          [
                            0.7777777777777778,
                            "#fb9f3a"
                          ],
                          [
                            0.8888888888888888,
                            "#fdca26"
                          ],
                          [
                            1,
                            "#f0f921"
                          ]
                        ],
                        "type": "histogram2dcontour"
                      }
                    ],
                    "mesh3d": [
                      {
                        "colorbar": {
                          "outlinewidth": 0,
                          "ticks": ""
                        },
                        "type": "mesh3d"
                      }
                    ],
                    "parcoords": [
                      {
                        "line": {
                          "colorbar": {
                            "outlinewidth": 0,
                            "ticks": ""
                          }
                        },
                        "type": "parcoords"
                      }
                    ],
                    "pie": [
                      {
                        "automargin": true,
                        "type": "pie"
                      }
                    ],
                    "scatter": [
                      {
                        "fillpattern": {
                          "fillmode": "overlay",
                          "size": 10,
                          "solidity": 0.2
                        },
                        "type": "scatter"
                      }
                    ],
                    "scatter3d": [
                      {
                        "line": {
                          "colorbar": {
                            "outlinewidth": 0,
                            "ticks": ""
                          }
                        },
                        "marker": {
                          "colorbar": {
                            "outlinewidth": 0,
                            "ticks": ""
                          }
                        },
                        "type": "scatter3d"
                      }
                    ],
                    "scattercarpet": [
                      {
                        "marker": {
                          "colorbar": {
                            "outlinewidth": 0,
                            "ticks": ""
                          }
                        },
                        "type": "scattercarpet"
                      }
                    ],
                    "scattergeo": [
                      {
                        "marker": {
                          "colorbar": {
                            "outlinewidth": 0,
                            "ticks": ""
                          }
                        },
                        "type": "scattergeo"
                      }
                    ],
                    "scattergl": [
                      {
                        "marker": {
                          "colorbar": {
                            "outlinewidth": 0,
                            "ticks": ""
                          }
                        },
                        "type": "scattergl"
                      }
                    ],
                    "scattermapbox": [
                      {
                        "marker": {
                          "colorbar": {
                            "outlinewidth": 0,
                            "ticks": ""
                          }
                        },
                        "type": "scattermapbox"
                      }
                    ],
                    "scatterpolar": [
                      {
                        "marker": {
                          "colorbar": {
                            "outlinewidth": 0,
                            "ticks": ""
                          }
                        },
                        "type": "scatterpolar"
                      }
                    ],
                    "scatterpolargl": [
                      {
                        "marker": {
                          "colorbar": {
                            "outlinewidth": 0,
                            "ticks": ""
                          }
                        },
                        "type": "scatterpolargl"
                      }
                    ],
                    "scatterternary": [
                      {
                        "marker": {
                          "colorbar": {
                            "outlinewidth": 0,
                            "ticks": ""
                          }
                        },
                        "type": "scatterternary"
                      }
                    ],
                    "surface": [
                      {
                        "colorbar": {
                          "outlinewidth": 0,
                          "ticks": ""
                        },
                        "colorscale": [
                          [
                            0,
                            "#0d0887"
                          ],
                          [
                            0.1111111111111111,
                            "#46039f"
                          ],
                          [
                            0.2222222222222222,
                            "#7201a8"
                          ],
                          [
                            0.3333333333333333,
                            "#9c179e"
                          ],
                          [
                            0.4444444444444444,
                            "#bd3786"
                          ],
                          [
                            0.5555555555555556,
                            "#d8576b"
                          ],
                          [
                            0.6666666666666666,
                            "#ed7953"
                          ],
                          [
                            0.7777777777777778,
                            "#fb9f3a"
                          ],
                          [
                            0.8888888888888888,
                            "#fdca26"
                          ],
                          [
                            1,
                            "#f0f921"
                          ]
                        ],
                        "type": "surface"
                      }
                    ],
                    "table": [
                      {
                        "cells": {
                          "fill": {
                            "color": "#EBF0F8"
                          },
                          "line": {
                            "color": "white"
                          }
                        },
                        "header": {
                          "fill": {
                            "color": "#C8D4E3"
                          },
                          "line": {
                            "color": "white"
                          }
                        },
                        "type": "table"
                      }
                    ]
                  },
                  "layout": {
                    "annotationdefaults": {
                      "arrowcolor": "#2a3f5f",
                      "arrowhead": 0,
                      "arrowwidth": 1
                    },
                    "autotypenumbers": "strict",
                    "coloraxis": {
                      "colorbar": {
                        "outlinewidth": 0,
                        "ticks": ""
                      }
                    },
                    "colorscale": {
                      "diverging": [
                        [
                          0,
                          "#8e0152"
                        ],
                        [
                          0.1,
                          "#c51b7d"
                        ],
                        [
                          0.2,
                          "#de77ae"
                        ],
                        [
                          0.3,
                          "#f1b6da"
                        ],
                        [
                          0.4,
                          "#fde0ef"
                        ],
                        [
                          0.5,
                          "#f7f7f7"
                        ],
                        [
                          0.6,
                          "#e6f5d0"
                        ],
                        [
                          0.7,
                          "#b8e186"
                        ],
                        [
                          0.8,
                          "#7fbc41"
                        ],
                        [
                          0.9,
                          "#4d9221"
                        ],
                        [
                          1,
                          "#276419"
                        ]
                      ],
                      "sequential": [
                        [
                          0,
                          "#0d0887"
                        ],
                        [
                          0.1111111111111111,
                          "#46039f"
                        ],
                        [
                          0.2222222222222222,
                          "#7201a8"
                        ],
                        [
                          0.3333333333333333,
                          "#9c179e"
                        ],
                        [
                          0.4444444444444444,
                          "#bd3786"
                        ],
                        [
                          0.5555555555555556,
                          "#d8576b"
                        ],
                        [
                          0.6666666666666666,
                          "#ed7953"
                        ],
                        [
                          0.7777777777777778,
                          "#fb9f3a"
                        ],
                        [
                          0.8888888888888888,
                          "#fdca26"
                        ],
                        [
                          1,
                          "#f0f921"
                        ]
                      ],
                      "sequentialminus": [
                        [
                          0,
                          "#0d0887"
                        ],
                        [
                          0.1111111111111111,
                          "#46039f"
                        ],
                        [
                          0.2222222222222222,
                          "#7201a8"
                        ],
                        [
                          0.3333333333333333,
                          "#9c179e"
                        ],
                        [
                          0.4444444444444444,
                          "#bd3786"
                        ],
                        [
                          0.5555555555555556,
                          "#d8576b"
                        ],
                        [
                          0.6666666666666666,
                          "#ed7953"
                        ],
                        [
                          0.7777777777777778,
                          "#fb9f3a"
                        ],
                        [
                          0.8888888888888888,
                          "#fdca26"
                        ],
                        [
                          1,
                          "#f0f921"
                        ]
                      ]
                    },
                    "colorway": [
                      "#636efa",
                      "#EF553B",
                      "#00cc96",
                      "#ab63fa",
                      "#FFA15A",
                      "#19d3f3",
                      "#FF6692",
                      "#B6E880",
                      "#FF97FF",
                      "#FECB52"
                    ],
                    "font": {
                      "color": "#2a3f5f"
                    },
                    "geo": {
                      "bgcolor": "white",
                      "lakecolor": "white",
                      "landcolor": "#E5ECF6",
                      "showlakes": true,
                      "showland": true,
                      "subunitcolor": "white"
                    },
                    "hoverlabel": {
                      "align": "left"
                    },
                    "hovermode": "closest",
                    "mapbox": {
                      "style": "light"
                    },
                    "paper_bgcolor": "white",
                    "plot_bgcolor": "#E5ECF6",
                    "polar": {
                      "angularaxis": {
                        "gridcolor": "white",
                        "linecolor": "white",
                        "ticks": ""
                      },
                      "bgcolor": "#E5ECF6",
                      "radialaxis": {
                        "gridcolor": "white",
                        "linecolor": "white",
                        "ticks": ""
                      }
                    },
                    "scene": {
                      "xaxis": {
                        "backgroundcolor": "#E5ECF6",
                        "gridcolor": "white",
                        "gridwidth": 2,
                        "linecolor": "white",
                        "showbackground": true,
                        "ticks": "",
                        "zerolinecolor": "white"
                      },
                      "yaxis": {
                        "backgroundcolor": "#E5ECF6",
                        "gridcolor": "white",
                        "gridwidth": 2,
                        "linecolor": "white",
                        "showbackground": true,
                        "ticks": "",
                        "zerolinecolor": "white"
                      },
                      "zaxis": {
                        "backgroundcolor": "#E5ECF6",
                        "gridcolor": "white",
                        "gridwidth": 2,
                        "linecolor": "white",
                        "showbackground": true,
                        "ticks": "",
                        "zerolinecolor": "white"
                      }
                    },
                    "shapedefaults": {
                      "line": {
                        "color": "#2a3f5f"
                      }
                    },
                    "ternary": {
                      "aaxis": {
                        "gridcolor": "white",
                        "linecolor": "white",
                        "ticks": ""
                      },
                      "baxis": {
                        "gridcolor": "white",
                        "linecolor": "white",
                        "ticks": ""
                      },
                      "bgcolor": "#E5ECF6",
                      "caxis": {
                        "gridcolor": "white",
                        "linecolor": "white",
                        "ticks": ""
                      }
                    },
                    "title": {
                      "x": 0.05
                    },
                    "xaxis": {
                      "automargin": true,
                      "gridcolor": "white",
                      "linecolor": "white",
                      "ticks": "",
                      "title": {
                        "standoff": 15
                      },
                      "zerolinecolor": "white",
                      "zerolinewidth": 2
                    },
                    "yaxis": {
                      "automargin": true,
                      "gridcolor": "white",
                      "linecolor": "white",
                      "ticks": "",
                      "title": {
                        "standoff": 15
                      },
                      "zerolinecolor": "white",
                      "zerolinewidth": 2
                    }
                  }
                },
                "title": {
                  "text": "Previous Token Scores"
                },
                "xaxis": {
                  "anchor": "y",
                  "constrain": "domain",
                  "domain": [
                    0,
                    1
                  ],
                  "scaleanchor": "y",
                  "title": {
                    "text": "Head"
                  }
                },
                "yaxis": {
                  "anchor": "x",
                  "autorange": "reversed",
                  "constrain": "domain",
                  "domain": [
                    0,
                    1
                  ],
                  "title": {
                    "text": "Layer"
                  }
                }
              }
            }
          },
          "metadata": {},
          "output_type": "display_data"
        },
        {
          "data": {
            "application/vnd.plotly.v1+json": {
              "config": {
                "plotlyServerURL": "https://plot.ly"
              },
              "data": [
                {
                  "coloraxis": "coloraxis",
                  "hovertemplate": "Head: %{x}<br>Layer: %{y}<br>color: %{z}<extra></extra>",
                  "name": "0",
                  "type": "heatmap",
                  "xaxis": "x",
                  "yaxis": "y",
                  "z": [
                    [
                      0.0031923248898237944,
                      0.13236315548419952,
                      0.005006915424019098,
                      0.000010427449524286203,
                      0.0013110184809193015,
                      0.7034568786621094,
                      0.00426204688847065,
                      0.00016496369789820164,
                      0.002474633976817131,
                      0.0008572910446673632,
                      0.01889149099588394,
                      0.008690938353538513
                    ],
                    [
                      0.0002916341181844473,
                      0.00013782267342321575,
                      0.0015036173863336444,
                      0.005392482969909906,
                      0.0018583914497867227,
                      0.009062949568033218,
                      0.012414448894560337,
                      0.0022405502386391163,
                      0.005135662388056517,
                      0.005220627877861261,
                      0.005546474829316139,
                      0.02975049614906311
                    ],
                    [
                      0.0024816279765218496,
                      0.009442180395126343,
                      0.0003456332196947187,
                      0.0002591445227153599,
                      0.0052116685546934605,
                      0.000570951378904283,
                      0.0015209749108180404,
                      0.006313100922852755,
                      0.001560864970088005,
                      0.0004215767839923501,
                      0.00015359291865024716,
                      0.005160381551831961
                    ],
                    [
                      0.6775657534599304,
                      0.002840448170900345,
                      0.0007841526530683041,
                      0.00471264636144042,
                      0.006322895642369986,
                      0.006206681486219168,
                      0.0005474805948324502,
                      0.00037829449865967035,
                      0.0020155368838459253,
                      0.007952751591801643,
                      0.003576782764866948,
                      0.002608788898214698
                    ],
                    [
                      0.00860405620187521,
                      0.0070286463014781475,
                      0.007598803844302893,
                      0.003442801535129547,
                      0.016561277210712433,
                      0.0059797209687530994,
                      0.004869826138019562,
                      0.0007624455611221492,
                      0.006062133703380823,
                      0.007536627352237701,
                      0.012022900395095348,
                      1.055422134237094e-12
                    ],
                    [
                      0.00950299296528101,
                      0.00856209360063076,
                      0.004162600729614496,
                      0.003008665982633829,
                      0.006847422569990158,
                      0.004358117934316397,
                      0.007669268175959587,
                      0.009584215469658375,
                      0.0076188258826732635,
                      0.0043280418030917645,
                      0.041402824223041534,
                      0.00976183544844389
                    ],
                    [
                      0.004456141032278538,
                      0.008873268961906433,
                      0.007405205629765987,
                      0.0062249391339719296,
                      0.00731915095821023,
                      0.005623893812298775,
                      0.017349667847156525,
                      0.005529467947781086,
                      0.002920132130384445,
                      0.008636755868792534,
                      0.006222263444215059,
                      0.00835894700139761
                    ],
                    [
                      0.003699858672916889,
                      0.04107949137687683,
                      0.04148268699645996,
                      0.009313640184700489,
                      0.009097025729715824,
                      0.008774377405643463,
                      0.007298537530004978,
                      0.023312218487262726,
                      0.008843323215842247,
                      0.00987986009567976,
                      0.017598601058125496,
                      0.006039854139089584
                    ],
                    [
                      0.008986304514110088,
                      0.028667239472270012,
                      0.008891218341886997,
                      0.010114557109773159,
                      0.009737391024827957,
                      0.007611637003719807,
                      0.009763265959918499,
                      0.005155472084879875,
                      0.009276345372200012,
                      0.011895839124917984,
                      0.010411946102976799,
                      0.007498950231820345
                    ],
                    [
                      0.024409977719187737,
                      0.011438451707363129,
                      0.02003096230328083,
                      0.0051185814663767815,
                      0.015081286430358887,
                      0.012334450148046017,
                      0.015452565625309944,
                      0.008602450601756573,
                      0.014702522195875645,
                      0.020766200497746468,
                      0.009192758239805698,
                      0.005703347735106945
                    ],
                    [
                      0.017897022888064384,
                      0.013280633836984634,
                      0.006755237001925707,
                      0.012744844891130924,
                      0.008020960725843906,
                      0.007722244597971439,
                      0.017341373488307,
                      0.0074546560645103455,
                      0.007832515984773636,
                      0.00825214572250843,
                      0.013642766512930393,
                      0.012807483784854412
                    ],
                    [
                      0.004923742264509201,
                      0.007951060310006142,
                      0.007947920821607113,
                      0.004564082249999046,
                      0.010363400913774967,
                      0.009582078084349632,
                      0.0102877551689744,
                      0.00832072552293539,
                      0.0025700009427964687,
                      0.012810997664928436,
                      0.008063871413469315,
                      0.006558285094797611
                    ]
                  ]
                }
              ],
              "layout": {
                "coloraxis": {
                  "cmid": 0,
                  "colorscale": [
                    [
                      0,
                      "rgb(103,0,31)"
                    ],
                    [
                      0.1,
                      "rgb(178,24,43)"
                    ],
                    [
                      0.2,
                      "rgb(214,96,77)"
                    ],
                    [
                      0.3,
                      "rgb(244,165,130)"
                    ],
                    [
                      0.4,
                      "rgb(253,219,199)"
                    ],
                    [
                      0.5,
                      "rgb(247,247,247)"
                    ],
                    [
                      0.6,
                      "rgb(209,229,240)"
                    ],
                    [
                      0.7,
                      "rgb(146,197,222)"
                    ],
                    [
                      0.8,
                      "rgb(67,147,195)"
                    ],
                    [
                      0.9,
                      "rgb(33,102,172)"
                    ],
                    [
                      1,
                      "rgb(5,48,97)"
                    ]
                  ]
                },
                "template": {
                  "data": {
                    "bar": [
                      {
                        "error_x": {
                          "color": "#2a3f5f"
                        },
                        "error_y": {
                          "color": "#2a3f5f"
                        },
                        "marker": {
                          "line": {
                            "color": "#E5ECF6",
                            "width": 0.5
                          },
                          "pattern": {
                            "fillmode": "overlay",
                            "size": 10,
                            "solidity": 0.2
                          }
                        },
                        "type": "bar"
                      }
                    ],
                    "barpolar": [
                      {
                        "marker": {
                          "line": {
                            "color": "#E5ECF6",
                            "width": 0.5
                          },
                          "pattern": {
                            "fillmode": "overlay",
                            "size": 10,
                            "solidity": 0.2
                          }
                        },
                        "type": "barpolar"
                      }
                    ],
                    "carpet": [
                      {
                        "aaxis": {
                          "endlinecolor": "#2a3f5f",
                          "gridcolor": "white",
                          "linecolor": "white",
                          "minorgridcolor": "white",
                          "startlinecolor": "#2a3f5f"
                        },
                        "baxis": {
                          "endlinecolor": "#2a3f5f",
                          "gridcolor": "white",
                          "linecolor": "white",
                          "minorgridcolor": "white",
                          "startlinecolor": "#2a3f5f"
                        },
                        "type": "carpet"
                      }
                    ],
                    "choropleth": [
                      {
                        "colorbar": {
                          "outlinewidth": 0,
                          "ticks": ""
                        },
                        "type": "choropleth"
                      }
                    ],
                    "contour": [
                      {
                        "colorbar": {
                          "outlinewidth": 0,
                          "ticks": ""
                        },
                        "colorscale": [
                          [
                            0,
                            "#0d0887"
                          ],
                          [
                            0.1111111111111111,
                            "#46039f"
                          ],
                          [
                            0.2222222222222222,
                            "#7201a8"
                          ],
                          [
                            0.3333333333333333,
                            "#9c179e"
                          ],
                          [
                            0.4444444444444444,
                            "#bd3786"
                          ],
                          [
                            0.5555555555555556,
                            "#d8576b"
                          ],
                          [
                            0.6666666666666666,
                            "#ed7953"
                          ],
                          [
                            0.7777777777777778,
                            "#fb9f3a"
                          ],
                          [
                            0.8888888888888888,
                            "#fdca26"
                          ],
                          [
                            1,
                            "#f0f921"
                          ]
                        ],
                        "type": "contour"
                      }
                    ],
                    "contourcarpet": [
                      {
                        "colorbar": {
                          "outlinewidth": 0,
                          "ticks": ""
                        },
                        "type": "contourcarpet"
                      }
                    ],
                    "heatmap": [
                      {
                        "colorbar": {
                          "outlinewidth": 0,
                          "ticks": ""
                        },
                        "colorscale": [
                          [
                            0,
                            "#0d0887"
                          ],
                          [
                            0.1111111111111111,
                            "#46039f"
                          ],
                          [
                            0.2222222222222222,
                            "#7201a8"
                          ],
                          [
                            0.3333333333333333,
                            "#9c179e"
                          ],
                          [
                            0.4444444444444444,
                            "#bd3786"
                          ],
                          [
                            0.5555555555555556,
                            "#d8576b"
                          ],
                          [
                            0.6666666666666666,
                            "#ed7953"
                          ],
                          [
                            0.7777777777777778,
                            "#fb9f3a"
                          ],
                          [
                            0.8888888888888888,
                            "#fdca26"
                          ],
                          [
                            1,
                            "#f0f921"
                          ]
                        ],
                        "type": "heatmap"
                      }
                    ],
                    "heatmapgl": [
                      {
                        "colorbar": {
                          "outlinewidth": 0,
                          "ticks": ""
                        },
                        "colorscale": [
                          [
                            0,
                            "#0d0887"
                          ],
                          [
                            0.1111111111111111,
                            "#46039f"
                          ],
                          [
                            0.2222222222222222,
                            "#7201a8"
                          ],
                          [
                            0.3333333333333333,
                            "#9c179e"
                          ],
                          [
                            0.4444444444444444,
                            "#bd3786"
                          ],
                          [
                            0.5555555555555556,
                            "#d8576b"
                          ],
                          [
                            0.6666666666666666,
                            "#ed7953"
                          ],
                          [
                            0.7777777777777778,
                            "#fb9f3a"
                          ],
                          [
                            0.8888888888888888,
                            "#fdca26"
                          ],
                          [
                            1,
                            "#f0f921"
                          ]
                        ],
                        "type": "heatmapgl"
                      }
                    ],
                    "histogram": [
                      {
                        "marker": {
                          "pattern": {
                            "fillmode": "overlay",
                            "size": 10,
                            "solidity": 0.2
                          }
                        },
                        "type": "histogram"
                      }
                    ],
                    "histogram2d": [
                      {
                        "colorbar": {
                          "outlinewidth": 0,
                          "ticks": ""
                        },
                        "colorscale": [
                          [
                            0,
                            "#0d0887"
                          ],
                          [
                            0.1111111111111111,
                            "#46039f"
                          ],
                          [
                            0.2222222222222222,
                            "#7201a8"
                          ],
                          [
                            0.3333333333333333,
                            "#9c179e"
                          ],
                          [
                            0.4444444444444444,
                            "#bd3786"
                          ],
                          [
                            0.5555555555555556,
                            "#d8576b"
                          ],
                          [
                            0.6666666666666666,
                            "#ed7953"
                          ],
                          [
                            0.7777777777777778,
                            "#fb9f3a"
                          ],
                          [
                            0.8888888888888888,
                            "#fdca26"
                          ],
                          [
                            1,
                            "#f0f921"
                          ]
                        ],
                        "type": "histogram2d"
                      }
                    ],
                    "histogram2dcontour": [
                      {
                        "colorbar": {
                          "outlinewidth": 0,
                          "ticks": ""
                        },
                        "colorscale": [
                          [
                            0,
                            "#0d0887"
                          ],
                          [
                            0.1111111111111111,
                            "#46039f"
                          ],
                          [
                            0.2222222222222222,
                            "#7201a8"
                          ],
                          [
                            0.3333333333333333,
                            "#9c179e"
                          ],
                          [
                            0.4444444444444444,
                            "#bd3786"
                          ],
                          [
                            0.5555555555555556,
                            "#d8576b"
                          ],
                          [
                            0.6666666666666666,
                            "#ed7953"
                          ],
                          [
                            0.7777777777777778,
                            "#fb9f3a"
                          ],
                          [
                            0.8888888888888888,
                            "#fdca26"
                          ],
                          [
                            1,
                            "#f0f921"
                          ]
                        ],
                        "type": "histogram2dcontour"
                      }
                    ],
                    "mesh3d": [
                      {
                        "colorbar": {
                          "outlinewidth": 0,
                          "ticks": ""
                        },
                        "type": "mesh3d"
                      }
                    ],
                    "parcoords": [
                      {
                        "line": {
                          "colorbar": {
                            "outlinewidth": 0,
                            "ticks": ""
                          }
                        },
                        "type": "parcoords"
                      }
                    ],
                    "pie": [
                      {
                        "automargin": true,
                        "type": "pie"
                      }
                    ],
                    "scatter": [
                      {
                        "fillpattern": {
                          "fillmode": "overlay",
                          "size": 10,
                          "solidity": 0.2
                        },
                        "type": "scatter"
                      }
                    ],
                    "scatter3d": [
                      {
                        "line": {
                          "colorbar": {
                            "outlinewidth": 0,
                            "ticks": ""
                          }
                        },
                        "marker": {
                          "colorbar": {
                            "outlinewidth": 0,
                            "ticks": ""
                          }
                        },
                        "type": "scatter3d"
                      }
                    ],
                    "scattercarpet": [
                      {
                        "marker": {
                          "colorbar": {
                            "outlinewidth": 0,
                            "ticks": ""
                          }
                        },
                        "type": "scattercarpet"
                      }
                    ],
                    "scattergeo": [
                      {
                        "marker": {
                          "colorbar": {
                            "outlinewidth": 0,
                            "ticks": ""
                          }
                        },
                        "type": "scattergeo"
                      }
                    ],
                    "scattergl": [
                      {
                        "marker": {
                          "colorbar": {
                            "outlinewidth": 0,
                            "ticks": ""
                          }
                        },
                        "type": "scattergl"
                      }
                    ],
                    "scattermapbox": [
                      {
                        "marker": {
                          "colorbar": {
                            "outlinewidth": 0,
                            "ticks": ""
                          }
                        },
                        "type": "scattermapbox"
                      }
                    ],
                    "scatterpolar": [
                      {
                        "marker": {
                          "colorbar": {
                            "outlinewidth": 0,
                            "ticks": ""
                          }
                        },
                        "type": "scatterpolar"
                      }
                    ],
                    "scatterpolargl": [
                      {
                        "marker": {
                          "colorbar": {
                            "outlinewidth": 0,
                            "ticks": ""
                          }
                        },
                        "type": "scatterpolargl"
                      }
                    ],
                    "scatterternary": [
                      {
                        "marker": {
                          "colorbar": {
                            "outlinewidth": 0,
                            "ticks": ""
                          }
                        },
                        "type": "scatterternary"
                      }
                    ],
                    "surface": [
                      {
                        "colorbar": {
                          "outlinewidth": 0,
                          "ticks": ""
                        },
                        "colorscale": [
                          [
                            0,
                            "#0d0887"
                          ],
                          [
                            0.1111111111111111,
                            "#46039f"
                          ],
                          [
                            0.2222222222222222,
                            "#7201a8"
                          ],
                          [
                            0.3333333333333333,
                            "#9c179e"
                          ],
                          [
                            0.4444444444444444,
                            "#bd3786"
                          ],
                          [
                            0.5555555555555556,
                            "#d8576b"
                          ],
                          [
                            0.6666666666666666,
                            "#ed7953"
                          ],
                          [
                            0.7777777777777778,
                            "#fb9f3a"
                          ],
                          [
                            0.8888888888888888,
                            "#fdca26"
                          ],
                          [
                            1,
                            "#f0f921"
                          ]
                        ],
                        "type": "surface"
                      }
                    ],
                    "table": [
                      {
                        "cells": {
                          "fill": {
                            "color": "#EBF0F8"
                          },
                          "line": {
                            "color": "white"
                          }
                        },
                        "header": {
                          "fill": {
                            "color": "#C8D4E3"
                          },
                          "line": {
                            "color": "white"
                          }
                        },
                        "type": "table"
                      }
                    ]
                  },
                  "layout": {
                    "annotationdefaults": {
                      "arrowcolor": "#2a3f5f",
                      "arrowhead": 0,
                      "arrowwidth": 1
                    },
                    "autotypenumbers": "strict",
                    "coloraxis": {
                      "colorbar": {
                        "outlinewidth": 0,
                        "ticks": ""
                      }
                    },
                    "colorscale": {
                      "diverging": [
                        [
                          0,
                          "#8e0152"
                        ],
                        [
                          0.1,
                          "#c51b7d"
                        ],
                        [
                          0.2,
                          "#de77ae"
                        ],
                        [
                          0.3,
                          "#f1b6da"
                        ],
                        [
                          0.4,
                          "#fde0ef"
                        ],
                        [
                          0.5,
                          "#f7f7f7"
                        ],
                        [
                          0.6,
                          "#e6f5d0"
                        ],
                        [
                          0.7,
                          "#b8e186"
                        ],
                        [
                          0.8,
                          "#7fbc41"
                        ],
                        [
                          0.9,
                          "#4d9221"
                        ],
                        [
                          1,
                          "#276419"
                        ]
                      ],
                      "sequential": [
                        [
                          0,
                          "#0d0887"
                        ],
                        [
                          0.1111111111111111,
                          "#46039f"
                        ],
                        [
                          0.2222222222222222,
                          "#7201a8"
                        ],
                        [
                          0.3333333333333333,
                          "#9c179e"
                        ],
                        [
                          0.4444444444444444,
                          "#bd3786"
                        ],
                        [
                          0.5555555555555556,
                          "#d8576b"
                        ],
                        [
                          0.6666666666666666,
                          "#ed7953"
                        ],
                        [
                          0.7777777777777778,
                          "#fb9f3a"
                        ],
                        [
                          0.8888888888888888,
                          "#fdca26"
                        ],
                        [
                          1,
                          "#f0f921"
                        ]
                      ],
                      "sequentialminus": [
                        [
                          0,
                          "#0d0887"
                        ],
                        [
                          0.1111111111111111,
                          "#46039f"
                        ],
                        [
                          0.2222222222222222,
                          "#7201a8"
                        ],
                        [
                          0.3333333333333333,
                          "#9c179e"
                        ],
                        [
                          0.4444444444444444,
                          "#bd3786"
                        ],
                        [
                          0.5555555555555556,
                          "#d8576b"
                        ],
                        [
                          0.6666666666666666,
                          "#ed7953"
                        ],
                        [
                          0.7777777777777778,
                          "#fb9f3a"
                        ],
                        [
                          0.8888888888888888,
                          "#fdca26"
                        ],
                        [
                          1,
                          "#f0f921"
                        ]
                      ]
                    },
                    "colorway": [
                      "#636efa",
                      "#EF553B",
                      "#00cc96",
                      "#ab63fa",
                      "#FFA15A",
                      "#19d3f3",
                      "#FF6692",
                      "#B6E880",
                      "#FF97FF",
                      "#FECB52"
                    ],
                    "font": {
                      "color": "#2a3f5f"
                    },
                    "geo": {
                      "bgcolor": "white",
                      "lakecolor": "white",
                      "landcolor": "#E5ECF6",
                      "showlakes": true,
                      "showland": true,
                      "subunitcolor": "white"
                    },
                    "hoverlabel": {
                      "align": "left"
                    },
                    "hovermode": "closest",
                    "mapbox": {
                      "style": "light"
                    },
                    "paper_bgcolor": "white",
                    "plot_bgcolor": "#E5ECF6",
                    "polar": {
                      "angularaxis": {
                        "gridcolor": "white",
                        "linecolor": "white",
                        "ticks": ""
                      },
                      "bgcolor": "#E5ECF6",
                      "radialaxis": {
                        "gridcolor": "white",
                        "linecolor": "white",
                        "ticks": ""
                      }
                    },
                    "scene": {
                      "xaxis": {
                        "backgroundcolor": "#E5ECF6",
                        "gridcolor": "white",
                        "gridwidth": 2,
                        "linecolor": "white",
                        "showbackground": true,
                        "ticks": "",
                        "zerolinecolor": "white"
                      },
                      "yaxis": {
                        "backgroundcolor": "#E5ECF6",
                        "gridcolor": "white",
                        "gridwidth": 2,
                        "linecolor": "white",
                        "showbackground": true,
                        "ticks": "",
                        "zerolinecolor": "white"
                      },
                      "zaxis": {
                        "backgroundcolor": "#E5ECF6",
                        "gridcolor": "white",
                        "gridwidth": 2,
                        "linecolor": "white",
                        "showbackground": true,
                        "ticks": "",
                        "zerolinecolor": "white"
                      }
                    },
                    "shapedefaults": {
                      "line": {
                        "color": "#2a3f5f"
                      }
                    },
                    "ternary": {
                      "aaxis": {
                        "gridcolor": "white",
                        "linecolor": "white",
                        "ticks": ""
                      },
                      "baxis": {
                        "gridcolor": "white",
                        "linecolor": "white",
                        "ticks": ""
                      },
                      "bgcolor": "#E5ECF6",
                      "caxis": {
                        "gridcolor": "white",
                        "linecolor": "white",
                        "ticks": ""
                      }
                    },
                    "title": {
                      "x": 0.05
                    },
                    "xaxis": {
                      "automargin": true,
                      "gridcolor": "white",
                      "linecolor": "white",
                      "ticks": "",
                      "title": {
                        "standoff": 15
                      },
                      "zerolinecolor": "white",
                      "zerolinewidth": 2
                    },
                    "yaxis": {
                      "automargin": true,
                      "gridcolor": "white",
                      "linecolor": "white",
                      "ticks": "",
                      "title": {
                        "standoff": 15
                      },
                      "zerolinecolor": "white",
                      "zerolinewidth": 2
                    }
                  }
                },
                "title": {
                  "text": "Duplicate Token Scores"
                },
                "xaxis": {
                  "anchor": "y",
                  "constrain": "domain",
                  "domain": [
                    0,
                    1
                  ],
                  "scaleanchor": "y",
                  "title": {
                    "text": "Head"
                  }
                },
                "yaxis": {
                  "anchor": "x",
                  "autorange": "reversed",
                  "constrain": "domain",
                  "domain": [
                    0,
                    1
                  ],
                  "title": {
                    "text": "Layer"
                  }
                }
              }
            }
          },
          "metadata": {},
          "output_type": "display_data"
        },
        {
          "data": {
            "application/vnd.plotly.v1+json": {
              "config": {
                "plotlyServerURL": "https://plot.ly"
              },
              "data": [
                {
                  "coloraxis": "coloraxis",
                  "hovertemplate": "Head: %{x}<br>Layer: %{y}<br>color: %{z}<extra></extra>",
                  "name": "0",
                  "type": "heatmap",
                  "xaxis": "x",
                  "yaxis": "y",
                  "z": [
                    [
                      0.004035575315356255,
                      0.0000385937346436549,
                      0.003946058917790651,
                      1.7428524756724073e-7,
                      0.000059896130551351234,
                      0.000040836803236743435,
                      0.0035017586778849363,
                      0.00024610417312942445,
                      0.0031679815147072077,
                      0.0030104012694209814,
                      0.002093541668727994,
                      0.008525434881448746
                    ],
                    [
                      0.000526473973877728,
                      0.00015670718858018517,
                      0.001507942914031446,
                      0.005595325026661158,
                      0.0018401180859655142,
                      0.0038875630125403404,
                      0.005349153187125921,
                      0.004649169277399778,
                      0.005880181211978197,
                      0.007283917628228664,
                      0.005552186165004969,
                      0.00012677280756179243
                    ],
                    [
                      0.0022015420254319906,
                      0.008784863166511059,
                      0.002159146359190345,
                      0.0010447809472680092,
                      0.005142326466739178,
                      0.002251626690849662,
                      0.0008376616751775146,
                      0.006352409720420837,
                      0.002618127502501011,
                      0.0010309136705473065,
                      0.00015219187480397522,
                      0.005351166240870953
                    ],
                    [
                      0.007752244360744953,
                      0.0030915802344679832,
                      0.001362923881970346,
                      0.004341960418969393,
                      0.011233060620725155,
                      0.006535551976412535,
                      0.000906877510715276,
                      0.0006078600417822599,
                      0.002819513902068138,
                      0.005254077725112438,
                      0.004195652436465025,
                      0.00255418848246336
                    ],
                    [
                      0.007342735771089792,
                      0.004788339603692293,
                      0.007458819076418877,
                      0.0033073313534259796,
                      0.007871866226196289,
                      0.004219769034534693,
                      0.004172054585069418,
                      0.0005154653917998075,
                      0.008124975487589836,
                      0.0068268910981714725,
                      0.008085492067039013,
                      3.761376626831847e-11
                    ],
                    [
                      0.4337766170501709,
                      0.9306095838546753,
                      0.006382268853485584,
                      0.0034730439074337482,
                      0.005500996019691229,
                      0.9255973696708679,
                      0.00538142304867506,
                      0.007857315242290497,
                      0.00863779615610838,
                      0.01576443389058113,
                      0.012188379652798176,
                      0.008265726268291473
                    ],
                    [
                      0.002507298020645976,
                      0.008432027883827686,
                      0.008623305708169937,
                      0.007653353735804558,
                      0.01105806790292263,
                      0.005525435321033001,
                      0.017205175012350082,
                      0.004794349893927574,
                      0.0040976013988256454,
                      0.9257788062095642,
                      0.020375633612275124,
                      0.006313954945653677
                    ],
                    [
                      0.005555536597967148,
                      0.18942977488040924,
                      0.8509925007820129,
                      0.008273146115243435,
                      0.008239664137363434,
                      0.00864996388554573,
                      0.02832852303981781,
                      0.08996275067329407,
                      0.006617339327931404,
                      0.009413909167051315,
                      0.9037814736366272,
                      0.03037159889936447
                    ],
                    [
                      0.00735454261302948,
                      0.3791317641735077,
                      0.005602709017693996,
                      0.025401461869478226,
                      0.008504674769937992,
                      0.00623108958825469,
                      0.11892436444759369,
                      0.005114651285111904,
                      0.013350939378142357,
                      0.01576736941933632,
                      0.025843923911452293,
                      0.008429747074842453
                    ],
                    [
                      0.2398916333913803,
                      0.14378757774829865,
                      0.09330663084983826,
                      0.005819779820740223,
                      0.07744801044464111,
                      0.01644793339073658,
                      0.4442836344242096,
                      0.011141352355480194,
                      0.03619001433253288,
                      0.472646564245224,
                      0.00803996529430151,
                      0.030953049659729004
                    ],
                    [
                      0.3606555163860321,
                      0.48201146721839905,
                      0.022851115092635155,
                      0.1264195442199707,
                      0.04125598818063736,
                      0.0072374604642391205,
                      0.2877156138420105,
                      0.3897320628166199,
                      0.030060900375247,
                      0.006112942937761545,
                      0.1655488908290863,
                      0.22245149314403534
                    ],
                    [
                      0.007408542558550835,
                      0.033737149089574814,
                      0.02041277289390564,
                      0.002755412133410573,
                      0.02518630214035511,
                      0.07808877527713776,
                      0.033082809299230576,
                      0.046440087258815765,
                      0.0032543439883738756,
                      0.2744256258010864,
                      0.3800230026245117,
                      0.009483495727181435
                    ]
                  ]
                }
              ],
              "layout": {
                "coloraxis": {
                  "cmid": 0,
                  "colorscale": [
                    [
                      0,
                      "rgb(103,0,31)"
                    ],
                    [
                      0.1,
                      "rgb(178,24,43)"
                    ],
                    [
                      0.2,
                      "rgb(214,96,77)"
                    ],
                    [
                      0.3,
                      "rgb(244,165,130)"
                    ],
                    [
                      0.4,
                      "rgb(253,219,199)"
                    ],
                    [
                      0.5,
                      "rgb(247,247,247)"
                    ],
                    [
                      0.6,
                      "rgb(209,229,240)"
                    ],
                    [
                      0.7,
                      "rgb(146,197,222)"
                    ],
                    [
                      0.8,
                      "rgb(67,147,195)"
                    ],
                    [
                      0.9,
                      "rgb(33,102,172)"
                    ],
                    [
                      1,
                      "rgb(5,48,97)"
                    ]
                  ]
                },
                "template": {
                  "data": {
                    "bar": [
                      {
                        "error_x": {
                          "color": "#2a3f5f"
                        },
                        "error_y": {
                          "color": "#2a3f5f"
                        },
                        "marker": {
                          "line": {
                            "color": "#E5ECF6",
                            "width": 0.5
                          },
                          "pattern": {
                            "fillmode": "overlay",
                            "size": 10,
                            "solidity": 0.2
                          }
                        },
                        "type": "bar"
                      }
                    ],
                    "barpolar": [
                      {
                        "marker": {
                          "line": {
                            "color": "#E5ECF6",
                            "width": 0.5
                          },
                          "pattern": {
                            "fillmode": "overlay",
                            "size": 10,
                            "solidity": 0.2
                          }
                        },
                        "type": "barpolar"
                      }
                    ],
                    "carpet": [
                      {
                        "aaxis": {
                          "endlinecolor": "#2a3f5f",
                          "gridcolor": "white",
                          "linecolor": "white",
                          "minorgridcolor": "white",
                          "startlinecolor": "#2a3f5f"
                        },
                        "baxis": {
                          "endlinecolor": "#2a3f5f",
                          "gridcolor": "white",
                          "linecolor": "white",
                          "minorgridcolor": "white",
                          "startlinecolor": "#2a3f5f"
                        },
                        "type": "carpet"
                      }
                    ],
                    "choropleth": [
                      {
                        "colorbar": {
                          "outlinewidth": 0,
                          "ticks": ""
                        },
                        "type": "choropleth"
                      }
                    ],
                    "contour": [
                      {
                        "colorbar": {
                          "outlinewidth": 0,
                          "ticks": ""
                        },
                        "colorscale": [
                          [
                            0,
                            "#0d0887"
                          ],
                          [
                            0.1111111111111111,
                            "#46039f"
                          ],
                          [
                            0.2222222222222222,
                            "#7201a8"
                          ],
                          [
                            0.3333333333333333,
                            "#9c179e"
                          ],
                          [
                            0.4444444444444444,
                            "#bd3786"
                          ],
                          [
                            0.5555555555555556,
                            "#d8576b"
                          ],
                          [
                            0.6666666666666666,
                            "#ed7953"
                          ],
                          [
                            0.7777777777777778,
                            "#fb9f3a"
                          ],
                          [
                            0.8888888888888888,
                            "#fdca26"
                          ],
                          [
                            1,
                            "#f0f921"
                          ]
                        ],
                        "type": "contour"
                      }
                    ],
                    "contourcarpet": [
                      {
                        "colorbar": {
                          "outlinewidth": 0,
                          "ticks": ""
                        },
                        "type": "contourcarpet"
                      }
                    ],
                    "heatmap": [
                      {
                        "colorbar": {
                          "outlinewidth": 0,
                          "ticks": ""
                        },
                        "colorscale": [
                          [
                            0,
                            "#0d0887"
                          ],
                          [
                            0.1111111111111111,
                            "#46039f"
                          ],
                          [
                            0.2222222222222222,
                            "#7201a8"
                          ],
                          [
                            0.3333333333333333,
                            "#9c179e"
                          ],
                          [
                            0.4444444444444444,
                            "#bd3786"
                          ],
                          [
                            0.5555555555555556,
                            "#d8576b"
                          ],
                          [
                            0.6666666666666666,
                            "#ed7953"
                          ],
                          [
                            0.7777777777777778,
                            "#fb9f3a"
                          ],
                          [
                            0.8888888888888888,
                            "#fdca26"
                          ],
                          [
                            1,
                            "#f0f921"
                          ]
                        ],
                        "type": "heatmap"
                      }
                    ],
                    "heatmapgl": [
                      {
                        "colorbar": {
                          "outlinewidth": 0,
                          "ticks": ""
                        },
                        "colorscale": [
                          [
                            0,
                            "#0d0887"
                          ],
                          [
                            0.1111111111111111,
                            "#46039f"
                          ],
                          [
                            0.2222222222222222,
                            "#7201a8"
                          ],
                          [
                            0.3333333333333333,
                            "#9c179e"
                          ],
                          [
                            0.4444444444444444,
                            "#bd3786"
                          ],
                          [
                            0.5555555555555556,
                            "#d8576b"
                          ],
                          [
                            0.6666666666666666,
                            "#ed7953"
                          ],
                          [
                            0.7777777777777778,
                            "#fb9f3a"
                          ],
                          [
                            0.8888888888888888,
                            "#fdca26"
                          ],
                          [
                            1,
                            "#f0f921"
                          ]
                        ],
                        "type": "heatmapgl"
                      }
                    ],
                    "histogram": [
                      {
                        "marker": {
                          "pattern": {
                            "fillmode": "overlay",
                            "size": 10,
                            "solidity": 0.2
                          }
                        },
                        "type": "histogram"
                      }
                    ],
                    "histogram2d": [
                      {
                        "colorbar": {
                          "outlinewidth": 0,
                          "ticks": ""
                        },
                        "colorscale": [
                          [
                            0,
                            "#0d0887"
                          ],
                          [
                            0.1111111111111111,
                            "#46039f"
                          ],
                          [
                            0.2222222222222222,
                            "#7201a8"
                          ],
                          [
                            0.3333333333333333,
                            "#9c179e"
                          ],
                          [
                            0.4444444444444444,
                            "#bd3786"
                          ],
                          [
                            0.5555555555555556,
                            "#d8576b"
                          ],
                          [
                            0.6666666666666666,
                            "#ed7953"
                          ],
                          [
                            0.7777777777777778,
                            "#fb9f3a"
                          ],
                          [
                            0.8888888888888888,
                            "#fdca26"
                          ],
                          [
                            1,
                            "#f0f921"
                          ]
                        ],
                        "type": "histogram2d"
                      }
                    ],
                    "histogram2dcontour": [
                      {
                        "colorbar": {
                          "outlinewidth": 0,
                          "ticks": ""
                        },
                        "colorscale": [
                          [
                            0,
                            "#0d0887"
                          ],
                          [
                            0.1111111111111111,
                            "#46039f"
                          ],
                          [
                            0.2222222222222222,
                            "#7201a8"
                          ],
                          [
                            0.3333333333333333,
                            "#9c179e"
                          ],
                          [
                            0.4444444444444444,
                            "#bd3786"
                          ],
                          [
                            0.5555555555555556,
                            "#d8576b"
                          ],
                          [
                            0.6666666666666666,
                            "#ed7953"
                          ],
                          [
                            0.7777777777777778,
                            "#fb9f3a"
                          ],
                          [
                            0.8888888888888888,
                            "#fdca26"
                          ],
                          [
                            1,
                            "#f0f921"
                          ]
                        ],
                        "type": "histogram2dcontour"
                      }
                    ],
                    "mesh3d": [
                      {
                        "colorbar": {
                          "outlinewidth": 0,
                          "ticks": ""
                        },
                        "type": "mesh3d"
                      }
                    ],
                    "parcoords": [
                      {
                        "line": {
                          "colorbar": {
                            "outlinewidth": 0,
                            "ticks": ""
                          }
                        },
                        "type": "parcoords"
                      }
                    ],
                    "pie": [
                      {
                        "automargin": true,
                        "type": "pie"
                      }
                    ],
                    "scatter": [
                      {
                        "fillpattern": {
                          "fillmode": "overlay",
                          "size": 10,
                          "solidity": 0.2
                        },
                        "type": "scatter"
                      }
                    ],
                    "scatter3d": [
                      {
                        "line": {
                          "colorbar": {
                            "outlinewidth": 0,
                            "ticks": ""
                          }
                        },
                        "marker": {
                          "colorbar": {
                            "outlinewidth": 0,
                            "ticks": ""
                          }
                        },
                        "type": "scatter3d"
                      }
                    ],
                    "scattercarpet": [
                      {
                        "marker": {
                          "colorbar": {
                            "outlinewidth": 0,
                            "ticks": ""
                          }
                        },
                        "type": "scattercarpet"
                      }
                    ],
                    "scattergeo": [
                      {
                        "marker": {
                          "colorbar": {
                            "outlinewidth": 0,
                            "ticks": ""
                          }
                        },
                        "type": "scattergeo"
                      }
                    ],
                    "scattergl": [
                      {
                        "marker": {
                          "colorbar": {
                            "outlinewidth": 0,
                            "ticks": ""
                          }
                        },
                        "type": "scattergl"
                      }
                    ],
                    "scattermapbox": [
                      {
                        "marker": {
                          "colorbar": {
                            "outlinewidth": 0,
                            "ticks": ""
                          }
                        },
                        "type": "scattermapbox"
                      }
                    ],
                    "scatterpolar": [
                      {
                        "marker": {
                          "colorbar": {
                            "outlinewidth": 0,
                            "ticks": ""
                          }
                        },
                        "type": "scatterpolar"
                      }
                    ],
                    "scatterpolargl": [
                      {
                        "marker": {
                          "colorbar": {
                            "outlinewidth": 0,
                            "ticks": ""
                          }
                        },
                        "type": "scatterpolargl"
                      }
                    ],
                    "scatterternary": [
                      {
                        "marker": {
                          "colorbar": {
                            "outlinewidth": 0,
                            "ticks": ""
                          }
                        },
                        "type": "scatterternary"
                      }
                    ],
                    "surface": [
                      {
                        "colorbar": {
                          "outlinewidth": 0,
                          "ticks": ""
                        },
                        "colorscale": [
                          [
                            0,
                            "#0d0887"
                          ],
                          [
                            0.1111111111111111,
                            "#46039f"
                          ],
                          [
                            0.2222222222222222,
                            "#7201a8"
                          ],
                          [
                            0.3333333333333333,
                            "#9c179e"
                          ],
                          [
                            0.4444444444444444,
                            "#bd3786"
                          ],
                          [
                            0.5555555555555556,
                            "#d8576b"
                          ],
                          [
                            0.6666666666666666,
                            "#ed7953"
                          ],
                          [
                            0.7777777777777778,
                            "#fb9f3a"
                          ],
                          [
                            0.8888888888888888,
                            "#fdca26"
                          ],
                          [
                            1,
                            "#f0f921"
                          ]
                        ],
                        "type": "surface"
                      }
                    ],
                    "table": [
                      {
                        "cells": {
                          "fill": {
                            "color": "#EBF0F8"
                          },
                          "line": {
                            "color": "white"
                          }
                        },
                        "header": {
                          "fill": {
                            "color": "#C8D4E3"
                          },
                          "line": {
                            "color": "white"
                          }
                        },
                        "type": "table"
                      }
                    ]
                  },
                  "layout": {
                    "annotationdefaults": {
                      "arrowcolor": "#2a3f5f",
                      "arrowhead": 0,
                      "arrowwidth": 1
                    },
                    "autotypenumbers": "strict",
                    "coloraxis": {
                      "colorbar": {
                        "outlinewidth": 0,
                        "ticks": ""
                      }
                    },
                    "colorscale": {
                      "diverging": [
                        [
                          0,
                          "#8e0152"
                        ],
                        [
                          0.1,
                          "#c51b7d"
                        ],
                        [
                          0.2,
                          "#de77ae"
                        ],
                        [
                          0.3,
                          "#f1b6da"
                        ],
                        [
                          0.4,
                          "#fde0ef"
                        ],
                        [
                          0.5,
                          "#f7f7f7"
                        ],
                        [
                          0.6,
                          "#e6f5d0"
                        ],
                        [
                          0.7,
                          "#b8e186"
                        ],
                        [
                          0.8,
                          "#7fbc41"
                        ],
                        [
                          0.9,
                          "#4d9221"
                        ],
                        [
                          1,
                          "#276419"
                        ]
                      ],
                      "sequential": [
                        [
                          0,
                          "#0d0887"
                        ],
                        [
                          0.1111111111111111,
                          "#46039f"
                        ],
                        [
                          0.2222222222222222,
                          "#7201a8"
                        ],
                        [
                          0.3333333333333333,
                          "#9c179e"
                        ],
                        [
                          0.4444444444444444,
                          "#bd3786"
                        ],
                        [
                          0.5555555555555556,
                          "#d8576b"
                        ],
                        [
                          0.6666666666666666,
                          "#ed7953"
                        ],
                        [
                          0.7777777777777778,
                          "#fb9f3a"
                        ],
                        [
                          0.8888888888888888,
                          "#fdca26"
                        ],
                        [
                          1,
                          "#f0f921"
                        ]
                      ],
                      "sequentialminus": [
                        [
                          0,
                          "#0d0887"
                        ],
                        [
                          0.1111111111111111,
                          "#46039f"
                        ],
                        [
                          0.2222222222222222,
                          "#7201a8"
                        ],
                        [
                          0.3333333333333333,
                          "#9c179e"
                        ],
                        [
                          0.4444444444444444,
                          "#bd3786"
                        ],
                        [
                          0.5555555555555556,
                          "#d8576b"
                        ],
                        [
                          0.6666666666666666,
                          "#ed7953"
                        ],
                        [
                          0.7777777777777778,
                          "#fb9f3a"
                        ],
                        [
                          0.8888888888888888,
                          "#fdca26"
                        ],
                        [
                          1,
                          "#f0f921"
                        ]
                      ]
                    },
                    "colorway": [
                      "#636efa",
                      "#EF553B",
                      "#00cc96",
                      "#ab63fa",
                      "#FFA15A",
                      "#19d3f3",
                      "#FF6692",
                      "#B6E880",
                      "#FF97FF",
                      "#FECB52"
                    ],
                    "font": {
                      "color": "#2a3f5f"
                    },
                    "geo": {
                      "bgcolor": "white",
                      "lakecolor": "white",
                      "landcolor": "#E5ECF6",
                      "showlakes": true,
                      "showland": true,
                      "subunitcolor": "white"
                    },
                    "hoverlabel": {
                      "align": "left"
                    },
                    "hovermode": "closest",
                    "mapbox": {
                      "style": "light"
                    },
                    "paper_bgcolor": "white",
                    "plot_bgcolor": "#E5ECF6",
                    "polar": {
                      "angularaxis": {
                        "gridcolor": "white",
                        "linecolor": "white",
                        "ticks": ""
                      },
                      "bgcolor": "#E5ECF6",
                      "radialaxis": {
                        "gridcolor": "white",
                        "linecolor": "white",
                        "ticks": ""
                      }
                    },
                    "scene": {
                      "xaxis": {
                        "backgroundcolor": "#E5ECF6",
                        "gridcolor": "white",
                        "gridwidth": 2,
                        "linecolor": "white",
                        "showbackground": true,
                        "ticks": "",
                        "zerolinecolor": "white"
                      },
                      "yaxis": {
                        "backgroundcolor": "#E5ECF6",
                        "gridcolor": "white",
                        "gridwidth": 2,
                        "linecolor": "white",
                        "showbackground": true,
                        "ticks": "",
                        "zerolinecolor": "white"
                      },
                      "zaxis": {
                        "backgroundcolor": "#E5ECF6",
                        "gridcolor": "white",
                        "gridwidth": 2,
                        "linecolor": "white",
                        "showbackground": true,
                        "ticks": "",
                        "zerolinecolor": "white"
                      }
                    },
                    "shapedefaults": {
                      "line": {
                        "color": "#2a3f5f"
                      }
                    },
                    "ternary": {
                      "aaxis": {
                        "gridcolor": "white",
                        "linecolor": "white",
                        "ticks": ""
                      },
                      "baxis": {
                        "gridcolor": "white",
                        "linecolor": "white",
                        "ticks": ""
                      },
                      "bgcolor": "#E5ECF6",
                      "caxis": {
                        "gridcolor": "white",
                        "linecolor": "white",
                        "ticks": ""
                      }
                    },
                    "title": {
                      "x": 0.05
                    },
                    "xaxis": {
                      "automargin": true,
                      "gridcolor": "white",
                      "linecolor": "white",
                      "ticks": "",
                      "title": {
                        "standoff": 15
                      },
                      "zerolinecolor": "white",
                      "zerolinewidth": 2
                    },
                    "yaxis": {
                      "automargin": true,
                      "gridcolor": "white",
                      "linecolor": "white",
                      "ticks": "",
                      "title": {
                        "standoff": 15
                      },
                      "zerolinecolor": "white",
                      "zerolinewidth": 2
                    }
                  }
                },
                "title": {
                  "text": "Induction Head Scores"
                },
                "xaxis": {
                  "anchor": "y",
                  "constrain": "domain",
                  "domain": [
                    0,
                    1
                  ],
                  "scaleanchor": "y",
                  "title": {
                    "text": "Head"
                  }
                },
                "yaxis": {
                  "anchor": "x",
                  "autorange": "reversed",
                  "constrain": "domain",
                  "domain": [
                    0,
                    1
                  ],
                  "title": {
                    "text": "Layer"
                  }
                }
              }
            }
          },
          "metadata": {},
          "output_type": "display_data"
        }
      ],
      "source": [
        "imshow(\n",
        "    prev_token_scores, labels={\"x\": \"Head\", \"y\": \"Layer\"}, title=\"Previous Token Scores\"\n",
        ")\n",
        "imshow(\n",
        "    duplicate_token_scores,\n",
        "    labels={\"x\": \"Head\", \"y\": \"Layer\"},\n",
        "    title=\"Duplicate Token Scores\",\n",
        ")\n",
        "imshow(\n",
        "    induction_scores, labels={\"x\": \"Head\", \"y\": \"Layer\"}, title=\"Induction Head Scores\"\n",
        ")"
      ]
    },
    {
      "cell_type": "markdown",
      "metadata": {
        "id": "JUVoHRIMUvqI"
      },
      "source": [
        "The above suggests that it would be a useful bit of infrastructure to have a \"wiki\" for the heads of a model, giving their scores according to some metrics re head functions, like the ones we've seen here. TransformerLens makes this easy to make, as just changing the name input to `HookedTransformer.from_pretrained` gives a different model but in the same architecture, so the same code should work. If you want to make this, I'd love to see it!\n",
        "\n",
        "As a proof of concept, [I made a mosaic of all induction heads across the 40 models then in TransformerLens](https://www.neelnanda.io/mosaic).\n",
        "\n",
        "![induction scores as proof of concept](https://firebasestorage.googleapis.com/v0/b/firescript-577a2.appspot.com/o/imgs%2Fapp%2FNeelNanda%2F5vtuFmdzt_.png?alt=media&token=4d613de4-9d14-48d6-ba9d-e591c562d429)"
      ]
    },
    {
      "cell_type": "markdown",
      "metadata": {
        "id": "040wpUMtUvqI"
      },
      "source": [
        "### Backup Name Mover Heads"
      ]
    },
    {
      "cell_type": "markdown",
      "metadata": {
        "id": "vSq_a4UOUvqI"
      },
      "source": [
        "Another fascinating anomaly is that of the **backup name mover heads**. A standard technique to apply when interpreting model internals is ablations, or knock-out. If we run the model but intervene to set a specific head to zero, what happens? If the model is robust to this intervention, then naively we can be confident that the head is not doing anything important, and conversely if the model is much worse at the task this suggests that head was important. There are several conceptual flaws with this approach, making the evidence only suggestive, eg that the average output of the head may be far from zero and so the knockout may send it far from expected activations, breaking internals on *any* task. But it's still an easy technique to apply to give some data.\n",
        "\n",
        "But a wild finding in the paper is that models have **built in redundancy**. If we knock out one of the name movers, then there are some backup name movers in later layers that *change their behaviour* and do (some of) the job of the original name mover head. This means that naive knock-out will significantly underestimate the importance of the name movers.\n"
      ]
    },
    {
      "cell_type": "markdown",
      "metadata": {
        "id": "pcYhwOsMUvqI"
      },
      "source": [
        "Let's test this! Let's ablate the most important name mover (head L9H9) on just the final token using a custom ablation hook and then cache all new activations and compared performance. We focus on the final position because we want to specifically ablate the direct logit effect. When we do this, we see that naively, removing the top name mover should reduce the logit diff massively, from 3.55 to 0.57. **But actually, it only goes down to 2.99!**\n",
        "\n",
        "<details> <summary>Implementation Details</summary>\n",
        "Ablating heads is really easy in TransformerLens! We can just define a hook on the z activation in the relevant attention layer (recall, z is the mixed values, and comes immediately before multiplying by the output weights $W_O$). z has a head_index axis, so we can set the component for the relevant head and for position -1 to zero, and return it. (Technically we could just edit in place without returning it, but by convention we always return an edited activation).\n",
        "\n",
        "We now want to compare all internal activations with a hook, which is hard to do with the nice `run_with_hooks` API. So we can directly access the hook on the z activation with `model.blocks[layer].attn.hook_z` and call its `add_hook` method. This adds in the hook to the *global state* of the model. We can now use run_with_cache, and don't need to care about the global state, because run_with_cache internally adds a bunch of caching hooks, and then removes all hooks after the run, *including* the previously added ablation hook. This can be disabled with the reset_hooks_end flag, but here it's useful!\n",
        "</details>"
      ]
    },
    {
      "cell_type": "code",
      "execution_count": null,
      "metadata": {
        "id": "x0k1gDG9UvqJ",
        "outputId": "70ed87d7-f79f-4a0e-ee79-5b0f14418388"
      },
      "outputs": [
        {
          "name": "stdout",
          "output_type": "stream",
          "text": [
            "Top Name Mover to ablate: L9H9\n",
            "Original logit diff: 3.55\n",
            "Post ablation logit diff: 2.92\n",
            "Direct Logit Attribution of top name mover head: 2.99\n",
            "Naive prediction of post ablation logit diff: 0.57\n"
          ]
        }
      ],
      "source": [
        "top_name_mover = per_head_logit_diffs.flatten().argmax().item()\n",
        "top_name_mover_layer = top_name_mover // model.cfg.n_heads\n",
        "top_name_mover_head = top_name_mover % model.cfg.n_heads\n",
        "print(f\"Top Name Mover to ablate: L{top_name_mover_layer}H{top_name_mover_head}\")\n",
        "\n",
        "\n",
        "def ablate_top_head_hook(z: Float[torch.Tensor, \"batch pos head_index d_head\"], hook):\n",
        "    z[:, -1, top_name_mover_head, :] = 0\n",
        "    return z\n",
        "\n",
        "\n",
        "# Adds a hook into global model state\n",
        "model.blocks[top_name_mover_layer].attn.hook_z.add_hook(ablate_top_head_hook)\n",
        "# Runs the model, temporarily adds caching hooks and then removes *all* hooks after running, including the ablation hook.\n",
        "ablated_logits, ablated_cache = model.run_with_cache(tokens)\n",
        "print(f\"Original logit diff: {original_average_logit_diff:.2f}\")\n",
        "print(\n",
        "    f\"Post ablation logit diff: {logits_to_ave_logit_diff(ablated_logits, answer_tokens).item():.2f}\"\n",
        ")\n",
        "print(\n",
        "    f\"Direct Logit Attribution of top name mover head: {per_head_logit_diffs.flatten()[top_name_mover].item():.2f}\"\n",
        ")\n",
        "print(\n",
        "    f\"Naive prediction of post ablation logit diff: {original_average_logit_diff - per_head_logit_diffs.flatten()[top_name_mover].item():.2f}\"\n",
        ")"
      ]
    },
    {
      "cell_type": "markdown",
      "metadata": {
        "id": "fohEQUBVUvqJ"
      },
      "source": [
        "So what's up with this? As before, we can look at the direct logit attribution of each head to see what's going on. It's easiest to interpret if plotted as a scatter plot against the initial per head logit difference.\n",
        "\n",
        "And we can see a *really* big difference in a few heads! (Hover to see labels) In particular the negative name mover L10H7 decreases its negative effect a lot, adding +1 to the logit diff, and the backup name mover L10H10 adjusts its effect to be more positive, adding +0.8 to the logit diff (with several other marginal changes). (And obviously the ablated head has gone down to zero!)"
      ]
    },
    {
      "cell_type": "code",
      "execution_count": null,
      "metadata": {
        "id": "23rnH6uiUvqJ",
        "outputId": "053e3448-a557-4c64-aee4-d42c1cc6070e"
      },
      "outputs": [
        {
          "name": "stdout",
          "output_type": "stream",
          "text": [
            "Tried to stack head results when they weren't cached. Computing head results now\n"
          ]
        },
        {
          "data": {
            "application/vnd.plotly.v1+json": {
              "config": {
                "plotlyServerURL": "https://plot.ly"
              },
              "data": [
                {
                  "coloraxis": "coloraxis",
                  "hovertemplate": "Head: %{x}<br>Layer: %{y}<br>color: %{z}<extra></extra>",
                  "name": "0",
                  "type": "heatmap",
                  "xaxis": "x",
                  "yaxis": "y",
                  "z": [
                    [
                      -0.002156503964215517,
                      -0.0004650682385545224,
                      0.00024167183437384665,
                      0.0002806585980579257,
                      -0.0004162999684922397,
                      -0.0004892416181974113,
                      -0.002620948012918234,
                      -0.002935677068307996,
                      0.00042561208829283714,
                      0.0005418329383246601,
                      0.00023754138965159655,
                      -0.0000748957390896976
                    ],
                    [
                      -0.000658505829051137,
                      0.0004060641804244369,
                      -0.0009330413886345923,
                      0.0008937822422012687,
                      -0.0009785268921405077,
                      -0.000533820129930973,
                      -0.0027988189831376076,
                      -0.004214101936668158,
                      0.002578593324869871,
                      0.0024506838526576757,
                      0.0005351756699383259,
                      0.0012349633034318686
                    ],
                    [
                      0.0009405204327777028,
                      -0.0011168691562488675,
                      -0.0011541967978700995,
                      -0.0015697095077484846,
                      -0.0005699327448382974,
                      0.001451514894142747,
                      0.002439911477267742,
                      0.003158293664455414,
                      0.000923738582059741,
                      -0.003578126197680831,
                      -0.0010650777257978916,
                      -0.0003558753523975611
                    ],
                    [
                      -0.0005624951445497572,
                      -0.000011960582924075425,
                      0.0011531109921634197,
                      0.0007360265008173883,
                      0.0016493839211761951,
                      0.0008800819050520658,
                      -0.0006905529880896211,
                      -0.003031972097232938,
                      0.0008080147090367973,
                      0.00010368914809077978,
                      -0.0005807994166389108,
                      -0.0011067037703469396
                    ],
                    [
                      -0.0026375530287623405,
                      0.0002691895351745188,
                      -0.0016417437000200152,
                      -0.003406986128538847,
                      0.0017449699807912111,
                      0.00046454701805487275,
                      -0.0007899806369096041,
                      0.0018328562146052718,
                      -0.00086324627045542,
                      -0.0003978293389081955,
                      0.0007879206677898765,
                      -0.00012048585631418973
                    ],
                    [
                      0.0008688560919836164,
                      0.0009473530226387084,
                      -0.0022812988609075546,
                      -0.0011803123634308577,
                      0.0002407809515716508,
                      -0.0004318578285165131,
                      -0.0003728170122485608,
                      -0.000738416681997478,
                      0.0008113418589346111,
                      -0.00040444196201860905,
                      -0.007074396125972271,
                      0.003946478478610516
                    ],
                    [
                      -0.014917617663741112,
                      -0.0022801742888987064,
                      0.0022679336834698915,
                      -0.00008302251808345318,
                      -0.004980948753654957,
                      0.0027670026756823063,
                      0.006266288459300995,
                      -0.003485947148874402,
                      -0.0013348984066396952,
                      -0.0017918883822858334,
                      -0.0012231896398589015,
                      0.00040514359716326
                    ],
                    [
                      -0.0002460568503011018,
                      -0.005790225230157375,
                      -0.0004975841729901731,
                      0.142182856798172,
                      -0.0014961492270231247,
                      -0.019006317481398582,
                      0.003133433870971203,
                      -0.001858205534517765,
                      -0.011305196210741997,
                      0.1922595500946045,
                      -0.0011892566690221429,
                      -0.0010282933944836259
                    ],
                    [
                      -0.0038003993686288595,
                      -0.0008570950012654066,
                      -0.013956742361187935,
                      0.00828910805284977,
                      0.004315475933253765,
                      -0.009073829278349876,
                      -0.08315148949623108,
                      0.0034569751005619764,
                      -0.01805492490530014,
                      0.002178061753511429,
                      0.29780513048171997,
                      0.02409379370510578
                    ],
                    [
                      0.08904723823070526,
                      -0.0007931794971227646,
                      0.07247699797153473,
                      0.015016308054327965,
                      -0.02120928093791008,
                      0.05205465108156204,
                      1.4411165714263916,
                      0.04743674397468567,
                      -0.03229031339287758,
                      0,
                      0.0019993737805634737,
                      -0.00807223655283451
                    ],
                    [
                      0.8600788116455078,
                      0.3260062038898468,
                      0.16344408690929413,
                      0.07133537530899048,
                      -0.00444837287068367,
                      0.000681330740917474,
                      0.36613449454307556,
                      -0.7105098962783813,
                      -0.002031375654041767,
                      -0.032143525779247284,
                      1.2294330596923828,
                      0.0018453558441251516
                    ],
                    [
                      0.016877274960279465,
                      -0.001730365096591413,
                      -0.5010868310928345,
                      0.02749764919281006,
                      -0.0059662917628884315,
                      -0.004944110754877329,
                      -0.08855228126049042,
                      0.006622308399528265,
                      0.044124361127614975,
                      -0.02726735547184944,
                      -1.134916067123413,
                      0.02287953346967697
                    ]
                  ]
                }
              ],
              "layout": {
                "coloraxis": {
                  "cmid": 0,
                  "colorscale": [
                    [
                      0,
                      "rgb(103,0,31)"
                    ],
                    [
                      0.1,
                      "rgb(178,24,43)"
                    ],
                    [
                      0.2,
                      "rgb(214,96,77)"
                    ],
                    [
                      0.3,
                      "rgb(244,165,130)"
                    ],
                    [
                      0.4,
                      "rgb(253,219,199)"
                    ],
                    [
                      0.5,
                      "rgb(247,247,247)"
                    ],
                    [
                      0.6,
                      "rgb(209,229,240)"
                    ],
                    [
                      0.7,
                      "rgb(146,197,222)"
                    ],
                    [
                      0.8,
                      "rgb(67,147,195)"
                    ],
                    [
                      0.9,
                      "rgb(33,102,172)"
                    ],
                    [
                      1,
                      "rgb(5,48,97)"
                    ]
                  ]
                },
                "margin": {
                  "t": 60
                },
                "template": {
                  "data": {
                    "bar": [
                      {
                        "error_x": {
                          "color": "#2a3f5f"
                        },
                        "error_y": {
                          "color": "#2a3f5f"
                        },
                        "marker": {
                          "line": {
                            "color": "#E5ECF6",
                            "width": 0.5
                          },
                          "pattern": {
                            "fillmode": "overlay",
                            "size": 10,
                            "solidity": 0.2
                          }
                        },
                        "type": "bar"
                      }
                    ],
                    "barpolar": [
                      {
                        "marker": {
                          "line": {
                            "color": "#E5ECF6",
                            "width": 0.5
                          },
                          "pattern": {
                            "fillmode": "overlay",
                            "size": 10,
                            "solidity": 0.2
                          }
                        },
                        "type": "barpolar"
                      }
                    ],
                    "carpet": [
                      {
                        "aaxis": {
                          "endlinecolor": "#2a3f5f",
                          "gridcolor": "white",
                          "linecolor": "white",
                          "minorgridcolor": "white",
                          "startlinecolor": "#2a3f5f"
                        },
                        "baxis": {
                          "endlinecolor": "#2a3f5f",
                          "gridcolor": "white",
                          "linecolor": "white",
                          "minorgridcolor": "white",
                          "startlinecolor": "#2a3f5f"
                        },
                        "type": "carpet"
                      }
                    ],
                    "choropleth": [
                      {
                        "colorbar": {
                          "outlinewidth": 0,
                          "ticks": ""
                        },
                        "type": "choropleth"
                      }
                    ],
                    "contour": [
                      {
                        "colorbar": {
                          "outlinewidth": 0,
                          "ticks": ""
                        },
                        "colorscale": [
                          [
                            0,
                            "#0d0887"
                          ],
                          [
                            0.1111111111111111,
                            "#46039f"
                          ],
                          [
                            0.2222222222222222,
                            "#7201a8"
                          ],
                          [
                            0.3333333333333333,
                            "#9c179e"
                          ],
                          [
                            0.4444444444444444,
                            "#bd3786"
                          ],
                          [
                            0.5555555555555556,
                            "#d8576b"
                          ],
                          [
                            0.6666666666666666,
                            "#ed7953"
                          ],
                          [
                            0.7777777777777778,
                            "#fb9f3a"
                          ],
                          [
                            0.8888888888888888,
                            "#fdca26"
                          ],
                          [
                            1,
                            "#f0f921"
                          ]
                        ],
                        "type": "contour"
                      }
                    ],
                    "contourcarpet": [
                      {
                        "colorbar": {
                          "outlinewidth": 0,
                          "ticks": ""
                        },
                        "type": "contourcarpet"
                      }
                    ],
                    "heatmap": [
                      {
                        "colorbar": {
                          "outlinewidth": 0,
                          "ticks": ""
                        },
                        "colorscale": [
                          [
                            0,
                            "#0d0887"
                          ],
                          [
                            0.1111111111111111,
                            "#46039f"
                          ],
                          [
                            0.2222222222222222,
                            "#7201a8"
                          ],
                          [
                            0.3333333333333333,
                            "#9c179e"
                          ],
                          [
                            0.4444444444444444,
                            "#bd3786"
                          ],
                          [
                            0.5555555555555556,
                            "#d8576b"
                          ],
                          [
                            0.6666666666666666,
                            "#ed7953"
                          ],
                          [
                            0.7777777777777778,
                            "#fb9f3a"
                          ],
                          [
                            0.8888888888888888,
                            "#fdca26"
                          ],
                          [
                            1,
                            "#f0f921"
                          ]
                        ],
                        "type": "heatmap"
                      }
                    ],
                    "heatmapgl": [
                      {
                        "colorbar": {
                          "outlinewidth": 0,
                          "ticks": ""
                        },
                        "colorscale": [
                          [
                            0,
                            "#0d0887"
                          ],
                          [
                            0.1111111111111111,
                            "#46039f"
                          ],
                          [
                            0.2222222222222222,
                            "#7201a8"
                          ],
                          [
                            0.3333333333333333,
                            "#9c179e"
                          ],
                          [
                            0.4444444444444444,
                            "#bd3786"
                          ],
                          [
                            0.5555555555555556,
                            "#d8576b"
                          ],
                          [
                            0.6666666666666666,
                            "#ed7953"
                          ],
                          [
                            0.7777777777777778,
                            "#fb9f3a"
                          ],
                          [
                            0.8888888888888888,
                            "#fdca26"
                          ],
                          [
                            1,
                            "#f0f921"
                          ]
                        ],
                        "type": "heatmapgl"
                      }
                    ],
                    "histogram": [
                      {
                        "marker": {
                          "pattern": {
                            "fillmode": "overlay",
                            "size": 10,
                            "solidity": 0.2
                          }
                        },
                        "type": "histogram"
                      }
                    ],
                    "histogram2d": [
                      {
                        "colorbar": {
                          "outlinewidth": 0,
                          "ticks": ""
                        },
                        "colorscale": [
                          [
                            0,
                            "#0d0887"
                          ],
                          [
                            0.1111111111111111,
                            "#46039f"
                          ],
                          [
                            0.2222222222222222,
                            "#7201a8"
                          ],
                          [
                            0.3333333333333333,
                            "#9c179e"
                          ],
                          [
                            0.4444444444444444,
                            "#bd3786"
                          ],
                          [
                            0.5555555555555556,
                            "#d8576b"
                          ],
                          [
                            0.6666666666666666,
                            "#ed7953"
                          ],
                          [
                            0.7777777777777778,
                            "#fb9f3a"
                          ],
                          [
                            0.8888888888888888,
                            "#fdca26"
                          ],
                          [
                            1,
                            "#f0f921"
                          ]
                        ],
                        "type": "histogram2d"
                      }
                    ],
                    "histogram2dcontour": [
                      {
                        "colorbar": {
                          "outlinewidth": 0,
                          "ticks": ""
                        },
                        "colorscale": [
                          [
                            0,
                            "#0d0887"
                          ],
                          [
                            0.1111111111111111,
                            "#46039f"
                          ],
                          [
                            0.2222222222222222,
                            "#7201a8"
                          ],
                          [
                            0.3333333333333333,
                            "#9c179e"
                          ],
                          [
                            0.4444444444444444,
                            "#bd3786"
                          ],
                          [
                            0.5555555555555556,
                            "#d8576b"
                          ],
                          [
                            0.6666666666666666,
                            "#ed7953"
                          ],
                          [
                            0.7777777777777778,
                            "#fb9f3a"
                          ],
                          [
                            0.8888888888888888,
                            "#fdca26"
                          ],
                          [
                            1,
                            "#f0f921"
                          ]
                        ],
                        "type": "histogram2dcontour"
                      }
                    ],
                    "mesh3d": [
                      {
                        "colorbar": {
                          "outlinewidth": 0,
                          "ticks": ""
                        },
                        "type": "mesh3d"
                      }
                    ],
                    "parcoords": [
                      {
                        "line": {
                          "colorbar": {
                            "outlinewidth": 0,
                            "ticks": ""
                          }
                        },
                        "type": "parcoords"
                      }
                    ],
                    "pie": [
                      {
                        "automargin": true,
                        "type": "pie"
                      }
                    ],
                    "scatter": [
                      {
                        "fillpattern": {
                          "fillmode": "overlay",
                          "size": 10,
                          "solidity": 0.2
                        },
                        "type": "scatter"
                      }
                    ],
                    "scatter3d": [
                      {
                        "line": {
                          "colorbar": {
                            "outlinewidth": 0,
                            "ticks": ""
                          }
                        },
                        "marker": {
                          "colorbar": {
                            "outlinewidth": 0,
                            "ticks": ""
                          }
                        },
                        "type": "scatter3d"
                      }
                    ],
                    "scattercarpet": [
                      {
                        "marker": {
                          "colorbar": {
                            "outlinewidth": 0,
                            "ticks": ""
                          }
                        },
                        "type": "scattercarpet"
                      }
                    ],
                    "scattergeo": [
                      {
                        "marker": {
                          "colorbar": {
                            "outlinewidth": 0,
                            "ticks": ""
                          }
                        },
                        "type": "scattergeo"
                      }
                    ],
                    "scattergl": [
                      {
                        "marker": {
                          "colorbar": {
                            "outlinewidth": 0,
                            "ticks": ""
                          }
                        },
                        "type": "scattergl"
                      }
                    ],
                    "scattermapbox": [
                      {
                        "marker": {
                          "colorbar": {
                            "outlinewidth": 0,
                            "ticks": ""
                          }
                        },
                        "type": "scattermapbox"
                      }
                    ],
                    "scatterpolar": [
                      {
                        "marker": {
                          "colorbar": {
                            "outlinewidth": 0,
                            "ticks": ""
                          }
                        },
                        "type": "scatterpolar"
                      }
                    ],
                    "scatterpolargl": [
                      {
                        "marker": {
                          "colorbar": {
                            "outlinewidth": 0,
                            "ticks": ""
                          }
                        },
                        "type": "scatterpolargl"
                      }
                    ],
                    "scatterternary": [
                      {
                        "marker": {
                          "colorbar": {
                            "outlinewidth": 0,
                            "ticks": ""
                          }
                        },
                        "type": "scatterternary"
                      }
                    ],
                    "surface": [
                      {
                        "colorbar": {
                          "outlinewidth": 0,
                          "ticks": ""
                        },
                        "colorscale": [
                          [
                            0,
                            "#0d0887"
                          ],
                          [
                            0.1111111111111111,
                            "#46039f"
                          ],
                          [
                            0.2222222222222222,
                            "#7201a8"
                          ],
                          [
                            0.3333333333333333,
                            "#9c179e"
                          ],
                          [
                            0.4444444444444444,
                            "#bd3786"
                          ],
                          [
                            0.5555555555555556,
                            "#d8576b"
                          ],
                          [
                            0.6666666666666666,
                            "#ed7953"
                          ],
                          [
                            0.7777777777777778,
                            "#fb9f3a"
                          ],
                          [
                            0.8888888888888888,
                            "#fdca26"
                          ],
                          [
                            1,
                            "#f0f921"
                          ]
                        ],
                        "type": "surface"
                      }
                    ],
                    "table": [
                      {
                        "cells": {
                          "fill": {
                            "color": "#EBF0F8"
                          },
                          "line": {
                            "color": "white"
                          }
                        },
                        "header": {
                          "fill": {
                            "color": "#C8D4E3"
                          },
                          "line": {
                            "color": "white"
                          }
                        },
                        "type": "table"
                      }
                    ]
                  },
                  "layout": {
                    "annotationdefaults": {
                      "arrowcolor": "#2a3f5f",
                      "arrowhead": 0,
                      "arrowwidth": 1
                    },
                    "autotypenumbers": "strict",
                    "coloraxis": {
                      "colorbar": {
                        "outlinewidth": 0,
                        "ticks": ""
                      }
                    },
                    "colorscale": {
                      "diverging": [
                        [
                          0,
                          "#8e0152"
                        ],
                        [
                          0.1,
                          "#c51b7d"
                        ],
                        [
                          0.2,
                          "#de77ae"
                        ],
                        [
                          0.3,
                          "#f1b6da"
                        ],
                        [
                          0.4,
                          "#fde0ef"
                        ],
                        [
                          0.5,
                          "#f7f7f7"
                        ],
                        [
                          0.6,
                          "#e6f5d0"
                        ],
                        [
                          0.7,
                          "#b8e186"
                        ],
                        [
                          0.8,
                          "#7fbc41"
                        ],
                        [
                          0.9,
                          "#4d9221"
                        ],
                        [
                          1,
                          "#276419"
                        ]
                      ],
                      "sequential": [
                        [
                          0,
                          "#0d0887"
                        ],
                        [
                          0.1111111111111111,
                          "#46039f"
                        ],
                        [
                          0.2222222222222222,
                          "#7201a8"
                        ],
                        [
                          0.3333333333333333,
                          "#9c179e"
                        ],
                        [
                          0.4444444444444444,
                          "#bd3786"
                        ],
                        [
                          0.5555555555555556,
                          "#d8576b"
                        ],
                        [
                          0.6666666666666666,
                          "#ed7953"
                        ],
                        [
                          0.7777777777777778,
                          "#fb9f3a"
                        ],
                        [
                          0.8888888888888888,
                          "#fdca26"
                        ],
                        [
                          1,
                          "#f0f921"
                        ]
                      ],
                      "sequentialminus": [
                        [
                          0,
                          "#0d0887"
                        ],
                        [
                          0.1111111111111111,
                          "#46039f"
                        ],
                        [
                          0.2222222222222222,
                          "#7201a8"
                        ],
                        [
                          0.3333333333333333,
                          "#9c179e"
                        ],
                        [
                          0.4444444444444444,
                          "#bd3786"
                        ],
                        [
                          0.5555555555555556,
                          "#d8576b"
                        ],
                        [
                          0.6666666666666666,
                          "#ed7953"
                        ],
                        [
                          0.7777777777777778,
                          "#fb9f3a"
                        ],
                        [
                          0.8888888888888888,
                          "#fdca26"
                        ],
                        [
                          1,
                          "#f0f921"
                        ]
                      ]
                    },
                    "colorway": [
                      "#636efa",
                      "#EF553B",
                      "#00cc96",
                      "#ab63fa",
                      "#FFA15A",
                      "#19d3f3",
                      "#FF6692",
                      "#B6E880",
                      "#FF97FF",
                      "#FECB52"
                    ],
                    "font": {
                      "color": "#2a3f5f"
                    },
                    "geo": {
                      "bgcolor": "white",
                      "lakecolor": "white",
                      "landcolor": "#E5ECF6",
                      "showlakes": true,
                      "showland": true,
                      "subunitcolor": "white"
                    },
                    "hoverlabel": {
                      "align": "left"
                    },
                    "hovermode": "closest",
                    "mapbox": {
                      "style": "light"
                    },
                    "paper_bgcolor": "white",
                    "plot_bgcolor": "#E5ECF6",
                    "polar": {
                      "angularaxis": {
                        "gridcolor": "white",
                        "linecolor": "white",
                        "ticks": ""
                      },
                      "bgcolor": "#E5ECF6",
                      "radialaxis": {
                        "gridcolor": "white",
                        "linecolor": "white",
                        "ticks": ""
                      }
                    },
                    "scene": {
                      "xaxis": {
                        "backgroundcolor": "#E5ECF6",
                        "gridcolor": "white",
                        "gridwidth": 2,
                        "linecolor": "white",
                        "showbackground": true,
                        "ticks": "",
                        "zerolinecolor": "white"
                      },
                      "yaxis": {
                        "backgroundcolor": "#E5ECF6",
                        "gridcolor": "white",
                        "gridwidth": 2,
                        "linecolor": "white",
                        "showbackground": true,
                        "ticks": "",
                        "zerolinecolor": "white"
                      },
                      "zaxis": {
                        "backgroundcolor": "#E5ECF6",
                        "gridcolor": "white",
                        "gridwidth": 2,
                        "linecolor": "white",
                        "showbackground": true,
                        "ticks": "",
                        "zerolinecolor": "white"
                      }
                    },
                    "shapedefaults": {
                      "line": {
                        "color": "#2a3f5f"
                      }
                    },
                    "ternary": {
                      "aaxis": {
                        "gridcolor": "white",
                        "linecolor": "white",
                        "ticks": ""
                      },
                      "baxis": {
                        "gridcolor": "white",
                        "linecolor": "white",
                        "ticks": ""
                      },
                      "bgcolor": "#E5ECF6",
                      "caxis": {
                        "gridcolor": "white",
                        "linecolor": "white",
                        "ticks": ""
                      }
                    },
                    "title": {
                      "x": 0.05
                    },
                    "xaxis": {
                      "automargin": true,
                      "gridcolor": "white",
                      "linecolor": "white",
                      "ticks": "",
                      "title": {
                        "standoff": 15
                      },
                      "zerolinecolor": "white",
                      "zerolinewidth": 2
                    },
                    "yaxis": {
                      "automargin": true,
                      "gridcolor": "white",
                      "linecolor": "white",
                      "ticks": "",
                      "title": {
                        "standoff": 15
                      },
                      "zerolinecolor": "white",
                      "zerolinewidth": 2
                    }
                  }
                },
                "xaxis": {
                  "anchor": "y",
                  "constrain": "domain",
                  "domain": [
                    0,
                    1
                  ],
                  "scaleanchor": "y",
                  "title": {
                    "text": "Head"
                  }
                },
                "yaxis": {
                  "anchor": "x",
                  "autorange": "reversed",
                  "constrain": "domain",
                  "domain": [
                    0,
                    1
                  ],
                  "title": {
                    "text": "Layer"
                  }
                }
              }
            }
          },
          "metadata": {},
          "output_type": "display_data"
        },
        {
          "data": {
            "application/vnd.plotly.v1+json": {
              "config": {
                "plotlyServerURL": "https://plot.ly"
              },
              "data": [
                {
                  "hovertemplate": "<b>%{hovertext}</b><br><br>Ablated=%{x}<br>Original=%{y}<extra></extra>",
                  "hovertext": [
                    "L0H0",
                    "L0H1",
                    "L0H2",
                    "L0H3",
                    "L0H4",
                    "L0H5",
                    "L0H6",
                    "L0H7",
                    "L0H8",
                    "L0H9",
                    "L0H10",
                    "L0H11",
                    "L1H0",
                    "L1H1",
                    "L1H2",
                    "L1H3",
                    "L1H4",
                    "L1H5",
                    "L1H6",
                    "L1H7",
                    "L1H8",
                    "L1H9",
                    "L1H10",
                    "L1H11",
                    "L2H0",
                    "L2H1",
                    "L2H2",
                    "L2H3",
                    "L2H4",
                    "L2H5",
                    "L2H6",
                    "L2H7",
                    "L2H8",
                    "L2H9",
                    "L2H10",
                    "L2H11",
                    "L3H0",
                    "L3H1",
                    "L3H2",
                    "L3H3",
                    "L3H4",
                    "L3H5",
                    "L3H6",
                    "L3H7",
                    "L3H8",
                    "L3H9",
                    "L3H10",
                    "L3H11",
                    "L4H0",
                    "L4H1",
                    "L4H2",
                    "L4H3",
                    "L4H4",
                    "L4H5",
                    "L4H6",
                    "L4H7",
                    "L4H8",
                    "L4H9",
                    "L4H10",
                    "L4H11",
                    "L5H0",
                    "L5H1",
                    "L5H2",
                    "L5H3",
                    "L5H4",
                    "L5H5",
                    "L5H6",
                    "L5H7",
                    "L5H8",
                    "L5H9",
                    "L5H10",
                    "L5H11",
                    "L6H0",
                    "L6H1",
                    "L6H2",
                    "L6H3",
                    "L6H4",
                    "L6H5",
                    "L6H6",
                    "L6H7",
                    "L6H8",
                    "L6H9",
                    "L6H10",
                    "L6H11",
                    "L7H0",
                    "L7H1",
                    "L7H2",
                    "L7H3",
                    "L7H4",
                    "L7H5",
                    "L7H6",
                    "L7H7",
                    "L7H8",
                    "L7H9",
                    "L7H10",
                    "L7H11",
                    "L8H0",
                    "L8H1",
                    "L8H2",
                    "L8H3",
                    "L8H4",
                    "L8H5",
                    "L8H6",
                    "L8H7",
                    "L8H8",
                    "L8H9",
                    "L8H10",
                    "L8H11",
                    "L9H0",
                    "L9H1",
                    "L9H2",
                    "L9H3",
                    "L9H4",
                    "L9H5",
                    "L9H6",
                    "L9H7",
                    "L9H8",
                    "L9H9",
                    "L9H10",
                    "L9H11",
                    "L10H0",
                    "L10H1",
                    "L10H2",
                    "L10H3",
                    "L10H4",
                    "L10H5",
                    "L10H6",
                    "L10H7",
                    "L10H8",
                    "L10H9",
                    "L10H10",
                    "L10H11",
                    "L11H0",
                    "L11H1",
                    "L11H2",
                    "L11H3",
                    "L11H4",
                    "L11H5",
                    "L11H6",
                    "L11H7",
                    "L11H8",
                    "L11H9",
                    "L11H10",
                    "L11H11"
                  ],
                  "legendgroup": "",
                  "marker": {
                    "color": "#636efa",
                    "symbol": "circle"
                  },
                  "mode": "markers",
                  "name": "",
                  "orientation": "v",
                  "showlegend": false,
                  "type": "scatter",
                  "x": [
                    -0.002156503964215517,
                    -0.0004650682385545224,
                    0.00024167183437384665,
                    0.0002806585980579257,
                    -0.0004162999684922397,
                    -0.0004892416181974113,
                    -0.002620948012918234,
                    -0.002935677068307996,
                    0.00042561208829283714,
                    0.0005418329383246601,
                    0.00023754138965159655,
                    -0.0000748957390896976,
                    -0.000658505829051137,
                    0.0004060641804244369,
                    -0.0009330413886345923,
                    0.0008937822422012687,
                    -0.0009785268921405077,
                    -0.000533820129930973,
                    -0.0027988189831376076,
                    -0.004214101936668158,
                    0.002578593324869871,
                    0.0024506838526576757,
                    0.0005351756699383259,
                    0.0012349633034318686,
                    0.0009405204327777028,
                    -0.0011168691562488675,
                    -0.0011541967978700995,
                    -0.0015697095077484846,
                    -0.0005699327448382974,
                    0.001451514894142747,
                    0.002439911477267742,
                    0.003158293664455414,
                    0.000923738582059741,
                    -0.003578126197680831,
                    -0.0010650777257978916,
                    -0.0003558753523975611,
                    -0.0005624951445497572,
                    -0.000011960582924075425,
                    0.0011531109921634197,
                    0.0007360265008173883,
                    0.0016493839211761951,
                    0.0008800819050520658,
                    -0.0006905529880896211,
                    -0.003031972097232938,
                    0.0008080147090367973,
                    0.00010368914809077978,
                    -0.0005807994166389108,
                    -0.0011067037703469396,
                    -0.0026375530287623405,
                    0.0002691895351745188,
                    -0.0016417437000200152,
                    -0.003406986128538847,
                    0.0017449699807912111,
                    0.00046454701805487275,
                    -0.0007899806369096041,
                    0.0018328562146052718,
                    -0.00086324627045542,
                    -0.0003978293389081955,
                    0.0007879206677898765,
                    -0.00012048585631418973,
                    0.0008688560919836164,
                    0.0009473530226387084,
                    -0.0022812988609075546,
                    -0.0011803123634308577,
                    0.0002407809515716508,
                    -0.0004318578285165131,
                    -0.0003728170122485608,
                    -0.000738416681997478,
                    0.0008113418589346111,
                    -0.00040444196201860905,
                    -0.007074396125972271,
                    0.003946478478610516,
                    -0.014917617663741112,
                    -0.0022801742888987064,
                    0.0022679336834698915,
                    -0.00008302251808345318,
                    -0.004980948753654957,
                    0.0027670026756823063,
                    0.006266288459300995,
                    -0.003485947148874402,
                    -0.0013348984066396952,
                    -0.0017918883822858334,
                    -0.0012231896398589015,
                    0.00040514359716326,
                    -0.0002460568503011018,
                    -0.005790225230157375,
                    -0.0004975841729901731,
                    0.142182856798172,
                    -0.0014961492270231247,
                    -0.019006317481398582,
                    0.003133433870971203,
                    -0.001858205534517765,
                    -0.011305196210741997,
                    0.1922595500946045,
                    -0.0011892566690221429,
                    -0.0010282933944836259,
                    -0.0038003993686288595,
                    -0.0008570950012654066,
                    -0.013956742361187935,
                    0.00828910805284977,
                    0.004315475933253765,
                    -0.009073829278349876,
                    -0.08315148949623108,
                    0.0034569751005619764,
                    -0.01805492490530014,
                    0.002178061753511429,
                    0.29780513048171997,
                    0.02409379370510578,
                    0.08904723823070526,
                    -0.0007931794971227646,
                    0.07247699797153473,
                    0.015016308054327965,
                    -0.02120928093791008,
                    0.05205465108156204,
                    1.4411165714263916,
                    0.04743674397468567,
                    -0.03229031339287758,
                    0,
                    0.0019993737805634737,
                    -0.00807223655283451,
                    0.8600788116455078,
                    0.3260062038898468,
                    0.16344408690929413,
                    0.07133537530899048,
                    -0.00444837287068367,
                    0.000681330740917474,
                    0.36613449454307556,
                    -0.7105098962783813,
                    -0.002031375654041767,
                    -0.032143525779247284,
                    1.2294330596923828,
                    0.0018453558441251516,
                    0.016877274960279465,
                    -0.001730365096591413,
                    -0.5010868310928345,
                    0.02749764919281006,
                    -0.0059662917628884315,
                    -0.004944110754877329,
                    -0.08855228126049042,
                    0.006622308399528265,
                    0.044124361127614975,
                    -0.02726735547184944,
                    -1.134916067123413,
                    0.02287953346967697
                  ],
                  "xaxis": "x",
                  "y": [
                    -0.0020563392899930477,
                    -0.0005101899732835591,
                    0.0004685786843765527,
                    0.00012512074317783117,
                    -0.0006028738571330905,
                    -0.0002429460291750729,
                    -0.0023189077619463205,
                    -0.002758360467851162,
                    0.000564602785743773,
                    0.0009697531932033598,
                    -0.0002504526637494564,
                    0.000004737317794933915,
                    -0.0010070882271975279,
                    0.00039470894262194633,
                    -0.00154874159488827,
                    0.0014034928753972054,
                    -0.0012653048615902662,
                    -0.0011358022456988692,
                    -0.00281596090644598,
                    -0.0029645217582583427,
                    0.0029190476052463055,
                    0.0025743592996150255,
                    0.00036239007022231817,
                    0.0017548729665577412,
                    0.0005569400964304805,
                    -0.001126631861552596,
                    -0.0017353934235870838,
                    -0.0014514457434415817,
                    -0.00028735760133713484,
                    0.0017211002996191382,
                    0.0026658899150788784,
                    0.00311466702260077,
                    0.0005667927907779813,
                    -0.003666515462100506,
                    -0.0018847601022571325,
                    0.000007039372576400638,
                    -0.0007264417363330722,
                    0.00011364505917299539,
                    0.0014301587361842394,
                    0.0007490540738217533,
                    0.0020184689201414585,
                    0.0007436950691044331,
                    -0.00046178390039131045,
                    -0.0039057559333741665,
                    0.0011406694538891315,
                    -0.00004022853681817651,
                    -0.0013293239753693342,
                    -0.0017636751290410757,
                    -0.0028280913829803467,
                    0.00033634810824878514,
                    -0.0014248639345169067,
                    -0.003777273464947939,
                    0.0015998880844563246,
                    0.0002989505883306265,
                    -0.000804675742983818,
                    0.002038792008534074,
                    -0.0015593919670209289,
                    -0.0006436670082621276,
                    0.0011168173514306545,
                    -0.00035012533771805465,
                    0.0011338205076754093,
                    0.0011259170714765787,
                    -0.002516670385375619,
                    -0.0014790185960009694,
                    0.0003878737334161997,
                    -0.00006408110493794084,
                    -0.0005096744280308485,
                    -0.0008840755908749998,
                    0.0006398351397365332,
                    -0.0010097370250150561,
                    -0.006759158335626125,
                    0.0033667823299765587,
                    -0.01514742337167263,
                    -0.0021350777242332697,
                    0.002593174111098051,
                    -0.00042678468162193894,
                    -0.005558924749493599,
                    0.0026658528950065374,
                    0.006411008536815643,
                    -0.003826778382062912,
                    -0.0003843410813715309,
                    -0.0016430341638624668,
                    -0.0013344454346224666,
                    -0.0000920506427064538,
                    -0.00009476230479776859,
                    -0.0057889921590685844,
                    -0.0006383581785485148,
                    0.13493388891220093,
                    -0.001768707763403654,
                    -0.018917907029390335,
                    0.003873429261147976,
                    -0.0021450775675475597,
                    -0.010327338241040707,
                    0.18325845897197723,
                    -0.0007747983909212053,
                    -0.00104526337236166,
                    -0.003833949100226164,
                    -0.0008046097937040031,
                    -0.012673400342464447,
                    0.00804573018103838,
                    0.003604492638260126,
                    -0.009398287162184715,
                    -0.08272082358598709,
                    0.003555194940418005,
                    -0.018404025584459305,
                    0.0017587244510650635,
                    0.2896133363246918,
                    0.022854052484035492,
                    0.08595258742570877,
                    -0.0006932877004146576,
                    0.06817055493593216,
                    0.013111240230500698,
                    -0.021098043769598007,
                    0.05112447217106819,
                    1.3844914436340332,
                    0.045836858451366425,
                    -0.03830280900001526,
                    2.985445976257324,
                    0.0019662054255604744,
                    -0.008030137047171593,
                    0.5608693957328796,
                    0.17083050310611725,
                    -0.03361757844686508,
                    0.05821544677019119,
                    -0.0024530249647796154,
                    0.0018771197646856308,
                    0.28827205300331116,
                    -1.8986485004425049,
                    -0.0015286931302398443,
                    -0.035129792988300323,
                    0.4802178740501404,
                    -0.0009115453576669097,
                    0.016075748950242996,
                    -0.03986122086644173,
                    -0.3879126012325287,
                    0.011123123578727245,
                    -0.005477819126099348,
                    -0.0025129620917141438,
                    -0.08056175708770752,
                    0.007518616039305925,
                    0.0430111438035965,
                    -0.040082238614559174,
                    -0.9702364802360535,
                    0.011862239800393581
                  ],
                  "yaxis": "y"
                }
              ],
              "layout": {
                "legend": {
                  "tracegroupgap": 0
                },
                "template": {
                  "data": {
                    "bar": [
                      {
                        "error_x": {
                          "color": "#2a3f5f"
                        },
                        "error_y": {
                          "color": "#2a3f5f"
                        },
                        "marker": {
                          "line": {
                            "color": "#E5ECF6",
                            "width": 0.5
                          },
                          "pattern": {
                            "fillmode": "overlay",
                            "size": 10,
                            "solidity": 0.2
                          }
                        },
                        "type": "bar"
                      }
                    ],
                    "barpolar": [
                      {
                        "marker": {
                          "line": {
                            "color": "#E5ECF6",
                            "width": 0.5
                          },
                          "pattern": {
                            "fillmode": "overlay",
                            "size": 10,
                            "solidity": 0.2
                          }
                        },
                        "type": "barpolar"
                      }
                    ],
                    "carpet": [
                      {
                        "aaxis": {
                          "endlinecolor": "#2a3f5f",
                          "gridcolor": "white",
                          "linecolor": "white",
                          "minorgridcolor": "white",
                          "startlinecolor": "#2a3f5f"
                        },
                        "baxis": {
                          "endlinecolor": "#2a3f5f",
                          "gridcolor": "white",
                          "linecolor": "white",
                          "minorgridcolor": "white",
                          "startlinecolor": "#2a3f5f"
                        },
                        "type": "carpet"
                      }
                    ],
                    "choropleth": [
                      {
                        "colorbar": {
                          "outlinewidth": 0,
                          "ticks": ""
                        },
                        "type": "choropleth"
                      }
                    ],
                    "contour": [
                      {
                        "colorbar": {
                          "outlinewidth": 0,
                          "ticks": ""
                        },
                        "colorscale": [
                          [
                            0,
                            "#0d0887"
                          ],
                          [
                            0.1111111111111111,
                            "#46039f"
                          ],
                          [
                            0.2222222222222222,
                            "#7201a8"
                          ],
                          [
                            0.3333333333333333,
                            "#9c179e"
                          ],
                          [
                            0.4444444444444444,
                            "#bd3786"
                          ],
                          [
                            0.5555555555555556,
                            "#d8576b"
                          ],
                          [
                            0.6666666666666666,
                            "#ed7953"
                          ],
                          [
                            0.7777777777777778,
                            "#fb9f3a"
                          ],
                          [
                            0.8888888888888888,
                            "#fdca26"
                          ],
                          [
                            1,
                            "#f0f921"
                          ]
                        ],
                        "type": "contour"
                      }
                    ],
                    "contourcarpet": [
                      {
                        "colorbar": {
                          "outlinewidth": 0,
                          "ticks": ""
                        },
                        "type": "contourcarpet"
                      }
                    ],
                    "heatmap": [
                      {
                        "colorbar": {
                          "outlinewidth": 0,
                          "ticks": ""
                        },
                        "colorscale": [
                          [
                            0,
                            "#0d0887"
                          ],
                          [
                            0.1111111111111111,
                            "#46039f"
                          ],
                          [
                            0.2222222222222222,
                            "#7201a8"
                          ],
                          [
                            0.3333333333333333,
                            "#9c179e"
                          ],
                          [
                            0.4444444444444444,
                            "#bd3786"
                          ],
                          [
                            0.5555555555555556,
                            "#d8576b"
                          ],
                          [
                            0.6666666666666666,
                            "#ed7953"
                          ],
                          [
                            0.7777777777777778,
                            "#fb9f3a"
                          ],
                          [
                            0.8888888888888888,
                            "#fdca26"
                          ],
                          [
                            1,
                            "#f0f921"
                          ]
                        ],
                        "type": "heatmap"
                      }
                    ],
                    "heatmapgl": [
                      {
                        "colorbar": {
                          "outlinewidth": 0,
                          "ticks": ""
                        },
                        "colorscale": [
                          [
                            0,
                            "#0d0887"
                          ],
                          [
                            0.1111111111111111,
                            "#46039f"
                          ],
                          [
                            0.2222222222222222,
                            "#7201a8"
                          ],
                          [
                            0.3333333333333333,
                            "#9c179e"
                          ],
                          [
                            0.4444444444444444,
                            "#bd3786"
                          ],
                          [
                            0.5555555555555556,
                            "#d8576b"
                          ],
                          [
                            0.6666666666666666,
                            "#ed7953"
                          ],
                          [
                            0.7777777777777778,
                            "#fb9f3a"
                          ],
                          [
                            0.8888888888888888,
                            "#fdca26"
                          ],
                          [
                            1,
                            "#f0f921"
                          ]
                        ],
                        "type": "heatmapgl"
                      }
                    ],
                    "histogram": [
                      {
                        "marker": {
                          "pattern": {
                            "fillmode": "overlay",
                            "size": 10,
                            "solidity": 0.2
                          }
                        },
                        "type": "histogram"
                      }
                    ],
                    "histogram2d": [
                      {
                        "colorbar": {
                          "outlinewidth": 0,
                          "ticks": ""
                        },
                        "colorscale": [
                          [
                            0,
                            "#0d0887"
                          ],
                          [
                            0.1111111111111111,
                            "#46039f"
                          ],
                          [
                            0.2222222222222222,
                            "#7201a8"
                          ],
                          [
                            0.3333333333333333,
                            "#9c179e"
                          ],
                          [
                            0.4444444444444444,
                            "#bd3786"
                          ],
                          [
                            0.5555555555555556,
                            "#d8576b"
                          ],
                          [
                            0.6666666666666666,
                            "#ed7953"
                          ],
                          [
                            0.7777777777777778,
                            "#fb9f3a"
                          ],
                          [
                            0.8888888888888888,
                            "#fdca26"
                          ],
                          [
                            1,
                            "#f0f921"
                          ]
                        ],
                        "type": "histogram2d"
                      }
                    ],
                    "histogram2dcontour": [
                      {
                        "colorbar": {
                          "outlinewidth": 0,
                          "ticks": ""
                        },
                        "colorscale": [
                          [
                            0,
                            "#0d0887"
                          ],
                          [
                            0.1111111111111111,
                            "#46039f"
                          ],
                          [
                            0.2222222222222222,
                            "#7201a8"
                          ],
                          [
                            0.3333333333333333,
                            "#9c179e"
                          ],
                          [
                            0.4444444444444444,
                            "#bd3786"
                          ],
                          [
                            0.5555555555555556,
                            "#d8576b"
                          ],
                          [
                            0.6666666666666666,
                            "#ed7953"
                          ],
                          [
                            0.7777777777777778,
                            "#fb9f3a"
                          ],
                          [
                            0.8888888888888888,
                            "#fdca26"
                          ],
                          [
                            1,
                            "#f0f921"
                          ]
                        ],
                        "type": "histogram2dcontour"
                      }
                    ],
                    "mesh3d": [
                      {
                        "colorbar": {
                          "outlinewidth": 0,
                          "ticks": ""
                        },
                        "type": "mesh3d"
                      }
                    ],
                    "parcoords": [
                      {
                        "line": {
                          "colorbar": {
                            "outlinewidth": 0,
                            "ticks": ""
                          }
                        },
                        "type": "parcoords"
                      }
                    ],
                    "pie": [
                      {
                        "automargin": true,
                        "type": "pie"
                      }
                    ],
                    "scatter": [
                      {
                        "fillpattern": {
                          "fillmode": "overlay",
                          "size": 10,
                          "solidity": 0.2
                        },
                        "type": "scatter"
                      }
                    ],
                    "scatter3d": [
                      {
                        "line": {
                          "colorbar": {
                            "outlinewidth": 0,
                            "ticks": ""
                          }
                        },
                        "marker": {
                          "colorbar": {
                            "outlinewidth": 0,
                            "ticks": ""
                          }
                        },
                        "type": "scatter3d"
                      }
                    ],
                    "scattercarpet": [
                      {
                        "marker": {
                          "colorbar": {
                            "outlinewidth": 0,
                            "ticks": ""
                          }
                        },
                        "type": "scattercarpet"
                      }
                    ],
                    "scattergeo": [
                      {
                        "marker": {
                          "colorbar": {
                            "outlinewidth": 0,
                            "ticks": ""
                          }
                        },
                        "type": "scattergeo"
                      }
                    ],
                    "scattergl": [
                      {
                        "marker": {
                          "colorbar": {
                            "outlinewidth": 0,
                            "ticks": ""
                          }
                        },
                        "type": "scattergl"
                      }
                    ],
                    "scattermapbox": [
                      {
                        "marker": {
                          "colorbar": {
                            "outlinewidth": 0,
                            "ticks": ""
                          }
                        },
                        "type": "scattermapbox"
                      }
                    ],
                    "scatterpolar": [
                      {
                        "marker": {
                          "colorbar": {
                            "outlinewidth": 0,
                            "ticks": ""
                          }
                        },
                        "type": "scatterpolar"
                      }
                    ],
                    "scatterpolargl": [
                      {
                        "marker": {
                          "colorbar": {
                            "outlinewidth": 0,
                            "ticks": ""
                          }
                        },
                        "type": "scatterpolargl"
                      }
                    ],
                    "scatterternary": [
                      {
                        "marker": {
                          "colorbar": {
                            "outlinewidth": 0,
                            "ticks": ""
                          }
                        },
                        "type": "scatterternary"
                      }
                    ],
                    "surface": [
                      {
                        "colorbar": {
                          "outlinewidth": 0,
                          "ticks": ""
                        },
                        "colorscale": [
                          [
                            0,
                            "#0d0887"
                          ],
                          [
                            0.1111111111111111,
                            "#46039f"
                          ],
                          [
                            0.2222222222222222,
                            "#7201a8"
                          ],
                          [
                            0.3333333333333333,
                            "#9c179e"
                          ],
                          [
                            0.4444444444444444,
                            "#bd3786"
                          ],
                          [
                            0.5555555555555556,
                            "#d8576b"
                          ],
                          [
                            0.6666666666666666,
                            "#ed7953"
                          ],
                          [
                            0.7777777777777778,
                            "#fb9f3a"
                          ],
                          [
                            0.8888888888888888,
                            "#fdca26"
                          ],
                          [
                            1,
                            "#f0f921"
                          ]
                        ],
                        "type": "surface"
                      }
                    ],
                    "table": [
                      {
                        "cells": {
                          "fill": {
                            "color": "#EBF0F8"
                          },
                          "line": {
                            "color": "white"
                          }
                        },
                        "header": {
                          "fill": {
                            "color": "#C8D4E3"
                          },
                          "line": {
                            "color": "white"
                          }
                        },
                        "type": "table"
                      }
                    ]
                  },
                  "layout": {
                    "annotationdefaults": {
                      "arrowcolor": "#2a3f5f",
                      "arrowhead": 0,
                      "arrowwidth": 1
                    },
                    "autotypenumbers": "strict",
                    "coloraxis": {
                      "colorbar": {
                        "outlinewidth": 0,
                        "ticks": ""
                      }
                    },
                    "colorscale": {
                      "diverging": [
                        [
                          0,
                          "#8e0152"
                        ],
                        [
                          0.1,
                          "#c51b7d"
                        ],
                        [
                          0.2,
                          "#de77ae"
                        ],
                        [
                          0.3,
                          "#f1b6da"
                        ],
                        [
                          0.4,
                          "#fde0ef"
                        ],
                        [
                          0.5,
                          "#f7f7f7"
                        ],
                        [
                          0.6,
                          "#e6f5d0"
                        ],
                        [
                          0.7,
                          "#b8e186"
                        ],
                        [
                          0.8,
                          "#7fbc41"
                        ],
                        [
                          0.9,
                          "#4d9221"
                        ],
                        [
                          1,
                          "#276419"
                        ]
                      ],
                      "sequential": [
                        [
                          0,
                          "#0d0887"
                        ],
                        [
                          0.1111111111111111,
                          "#46039f"
                        ],
                        [
                          0.2222222222222222,
                          "#7201a8"
                        ],
                        [
                          0.3333333333333333,
                          "#9c179e"
                        ],
                        [
                          0.4444444444444444,
                          "#bd3786"
                        ],
                        [
                          0.5555555555555556,
                          "#d8576b"
                        ],
                        [
                          0.6666666666666666,
                          "#ed7953"
                        ],
                        [
                          0.7777777777777778,
                          "#fb9f3a"
                        ],
                        [
                          0.8888888888888888,
                          "#fdca26"
                        ],
                        [
                          1,
                          "#f0f921"
                        ]
                      ],
                      "sequentialminus": [
                        [
                          0,
                          "#0d0887"
                        ],
                        [
                          0.1111111111111111,
                          "#46039f"
                        ],
                        [
                          0.2222222222222222,
                          "#7201a8"
                        ],
                        [
                          0.3333333333333333,
                          "#9c179e"
                        ],
                        [
                          0.4444444444444444,
                          "#bd3786"
                        ],
                        [
                          0.5555555555555556,
                          "#d8576b"
                        ],
                        [
                          0.6666666666666666,
                          "#ed7953"
                        ],
                        [
                          0.7777777777777778,
                          "#fb9f3a"
                        ],
                        [
                          0.8888888888888888,
                          "#fdca26"
                        ],
                        [
                          1,
                          "#f0f921"
                        ]
                      ]
                    },
                    "colorway": [
                      "#636efa",
                      "#EF553B",
                      "#00cc96",
                      "#ab63fa",
                      "#FFA15A",
                      "#19d3f3",
                      "#FF6692",
                      "#B6E880",
                      "#FF97FF",
                      "#FECB52"
                    ],
                    "font": {
                      "color": "#2a3f5f"
                    },
                    "geo": {
                      "bgcolor": "white",
                      "lakecolor": "white",
                      "landcolor": "#E5ECF6",
                      "showlakes": true,
                      "showland": true,
                      "subunitcolor": "white"
                    },
                    "hoverlabel": {
                      "align": "left"
                    },
                    "hovermode": "closest",
                    "mapbox": {
                      "style": "light"
                    },
                    "paper_bgcolor": "white",
                    "plot_bgcolor": "#E5ECF6",
                    "polar": {
                      "angularaxis": {
                        "gridcolor": "white",
                        "linecolor": "white",
                        "ticks": ""
                      },
                      "bgcolor": "#E5ECF6",
                      "radialaxis": {
                        "gridcolor": "white",
                        "linecolor": "white",
                        "ticks": ""
                      }
                    },
                    "scene": {
                      "xaxis": {
                        "backgroundcolor": "#E5ECF6",
                        "gridcolor": "white",
                        "gridwidth": 2,
                        "linecolor": "white",
                        "showbackground": true,
                        "ticks": "",
                        "zerolinecolor": "white"
                      },
                      "yaxis": {
                        "backgroundcolor": "#E5ECF6",
                        "gridcolor": "white",
                        "gridwidth": 2,
                        "linecolor": "white",
                        "showbackground": true,
                        "ticks": "",
                        "zerolinecolor": "white"
                      },
                      "zaxis": {
                        "backgroundcolor": "#E5ECF6",
                        "gridcolor": "white",
                        "gridwidth": 2,
                        "linecolor": "white",
                        "showbackground": true,
                        "ticks": "",
                        "zerolinecolor": "white"
                      }
                    },
                    "shapedefaults": {
                      "line": {
                        "color": "#2a3f5f"
                      }
                    },
                    "ternary": {
                      "aaxis": {
                        "gridcolor": "white",
                        "linecolor": "white",
                        "ticks": ""
                      },
                      "baxis": {
                        "gridcolor": "white",
                        "linecolor": "white",
                        "ticks": ""
                      },
                      "bgcolor": "#E5ECF6",
                      "caxis": {
                        "gridcolor": "white",
                        "linecolor": "white",
                        "ticks": ""
                      }
                    },
                    "title": {
                      "x": 0.05
                    },
                    "xaxis": {
                      "automargin": true,
                      "gridcolor": "white",
                      "linecolor": "white",
                      "ticks": "",
                      "title": {
                        "standoff": 15
                      },
                      "zerolinecolor": "white",
                      "zerolinewidth": 2
                    },
                    "yaxis": {
                      "automargin": true,
                      "gridcolor": "white",
                      "linecolor": "white",
                      "ticks": "",
                      "title": {
                        "standoff": 15
                      },
                      "zerolinecolor": "white",
                      "zerolinewidth": 2
                    }
                  }
                },
                "title": {
                  "text": "Original vs Post-Ablation Direct Logit Attribution of Heads"
                },
                "xaxis": {
                  "anchor": "y",
                  "domain": [
                    0,
                    1
                  ],
                  "range": [
                    -3,
                    3
                  ],
                  "title": {
                    "text": "Ablated"
                  }
                },
                "yaxis": {
                  "anchor": "x",
                  "domain": [
                    0,
                    1
                  ],
                  "range": [
                    -3,
                    3
                  ],
                  "title": {
                    "text": "Original"
                  }
                }
              }
            }
          },
          "metadata": {},
          "output_type": "display_data"
        }
      ],
      "source": [
        "per_head_ablated_residual, labels = ablated_cache.stack_head_results(\n",
        "    layer=-1, pos_slice=-1, return_labels=True\n",
        ")\n",
        "per_head_ablated_logit_diffs = residual_stack_to_logit_diff(\n",
        "    per_head_ablated_residual, ablated_cache\n",
        ")\n",
        "per_head_ablated_logit_diffs = per_head_ablated_logit_diffs.reshape(\n",
        "    model.cfg.n_layers, model.cfg.n_heads\n",
        ")\n",
        "imshow(per_head_ablated_logit_diffs, labels={\"x\": \"Head\", \"y\": \"Layer\"})\n",
        "scatter(\n",
        "    y=per_head_logit_diffs.flatten(),\n",
        "    x=per_head_ablated_logit_diffs.flatten(),\n",
        "    hover_name=head_labels,\n",
        "    range_x=(-3, 3),\n",
        "    range_y=(-3, 3),\n",
        "    xaxis=\"Ablated\",\n",
        "    yaxis=\"Original\",\n",
        "    title=\"Original vs Post-Ablation Direct Logit Attribution of Heads\",\n",
        ")"
      ]
    },
    {
      "cell_type": "markdown",
      "metadata": {
        "id": "9x26hIPTUvqJ"
      },
      "source": [
        "One natural hypothesis is that this is because the final LayerNorm scaling has changed, which can scale up or down the final residual stream. This is slightly true, and we can see that the typical head is a bit off from the x=y line. But the average LN scaling ratio is 1.04, and this should uniformly change *all* heads by the same factor, so this can't be sufficient"
      ]
    },
    {
      "cell_type": "code",
      "execution_count": null,
      "metadata": {
        "id": "KlZdMI9XUvqJ",
        "outputId": "5ee0705f-e804-45d3-8d49-cc1367c4972f"
      },
      "outputs": [
        {
          "name": "stdout",
          "output_type": "stream",
          "text": [
            "Average LN scaling ratio: 1.042\n",
            "Ablation LN scale tensor([[18.5200],\n",
            "        [17.4700],\n",
            "        [17.8200],\n",
            "        [17.5100],\n",
            "        [17.2600],\n",
            "        [18.2500],\n",
            "        [16.1800],\n",
            "        [17.4300]])\n",
            "Original LN scale tensor([[19.5700],\n",
            "        [18.3500],\n",
            "        [18.2900],\n",
            "        [18.6800],\n",
            "        [17.4900],\n",
            "        [18.8700],\n",
            "        [16.4200],\n",
            "        [18.6800]])\n"
          ]
        }
      ],
      "source": [
        "print(\n",
        "    \"Average LN scaling ratio:\",\n",
        "    round(\n",
        "        (\n",
        "            cache[\"ln_final.hook_scale\"][:, -1]\n",
        "            / ablated_cache[\"ln_final.hook_scale\"][:, -1]\n",
        "        )\n",
        "        .mean()\n",
        "        .item(),\n",
        "        3,\n",
        "    ),\n",
        ")\n",
        "print(\n",
        "    \"Ablation LN scale\",\n",
        "    ablated_cache[\"ln_final.hook_scale\"][:, -1].detach().cpu().round(decimals=2),\n",
        ")\n",
        "print(\n",
        "    \"Original LN scale\",\n",
        "    cache[\"ln_final.hook_scale\"][:, -1].detach().cpu().round(decimals=2),\n",
        ")"
      ]
    },
    {
      "cell_type": "markdown",
      "metadata": {
        "id": "mO8NmEg3UvqJ"
      },
      "source": [
        "**Exercise to the reader:** Can you finish off this analysis? What's going on here? Why are the backup name movers changing their behaviour? Why is one negative name mover becoming significantly less important?"
      ]
    }
  ],
  "metadata": {
    "accelerator": "GPU",
    "colab": {
      "gpuType": "T4",
      "provenance": []
    },
    "kernelspec": {
      "display_name": "Python 3",
      "name": "python3"
    },
    "language_info": {
      "codemirror_mode": {
        "name": "ipython",
        "version": 3
      },
      "file_extension": ".py",
      "mimetype": "text/x-python",
      "name": "python",
      "nbconvert_exporter": "python",
      "pygments_lexer": "ipython3",
      "version": "3.8.18"
    },
    "vscode": {
      "interpreter": {
        "hash": "eb812820b5094695c8a581672e17220e30dd2c15d704c018326e3cc2e1a566f1"
      }
    }
  },
  "nbformat": 4,
  "nbformat_minor": 0
}
