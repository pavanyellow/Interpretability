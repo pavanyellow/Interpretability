{
 "cells": [
  {
   "cell_type": "code",
   "execution_count": 1,
   "metadata": {},
   "outputs": [
    {
     "ename": "OSError",
     "evalue": "cannot load library 'libngspice.dylib': dlopen(libngspice.dylib, 0x0002): tried: 'libngspice.dylib' (no such file), '/System/Volumes/Preboot/Cryptexes/OSlibngspice.dylib' (no such file), '/usr/lib/libngspice.dylib' (no such file, not in dyld cache), 'libngspice.dylib' (no such file), '/usr/local/lib/libngspice.dylib' (no such file), '/usr/lib/libngspice.dylib' (no such file, not in dyld cache).  Additionally, ctypes.util.find_library() did not manage to locate a library called 'libngspice.dylib'",
     "output_type": "error",
     "traceback": [
      "\u001b[0;31m---------------------------------------------------------------------------\u001b[0m",
      "\u001b[0;31mOSError\u001b[0m                                   Traceback (most recent call last)",
      "Cell \u001b[0;32mIn[1], line 32\u001b[0m\n\u001b[1;32m     30\u001b[0m circuit\u001b[39m.\u001b[39mV(\u001b[39m'\u001b[39m\u001b[39m2\u001b[39m\u001b[39m'\u001b[39m, \u001b[39m'\u001b[39m\u001b[39moutput\u001b[39m\u001b[39m'\u001b[39m, circuit\u001b[39m.\u001b[39mgnd, \u001b[39m0.1\u001b[39m\u001b[39m@u_V\u001b[39m)  \u001b[39m# bias b2\u001b[39;00m\n\u001b[1;32m     31\u001b[0m \u001b[39m# Simulate the circuit\u001b[39;00m\n\u001b[0;32m---> 32\u001b[0m simulator \u001b[39m=\u001b[39m circuit\u001b[39m.\u001b[39;49msimulator(temperature\u001b[39m=\u001b[39;49m\u001b[39m25\u001b[39;49m, nominal_temperature\u001b[39m=\u001b[39;49m\u001b[39m25\u001b[39;49m)\n\u001b[1;32m     33\u001b[0m analysis \u001b[39m=\u001b[39m simulator\u001b[39m.\u001b[39moperating_point()\n\u001b[1;32m     35\u001b[0m \u001b[39m# Output\u001b[39;00m\n",
      "File \u001b[0;32m~/Library/Python/3.9/lib/python/site-packages/PySpice/Spice/Netlist.py:1292\u001b[0m, in \u001b[0;36mCircuit.simulator\u001b[0;34m(self, *args, **kwargs)\u001b[0m\n\u001b[1;32m   1291\u001b[0m \u001b[39mdef\u001b[39;00m \u001b[39msimulator\u001b[39m(\u001b[39mself\u001b[39m, \u001b[39m*\u001b[39margs, \u001b[39m*\u001b[39m\u001b[39m*\u001b[39mkwargs):\n\u001b[0;32m-> 1292\u001b[0m     \u001b[39mreturn\u001b[39;00m CircuitSimulator\u001b[39m.\u001b[39;49mfactory(\u001b[39mself\u001b[39;49m, \u001b[39m*\u001b[39;49margs, \u001b[39m*\u001b[39;49m\u001b[39m*\u001b[39;49mkwargs)\n",
      "File \u001b[0;32m~/Library/Python/3.9/lib/python/site-packages/PySpice/Spice/Simulation.py:1167\u001b[0m, in \u001b[0;36mCircuitSimulator.factory\u001b[0;34m(cls, circuit, *args, **kwargs)\u001b[0m\n\u001b[1;32m   1164\u001b[0m         kwargs[\u001b[39m'\u001b[39m\u001b[39mparallel\u001b[39m\u001b[39m'\u001b[39m] \u001b[39m=\u001b[39m \u001b[39mTrue\u001b[39;00m\n\u001b[1;32m   1166\u001b[0m \u001b[39mif\u001b[39;00m sub_cls \u001b[39mis\u001b[39;00m \u001b[39mnot\u001b[39;00m \u001b[39mNone\u001b[39;00m:\n\u001b[0;32m-> 1167\u001b[0m     \u001b[39mreturn\u001b[39;00m sub_cls(circuit, \u001b[39m*\u001b[39;49margs, \u001b[39m*\u001b[39;49m\u001b[39m*\u001b[39;49mkwargs)\n\u001b[1;32m   1168\u001b[0m \u001b[39melse\u001b[39;00m:\n\u001b[1;32m   1169\u001b[0m     \u001b[39mraise\u001b[39;00m \u001b[39mValueError\u001b[39;00m(\u001b[39m'\u001b[39m\u001b[39mUnknown simulator type\u001b[39m\u001b[39m'\u001b[39m)\n",
      "File \u001b[0;32m~/Library/Python/3.9/lib/python/site-packages/PySpice/Spice/NgSpice/Simulation.py:99\u001b[0m, in \u001b[0;36mNgSpiceSharedCircuitSimulator.__init__\u001b[0;34m(self, circuit, **kwargs)\u001b[0m\n\u001b[1;32m     97\u001b[0m ngspice_shared \u001b[39m=\u001b[39m kwargs\u001b[39m.\u001b[39mget(\u001b[39m'\u001b[39m\u001b[39mngspice_shared\u001b[39m\u001b[39m'\u001b[39m, \u001b[39mNone\u001b[39;00m)\n\u001b[1;32m     98\u001b[0m \u001b[39mif\u001b[39;00m ngspice_shared \u001b[39mis\u001b[39;00m \u001b[39mNone\u001b[39;00m:\n\u001b[0;32m---> 99\u001b[0m     \u001b[39mself\u001b[39m\u001b[39m.\u001b[39m_ngspice_shared \u001b[39m=\u001b[39m NgSpiceShared\u001b[39m.\u001b[39;49mnew_instance()\n\u001b[1;32m    100\u001b[0m \u001b[39melse\u001b[39;00m:\n\u001b[1;32m    101\u001b[0m     \u001b[39mself\u001b[39m\u001b[39m.\u001b[39m_ngspice_shared \u001b[39m=\u001b[39m ngspice_shared\n",
      "File \u001b[0;32m~/Library/Python/3.9/lib/python/site-packages/PySpice/Spice/NgSpice/Shared.py:449\u001b[0m, in \u001b[0;36mNgSpiceShared.new_instance\u001b[0;34m(cls, ngspice_id, send_data, verbose)\u001b[0m\n\u001b[1;32m    447\u001b[0m \u001b[39melse\u001b[39;00m:\n\u001b[1;32m    448\u001b[0m     \u001b[39mcls\u001b[39m\u001b[39m.\u001b[39m_logger\u001b[39m.\u001b[39mdebug(\u001b[39m\"\u001b[39m\u001b[39mNew instance for id \u001b[39m\u001b[39m{}\u001b[39;00m\u001b[39m\"\u001b[39m\u001b[39m.\u001b[39mformat(ngspice_id))\n\u001b[0;32m--> 449\u001b[0m     instance \u001b[39m=\u001b[39m \u001b[39mcls\u001b[39;49m(ngspice_id\u001b[39m=\u001b[39;49mngspice_id, send_data\u001b[39m=\u001b[39;49msend_data, verbose\u001b[39m=\u001b[39;49mverbose)\n\u001b[1;32m    450\u001b[0m     \u001b[39mcls\u001b[39m\u001b[39m.\u001b[39m_instances[ngspice_id] \u001b[39m=\u001b[39m instance\n\u001b[1;32m    451\u001b[0m     \u001b[39mreturn\u001b[39;00m instance\n",
      "File \u001b[0;32m~/Library/Python/3.9/lib/python/site-packages/PySpice/Spice/NgSpice/Shared.py:479\u001b[0m, in \u001b[0;36mNgSpiceShared.__init__\u001b[0;34m(self, ngspice_id, send_data, verbose)\u001b[0m\n\u001b[1;32m    476\u001b[0m \u001b[39mself\u001b[39m\u001b[39m.\u001b[39m_extensions \u001b[39m=\u001b[39m []\n\u001b[1;32m    478\u001b[0m \u001b[39mself\u001b[39m\u001b[39m.\u001b[39m_library_path \u001b[39m=\u001b[39m \u001b[39mNone\u001b[39;00m\n\u001b[0;32m--> 479\u001b[0m \u001b[39mself\u001b[39;49m\u001b[39m.\u001b[39;49m_load_library(verbose)\n\u001b[1;32m    480\u001b[0m \u001b[39mself\u001b[39m\u001b[39m.\u001b[39m_init_ngspice(send_data)\n\u001b[1;32m    482\u001b[0m \u001b[39mself\u001b[39m\u001b[39m.\u001b[39m_is_running \u001b[39m=\u001b[39m \u001b[39mFalse\u001b[39;00m\n",
      "File \u001b[0;32m~/Library/Python/3.9/lib/python/site-packages/PySpice/Spice/NgSpice/Shared.py:539\u001b[0m, in \u001b[0;36mNgSpiceShared._load_library\u001b[0;34m(self, verbose)\u001b[0m\n\u001b[1;32m    537\u001b[0m \u001b[39mif\u001b[39;00m verbose:\n\u001b[1;32m    538\u001b[0m     \u001b[39mprint\u001b[39m(message)\n\u001b[0;32m--> 539\u001b[0m \u001b[39mself\u001b[39m\u001b[39m.\u001b[39m_ngspice_shared \u001b[39m=\u001b[39m ffi\u001b[39m.\u001b[39;49mdlopen(\u001b[39mself\u001b[39;49m\u001b[39m.\u001b[39;49mlibrary_path)\n",
      "File \u001b[0;32m~/Library/Python/3.9/lib/python/site-packages/cffi/api.py:150\u001b[0m, in \u001b[0;36mFFI.dlopen\u001b[0;34m(self, name, flags)\u001b[0m\n\u001b[1;32m    147\u001b[0m     \u001b[39mraise\u001b[39;00m \u001b[39mTypeError\u001b[39;00m(\u001b[39m\"\u001b[39m\u001b[39mdlopen(name): name must be a file name, None, \u001b[39m\u001b[39m\"\u001b[39m\n\u001b[1;32m    148\u001b[0m                     \u001b[39m\"\u001b[39m\u001b[39mor an already-opened \u001b[39m\u001b[39m'\u001b[39m\u001b[39mvoid *\u001b[39m\u001b[39m'\u001b[39m\u001b[39m handle\u001b[39m\u001b[39m\"\u001b[39m)\n\u001b[1;32m    149\u001b[0m \u001b[39mwith\u001b[39;00m \u001b[39mself\u001b[39m\u001b[39m.\u001b[39m_lock:\n\u001b[0;32m--> 150\u001b[0m     lib, function_cache \u001b[39m=\u001b[39m _make_ffi_library(\u001b[39mself\u001b[39;49m, name, flags)\n\u001b[1;32m    151\u001b[0m     \u001b[39mself\u001b[39m\u001b[39m.\u001b[39m_function_caches\u001b[39m.\u001b[39mappend(function_cache)\n\u001b[1;32m    152\u001b[0m     \u001b[39mself\u001b[39m\u001b[39m.\u001b[39m_libraries\u001b[39m.\u001b[39mappend(lib)\n",
      "File \u001b[0;32m~/Library/Python/3.9/lib/python/site-packages/cffi/api.py:832\u001b[0m, in \u001b[0;36m_make_ffi_library\u001b[0;34m(ffi, libname, flags)\u001b[0m\n\u001b[1;32m    830\u001b[0m \u001b[39mdef\u001b[39;00m \u001b[39m_make_ffi_library\u001b[39m(ffi, libname, flags):\n\u001b[1;32m    831\u001b[0m     backend \u001b[39m=\u001b[39m ffi\u001b[39m.\u001b[39m_backend\n\u001b[0;32m--> 832\u001b[0m     backendlib \u001b[39m=\u001b[39m _load_backend_lib(backend, libname, flags)\n\u001b[1;32m    833\u001b[0m     \u001b[39m#\u001b[39;00m\n\u001b[1;32m    834\u001b[0m     \u001b[39mdef\u001b[39;00m \u001b[39maccessor_function\u001b[39m(name):\n",
      "File \u001b[0;32m~/Library/Python/3.9/lib/python/site-packages/cffi/api.py:827\u001b[0m, in \u001b[0;36m_load_backend_lib\u001b[0;34m(backend, name, flags)\u001b[0m\n\u001b[1;32m    825\u001b[0m     \u001b[39mif\u001b[39;00m first_error \u001b[39mis\u001b[39;00m \u001b[39mnot\u001b[39;00m \u001b[39mNone\u001b[39;00m:\n\u001b[1;32m    826\u001b[0m         msg \u001b[39m=\u001b[39m \u001b[39m\"\u001b[39m\u001b[39m%s\u001b[39;00m\u001b[39m.  Additionally, \u001b[39m\u001b[39m%s\u001b[39;00m\u001b[39m\"\u001b[39m \u001b[39m%\u001b[39m (first_error, msg)\n\u001b[0;32m--> 827\u001b[0m     \u001b[39mraise\u001b[39;00m \u001b[39mOSError\u001b[39;00m(msg)\n\u001b[1;32m    828\u001b[0m \u001b[39mreturn\u001b[39;00m backend\u001b[39m.\u001b[39mload_library(path, flags)\n",
      "\u001b[0;31mOSError\u001b[0m: cannot load library 'libngspice.dylib': dlopen(libngspice.dylib, 0x0002): tried: 'libngspice.dylib' (no such file), '/System/Volumes/Preboot/Cryptexes/OSlibngspice.dylib' (no such file), '/usr/lib/libngspice.dylib' (no such file, not in dyld cache), 'libngspice.dylib' (no such file), '/usr/local/lib/libngspice.dylib' (no such file), '/usr/lib/libngspice.dylib' (no such file, not in dyld cache).  Additionally, ctypes.util.find_library() did not manage to locate a library called 'libngspice.dylib'"
     ]
    }
   ],
   "source": [
    "import PySpice.Logging.Logging as Logging\n",
    "logger = Logging.setup_logging()\n",
    "\n",
    "from PySpice.Doc.ExampleTools import find_libraries\n",
    "from PySpice.Probe.Plot import plot\n",
    "from PySpice.Spice.Library import SpiceLibrary\n",
    "from PySpice.Spice.Netlist import Circuit\n",
    "from PySpice.Unit import *\n",
    "\n",
    "# Create a circuit\n",
    "circuit = Circuit('Multi-Layer Perceptron')\n",
    "\n",
    "# Define input\n",
    "circuit.V('input', 'input', circuit.gnd, 1@u_V)  # Input voltage\n",
    "\n",
    "# First layer\n",
    "circuit.R('11', 'input', 'n11', 1/0.2@u_Ω)  # weight w1[0]\n",
    "circuit.R('12', 'input', 'n12', 1/0.8@u_Ω)  # weight w1[1]\n",
    "circuit.V('11', 'n11', circuit.gnd, 0.5@u_V)  # bias b1[0]\n",
    "circuit.V('12', 'n12', circuit.gnd, -0.3@u_V)  # bias b1[1]\n",
    "\n",
    "# Activation function\n",
    "# For simplicity, we use an ideal diode to model the ReLU activation function\n",
    "circuit.D('1', 'n11', 'n21')\n",
    "circuit.D('2', 'n12', 'n22')\n",
    "\n",
    "# Second layer\n",
    "circuit.R('21', 'n21', 'output', 1/0.6@u_Ω)  # weight w2[0]\n",
    "circuit.R('22', 'n22', 'output', 1/-0.4@u_Ω)  # weight w2[1]\n",
    "circuit.V('2', 'output', circuit.gnd, 0.1@u_V)  # bias b2\n",
    "# Simulate the circuit\n",
    "simulator = circuit.simulator(temperature=25, nominal_temperature=25)\n",
    "analysis = simulator.operating_point()\n",
    "\n",
    "# Output\n",
    "print(f\"Output Voltage: {float(analysis['output']):.2f}V\")\n",
    "\n",
    "\n"
   ]
  },
  {
   "cell_type": "code",
   "execution_count": null,
   "metadata": {},
   "outputs": [],
   "source": []
  }
 ],
 "metadata": {
  "kernelspec": {
   "display_name": "Python 3",
   "language": "python",
   "name": "python3"
  },
  "language_info": {
   "codemirror_mode": {
    "name": "ipython",
    "version": 3
   },
   "file_extension": ".py",
   "mimetype": "text/x-python",
   "name": "python",
   "nbconvert_exporter": "python",
   "pygments_lexer": "ipython3",
   "version": "3.9.6"
  },
  "orig_nbformat": 4
 },
 "nbformat": 4,
 "nbformat_minor": 2
}
