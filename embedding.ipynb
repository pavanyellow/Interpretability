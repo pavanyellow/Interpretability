{
 "cells": [
  {
   "cell_type": "code",
   "execution_count": 1,
   "metadata": {},
   "outputs": [
    {
     "name": "stdout",
     "output_type": "stream",
     "text": [
      "torch.Size([64, 100])\n",
      "torch.Size([1, 64])\n",
      "x shape: torch.Size([1, 1])\n",
      "Sentiment score: 0.4810532331466675\n"
     ]
    }
   ],
   "source": [
    "import torch\n",
    "import torch.nn as nn\n",
    "import torch.optim as optim\n",
    "\n",
    "class SimpleTextClassifier(nn.Module):\n",
    "    def __init__(self, vocab_size, embedding_dim, hidden_dim, output_dim):\n",
    "        super(SimpleTextClassifier, self).__init__()\n",
    "        \n",
    "        # Embedding layer\n",
    "        self.embedding = nn.Embedding(vocab_size, embedding_dim)\n",
    "        \n",
    "        # Simple fully connected layers\n",
    "        self.fc1 = nn.Linear(embedding_dim, hidden_dim)\n",
    "        print(self.fc1.weight.shape)\n",
    "        self.fc2 = nn.Linear(hidden_dim, output_dim)\n",
    "        print(self.fc2.weight.shape)\n",
    "\n",
    "    def forward(self, x):\n",
    "        # Pass input through the embedding layer\n",
    "        x = self.embedding(x)\n",
    "\n",
    "        # Average the embeddings\n",
    "        x = torch.mean(x, dim=1)\n",
    "        \n",
    "        # Pass the embeddings through the fully connected layers\n",
    "        x = torch.relu(self.fc1(x.reshape(1,100)))\n",
    "        x = self.fc2(x)\n",
    "        print(f\"x shape: {x.shape}\")\n",
    "\n",
    "        return torch.sigmoid(x)\n",
    "\n",
    "# Example usage\n",
    "vocab_size = 10000    # Size of your vocabulary (number of unique words)\n",
    "embedding_dim = 100   # Dimension of the embedding vectors\n",
    "hidden_dim = 64       # Dimension of the hidden layer in the neural network\n",
    "output_dim = 1        # Dimension of the output (1 for binary sentiment classification)\n",
    "\n",
    "model = SimpleTextClassifier(vocab_size, embedding_dim, hidden_dim, output_dim)\n",
    "\n",
    "# Dummy input representing a sequence of word indices\n",
    "input_sequence = torch.tensor([0, 2, 5, 8, 9, 42, 128]).long()\n",
    "\n",
    "# Forward pass\n",
    "output = model(input_sequence.unsqueeze(0))\n",
    "\n",
    "print(\"Sentiment score:\", output.item())\n"
   ]
  },
  {
   "cell_type": "code",
   "execution_count": 3,
   "metadata": {},
   "outputs": [],
   "source": [
    "embedding = model.embedding"
   ]
  },
  {
   "cell_type": "code",
   "execution_count": 9,
   "metadata": {},
   "outputs": [
    {
     "data": {
      "text/plain": [
       "torch.Size([7, 100])"
      ]
     },
     "execution_count": 9,
     "metadata": {},
     "output_type": "execute_result"
    }
   ],
   "source": [
    "embedding(torch.tensor([0, 2, 5, 8, 9, 42, 128]).long()).shape"
   ]
  },
  {
   "cell_type": "code",
   "execution_count": 31,
   "metadata": {},
   "outputs": [
    {
     "data": {
      "text/plain": [
       "32"
      ]
     },
     "execution_count": 31,
     "metadata": {},
     "output_type": "execute_result"
    }
   ],
   "source": [
    "embedding.weight[0,0].element_size() * 8"
   ]
  },
  {
   "cell_type": "code",
   "execution_count": null,
   "metadata": {},
   "outputs": [],
   "source": []
  }
 ],
 "metadata": {
  "kernelspec": {
   "display_name": "Python 3",
   "language": "python",
   "name": "python3"
  },
  "language_info": {
   "codemirror_mode": {
    "name": "ipython",
    "version": 3
   },
   "file_extension": ".py",
   "mimetype": "text/x-python",
   "name": "python",
   "nbconvert_exporter": "python",
   "pygments_lexer": "ipython3",
   "version": "3.9.6"
  },
  "orig_nbformat": 4,
  "vscode": {
   "interpreter": {
    "hash": "31f2aee4e71d21fbe5cf8b01ff0e069b9275f58929596ceb00d14d90e3e16cd6"
   }
  }
 },
 "nbformat": 4,
 "nbformat_minor": 2
}
