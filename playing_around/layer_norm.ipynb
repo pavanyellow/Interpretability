{
 "cells": [
  {
   "cell_type": "code",
   "execution_count": 45,
   "metadata": {},
   "outputs": [
    {
     "name": "stdout",
     "output_type": "stream",
     "text": [
      "tensor([[[ 1.7222,  1.1444,  1.0009,  0.2213],\n",
      "         [ 0.7229, -0.4213, -0.9725,  0.6918],\n",
      "         [-0.3615, -1.3112, -0.9483,  0.7301]],\n",
      "\n",
      "        [[ 1.8597, -0.5011, -1.3574,  1.5331],\n",
      "         [-0.4577, -2.4709,  0.7182,  0.2576],\n",
      "         [ 1.0488,  0.0630,  1.3145, -0.0449]]])\n",
      "tensor([[[ 1.3073,  0.2282, -0.0397, -1.4958],\n",
      "         [ 0.9848, -0.5853, -1.3417,  0.9422],\n",
      "         [ 0.1439, -1.0851, -0.6154,  1.5566]],\n",
      "\n",
      "        [[ 1.0916, -0.6542, -1.2875,  0.8501],\n",
      "         [ 0.0250, -1.6265,  0.9897,  0.6118],\n",
      "         [ 0.7621, -0.8948,  1.2086, -1.0760]]])\n"
     ]
    }
   ],
   "source": [
    "import torch\n",
    "\n",
    "# Example tensor with dimensions (Batch, Context Length, Model Dimension)\n",
    "batch_size = 2\n",
    "context_length = 3\n",
    "model_dim = 4\n",
    "x = torch.randn(batch_size, context_length, model_dim)\n",
    "y = torch.randn(batch_size, context_length, model_dim)\n",
    "\n",
    "def manual_layer_norm(x, epsilon=1e-5):\n",
    "    # Calculate mean and variance\n",
    "    mean = x.mean(dim=-1, keepdim=True)\n",
    "    variance = x.var(dim=-1, keepdim=True, unbiased=False)\n",
    "\n",
    "    # Normalize\n",
    "    x_normalized = (x - mean) / torch.sqrt(variance + epsilon)\n",
    "\n",
    "    return x_normalized\n",
    "\n",
    "# Apply manual layer normalization\n",
    "x_normalized = manual_layer_norm(x)\n",
    "print(x)\n",
    "print(x_normalized)\n"
   ]
  },
  {
   "cell_type": "code",
   "execution_count": 47,
   "metadata": {},
   "outputs": [
    {
     "data": {
      "text/plain": [
       "tensor([[[-0.9548,  1.6625, -0.5461, -0.1616],\n",
       "         [ 1.3883, -1.0619, -0.8309,  0.5045],\n",
       "         [-0.5273, -0.4823, -0.7158,  1.7254]],\n",
       "\n",
       "        [[ 0.8969, -0.9272, -1.0654,  1.0957],\n",
       "         [-0.8126, -1.1583,  0.8187,  1.1523],\n",
       "         [ 0.6508, -0.4303,  1.1873, -1.4078]]])"
      ]
     },
     "execution_count": 47,
     "metadata": {},
     "output_type": "execute_result"
    }
   ],
   "source": [
    "manual_layer_norm(x+y)"
   ]
  },
  {
   "cell_type": "code",
   "execution_count": 48,
   "metadata": {},
   "outputs": [
    {
     "data": {
      "text/plain": [
       "tensor([[[-0.1845,  1.1675, -0.3716, -0.6115],\n",
       "         [ 2.4756, -1.8240, -1.7927,  1.1411],\n",
       "         [-0.6827,  0.3873, -0.2526,  0.5480]],\n",
       "\n",
       "        [[ 1.0525, -2.0577, -1.2691,  2.2743],\n",
       "         [-1.5259, -1.3547,  1.0364,  1.8442],\n",
       "         [ 0.9857, -0.2174,  2.0003, -2.7685]]])"
      ]
     },
     "execution_count": 48,
     "metadata": {},
     "output_type": "execute_result"
    }
   ],
   "source": [
    "manual_layer_norm(x) + manual_layer_norm(y)"
   ]
  },
  {
   "cell_type": "code",
   "execution_count": 15,
   "metadata": {},
   "outputs": [
    {
     "data": {
      "text/plain": [
       "tensor([[[-4.5795,  1.5442,  0.0397,  3.8779],\n",
       "         [ 3.2117,  0.9327,  1.9581, -1.6882],\n",
       "         [-2.3979,  0.8282,  1.0355, -2.3568]],\n",
       "\n",
       "        [[-0.8038,  1.8008,  1.2494, -0.2032],\n",
       "         [-1.4478,  1.9009, -1.4964,  2.2762],\n",
       "         [-1.0230, -3.2200, -0.1878,  1.7780]]])"
      ]
     },
     "execution_count": 15,
     "metadata": {},
     "output_type": "execute_result"
    }
   ],
   "source": [
    "2*x"
   ]
  },
  {
   "cell_type": "code",
   "execution_count": 17,
   "metadata": {},
   "outputs": [
    {
     "data": {
      "text/plain": [
       "tensor([[[-1.5532,  0.4283, -0.0585,  1.1835],\n",
       "         [ 1.1695, -0.0948,  0.4740, -1.5487],\n",
       "         [-1.0114,  0.9364,  1.0615, -0.9866]],\n",
       "\n",
       "        [[-1.2467,  1.2234,  0.7004, -0.6771],\n",
       "         [-0.9836,  0.8921, -1.0108,  1.1023],\n",
       "         [-0.2007, -1.4264,  0.2652,  1.3619]]])"
      ]
     },
     "execution_count": 17,
     "metadata": {},
     "output_type": "execute_result"
    }
   ],
   "source": [
    "manual_layer_norm(x)\n",
    "manual_layer_norm(2*x)"
   ]
  },
  {
   "cell_type": "code",
   "execution_count": null,
   "metadata": {},
   "outputs": [],
   "source": []
  }
 ],
 "metadata": {
  "kernelspec": {
   "display_name": "transformer_lens",
   "language": "python",
   "name": "python3"
  },
  "language_info": {
   "codemirror_mode": {
    "name": "ipython",
    "version": 3
   },
   "file_extension": ".py",
   "mimetype": "text/x-python",
   "name": "python",
   "nbconvert_exporter": "python",
   "pygments_lexer": "ipython3",
   "version": "3.8.18"
  }
 },
 "nbformat": 4,
 "nbformat_minor": 2
}
