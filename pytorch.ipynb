{
 "cells": [
  {
   "cell_type": "code",
   "execution_count": 1,
   "metadata": {},
   "outputs": [
    {
     "data": {
      "text/plain": [
       "Parameter containing:\n",
       "tensor([[ 0.2394, -0.2884,  0.2627, -0.0035, -0.0604, -0.2451,  0.0239, -0.0730,\n",
       "          0.0657],\n",
       "        [-0.1356, -0.1660, -0.0447,  0.2845, -0.2800, -0.1852,  0.1663,  0.1253,\n",
       "         -0.1927],\n",
       "        [ 0.3253, -0.0800, -0.2694, -0.0604, -0.0014, -0.2360,  0.0020,  0.2479,\n",
       "          0.0502],\n",
       "        [ 0.3200,  0.1524, -0.0150, -0.2153,  0.2887, -0.0603,  0.1026, -0.1984,\n",
       "         -0.3082],\n",
       "        [-0.3013,  0.1499, -0.3315, -0.2451, -0.0572, -0.2746, -0.2999,  0.0439,\n",
       "         -0.3211],\n",
       "        [ 0.0264,  0.3309, -0.1843,  0.1185, -0.0637, -0.2103,  0.0978, -0.0864,\n",
       "          0.3167],\n",
       "        [-0.0202,  0.0439, -0.0433,  0.0522, -0.1437, -0.3180,  0.0918,  0.2595,\n",
       "         -0.1702],\n",
       "        [-0.0343,  0.0320, -0.1245, -0.0581,  0.1392, -0.2033, -0.2033, -0.2519,\n",
       "         -0.2899],\n",
       "        [ 0.1943, -0.1751,  0.0622, -0.2556, -0.1402, -0.1545, -0.2324,  0.3026,\n",
       "         -0.0457]], requires_grad=True)"
      ]
     },
     "execution_count": 1,
     "metadata": {},
     "output_type": "execute_result"
    }
   ],
   "source": [
    "import torch\n",
    "import torch.nn as nn\n",
    "a = nn.Linear(9,9)\n",
    "\n",
    "a.weight"
   ]
  },
  {
   "cell_type": "code",
   "execution_count": 7,
   "metadata": {},
   "outputs": [
    {
     "name": "stderr",
     "output_type": "stream",
     "text": [
      "/Users/pavan/Library/Python/3.9/lib/python/site-packages/torch/_tensor.py:761: UserWarning: non-inplace resize is deprecated\n",
      "  warnings.warn(\"non-inplace resize is deprecated\")\n"
     ]
    },
    {
     "ename": "RuntimeError",
     "evalue": "requested resize to 1x-1 (-1 elements in total), but the given tensor has a size of 9 (9 elements). autograd's resize can only change the shape of a given tensor, while preserving the number of elements. ",
     "output_type": "error",
     "traceback": [
      "\u001b[0;31m---------------------------------------------------------------------------\u001b[0m",
      "\u001b[0;31mRuntimeError\u001b[0m                              Traceback (most recent call last)",
      "Cell \u001b[0;32mIn[7], line 1\u001b[0m\n\u001b[0;32m----> 1\u001b[0m a\u001b[39m.\u001b[39;49mbias\u001b[39m.\u001b[39;49mdata\u001b[39m.\u001b[39;49mresize(\u001b[39m1\u001b[39;49m,\u001b[39m-\u001b[39;49m\u001b[39m1\u001b[39;49m)\n",
      "File \u001b[0;32m~/Library/Python/3.9/lib/python/site-packages/torch/_tensor.py:764\u001b[0m, in \u001b[0;36mTensor.resize\u001b[0;34m(self, *sizes)\u001b[0m\n\u001b[1;32m    761\u001b[0m warnings\u001b[39m.\u001b[39mwarn(\u001b[39m\"\u001b[39m\u001b[39mnon-inplace resize is deprecated\u001b[39m\u001b[39m\"\u001b[39m)\n\u001b[1;32m    762\u001b[0m \u001b[39mfrom\u001b[39;00m \u001b[39mtorch\u001b[39;00m\u001b[39m.\u001b[39;00m\u001b[39mautograd\u001b[39;00m\u001b[39m.\u001b[39;00m\u001b[39m_functions\u001b[39;00m \u001b[39mimport\u001b[39;00m Resize\n\u001b[0;32m--> 764\u001b[0m \u001b[39mreturn\u001b[39;00m Resize\u001b[39m.\u001b[39;49mapply(\u001b[39mself\u001b[39;49m, sizes)\n",
      "File \u001b[0;32m~/Library/Python/3.9/lib/python/site-packages/torch/autograd/_functions/tensor.py:32\u001b[0m, in \u001b[0;36mResize.forward\u001b[0;34m(ctx, tensor, sizes)\u001b[0m\n\u001b[1;32m     30\u001b[0m ctx\u001b[39m.\u001b[39mnumel \u001b[39m=\u001b[39m reduce(\u001b[39mlambda\u001b[39;00m x, y: x \u001b[39m*\u001b[39m y, sizes, \u001b[39m1\u001b[39m)\n\u001b[1;32m     31\u001b[0m \u001b[39mif\u001b[39;00m tensor\u001b[39m.\u001b[39mnumel() \u001b[39m!=\u001b[39m ctx\u001b[39m.\u001b[39mnumel:\n\u001b[0;32m---> 32\u001b[0m     \u001b[39mraise\u001b[39;00m \u001b[39mRuntimeError\u001b[39;00m((\u001b[39m\"\u001b[39m\u001b[39mrequested resize to \u001b[39m\u001b[39m{}\u001b[39;00m\u001b[39m (\u001b[39m\u001b[39m{}\u001b[39;00m\u001b[39m elements in total), \u001b[39m\u001b[39m\"\u001b[39m\n\u001b[1;32m     33\u001b[0m                         \u001b[39m\"\u001b[39m\u001b[39mbut the given tensor has a size of \u001b[39m\u001b[39m{}\u001b[39;00m\u001b[39m (\u001b[39m\u001b[39m{}\u001b[39;00m\u001b[39m elements). \u001b[39m\u001b[39m\"\u001b[39m\n\u001b[1;32m     34\u001b[0m                         \u001b[39m\"\u001b[39m\u001b[39mautograd\u001b[39m\u001b[39m'\u001b[39m\u001b[39ms resize can only change the shape of a given \u001b[39m\u001b[39m\"\u001b[39m\n\u001b[1;32m     35\u001b[0m                         \u001b[39m\"\u001b[39m\u001b[39mtensor, while preserving the number of elements. \u001b[39m\u001b[39m\"\u001b[39m)\u001b[39m.\u001b[39mformat(\n\u001b[1;32m     36\u001b[0m         \u001b[39m'\u001b[39m\u001b[39mx\u001b[39m\u001b[39m'\u001b[39m\u001b[39m.\u001b[39mjoin(\u001b[39mmap\u001b[39m(\u001b[39mstr\u001b[39m, sizes)), ctx\u001b[39m.\u001b[39mnumel,\n\u001b[1;32m     37\u001b[0m         \u001b[39m'\u001b[39m\u001b[39mx\u001b[39m\u001b[39m'\u001b[39m\u001b[39m.\u001b[39mjoin(\u001b[39mmap\u001b[39m(\u001b[39mstr\u001b[39m, tensor\u001b[39m.\u001b[39msize())), tensor\u001b[39m.\u001b[39mnumel()))\n\u001b[1;32m     38\u001b[0m ctx\u001b[39m.\u001b[39minput_sizes \u001b[39m=\u001b[39m tensor\u001b[39m.\u001b[39msize()\n\u001b[1;32m     39\u001b[0m \u001b[39mif\u001b[39;00m tensor\u001b[39m.\u001b[39mis_quantized:\n",
      "\u001b[0;31mRuntimeError\u001b[0m: requested resize to 1x-1 (-1 elements in total), but the given tensor has a size of 9 (9 elements). autograd's resize can only change the shape of a given tensor, while preserving the number of elements. "
     ]
    }
   ],
   "source": [
    "a.bias.data.resize(1,-1)"
   ]
  },
  {
   "cell_type": "code",
   "execution_count": 14,
   "metadata": {},
   "outputs": [],
   "source": [
    "a = torch.bernoulli(a)"
   ]
  },
  {
   "cell_type": "code",
   "execution_count": 15,
   "metadata": {},
   "outputs": [
    {
     "data": {
      "text/plain": [
       "tensor([[1., 0.],\n",
       "        [1., 0.]])"
      ]
     },
     "execution_count": 15,
     "metadata": {},
     "output_type": "execute_result"
    }
   ],
   "source": [
    "a"
   ]
  },
  {
   "cell_type": "code",
   "execution_count": 16,
   "metadata": {},
   "outputs": [],
   "source": [
    "b = torch.rand(2,2)"
   ]
  },
  {
   "cell_type": "code",
   "execution_count": 17,
   "metadata": {},
   "outputs": [
    {
     "data": {
      "text/plain": [
       "tensor([[0.9202, 0.7867],\n",
       "        [0.0666, 0.6290]])"
      ]
     },
     "execution_count": 17,
     "metadata": {},
     "output_type": "execute_result"
    }
   ],
   "source": [
    "b"
   ]
  },
  {
   "cell_type": "code",
   "execution_count": 18,
   "metadata": {},
   "outputs": [
    {
     "data": {
      "text/plain": [
       "tensor([[0.9202, 0.0000],\n",
       "        [0.0666, 0.0000]])"
      ]
     },
     "execution_count": 18,
     "metadata": {},
     "output_type": "execute_result"
    }
   ],
   "source": [
    "a*b"
   ]
  },
  {
   "cell_type": "code",
   "execution_count": 19,
   "metadata": {},
   "outputs": [
    {
     "data": {
      "text/plain": [
       "tensor([0., 0.])"
      ]
     },
     "execution_count": 19,
     "metadata": {},
     "output_type": "execute_result"
    }
   ],
   "source": [
    "a[:,1]"
   ]
  },
  {
   "cell_type": "code",
   "execution_count": 20,
   "metadata": {},
   "outputs": [
    {
     "data": {
      "text/plain": [
       "tensor([[1., 0.],\n",
       "        [1., 0.]])"
      ]
     },
     "execution_count": 20,
     "metadata": {},
     "output_type": "execute_result"
    }
   ],
   "source": [
    "a"
   ]
  },
  {
   "cell_type": "code",
   "execution_count": 21,
   "metadata": {},
   "outputs": [],
   "source": [
    "a = torch.rand(3,4)"
   ]
  },
  {
   "cell_type": "code",
   "execution_count": 22,
   "metadata": {},
   "outputs": [
    {
     "data": {
      "text/plain": [
       "tensor([[0.9584, 0.6153, 0.8641, 0.2382],\n",
       "        [0.6538, 0.6635, 0.5773, 0.4540],\n",
       "        [0.1572, 0.9709, 0.4145, 0.2055]])"
      ]
     },
     "execution_count": 22,
     "metadata": {},
     "output_type": "execute_result"
    }
   ],
   "source": [
    "a"
   ]
  },
  {
   "cell_type": "code",
   "execution_count": 32,
   "metadata": {},
   "outputs": [
    {
     "data": {
      "text/plain": [
       "3"
      ]
     },
     "execution_count": 32,
     "metadata": {},
     "output_type": "execute_result"
    }
   ],
   "source": [
    "a.size(0)"
   ]
  },
  {
   "cell_type": "code",
   "execution_count": 34,
   "metadata": {},
   "outputs": [
    {
     "data": {
      "text/plain": [
       "torch.Size([3, 4])"
      ]
     },
     "execution_count": 34,
     "metadata": {},
     "output_type": "execute_result"
    }
   ],
   "source": [
    "a.shape"
   ]
  },
  {
   "cell_type": "code",
   "execution_count": 38,
   "metadata": {},
   "outputs": [
    {
     "data": {
      "text/plain": [
       "tensor(0.9584)"
      ]
     },
     "execution_count": 38,
     "metadata": {},
     "output_type": "execute_result"
    }
   ],
   "source": [
    "a[0][0]"
   ]
  },
  {
   "cell_type": "code",
   "execution_count": 39,
   "metadata": {},
   "outputs": [
    {
     "data": {
      "text/plain": [
       "tensor(0.9584)"
      ]
     },
     "execution_count": 39,
     "metadata": {},
     "output_type": "execute_result"
    }
   ],
   "source": [
    "a[0,0]"
   ]
  },
  {
   "cell_type": "code",
   "execution_count": 41,
   "metadata": {},
   "outputs": [
    {
     "data": {
      "image/png": "[encoded data removed]",
      "text/plain": [
       "<Figure size 640x480 with 1 Axes>"
      ]
     },
     "metadata": {},
     "output_type": "display_data"
    }
   ],
   "source": [
    "import matplotlib.pyplot as plt\n",
    "\n",
    "x = [1, 2, 3, 4]\n",
    "y1 = [10, 20, 30, 40]\n",
    "y2 = [5, 15, 25, 35]\n",
    "\n",
    "plt.xlabel(\"Epochs\")\n",
    "plt.ylabel(\"Loss\")\n",
    "plt.plot(x, y1, color='blue', label='Plot 1')\n",
    "plt.plot(x, y2, color='red', label='Plot 2')\n",
    "\n",
    "plt.legend()\n",
    "plt.show()"
   ]
  },
  {
   "cell_type": "code",
   "execution_count": 52,
   "metadata": {},
   "outputs": [
    {
     "data": {
      "text/plain": [
       "(tensor([[0.7712, 0.1311, 0.7845, 0.7549, 0.8832],\n",
       "         [0.9047, 0.9637, 0.6339, 0.6950, 0.7723],\n",
       "         [0.9351, 0.7019, 0.6066, 0.4313, 0.9236],\n",
       "         [0.5992, 0.3749, 0.0167, 0.6787, 0.4175],\n",
       "         [0.3529, 0.1975, 0.3481, 0.0087, 0.9613]]),\n",
       " tensor([[0.9283, 0.1327, 0.5844, 0.2493, 0.4473],\n",
       "         [0.1935, 0.4232, 0.2735, 0.8457, 0.3771],\n",
       "         [0.8905, 0.9292, 0.3869, 0.9617, 0.9548],\n",
       "         [0.0232, 0.7804, 0.9061, 0.1205, 0.4709],\n",
       "         [0.7793, 0.6329, 0.8606, 0.3630, 0.7356]]))"
      ]
     },
     "execution_count": 52,
     "metadata": {},
     "output_type": "execute_result"
    }
   ],
   "source": [
    "a = torch.rand(5,5)\n",
    "b = torch.rand(5,5)\n",
    "a,b"
   ]
  },
  {
   "cell_type": "code",
   "execution_count": 53,
   "metadata": {},
   "outputs": [
    {
     "data": {
      "text/plain": [
       "tensor([[2.4677e-02, 2.7049e-06, 4.0042e-02, 2.5555e-01, 1.9002e-01],\n",
       "        [5.0585e-01, 2.9213e-01, 1.2992e-01, 2.2694e-02, 1.5622e-01],\n",
       "        [1.9829e-03, 5.1670e-02, 4.8261e-02, 2.8134e-01, 9.7305e-04],\n",
       "        [3.3181e-01, 1.6441e-01, 7.9092e-01, 3.1163e-01, 2.8546e-03],\n",
       "        [1.8186e-01, 1.8953e-01, 2.6267e-01, 1.2556e-01, 5.0950e-02]])"
      ]
     },
     "execution_count": 53,
     "metadata": {},
     "output_type": "execute_result"
    }
   ],
   "source": [
    "(a-b)**2"
   ]
  },
  {
   "cell_type": "code",
   "execution_count": 54,
   "metadata": {},
   "outputs": [],
   "source": [
    "c = a-b"
   ]
  },
  {
   "cell_type": "code",
   "execution_count": 56,
   "metadata": {},
   "outputs": [
    {
     "data": {
      "text/plain": [
       "tensor(0.0239)"
      ]
     },
     "execution_count": 56,
     "metadata": {},
     "output_type": "execute_result"
    }
   ],
   "source": [
    "c.mean()"
   ]
  },
  {
   "cell_type": "code",
   "execution_count": 57,
   "metadata": {},
   "outputs": [
    {
     "data": {
      "text/plain": [
       "tensor([[-0.1571, -0.0016,  0.2001,  0.5055,  0.4359],\n",
       "        [ 0.7112,  0.5405,  0.3604, -0.1506,  0.3952],\n",
       "        [ 0.0445, -0.2273,  0.2197, -0.5304, -0.0312],\n",
       "        [ 0.5760, -0.4055, -0.8893,  0.5582, -0.0534],\n",
       "        [-0.4264, -0.4354, -0.5125, -0.3543,  0.2257]])"
      ]
     },
     "execution_count": 57,
     "metadata": {},
     "output_type": "execute_result"
    }
   ],
   "source": [
    "c"
   ]
  },
  {
   "cell_type": "code",
   "execution_count": 58,
   "metadata": {},
   "outputs": [
    {
     "data": {
      "text/plain": [
       "tensor([[-0.1571, -0.0000,  0.0000,  0.0000,  0.0000],\n",
       "        [ 0.7112,  0.0000,  0.0000, -0.0000,  0.0000],\n",
       "        [ 0.0445, -0.0000,  0.0000, -0.0000, -0.0000],\n",
       "        [ 0.5760, -0.0000, -0.0000,  0.0000, -0.0000],\n",
       "        [-0.4264, -0.0000, -0.0000, -0.0000,  0.0000]])"
      ]
     },
     "execution_count": 58,
     "metadata": {},
     "output_type": "execute_result"
    }
   ],
   "source": [
    "d = torch.tensor([1,0,0,0,0])\n",
    "c*d"
   ]
  },
  {
   "cell_type": "code",
   "execution_count": 8,
   "metadata": {},
   "outputs": [
    {
     "name": "stdout",
     "output_type": "stream",
     "text": [
      "<torch.utils.data.dataloader.DataLoader object at 0x1076e7040>\n"
     ]
    }
   ],
   "source": [
    "from torch.utils.data import DataLoader, TensorDataset\n",
    "\n",
    "# Assuming X and y are your features and labels, respectively\n",
    "X = torch.randn(4,2) \n",
    "dataset = TensorDataset(X, X)\n",
    "\n",
    "# Create a DataLoader with batch size of 32 and shuffling enabled\n",
    "data_loader = DataLoader(dataset, batch_size=2, shuffle=True)\n",
    "\n",
    "print(data_loader)"
   ]
  },
  {
   "cell_type": "code",
   "execution_count": 3,
   "metadata": {},
   "outputs": [],
   "source": [
    "a = torch.zeros(5)"
   ]
  },
  {
   "cell_type": "code",
   "execution_count": 10,
   "metadata": {},
   "outputs": [],
   "source": [
    "b = a.unsqueeze(0)"
   ]
  },
  {
   "cell_type": "code",
   "execution_count": 7,
   "metadata": {},
   "outputs": [
    {
     "data": {
      "text/plain": [
       "torch.Size([5])"
      ]
     },
     "execution_count": 7,
     "metadata": {},
     "output_type": "execute_result"
    }
   ],
   "source": [
    "a.shape"
   ]
  },
  {
   "cell_type": "code",
   "execution_count": 11,
   "metadata": {},
   "outputs": [
    {
     "data": {
      "text/plain": [
       "torch.Size([1, 5])"
      ]
     },
     "execution_count": 11,
     "metadata": {},
     "output_type": "execute_result"
    }
   ],
   "source": [
    "b.shape"
   ]
  },
  {
   "cell_type": "code",
   "execution_count": 2,
   "metadata": {},
   "outputs": [
    {
     "data": {
      "text/plain": [
       "Linear(in_features=9, out_features=9, bias=True)"
      ]
     },
     "execution_count": 2,
     "metadata": {},
     "output_type": "execute_result"
    }
   ],
   "source": [
    "a "
   ]
  },
  {
   "cell_type": "code",
   "execution_count": 4,
   "metadata": {},
   "outputs": [
    {
     "data": {
      "text/plain": [
       "tensor(0.)"
      ]
     },
     "execution_count": 4,
     "metadata": {},
     "output_type": "execute_result"
    }
   ],
   "source": [
    "torch.dot(a,a)"
   ]
  },
  {
   "cell_type": "code",
   "execution_count": 5,
   "metadata": {},
   "outputs": [
    {
     "data": {
      "text/plain": [
       "tensor([0.2338, 0.4716, 0.9973, 0.1806, 0.0372, 0.6263, 0.0015, 0.9098, 0.0307,\n",
       "        0.0440, 0.5503, 0.1143, 0.7098, 0.4371, 0.7023, 0.3294, 0.9951, 0.3304,\n",
       "        0.8722, 0.2646, 0.0436, 0.5750, 0.3257, 0.1552, 0.8962, 0.3833, 0.0840,\n",
       "        0.1166, 0.5129, 0.4156, 0.1534, 0.2881, 0.0096, 0.1479, 0.3718, 0.7743,\n",
       "        0.3322, 0.5688, 0.9986, 0.3847, 0.3935, 0.8293, 0.1327, 0.9764, 0.6812,\n",
       "        0.9961, 0.1019, 0.5391, 0.8643, 0.1176, 0.0467, 0.3412, 0.1295, 0.3429,\n",
       "        0.5670, 0.6424, 0.4238, 0.5541, 0.0488, 0.3970, 0.2068, 0.1419, 0.2924,\n",
       "        0.6653, 0.4385, 0.4902, 0.3584, 0.2352, 0.8798, 0.1699, 0.1026, 0.7243,\n",
       "        0.4321, 0.7122, 0.0346, 0.2383, 0.1337, 0.0318, 0.8480, 0.8260, 0.3750,\n",
       "        0.9537, 0.5772, 0.1413, 0.7888, 0.5703, 0.1443, 0.0242, 0.6922, 0.5418,\n",
       "        0.9771, 0.6090, 0.6388, 0.1911, 0.9264, 0.6701, 0.9973, 0.4120, 0.4305,\n",
       "        0.7686])"
      ]
     },
     "execution_count": 5,
     "metadata": {},
     "output_type": "execute_result"
    }
   ],
   "source": [
    "torch.rand(100)"
   ]
  },
  {
   "cell_type": "code",
   "execution_count": null,
   "metadata": {},
   "outputs": [],
   "source": []
  }
 ],
 "metadata": {
  "kernelspec": {
   "display_name": "Python 3",
   "language": "python",
   "name": "python3"
  },
  "language_info": {
   "codemirror_mode": {
    "name": "ipython",
    "version": 3
   },
   "file_extension": ".py",
   "mimetype": "text/x-python",
   "name": "python",
   "nbconvert_exporter": "python",
   "pygments_lexer": "ipython3",
   "version": "3.9.6"
  },
  "orig_nbformat": 4
 },
 "nbformat": 4,
 "nbformat_minor": 2
}
