{
 "cells": [
  {
   "cell_type": "code",
   "execution_count": 2,
   "metadata": {},
   "outputs": [],
   "source": [
    "import torch\n",
    "import torch.nn as nn\n",
    "import torch.nn.functional as F\n"
   ]
  },
  {
   "cell_type": "code",
   "execution_count": 9,
   "metadata": {},
   "outputs": [],
   "source": [
    "q = torch.zeros(2,3,1)\n",
    "k = torch.zeros(2,3,1)"
   ]
  },
  {
   "cell_type": "code",
   "execution_count": 10,
   "metadata": {},
   "outputs": [
    {
     "name": "stdout",
     "output_type": "stream",
     "text": [
      "torch.Size([2, 3, 3])\n",
      "tensor([[[0., 0., 0.],\n",
      "         [0., 0., 0.],\n",
      "         [0., 0., 0.]],\n",
      "\n",
      "        [[0., 0., 0.],\n",
      "         [0., 0., 0.],\n",
      "         [0., 0., 0.]]])\n",
      "tensor([[1., -inf, -inf],\n",
      "        [1., 1., -inf],\n",
      "        [1., 1., 1.]])\n",
      "torch.Size([2, 3, 3])\n",
      "tensor([[[0., nan, nan],\n",
      "         [0., 0., nan],\n",
      "         [0., 0., 0.]],\n",
      "\n",
      "        [[0., nan, nan],\n",
      "         [0., 0., nan],\n",
      "         [0., 0., 0.]]])\n"
     ]
    }
   ],
   "source": [
    "attn = (k@torch.transpose(q,1,2))\n",
    "\n",
    "lower_triangular_matrix = torch.tensor([[1 if i<=j else -torch.inf for i in range(3)] for j in range(3)]).float()\n",
    "\n",
    "print(attn.shape)\n",
    "print(attn)\n",
    "print(lower_triangular_matrix)\n",
    "\n",
    "attn = attn*lower_triangular_matrix\n",
    "\n",
    "print(attn.shape)\n",
    "print(attn)\n"
   ]
  },
  {
   "cell_type": "code",
   "execution_count": 182,
   "metadata": {},
   "outputs": [
    {
     "data": {
      "text/plain": [
       "tensor([[[0.1429, 0.0000, 0.0000, 0.0000, 0.0000, 0.0000, 0.0000],\n",
       "         [0.1429, 0.1667, 0.0000, 0.0000, 0.0000, 0.0000, 0.0000],\n",
       "         [0.1429, 0.1667, 0.2000, 0.0000, 0.0000, 0.0000, 0.0000],\n",
       "         [0.1429, 0.1667, 0.2000, 0.2500, 0.0000, 0.0000, 0.0000],\n",
       "         [0.1429, 0.1667, 0.2000, 0.2500, 0.3333, 0.0000, 0.0000],\n",
       "         [0.1429, 0.1667, 0.2000, 0.2500, 0.3333, 0.5000, 0.0000],\n",
       "         [0.1429, 0.1667, 0.2000, 0.2500, 0.3333, 0.5000, 1.0000]],\n",
       "\n",
       "        [[0.1429, 0.0000, 0.0000, 0.0000, 0.0000, 0.0000, 0.0000],\n",
       "         [0.1429, 0.1667, 0.0000, 0.0000, 0.0000, 0.0000, 0.0000],\n",
       "         [0.1429, 0.1667, 0.2000, 0.0000, 0.0000, 0.0000, 0.0000],\n",
       "         [0.1429, 0.1667, 0.2000, 0.2500, 0.0000, 0.0000, 0.0000],\n",
       "         [0.1429, 0.1667, 0.2000, 0.2500, 0.3333, 0.0000, 0.0000],\n",
       "         [0.1429, 0.1667, 0.2000, 0.2500, 0.3333, 0.5000, 0.0000],\n",
       "         [0.1429, 0.1667, 0.2000, 0.2500, 0.3333, 0.5000, 1.0000]],\n",
       "\n",
       "        [[0.1429, 0.0000, 0.0000, 0.0000, 0.0000, 0.0000, 0.0000],\n",
       "         [0.1429, 0.1667, 0.0000, 0.0000, 0.0000, 0.0000, 0.0000],\n",
       "         [0.1429, 0.1667, 0.2000, 0.0000, 0.0000, 0.0000, 0.0000],\n",
       "         [0.1429, 0.1667, 0.2000, 0.2500, 0.0000, 0.0000, 0.0000],\n",
       "         [0.1429, 0.1667, 0.2000, 0.2500, 0.3333, 0.0000, 0.0000],\n",
       "         [0.1429, 0.1667, 0.2000, 0.2500, 0.3333, 0.5000, 0.0000],\n",
       "         [0.1429, 0.1667, 0.2000, 0.2500, 0.3333, 0.5000, 1.0000]],\n",
       "\n",
       "        [[0.1429, 0.0000, 0.0000, 0.0000, 0.0000, 0.0000, 0.0000],\n",
       "         [0.1429, 0.1667, 0.0000, 0.0000, 0.0000, 0.0000, 0.0000],\n",
       "         [0.1429, 0.1667, 0.2000, 0.0000, 0.0000, 0.0000, 0.0000],\n",
       "         [0.1429, 0.1667, 0.2000, 0.2500, 0.0000, 0.0000, 0.0000],\n",
       "         [0.1429, 0.1667, 0.2000, 0.2500, 0.3333, 0.0000, 0.0000],\n",
       "         [0.1429, 0.1667, 0.2000, 0.2500, 0.3333, 0.5000, 0.0000],\n",
       "         [0.1429, 0.1667, 0.2000, 0.2500, 0.3333, 0.5000, 1.0000]],\n",
       "\n",
       "        [[0.1429, 0.0000, 0.0000, 0.0000, 0.0000, 0.0000, 0.0000],\n",
       "         [0.1429, 0.1667, 0.0000, 0.0000, 0.0000, 0.0000, 0.0000],\n",
       "         [0.1429, 0.1667, 0.2000, 0.0000, 0.0000, 0.0000, 0.0000],\n",
       "         [0.1429, 0.1667, 0.2000, 0.2500, 0.0000, 0.0000, 0.0000],\n",
       "         [0.1429, 0.1667, 0.2000, 0.2500, 0.3333, 0.0000, 0.0000],\n",
       "         [0.1429, 0.1667, 0.2000, 0.2500, 0.3333, 0.5000, 0.0000],\n",
       "         [0.1429, 0.1667, 0.2000, 0.2500, 0.3333, 0.5000, 1.0000]]])"
      ]
     },
     "execution_count": 182,
     "metadata": {},
     "output_type": "execute_result"
    }
   ],
   "source": [
    "torch.softmax(attn,1)"
   ]
  },
  {
   "cell_type": "code",
   "execution_count": 187,
   "metadata": {},
   "outputs": [
    {
     "data": {
      "text/plain": [
       "tensor([[[ 2.2521,    -inf,    -inf,    -inf,    -inf,     inf,     inf],\n",
       "         [-0.6106,  0.5693,     inf,     inf,     inf,    -inf,    -inf],\n",
       "         [-0.8011,  0.7469,  0.6339,     inf,     inf,    -inf,    -inf],\n",
       "         [ 0.5171, -0.4821, -0.4092, -0.5254,    -inf,     inf,     inf],\n",
       "         [ 0.7316, -0.6821, -0.5790, -0.7434, -0.6784,     inf,     inf],\n",
       "         [-0.0924,  0.0861,  0.0731,  0.0938,  0.0856, -0.0255,    -inf],\n",
       "         [-0.4257,  0.3969,  0.3369,  0.4325,  0.3947, -0.1176, -0.5969]],\n",
       "\n",
       "        [[-1.7433,     inf,     inf,     inf,    -inf,    -inf,     inf],\n",
       "         [-3.8335,  1.5204,     inf,     inf,    -inf,    -inf,     inf],\n",
       "         [-2.1481,  0.8520,  0.6351,     inf,    -inf,    -inf,     inf],\n",
       "         [ 3.4739, -1.3778, -1.0270, -1.0925,     inf,     inf,    -inf],\n",
       "         [-4.3181,  1.7126,  1.2766,  1.3580, -1.1250,    -inf,     inf],\n",
       "         [ 1.0926, -0.4333, -0.3230, -0.3436,  0.2847,  0.1740,    -inf],\n",
       "         [-2.1320,  0.8456,  0.6303,  0.6705, -0.5555, -0.3395,  0.0921]]])"
      ]
     },
     "execution_count": 187,
     "metadata": {},
     "output_type": "execute_result"
    }
   ],
   "source": []
  },
  {
   "cell_type": "code",
   "execution_count": 181,
   "metadata": {},
   "outputs": [
    {
     "data": {
      "text/plain": [
       "torch.Size([5, 7, 7])"
      ]
     },
     "execution_count": 181,
     "metadata": {},
     "output_type": "execute_result"
    }
   ],
   "source": [
    "attn.shape"
   ]
  },
  {
   "cell_type": "code",
   "execution_count": 37,
   "metadata": {},
   "outputs": [],
   "source": [
    "X = full_data[:3,:-1]\n",
    "Y =  full_data[:3,1:]"
   ]
  },
  {
   "cell_type": "code",
   "execution_count": 38,
   "metadata": {},
   "outputs": [
    {
     "data": {
      "text/plain": [
       "(tensor([[18, 47, 56, 57, 58,  1, 15],\n",
       "         [58, 47, 64, 43, 52, 10,  0],\n",
       "         [43, 44, 53, 56, 43,  1, 61]]),\n",
       " tensor([[47, 56, 57, 58,  1, 15, 47],\n",
       "         [47, 64, 43, 52, 10,  0, 14],\n",
       "         [44, 53, 56, 43,  1, 61, 43]]))"
      ]
     },
     "execution_count": 38,
     "metadata": {},
     "output_type": "execute_result"
    }
   ],
   "source": [
    "X,Y"
   ]
  },
  {
   "cell_type": "code",
   "execution_count": 157,
   "metadata": {},
   "outputs": [],
   "source": [
    "a = torch.rand(5)"
   ]
  },
  {
   "cell_type": "code",
   "execution_count": 158,
   "metadata": {},
   "outputs": [
    {
     "data": {
      "text/plain": [
       "tensor([0.2809, 0.6480, 0.3954, 0.8794, 0.7522])"
      ]
     },
     "execution_count": 158,
     "metadata": {},
     "output_type": "execute_result"
    }
   ],
   "source": [
    "a"
   ]
  },
  {
   "cell_type": "code",
   "execution_count": 160,
   "metadata": {},
   "outputs": [
    {
     "data": {
      "text/plain": [
       "tensor([0.1404, 0.3240, 0.1977, 0.4397, 0.3761])"
      ]
     },
     "execution_count": 160,
     "metadata": {},
     "output_type": "execute_result"
    }
   ],
   "source": [
    "a/2"
   ]
  },
  {
   "cell_type": "code",
   "execution_count": 3,
   "metadata": {},
   "outputs": [
    {
     "data": {
      "text/plain": [
       "nan"
      ]
     },
     "execution_count": 3,
     "metadata": {},
     "output_type": "execute_result"
    }
   ],
   "source": []
  },
  {
   "cell_type": "code",
   "execution_count": 12,
   "metadata": {},
   "outputs": [],
   "source": [
    "attention = torch.rand(5,5)"
   ]
  },
  {
   "cell_type": "code",
   "execution_count": 13,
   "metadata": {},
   "outputs": [
    {
     "data": {
      "text/plain": [
       "tensor([[0.6556, 0.7176, 0.8227, 0.9819, 0.7202],\n",
       "        [0.3018, 0.1666, 0.5159, 0.9944, 0.4530],\n",
       "        [0.3954, 0.2255, 0.2482, 0.5193, 0.8585],\n",
       "        [0.4330, 0.5895, 0.7918, 0.5467, 0.3158],\n",
       "        [0.0629, 0.3269, 0.1795, 0.3606, 0.6414]])"
      ]
     },
     "execution_count": 13,
     "metadata": {},
     "output_type": "execute_result"
    }
   ],
   "source": [
    "attention"
   ]
  },
  {
   "cell_type": "code",
   "execution_count": 14,
   "metadata": {},
   "outputs": [],
   "source": [
    "attention = torch.tril(attention, out = )"
   ]
  },
  {
   "cell_type": "code",
   "execution_count": 15,
   "metadata": {},
   "outputs": [
    {
     "data": {
      "text/plain": [
       "tensor([[0.6556, 0.0000, 0.0000, 0.0000, 0.0000],\n",
       "        [0.3018, 0.1666, 0.0000, 0.0000, 0.0000],\n",
       "        [0.3954, 0.2255, 0.2482, 0.0000, 0.0000],\n",
       "        [0.4330, 0.5895, 0.7918, 0.5467, 0.0000],\n",
       "        [0.0629, 0.3269, 0.1795, 0.3606, 0.6414]])"
      ]
     },
     "execution_count": 15,
     "metadata": {},
     "output_type": "execute_result"
    }
   ],
   "source": [
    "attention"
   ]
  },
  {
   "cell_type": "code",
   "execution_count": 16,
   "metadata": {},
   "outputs": [
    {
     "data": {
      "text/plain": [
       "tensor([[0.3250, 0.1687, 0.1687, 0.1687, 0.1687],\n",
       "        [0.2444, 0.2135, 0.1807, 0.1807, 0.1807],\n",
       "        [0.2467, 0.2081, 0.2129, 0.1661, 0.1661],\n",
       "        [0.1862, 0.2178, 0.2666, 0.2086, 0.1208],\n",
       "        [0.1525, 0.1986, 0.1714, 0.2054, 0.2720]])"
      ]
     },
     "execution_count": 16,
     "metadata": {},
     "output_type": "execute_result"
    }
   ],
   "source": [
    "torch.softmax(attention, 1)"
   ]
  },
  {
   "cell_type": "code",
   "execution_count": null,
   "metadata": {},
   "outputs": [],
   "source": []
  }
 ],
 "metadata": {
  "kernelspec": {
   "display_name": "Python 3",
   "language": "python",
   "name": "python3"
  },
  "language_info": {
   "codemirror_mode": {
    "name": "ipython",
    "version": 3
   },
   "file_extension": ".py",
   "mimetype": "text/x-python",
   "name": "python",
   "nbconvert_exporter": "python",
   "pygments_lexer": "ipython3",
   "version": "3.9.6"
  },
  "orig_nbformat": 4
 },
 "nbformat": 4,
 "nbformat_minor": 2
}
