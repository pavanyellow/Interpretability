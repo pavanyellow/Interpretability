{
 "cells": [
  {
   "cell_type": "code",
   "execution_count": 93,
   "metadata": {},
   "outputs": [
    {
     "name": "stdout",
     "output_type": "stream",
     "text": [
      "iter:5000 training loss: 0.00452799117192626, val loss: 0.004722251556813717\n",
      "iter:10000 training loss: 0.0028974986635148525, val loss: 0.002946884138509631\n",
      "iter:15000 training loss: 0.002563685178756714, val loss: 0.002641058061271906\n",
      "iter:20000 training loss: 0.002465737285092473, val loss: 0.0025206655263900757\n",
      "iter:25000 training loss: 0.0024363361299037933, val loss: 0.0025020602624863386\n",
      "iter:30000 training loss: 0.0024126155767589808, val loss: 0.0024805618450045586\n",
      "iter:35000 training loss: 0.002397022442892194, val loss: 0.002455195877701044\n",
      "iter:40000 training loss: 0.002392127411440015, val loss: 0.002452793065458536\n",
      "iter:45000 training loss: 0.0023845452815294266, val loss: 0.002453663619235158\n",
      "iter:50000 training loss: 0.0023784744553267956, val loss: 0.002450673608109355\n",
      "iter:55000 training loss: 0.0023849846329540014, val loss: 0.0024389110039919615\n",
      "iter:60000 training loss: 0.002361478516831994, val loss: 0.002447177190333605\n",
      "iter:65000 training loss: 0.002369802910834551, val loss: 0.002421056618914008\n",
      "iter:70000 training loss: 0.0023653926327824593, val loss: 0.00242226361297071\n",
      "iter:75000 training loss: 0.00235285353846848, val loss: 0.0024422199930995703\n",
      "iter:80000 training loss: 0.002371526788920164, val loss: 0.00243721017614007\n",
      "iter:85000 training loss: 0.0023563685826957226, val loss: 0.002432756358757615\n",
      "iter:90000 training loss: 0.002352953888475895, val loss: 0.0024250089190900326\n",
      "iter:95000 training loss: 0.002360142767429352, val loss: 0.0024044285528361797\n",
      "Took 22.527539014816284s for 100000 epochs\n"
     ]
    },
    {
     "data": {
      "image/png": "[encoded data removed]",
      "text/plain": [
       "<Figure size 640x480 with 1 Axes>"
      ]
     },
     "metadata": {},
     "output_type": "display_data"
    }
   ],
   "source": [
    "import torch\n",
    "import torch.nn as nn\n",
    "import torch.nn.functional as F\n",
    "import random\n",
    "import matplotlib.pyplot as plt\n",
    "import time\n",
    "import numpy as np\n",
    "import plotly.express as px\n",
    "\n",
    "\n",
    "def visualise_tensor(data):\n",
    "    data = data.detach().numpy()\n",
    "\n",
    "    ## Create colormap (red to blue)\n",
    "    colormap = 'RdBu_r'\n",
    "    # Plot the matrix\n",
    "    fig = px.imshow(data, color_continuous_scale=colormap, zmin=-1, zmax=1, )\n",
    "    fig.show()\n",
    "    fig.data = ()\n",
    "\n",
    "input_size = 20\n",
    "hidden_layer_size= 5\n",
    "output_size = input_size\n",
    "learning_rate = 0.1\n",
    "max_iters = 100000\n",
    "dataset_size = 1024\n",
    "sparsity = 0.99 # appears only one in 100 times\n",
    "batch_size = 32\n",
    "\n",
    "decay_factor = 0.95\n",
    "iters = []\n",
    "loss_value = []\n",
    "val_loss_value = []\n",
    "\n",
    "imp_vector =torch.tensor([0.7**i for i in range(input_size)])\n",
    "\n",
    "\n",
    "def get_l1_penalty():\n",
    "    l1_penalty = 0\n",
    "    for param in model.parameters():\n",
    "        if param.requires_grad:\n",
    "            l1_penalty += torch.norm(param, p=1)\n",
    "    return l1_penalty\n",
    "\n",
    "def sample_data():\n",
    "    # TODO Implement mini batch\n",
    "    a,b = training_dataset.shape\n",
    "    sparsity_mat = torch.bernoulli(torch.full((a,b), sparsity))\n",
    "    X = training_dataset*sparsity_mat\n",
    "    return X, X\n",
    "\n",
    "def sample_validation_data():\n",
    "    a,b = validation_dataset.shape\n",
    "    sparsity_mat = torch.bernoulli(torch.full((a,b), sparsity))\n",
    "    X = validation_dataset*sparsity_mat\n",
    "    return X, X\n",
    "\n",
    "\n",
    "def get_loss(target, output):\n",
    "    loss = (imp_vector*((target-output)**2)).mean()\n",
    "    return loss\n",
    "\n",
    "\n",
    "class Model(nn.Module):\n",
    "    def __init__(self):\n",
    "        super().__init__()\n",
    "        self.layer1 = nn.Linear(input_size, hidden_layer_size, bias= False)\n",
    "        self.layer2 = nn.Linear(hidden_layer_size, output_size)\n",
    "        self.relu = nn.ReLU()\n",
    "    \n",
    "    def forward(self, input, targets = None):\n",
    "         # Input is (B,I)\n",
    "\n",
    "        logits = self.layer1(input) # (B, dim)\n",
    "        \n",
    "        #logits = self.layer2(logits)\n",
    "        layer_1_weight = self.layer1.weight.data # (dim, I)\n",
    "        logits = logits @ layer_1_weight # (B, dim) * (dim, I) -> (B,I)\n",
    "        logits += self.layer2.bias\n",
    "\n",
    "        #logits = self.relu(logits)\n",
    "        if targets is None:\n",
    "            return logits\n",
    "        else:\n",
    "            loss = get_loss(targets, logits)\n",
    "            return logits, loss\n",
    "\n",
    "training_dataset = torch.rand(dataset_size, input_size)\n",
    "validation_dataset = torch.rand(int(dataset_size/2), input_size)\n",
    "output = input\n",
    "\n",
    "\n",
    "model = Model()\n",
    "\n",
    "\n",
    "optimizer = torch.optim.SGD(model.parameters() , learning_rate)\n",
    "start_time = time.time()\n",
    "step_value = max_iters/20\n",
    "for i in range(1, max_iters):\n",
    "    X, Y = sample_data()\n",
    "    logits, loss = model(X, Y)\n",
    "   \n",
    "    if i%step_value ==0 :\n",
    "        model.eval()\n",
    "        with torch.no_grad():\n",
    "            X_V,Y_V = sample_validation_data()\n",
    "            _, val_loss = model(X_V, Y_V)\n",
    "            iters.append(i)\n",
    "            loss_value.append(loss.item())\n",
    "            val_loss_value.append(val_loss.item())\n",
    "            print(f\"iter:{i} training loss: {loss.item()}, val loss: {val_loss.item()}\")\n",
    "        model.train()\n",
    "\n",
    "    optimizer.zero_grad(set_to_none=True)\n",
    "    # loss+= get_l1_penalty()\n",
    "    loss.backward()\n",
    "    optimizer.step()\n",
    "\n",
    "\n",
    "end_time = time.time()\n",
    "print(f\"Took {end_time-start_time}s for {max_iters} epochs\")\n",
    "\n",
    "plt.xlabel(\"Epochs\")\n",
    "plt.ylabel(\"Loss\")\n",
    "plt.plot(iters,loss_value, color='blue', label=\"Training\")\n",
    "plt.plot(iters, val_loss_value, \"red\", label = \"validation\")\n",
    "plt.legend()\n",
    "plt.show()\n",
    "\n",
    "\n"
   ]
  },
  {
   "cell_type": "code",
   "execution_count": 94,
   "metadata": {},
   "outputs": [
    {
     "data": {
      "application/vnd.plotly.v1+json": {
       "config": {
        "plotlyServerURL": "https://plot.ly"
       },
       "data": [
        {
         "coloraxis": "coloraxis",
         "hovertemplate": "x: %{x}<br>y: %{y}<br>color: %{z}<extra></extra>",
         "name": "0",
         "type": "heatmap",
         "xaxis": "x",
         "yaxis": "y",
         "z": [
          [
           0.9999906420707703,
           -0.000004916736997984117,
           0.00001056622204487212,
           0.00006883669993840158,
           -0.00022867754159960896,
           0.000005814765245304443,
           -8.93137496404961e-7,
           0.000002084189645756851,
           0.00000984133112069685,
           0.000004028385319543304,
           -0.000006079115337342955,
           0.000002292594444952556,
           -0.0000101298619483714,
           -0.000009418899935553782,
           -0.000009013948329084087,
           0.00000368042469744978,
           -5.070645556770614e-7,
           -0.0000020083300569240237,
           -1.0057126687001983e-8,
           0.0000018652262951945886
          ],
          [
           -0.000004916736997984117,
           1.0000303983688354,
           0.00002631889765325468,
           0.00010600375389913097,
           -0.0002960921556223184,
           0.000008783955308899749,
           1.344565987437818e-7,
           0.0000061002542679489125,
           0.000012052963029418606,
           0.000010643511814123485,
           -0.000008033209269342478,
           0.0000020997115370846586,
           -0.000014865975572320167,
           -0.000012365938346192706,
           -0.000011660607924568467,
           0.000005631630301650148,
           4.69403801162116e-7,
           -0.0000035451535040920135,
           4.5782221036461124e-7,
           0.000004805049684364349
          ],
          [
           0.00001056622204487212,
           0.00002631889765325468,
           0.9999850392341614,
           0.00011175200052093714,
           -0.00026144160074181855,
           0.00008951142081059515,
           0.00007429536344716325,
           0.00007621352415299043,
           0.00005597810377366841,
           0.0000679979202686809,
           0.000036573459510691464,
           0.0000379867160518188,
           0.000024891725843190216,
           0.000040133298170985654,
           0.00003938611553166993,
           0.000047599336539860815,
           0.00004483605152927339,
           0.00004310181611799635,
           0.00006516990106320009,
           0.00005347854312276468
          ],
          [
           0.00006883669993840158,
           0.00010600375389913097,
           0.00011175200052093714,
           1.0002706050872803,
           -0.0003107388038188219,
           0.0006381611456163228,
           0.0004973722388967872,
           0.000439357798313722,
           0.0002720323100220412,
           0.0003856550611089915,
           0.00023928411246743053,
           0.00021128728985786438,
           0.00019007340597454458,
           0.0002739275514613837,
           0.0002496537344995886,
           0.0002343913947697729,
           0.00024405730073340237,
           0.0002595605328679085,
           0.0003539038298185915,
           0.0002871941542252898
          ],
          [
           -0.00022867754159960896,
           -0.0002960921556223184,
           -0.00026144160074181855,
           -0.0003107388038188219,
           0.9989473819732666,
           -0.004963844548910856,
           -0.00273061147890985,
           -0.002035146811977029,
           -0.0010597810614854097,
           -0.001538701355457306,
           -0.001036347122862935,
           -0.000855985505040735,
           -0.0008860129746608436,
           -0.0012107465881854296,
           -0.001095909858122468,
           -0.0008859667577780783,
           -0.0009537251316942275,
           -0.0010375921847298741,
           -0.001383367576636374,
           -0.0011042449623346329
          ],
          [
           0.000005814765245304443,
           0.000008783955308899749,
           0.00008951142081059515,
           0.0006381611456163228,
           -0.004963844548910856,
           0.00002507873432477936,
           0.000013891091839468572,
           0.000010398734957561828,
           0.000005444091584649868,
           0.000007897110663179774,
           0.000005304879778122995,
           0.0000043911086322623305,
           0.0000045254751057655085,
           0.00000619376078248024,
           0.000005607646016869694,
           0.000004555664418148808,
           0.000004898197403235827,
           0.000005324598532752134,
           0.000007104731139406795,
           0.000005674366093444405
          ],
          [
           -8.93137496404961e-7,
           1.344565987437818e-7,
           0.00007429536344716325,
           0.0004973722388967872,
           -0.00273061147890985,
           0.000013891091839468572,
           0.000007715973879385274,
           0.000005786384008388268,
           0.00000303583965433063,
           0.000004402173999551451,
           0.0000029541438379965257,
           0.0000024473454232065706,
           0.0000025179590465995716,
           0.0000034483000490581617,
           0.0000031223091809806647,
           0.0000025414642550458666,
           0.0000027312742076901486,
           0.000002968082526422222,
           0.000003961642960348399,
           0.0000031647332434658892
          ],
          [
           0.000002084189645756851,
           0.0000061002542679489125,
           0.00007621352415299043,
           0.000439357798313722,
           -0.002035146811977029,
           0.000010398734957561828,
           0.000005786384008388268,
           0.000004344366971054114,
           0.0000022825427095085615,
           0.0000033088938380387845,
           0.0000022188389721122803,
           0.0000018393145637674024,
           0.000001890077783173183,
           0.000002589549012554926,
           0.0000023449126729246927,
           0.0000019112721929559484,
           0.0000020533007045742124,
           0.0000022307933704723837,
           0.000002978256588903605,
           0.000002379530315010925
          ],
          [
           0.00000984133112069685,
           0.000012052963029418606,
           0.00005597810377366841,
           0.0002720323100220412,
           -0.0010597810614854097,
           0.000005444091584649868,
           0.00000303583965433063,
           0.0000022825427095085615,
           0.0000012014497769996524,
           0.0000017409444126315066,
           0.0000011662281167446054,
           9.67574806054472e-7,
           9.926189932230045e-7,
           0.0000013607555047201458,
           0.0000012323145028858562,
           0.000001006244019663427,
           0.0000010804927796925767,
           0.0000011735114640032407,
           0.000001567227741361421,
           0.0000012524345720521524
          ],
          [
           0.000004028385319543304,
           0.000010643511814123485,
           0.0000679979202686809,
           0.0003856550611089915,
           -0.001538701355457306,
           0.000007897110663179774,
           0.000004402173999551451,
           0.0000033088938380387845,
           0.0000017409444126315066,
           0.000002523096782169887,
           0.000001690668796072714,
           0.0000014023275980434846,
           0.0000014393048104466288,
           0.0000019728001916519133,
           0.0000017865418158180546,
           0.000001458091105632775,
           0.000001565918864798732,
           0.0000017008957229336374,
           0.000002271319317515008,
           0.0000018149935385736171
          ],
          [
           -0.000006079115337342955,
           -0.000008033209269342478,
           0.000036573459510691464,
           0.00023928411246743053,
           -0.001036347122862935,
           0.000005304879778122995,
           0.0000029541438379965257,
           0.0000022188389721122803,
           0.0000011662281167446054,
           0.000001690668796072714,
           0.000001133660248342494,
           9.397856501891511e-7,
           9.656126849222346e-7,
           0.0000013230380773165962,
           0.0000011980763474639389,
           9.76716819423018e-7,
           0.0000010492851743038045,
           0.000001139969299401855,
           0.000001521955027783406,
           0.00000121599566682562
          ],
          [
           0.000002292594444952556,
           0.0000020997115370846586,
           0.0000379867160518188,
           0.00021128728985786438,
           -0.000855985505040735,
           0.0000043911086322623305,
           0.0000024473454232065706,
           0.0000018393145637674024,
           9.67574806054472e-7,
           0.0000014023275980434846,
           9.397856501891511e-7,
           7.794329235366604e-7,
           8.001346145647403e-7,
           0.0000010966409718093928,
           9.93100684354431e-7,
           8.103673394543875e-7,
           8.703401590537396e-7,
           9.453930260860943e-7,
           0.000001262404111912474,
           0.0000010087462669616798
          ],
          [
           -0.0000101298619483714,
           -0.000014865975572320167,
           0.000024891725843190216,
           0.00019007340597454458,
           -0.0008860129746608436,
           0.0000045254751057655085,
           0.0000025179590465995716,
           0.000001890077783173183,
           9.926189932230045e-7,
           0.0000014393048104466288,
           9.656126849222346e-7,
           8.001346145647403e-7,
           8.228033152590797e-7,
           0.0000011270470849922276,
           0.0000010205603757640347,
           8.312775889862678e-7,
           8.932590844779043e-7,
           9.706151331556612e-7,
           0.0000012956429600308184,
           0.0000010350611319154268
          ],
          [
           -0.000009418899935553782,
           -0.000012365938346192706,
           0.000040133298170985654,
           0.0002739275514613837,
           -0.0012107465881854296,
           0.00000619376078248024,
           0.0000034483000490581617,
           0.000002589549012554926,
           0.0000013607555047201458,
           0.0000019728001916519133,
           0.0000013230380773165962,
           0.0000010966409718093928,
           0.0000011270470849922276,
           0.0000015441020195794408,
           0.0000013982465816297918,
           0.000001139618575507484,
           0.0000012243772289366461,
           0.000001330255031462002,
           0.0000017759195998223731,
           0.0000014188593695507734
          ],
          [
           -0.000009013948329084087,
           -0.000011660607924568467,
           0.00003938611553166993,
           0.0002496537344995886,
           -0.001095909858122468,
           0.000005607646016869694,
           0.0000031223091809806647,
           0.0000023449126729246927,
           0.0000012323145028858562,
           0.0000017865418158180546,
           0.0000011980763474639389,
           9.93100684354431e-7,
           0.0000010205603757640347,
           0.0000013982465816297918,
           0.0000012661811297220993,
           0.000001032068439599243,
           0.0000011088002338510705,
           0.000001204659383802209,
           0.0000016082791489679948,
           0.0000012849329777964158
          ],
          [
           0.00000368042469744978,
           0.000005631630301650148,
           0.000047599336539860815,
           0.0002343913947697729,
           -0.0008859667577780783,
           0.000004555664418148808,
           0.0000025414642550458666,
           0.0000019112721929559484,
           0.000001006244019663427,
           0.000001458091105632775,
           9.76716819423018e-7,
           8.103673394543875e-7,
           8.312775889862678e-7,
           0.000001139618575507484,
           0.000001032068439599243,
           8.428413593719597e-7,
           9.050196467796923e-7,
           9.829137752603856e-7,
           0.000001312705649070267,
           0.0000010490390423001372
          ],
          [
           -5.070645556770614e-7,
           4.69403801162116e-7,
           0.00004483605152927339,
           0.00024405730073340237,
           -0.0009537251316942275,
           0.000004898197403235827,
           0.0000027312742076901486,
           0.0000020533007045742124,
           0.0000010804927796925767,
           0.000001565918864798732,
           0.0000010492851743038045,
           8.703401590537396e-7,
           8.932590844779043e-7,
           0.0000012243772289366461,
           0.0000011088002338510705,
           9.050196467796923e-7,
           9.719393574414426e-7,
           0.0000010557035921010538,
           0.000001409768515259202,
           0.0000011265279908911907
          ],
          [
           -0.0000020083300569240237,
           -0.0000035451535040920135,
           0.00004310181611799635,
           0.0002595605328679085,
           -0.0010375921847298741,
           0.000005324598532752134,
           0.000002968082526422222,
           0.0000022307933704723837,
           0.0000011735114640032407,
           0.0000017008957229336374,
           0.000001139969299401855,
           9.453930260860943e-7,
           9.706151331556612e-7,
           0.000001330255031462002,
           0.000001204659383802209,
           9.829137752603856e-7,
           0.0000010557035921010538,
           0.0000011467700460343622,
           0.0000015312656387322932,
           0.0000012235599342602654
          ],
          [
           -1.0057126687001983e-8,
           4.5782221036461124e-7,
           0.00006516990106320009,
           0.0003539038298185915,
           -0.001383367576636374,
           0.000007104731139406795,
           0.000003961642960348399,
           0.000002978256588903605,
           0.000001567227741361421,
           0.000002271319317515008,
           0.000001521955027783406,
           0.000001262404111912474,
           0.0000012956429600308184,
           0.0000017759195998223731,
           0.0000016082791489679948,
           0.000001312705649070267,
           0.000001409768515259202,
           0.0000015312656387322932,
           0.000002044827397185145,
           0.0000016339954527211376
          ],
          [
           0.0000018652262951945886,
           0.000004805049684364349,
           0.00005347854312276468,
           0.0002871941542252898,
           -0.0011042449623346329,
           0.000005674366093444405,
           0.0000031647332434658892,
           0.000002379530315010925,
           0.0000012524345720521524,
           0.0000018149935385736171,
           0.00000121599566682562,
           0.0000010087462669616798,
           0.0000010350611319154268,
           0.0000014188593695507734,
           0.0000012849329777964158,
           0.0000010490390423001372,
           0.0000011265279908911907,
           0.0000012235599342602654,
           0.0000016339954527211376,
           0.0000013057508567726472
          ]
         ]
        }
       ],
       "layout": {
        "coloraxis": {
         "cmax": 1,
         "cmin": -1,
         "colorscale": [
          [
           0,
           "rgb(5,48,97)"
          ],
          [
           0.1,
           "rgb(33,102,172)"
          ],
          [
           0.2,
           "rgb(67,147,195)"
          ],
          [
           0.3,
           "rgb(146,197,222)"
          ],
          [
           0.4,
           "rgb(209,229,240)"
          ],
          [
           0.5,
           "rgb(247,247,247)"
          ],
          [
           0.6,
           "rgb(253,219,199)"
          ],
          [
           0.7,
           "rgb(244,165,130)"
          ],
          [
           0.8,
           "rgb(214,96,77)"
          ],
          [
           0.9,
           "rgb(178,24,43)"
          ],
          [
           1,
           "rgb(103,0,31)"
          ]
         ]
        },
        "margin": {
         "t": 60
        },
        "template": {
         "data": {
          "bar": [
           {
            "error_x": {
             "color": "#2a3f5f"
            },
            "error_y": {
             "color": "#2a3f5f"
            },
            "marker": {
             "line": {
              "color": "#E5ECF6",
              "width": 0.5
             },
             "pattern": {
              "fillmode": "overlay",
              "size": 10,
              "solidity": 0.2
             }
            },
            "type": "bar"
           }
          ],
          "barpolar": [
           {
            "marker": {
             "line": {
              "color": "#E5ECF6",
              "width": 0.5
             },
             "pattern": {
              "fillmode": "overlay",
              "size": 10,
              "solidity": 0.2
             }
            },
            "type": "barpolar"
           }
          ],
          "carpet": [
           {
            "aaxis": {
             "endlinecolor": "#2a3f5f",
             "gridcolor": "white",
             "linecolor": "white",
             "minorgridcolor": "white",
             "startlinecolor": "#2a3f5f"
            },
            "baxis": {
             "endlinecolor": "#2a3f5f",
             "gridcolor": "white",
             "linecolor": "white",
             "minorgridcolor": "white",
             "startlinecolor": "#2a3f5f"
            },
            "type": "carpet"
           }
          ],
          "choropleth": [
           {
            "colorbar": {
             "outlinewidth": 0,
             "ticks": ""
            },
            "type": "choropleth"
           }
          ],
          "contour": [
           {
            "colorbar": {
             "outlinewidth": 0,
             "ticks": ""
            },
            "colorscale": [
             [
              0,
              "#0d0887"
             ],
             [
              0.1111111111111111,
              "#46039f"
             ],
             [
              0.2222222222222222,
              "#7201a8"
             ],
             [
              0.3333333333333333,
              "#9c179e"
             ],
             [
              0.4444444444444444,
              "#bd3786"
             ],
             [
              0.5555555555555556,
              "#d8576b"
             ],
             [
              0.6666666666666666,
              "#ed7953"
             ],
             [
              0.7777777777777778,
              "#fb9f3a"
             ],
             [
              0.8888888888888888,
              "#fdca26"
             ],
             [
              1,
              "#f0f921"
             ]
            ],
            "type": "contour"
           }
          ],
          "contourcarpet": [
           {
            "colorbar": {
             "outlinewidth": 0,
             "ticks": ""
            },
            "type": "contourcarpet"
           }
          ],
          "heatmap": [
           {
            "colorbar": {
             "outlinewidth": 0,
             "ticks": ""
            },
            "colorscale": [
             [
              0,
              "#0d0887"
             ],
             [
              0.1111111111111111,
              "#46039f"
             ],
             [
              0.2222222222222222,
              "#7201a8"
             ],
             [
              0.3333333333333333,
              "#9c179e"
             ],
             [
              0.4444444444444444,
              "#bd3786"
             ],
             [
              0.5555555555555556,
              "#d8576b"
             ],
             [
              0.6666666666666666,
              "#ed7953"
             ],
             [
              0.7777777777777778,
              "#fb9f3a"
             ],
             [
              0.8888888888888888,
              "#fdca26"
             ],
             [
              1,
              "#f0f921"
             ]
            ],
            "type": "heatmap"
           }
          ],
          "heatmapgl": [
           {
            "colorbar": {
             "outlinewidth": 0,
             "ticks": ""
            },
            "colorscale": [
             [
              0,
              "#0d0887"
             ],
             [
              0.1111111111111111,
              "#46039f"
             ],
             [
              0.2222222222222222,
              "#7201a8"
             ],
             [
              0.3333333333333333,
              "#9c179e"
             ],
             [
              0.4444444444444444,
              "#bd3786"
             ],
             [
              0.5555555555555556,
              "#d8576b"
             ],
             [
              0.6666666666666666,
              "#ed7953"
             ],
             [
              0.7777777777777778,
              "#fb9f3a"
             ],
             [
              0.8888888888888888,
              "#fdca26"
             ],
             [
              1,
              "#f0f921"
             ]
            ],
            "type": "heatmapgl"
           }
          ],
          "histogram": [
           {
            "marker": {
             "pattern": {
              "fillmode": "overlay",
              "size": 10,
              "solidity": 0.2
             }
            },
            "type": "histogram"
           }
          ],
          "histogram2d": [
           {
            "colorbar": {
             "outlinewidth": 0,
             "ticks": ""
            },
            "colorscale": [
             [
              0,
              "#0d0887"
             ],
             [
              0.1111111111111111,
              "#46039f"
             ],
             [
              0.2222222222222222,
              "#7201a8"
             ],
             [
              0.3333333333333333,
              "#9c179e"
             ],
             [
              0.4444444444444444,
              "#bd3786"
             ],
             [
              0.5555555555555556,
              "#d8576b"
             ],
             [
              0.6666666666666666,
              "#ed7953"
             ],
             [
              0.7777777777777778,
              "#fb9f3a"
             ],
             [
              0.8888888888888888,
              "#fdca26"
             ],
             [
              1,
              "#f0f921"
             ]
            ],
            "type": "histogram2d"
           }
          ],
          "histogram2dcontour": [
           {
            "colorbar": {
             "outlinewidth": 0,
             "ticks": ""
            },
            "colorscale": [
             [
              0,
              "#0d0887"
             ],
             [
              0.1111111111111111,
              "#46039f"
             ],
             [
              0.2222222222222222,
              "#7201a8"
             ],
             [
              0.3333333333333333,
              "#9c179e"
             ],
             [
              0.4444444444444444,
              "#bd3786"
             ],
             [
              0.5555555555555556,
              "#d8576b"
             ],
             [
              0.6666666666666666,
              "#ed7953"
             ],
             [
              0.7777777777777778,
              "#fb9f3a"
             ],
             [
              0.8888888888888888,
              "#fdca26"
             ],
             [
              1,
              "#f0f921"
             ]
            ],
            "type": "histogram2dcontour"
           }
          ],
          "mesh3d": [
           {
            "colorbar": {
             "outlinewidth": 0,
             "ticks": ""
            },
            "type": "mesh3d"
           }
          ],
          "parcoords": [
           {
            "line": {
             "colorbar": {
              "outlinewidth": 0,
              "ticks": ""
             }
            },
            "type": "parcoords"
           }
          ],
          "pie": [
           {
            "automargin": true,
            "type": "pie"
           }
          ],
          "scatter": [
           {
            "fillpattern": {
             "fillmode": "overlay",
             "size": 10,
             "solidity": 0.2
            },
            "type": "scatter"
           }
          ],
          "scatter3d": [
           {
            "line": {
             "colorbar": {
              "outlinewidth": 0,
              "ticks": ""
             }
            },
            "marker": {
             "colorbar": {
              "outlinewidth": 0,
              "ticks": ""
             }
            },
            "type": "scatter3d"
           }
          ],
          "scattercarpet": [
           {
            "marker": {
             "colorbar": {
              "outlinewidth": 0,
              "ticks": ""
             }
            },
            "type": "scattercarpet"
           }
          ],
          "scattergeo": [
           {
            "marker": {
             "colorbar": {
              "outlinewidth": 0,
              "ticks": ""
             }
            },
            "type": "scattergeo"
           }
          ],
          "scattergl": [
           {
            "marker": {
             "colorbar": {
              "outlinewidth": 0,
              "ticks": ""
             }
            },
            "type": "scattergl"
           }
          ],
          "scattermapbox": [
           {
            "marker": {
             "colorbar": {
              "outlinewidth": 0,
              "ticks": ""
             }
            },
            "type": "scattermapbox"
           }
          ],
          "scatterpolar": [
           {
            "marker": {
             "colorbar": {
              "outlinewidth": 0,
              "ticks": ""
             }
            },
            "type": "scatterpolar"
           }
          ],
          "scatterpolargl": [
           {
            "marker": {
             "colorbar": {
              "outlinewidth": 0,
              "ticks": ""
             }
            },
            "type": "scatterpolargl"
           }
          ],
          "scatterternary": [
           {
            "marker": {
             "colorbar": {
              "outlinewidth": 0,
              "ticks": ""
             }
            },
            "type": "scatterternary"
           }
          ],
          "surface": [
           {
            "colorbar": {
             "outlinewidth": 0,
             "ticks": ""
            },
            "colorscale": [
             [
              0,
              "#0d0887"
             ],
             [
              0.1111111111111111,
              "#46039f"
             ],
             [
              0.2222222222222222,
              "#7201a8"
             ],
             [
              0.3333333333333333,
              "#9c179e"
             ],
             [
              0.4444444444444444,
              "#bd3786"
             ],
             [
              0.5555555555555556,
              "#d8576b"
             ],
             [
              0.6666666666666666,
              "#ed7953"
             ],
             [
              0.7777777777777778,
              "#fb9f3a"
             ],
             [
              0.8888888888888888,
              "#fdca26"
             ],
             [
              1,
              "#f0f921"
             ]
            ],
            "type": "surface"
           }
          ],
          "table": [
           {
            "cells": {
             "fill": {
              "color": "#EBF0F8"
             },
             "line": {
              "color": "white"
             }
            },
            "header": {
             "fill": {
              "color": "#C8D4E3"
             },
             "line": {
              "color": "white"
             }
            },
            "type": "table"
           }
          ]
         },
         "layout": {
          "annotationdefaults": {
           "arrowcolor": "#2a3f5f",
           "arrowhead": 0,
           "arrowwidth": 1
          },
          "autotypenumbers": "strict",
          "coloraxis": {
           "colorbar": {
            "outlinewidth": 0,
            "ticks": ""
           }
          },
          "colorscale": {
           "diverging": [
            [
             0,
             "#8e0152"
            ],
            [
             0.1,
             "#c51b7d"
            ],
            [
             0.2,
             "#de77ae"
            ],
            [
             0.3,
             "#f1b6da"
            ],
            [
             0.4,
             "#fde0ef"
            ],
            [
             0.5,
             "#f7f7f7"
            ],
            [
             0.6,
             "#e6f5d0"
            ],
            [
             0.7,
             "#b8e186"
            ],
            [
             0.8,
             "#7fbc41"
            ],
            [
             0.9,
             "#4d9221"
            ],
            [
             1,
             "#276419"
            ]
           ],
           "sequential": [
            [
             0,
             "#0d0887"
            ],
            [
             0.1111111111111111,
             "#46039f"
            ],
            [
             0.2222222222222222,
             "#7201a8"
            ],
            [
             0.3333333333333333,
             "#9c179e"
            ],
            [
             0.4444444444444444,
             "#bd3786"
            ],
            [
             0.5555555555555556,
             "#d8576b"
            ],
            [
             0.6666666666666666,
             "#ed7953"
            ],
            [
             0.7777777777777778,
             "#fb9f3a"
            ],
            [
             0.8888888888888888,
             "#fdca26"
            ],
            [
             1,
             "#f0f921"
            ]
           ],
           "sequentialminus": [
            [
             0,
             "#0d0887"
            ],
            [
             0.1111111111111111,
             "#46039f"
            ],
            [
             0.2222222222222222,
             "#7201a8"
            ],
            [
             0.3333333333333333,
             "#9c179e"
            ],
            [
             0.4444444444444444,
             "#bd3786"
            ],
            [
             0.5555555555555556,
             "#d8576b"
            ],
            [
             0.6666666666666666,
             "#ed7953"
            ],
            [
             0.7777777777777778,
             "#fb9f3a"
            ],
            [
             0.8888888888888888,
             "#fdca26"
            ],
            [
             1,
             "#f0f921"
            ]
           ]
          },
          "colorway": [
           "#636efa",
           "#EF553B",
           "#00cc96",
           "#ab63fa",
           "#FFA15A",
           "#19d3f3",
           "#FF6692",
           "#B6E880",
           "#FF97FF",
           "#FECB52"
          ],
          "font": {
           "color": "#2a3f5f"
          },
          "geo": {
           "bgcolor": "white",
           "lakecolor": "white",
           "landcolor": "#E5ECF6",
           "showlakes": true,
           "showland": true,
           "subunitcolor": "white"
          },
          "hoverlabel": {
           "align": "left"
          },
          "hovermode": "closest",
          "mapbox": {
           "style": "light"
          },
          "paper_bgcolor": "white",
          "plot_bgcolor": "#E5ECF6",
          "polar": {
           "angularaxis": {
            "gridcolor": "white",
            "linecolor": "white",
            "ticks": ""
           },
           "bgcolor": "#E5ECF6",
           "radialaxis": {
            "gridcolor": "white",
            "linecolor": "white",
            "ticks": ""
           }
          },
          "scene": {
           "xaxis": {
            "backgroundcolor": "#E5ECF6",
            "gridcolor": "white",
            "gridwidth": 2,
            "linecolor": "white",
            "showbackground": true,
            "ticks": "",
            "zerolinecolor": "white"
           },
           "yaxis": {
            "backgroundcolor": "#E5ECF6",
            "gridcolor": "white",
            "gridwidth": 2,
            "linecolor": "white",
            "showbackground": true,
            "ticks": "",
            "zerolinecolor": "white"
           },
           "zaxis": {
            "backgroundcolor": "#E5ECF6",
            "gridcolor": "white",
            "gridwidth": 2,
            "linecolor": "white",
            "showbackground": true,
            "ticks": "",
            "zerolinecolor": "white"
           }
          },
          "shapedefaults": {
           "line": {
            "color": "#2a3f5f"
           }
          },
          "ternary": {
           "aaxis": {
            "gridcolor": "white",
            "linecolor": "white",
            "ticks": ""
           },
           "baxis": {
            "gridcolor": "white",
            "linecolor": "white",
            "ticks": ""
           },
           "bgcolor": "#E5ECF6",
           "caxis": {
            "gridcolor": "white",
            "linecolor": "white",
            "ticks": ""
           }
          },
          "title": {
           "x": 0.05
          },
          "xaxis": {
           "automargin": true,
           "gridcolor": "white",
           "linecolor": "white",
           "ticks": "",
           "title": {
            "standoff": 15
           },
           "zerolinecolor": "white",
           "zerolinewidth": 2
          },
          "yaxis": {
           "automargin": true,
           "gridcolor": "white",
           "linecolor": "white",
           "ticks": "",
           "title": {
            "standoff": 15
           },
           "zerolinecolor": "white",
           "zerolinewidth": 2
          }
         }
        },
        "xaxis": {
         "anchor": "y",
         "constrain": "domain",
         "domain": [
          0,
          1
         ],
         "scaleanchor": "y"
        },
        "yaxis": {
         "anchor": "x",
         "autorange": "reversed",
         "constrain": "domain",
         "domain": [
          0,
          1
         ]
        }
       }
      }
     },
     "metadata": {},
     "output_type": "display_data"
    },
    {
     "data": {
      "application/vnd.plotly.v1+json": {
       "config": {
        "plotlyServerURL": "https://plot.ly"
       },
       "data": [
        {
         "coloraxis": "coloraxis",
         "hovertemplate": "x: %{x}<br>y: %{y}<br>color: %{z}<extra></extra>",
         "name": "0",
         "type": "heatmap",
         "xaxis": "x",
         "yaxis": "y",
         "z": [
          [
           0.00008514156797900796,
           0.00006826382741564885,
           -0.0003382137219887227,
           -0.0025267479941248894,
           0.012520062737166882,
           0.5055040121078491,
           0.4897022843360901,
           0.49960893392562866,
           0.49093902111053467,
           0.508769154548645,
           0.4958978295326233,
           0.47732847929000854,
           0.5078839063644409,
           0.48334604501724243,
           0.48774442076683044,
           0.49870064854621887,
           0.47265276312828064,
           0.4653858542442322,
           0.46283984184265137,
           0.2030087560415268
          ]
         ]
        }
       ],
       "layout": {
        "coloraxis": {
         "cmax": 1,
         "cmin": -1,
         "colorscale": [
          [
           0,
           "rgb(5,48,97)"
          ],
          [
           0.1,
           "rgb(33,102,172)"
          ],
          [
           0.2,
           "rgb(67,147,195)"
          ],
          [
           0.3,
           "rgb(146,197,222)"
          ],
          [
           0.4,
           "rgb(209,229,240)"
          ],
          [
           0.5,
           "rgb(247,247,247)"
          ],
          [
           0.6,
           "rgb(253,219,199)"
          ],
          [
           0.7,
           "rgb(244,165,130)"
          ],
          [
           0.8,
           "rgb(214,96,77)"
          ],
          [
           0.9,
           "rgb(178,24,43)"
          ],
          [
           1,
           "rgb(103,0,31)"
          ]
         ]
        },
        "margin": {
         "t": 60
        },
        "template": {
         "data": {
          "bar": [
           {
            "error_x": {
             "color": "#2a3f5f"
            },
            "error_y": {
             "color": "#2a3f5f"
            },
            "marker": {
             "line": {
              "color": "#E5ECF6",
              "width": 0.5
             },
             "pattern": {
              "fillmode": "overlay",
              "size": 10,
              "solidity": 0.2
             }
            },
            "type": "bar"
           }
          ],
          "barpolar": [
           {
            "marker": {
             "line": {
              "color": "#E5ECF6",
              "width": 0.5
             },
             "pattern": {
              "fillmode": "overlay",
              "size": 10,
              "solidity": 0.2
             }
            },
            "type": "barpolar"
           }
          ],
          "carpet": [
           {
            "aaxis": {
             "endlinecolor": "#2a3f5f",
             "gridcolor": "white",
             "linecolor": "white",
             "minorgridcolor": "white",
             "startlinecolor": "#2a3f5f"
            },
            "baxis": {
             "endlinecolor": "#2a3f5f",
             "gridcolor": "white",
             "linecolor": "white",
             "minorgridcolor": "white",
             "startlinecolor": "#2a3f5f"
            },
            "type": "carpet"
           }
          ],
          "choropleth": [
           {
            "colorbar": {
             "outlinewidth": 0,
             "ticks": ""
            },
            "type": "choropleth"
           }
          ],
          "contour": [
           {
            "colorbar": {
             "outlinewidth": 0,
             "ticks": ""
            },
            "colorscale": [
             [
              0,
              "#0d0887"
             ],
             [
              0.1111111111111111,
              "#46039f"
             ],
             [
              0.2222222222222222,
              "#7201a8"
             ],
             [
              0.3333333333333333,
              "#9c179e"
             ],
             [
              0.4444444444444444,
              "#bd3786"
             ],
             [
              0.5555555555555556,
              "#d8576b"
             ],
             [
              0.6666666666666666,
              "#ed7953"
             ],
             [
              0.7777777777777778,
              "#fb9f3a"
             ],
             [
              0.8888888888888888,
              "#fdca26"
             ],
             [
              1,
              "#f0f921"
             ]
            ],
            "type": "contour"
           }
          ],
          "contourcarpet": [
           {
            "colorbar": {
             "outlinewidth": 0,
             "ticks": ""
            },
            "type": "contourcarpet"
           }
          ],
          "heatmap": [
           {
            "colorbar": {
             "outlinewidth": 0,
             "ticks": ""
            },
            "colorscale": [
             [
              0,
              "#0d0887"
             ],
             [
              0.1111111111111111,
              "#46039f"
             ],
             [
              0.2222222222222222,
              "#7201a8"
             ],
             [
              0.3333333333333333,
              "#9c179e"
             ],
             [
              0.4444444444444444,
              "#bd3786"
             ],
             [
              0.5555555555555556,
              "#d8576b"
             ],
             [
              0.6666666666666666,
              "#ed7953"
             ],
             [
              0.7777777777777778,
              "#fb9f3a"
             ],
             [
              0.8888888888888888,
              "#fdca26"
             ],
             [
              1,
              "#f0f921"
             ]
            ],
            "type": "heatmap"
           }
          ],
          "heatmapgl": [
           {
            "colorbar": {
             "outlinewidth": 0,
             "ticks": ""
            },
            "colorscale": [
             [
              0,
              "#0d0887"
             ],
             [
              0.1111111111111111,
              "#46039f"
             ],
             [
              0.2222222222222222,
              "#7201a8"
             ],
             [
              0.3333333333333333,
              "#9c179e"
             ],
             [
              0.4444444444444444,
              "#bd3786"
             ],
             [
              0.5555555555555556,
              "#d8576b"
             ],
             [
              0.6666666666666666,
              "#ed7953"
             ],
             [
              0.7777777777777778,
              "#fb9f3a"
             ],
             [
              0.8888888888888888,
              "#fdca26"
             ],
             [
              1,
              "#f0f921"
             ]
            ],
            "type": "heatmapgl"
           }
          ],
          "histogram": [
           {
            "marker": {
             "pattern": {
              "fillmode": "overlay",
              "size": 10,
              "solidity": 0.2
             }
            },
            "type": "histogram"
           }
          ],
          "histogram2d": [
           {
            "colorbar": {
             "outlinewidth": 0,
             "ticks": ""
            },
            "colorscale": [
             [
              0,
              "#0d0887"
             ],
             [
              0.1111111111111111,
              "#46039f"
             ],
             [
              0.2222222222222222,
              "#7201a8"
             ],
             [
              0.3333333333333333,
              "#9c179e"
             ],
             [
              0.4444444444444444,
              "#bd3786"
             ],
             [
              0.5555555555555556,
              "#d8576b"
             ],
             [
              0.6666666666666666,
              "#ed7953"
             ],
             [
              0.7777777777777778,
              "#fb9f3a"
             ],
             [
              0.8888888888888888,
              "#fdca26"
             ],
             [
              1,
              "#f0f921"
             ]
            ],
            "type": "histogram2d"
           }
          ],
          "histogram2dcontour": [
           {
            "colorbar": {
             "outlinewidth": 0,
             "ticks": ""
            },
            "colorscale": [
             [
              0,
              "#0d0887"
             ],
             [
              0.1111111111111111,
              "#46039f"
             ],
             [
              0.2222222222222222,
              "#7201a8"
             ],
             [
              0.3333333333333333,
              "#9c179e"
             ],
             [
              0.4444444444444444,
              "#bd3786"
             ],
             [
              0.5555555555555556,
              "#d8576b"
             ],
             [
              0.6666666666666666,
              "#ed7953"
             ],
             [
              0.7777777777777778,
              "#fb9f3a"
             ],
             [
              0.8888888888888888,
              "#fdca26"
             ],
             [
              1,
              "#f0f921"
             ]
            ],
            "type": "histogram2dcontour"
           }
          ],
          "mesh3d": [
           {
            "colorbar": {
             "outlinewidth": 0,
             "ticks": ""
            },
            "type": "mesh3d"
           }
          ],
          "parcoords": [
           {
            "line": {
             "colorbar": {
              "outlinewidth": 0,
              "ticks": ""
             }
            },
            "type": "parcoords"
           }
          ],
          "pie": [
           {
            "automargin": true,
            "type": "pie"
           }
          ],
          "scatter": [
           {
            "fillpattern": {
             "fillmode": "overlay",
             "size": 10,
             "solidity": 0.2
            },
            "type": "scatter"
           }
          ],
          "scatter3d": [
           {
            "line": {
             "colorbar": {
              "outlinewidth": 0,
              "ticks": ""
             }
            },
            "marker": {
             "colorbar": {
              "outlinewidth": 0,
              "ticks": ""
             }
            },
            "type": "scatter3d"
           }
          ],
          "scattercarpet": [
           {
            "marker": {
             "colorbar": {
              "outlinewidth": 0,
              "ticks": ""
             }
            },
            "type": "scattercarpet"
           }
          ],
          "scattergeo": [
           {
            "marker": {
             "colorbar": {
              "outlinewidth": 0,
              "ticks": ""
             }
            },
            "type": "scattergeo"
           }
          ],
          "scattergl": [
           {
            "marker": {
             "colorbar": {
              "outlinewidth": 0,
              "ticks": ""
             }
            },
            "type": "scattergl"
           }
          ],
          "scattermapbox": [
           {
            "marker": {
             "colorbar": {
              "outlinewidth": 0,
              "ticks": ""
             }
            },
            "type": "scattermapbox"
           }
          ],
          "scatterpolar": [
           {
            "marker": {
             "colorbar": {
              "outlinewidth": 0,
              "ticks": ""
             }
            },
            "type": "scatterpolar"
           }
          ],
          "scatterpolargl": [
           {
            "marker": {
             "colorbar": {
              "outlinewidth": 0,
              "ticks": ""
             }
            },
            "type": "scatterpolargl"
           }
          ],
          "scatterternary": [
           {
            "marker": {
             "colorbar": {
              "outlinewidth": 0,
              "ticks": ""
             }
            },
            "type": "scatterternary"
           }
          ],
          "surface": [
           {
            "colorbar": {
             "outlinewidth": 0,
             "ticks": ""
            },
            "colorscale": [
             [
              0,
              "#0d0887"
             ],
             [
              0.1111111111111111,
              "#46039f"
             ],
             [
              0.2222222222222222,
              "#7201a8"
             ],
             [
              0.3333333333333333,
              "#9c179e"
             ],
             [
              0.4444444444444444,
              "#bd3786"
             ],
             [
              0.5555555555555556,
              "#d8576b"
             ],
             [
              0.6666666666666666,
              "#ed7953"
             ],
             [
              0.7777777777777778,
              "#fb9f3a"
             ],
             [
              0.8888888888888888,
              "#fdca26"
             ],
             [
              1,
              "#f0f921"
             ]
            ],
            "type": "surface"
           }
          ],
          "table": [
           {
            "cells": {
             "fill": {
              "color": "#EBF0F8"
             },
             "line": {
              "color": "white"
             }
            },
            "header": {
             "fill": {
              "color": "#C8D4E3"
             },
             "line": {
              "color": "white"
             }
            },
            "type": "table"
           }
          ]
         },
         "layout": {
          "annotationdefaults": {
           "arrowcolor": "#2a3f5f",
           "arrowhead": 0,
           "arrowwidth": 1
          },
          "autotypenumbers": "strict",
          "coloraxis": {
           "colorbar": {
            "outlinewidth": 0,
            "ticks": ""
           }
          },
          "colorscale": {
           "diverging": [
            [
             0,
             "#8e0152"
            ],
            [
             0.1,
             "#c51b7d"
            ],
            [
             0.2,
             "#de77ae"
            ],
            [
             0.3,
             "#f1b6da"
            ],
            [
             0.4,
             "#fde0ef"
            ],
            [
             0.5,
             "#f7f7f7"
            ],
            [
             0.6,
             "#e6f5d0"
            ],
            [
             0.7,
             "#b8e186"
            ],
            [
             0.8,
             "#7fbc41"
            ],
            [
             0.9,
             "#4d9221"
            ],
            [
             1,
             "#276419"
            ]
           ],
           "sequential": [
            [
             0,
             "#0d0887"
            ],
            [
             0.1111111111111111,
             "#46039f"
            ],
            [
             0.2222222222222222,
             "#7201a8"
            ],
            [
             0.3333333333333333,
             "#9c179e"
            ],
            [
             0.4444444444444444,
             "#bd3786"
            ],
            [
             0.5555555555555556,
             "#d8576b"
            ],
            [
             0.6666666666666666,
             "#ed7953"
            ],
            [
             0.7777777777777778,
             "#fb9f3a"
            ],
            [
             0.8888888888888888,
             "#fdca26"
            ],
            [
             1,
             "#f0f921"
            ]
           ],
           "sequentialminus": [
            [
             0,
             "#0d0887"
            ],
            [
             0.1111111111111111,
             "#46039f"
            ],
            [
             0.2222222222222222,
             "#7201a8"
            ],
            [
             0.3333333333333333,
             "#9c179e"
            ],
            [
             0.4444444444444444,
             "#bd3786"
            ],
            [
             0.5555555555555556,
             "#d8576b"
            ],
            [
             0.6666666666666666,
             "#ed7953"
            ],
            [
             0.7777777777777778,
             "#fb9f3a"
            ],
            [
             0.8888888888888888,
             "#fdca26"
            ],
            [
             1,
             "#f0f921"
            ]
           ]
          },
          "colorway": [
           "#636efa",
           "#EF553B",
           "#00cc96",
           "#ab63fa",
           "#FFA15A",
           "#19d3f3",
           "#FF6692",
           "#B6E880",
           "#FF97FF",
           "#FECB52"
          ],
          "font": {
           "color": "#2a3f5f"
          },
          "geo": {
           "bgcolor": "white",
           "lakecolor": "white",
           "landcolor": "#E5ECF6",
           "showlakes": true,
           "showland": true,
           "subunitcolor": "white"
          },
          "hoverlabel": {
           "align": "left"
          },
          "hovermode": "closest",
          "mapbox": {
           "style": "light"
          },
          "paper_bgcolor": "white",
          "plot_bgcolor": "#E5ECF6",
          "polar": {
           "angularaxis": {
            "gridcolor": "white",
            "linecolor": "white",
            "ticks": ""
           },
           "bgcolor": "#E5ECF6",
           "radialaxis": {
            "gridcolor": "white",
            "linecolor": "white",
            "ticks": ""
           }
          },
          "scene": {
           "xaxis": {
            "backgroundcolor": "#E5ECF6",
            "gridcolor": "white",
            "gridwidth": 2,
            "linecolor": "white",
            "showbackground": true,
            "ticks": "",
            "zerolinecolor": "white"
           },
           "yaxis": {
            "backgroundcolor": "#E5ECF6",
            "gridcolor": "white",
            "gridwidth": 2,
            "linecolor": "white",
            "showbackground": true,
            "ticks": "",
            "zerolinecolor": "white"
           },
           "zaxis": {
            "backgroundcolor": "#E5ECF6",
            "gridcolor": "white",
            "gridwidth": 2,
            "linecolor": "white",
            "showbackground": true,
            "ticks": "",
            "zerolinecolor": "white"
           }
          },
          "shapedefaults": {
           "line": {
            "color": "#2a3f5f"
           }
          },
          "ternary": {
           "aaxis": {
            "gridcolor": "white",
            "linecolor": "white",
            "ticks": ""
           },
           "baxis": {
            "gridcolor": "white",
            "linecolor": "white",
            "ticks": ""
           },
           "bgcolor": "#E5ECF6",
           "caxis": {
            "gridcolor": "white",
            "linecolor": "white",
            "ticks": ""
           }
          },
          "title": {
           "x": 0.05
          },
          "xaxis": {
           "automargin": true,
           "gridcolor": "white",
           "linecolor": "white",
           "ticks": "",
           "title": {
            "standoff": 15
           },
           "zerolinecolor": "white",
           "zerolinewidth": 2
          },
          "yaxis": {
           "automargin": true,
           "gridcolor": "white",
           "linecolor": "white",
           "ticks": "",
           "title": {
            "standoff": 15
           },
           "zerolinecolor": "white",
           "zerolinewidth": 2
          }
         }
        },
        "xaxis": {
         "anchor": "y",
         "constrain": "domain",
         "domain": [
          0,
          1
         ],
         "scaleanchor": "y"
        },
        "yaxis": {
         "anchor": "x",
         "autorange": "reversed",
         "constrain": "domain",
         "domain": [
          0,
          1
         ]
        }
       }
      }
     },
     "metadata": {},
     "output_type": "display_data"
    }
   ],
   "source": [
    "w1 = model.layer1.weight\n",
    "w2 = model.layer2.weight\n",
    "b1 = model.layer1.bias\n",
    "b2 = model.layer2.bias\n",
    "visualise_tensor(torch.transpose(w1,0,1)@w1)\n",
    "visualise_tensor(b2.data.reshape(1,-1))"
   ]
  },
  {
   "cell_type": "code",
   "execution_count": 37,
   "metadata": {},
   "outputs": [
    {
     "data": {
      "text/plain": [
       "tensor([ 2.4290e-04,  3.1678e-04, -5.6278e-04,  8.7520e-03,  1.6758e-02,\n",
       "         5.0965e-01,  5.0102e-01,  5.1752e-01,  5.2130e-01,  5.1089e-01,\n",
       "         5.0994e-01,  4.9349e-01,  4.9362e-01,  4.9783e-01,  4.9200e-01,\n",
       "         4.8168e-01,  4.7231e-01,  4.1784e-01,  4.2591e-01,  4.6999e-01])"
      ]
     },
     "execution_count": 37,
     "metadata": {},
     "output_type": "execute_result"
    }
   ],
   "source": [
    "b2.data"
   ]
  },
  {
   "cell_type": "code",
   "execution_count": 19,
   "metadata": {},
   "outputs": [
    {
     "name": "stdout",
     "output_type": "stream",
     "text": [
      "tensor(7.5495e-05, grad_fn=<DivBackward0>)\n",
      "tensor(0.0002, grad_fn=<DivBackward0>)\n",
      "tensor(0.0013, grad_fn=<DivBackward0>)\n",
      "tensor(0.0004, grad_fn=<DivBackward0>)\n",
      "tensor(0.0075, grad_fn=<DivBackward0>)\n",
      "tensor(0.0453, grad_fn=<DivBackward0>)\n",
      "tensor(0.0810, grad_fn=<DivBackward0>)\n",
      "tensor(0.0915, grad_fn=<DivBackward0>)\n",
      "tensor(0.0598, grad_fn=<DivBackward0>)\n",
      "tensor(0.0794, grad_fn=<DivBackward0>)\n",
      "tensor(0.0666, grad_fn=<DivBackward0>)\n",
      "tensor(0.0675, grad_fn=<DivBackward0>)\n",
      "tensor(0.0848, grad_fn=<DivBackward0>)\n",
      "tensor(0.0811, grad_fn=<DivBackward0>)\n",
      "tensor(0.0844, grad_fn=<DivBackward0>)\n",
      "tensor(0.0822, grad_fn=<DivBackward0>)\n",
      "tensor(0.0849, grad_fn=<DivBackward0>)\n",
      "tensor(0.0939, grad_fn=<DivBackward0>)\n",
      "tensor(0.1013, grad_fn=<DivBackward0>)\n",
      "tensor(0.0966, grad_fn=<DivBackward0>)\n"
     ]
    }
   ],
   "source": [
    "\n",
    "\n",
    "logits, _ = model(training_dataset, training_dataset)\n",
    "a,b = training_dataset.shape\n",
    "loss = [0]*b\n",
    "for i in range(a):\n",
    "    for j in range(b):\n",
    "        c = logits[i][j]\n",
    "        d = training_dataset[i][j]\n",
    "        imp = 0.7**i\n",
    "        loss[j]+=((c-d)**2)\n",
    "\n",
    "for i in loss:\n",
    "    print(i/a)"
   ]
  },
  {
   "cell_type": "code",
   "execution_count": 28,
   "metadata": {},
   "outputs": [
    {
     "data": {
      "text/plain": [
       "(tensor([[-3.4362e-04, -2.6626e-03,  5.2002e-01, -3.5129e-02,  2.5061e-01,\n",
       "           5.8441e-01,  4.0316e-01,  5.9149e-01,  4.5307e-01,  3.4754e-01,\n",
       "           3.4481e-01,  2.7813e-01,  4.1707e-01,  3.3527e-01,  4.3963e-01,\n",
       "           2.9735e-01,  3.4549e-01,  2.5448e-01,  3.4308e-01,  3.2302e-01]],\n",
       "        grad_fn=<AddmmBackward0>),\n",
       " tensor(0.0082, grad_fn=<MeanBackward0>))"
      ]
     },
     "execution_count": 28,
     "metadata": {},
     "output_type": "execute_result"
    }
   ],
   "source": [
    "\n",
    "idx = torch.zeros(1, input_size)\n",
    "idx[0][2] = 0.7\n",
    "model(idx, idx)"
   ]
  },
  {
   "cell_type": "code",
   "execution_count": 12,
   "metadata": {},
   "outputs": [
    {
     "data": {
      "application/vnd.plotly.v1+json": {
       "config": {
        "plotlyServerURL": "https://plot.ly"
       },
       "data": [
        {
         "coloraxis": "coloraxis",
         "hovertemplate": "x: %{x}<br>y: %{y}<br>color: %{z}<extra></extra>",
         "name": "0",
         "type": "heatmap",
         "xaxis": "x",
         "yaxis": "y",
         "z": [
          [
           0.9186404347419739,
           0.06915806233882904,
           -0.06257219612598419,
           -0.10164046287536621,
           -0.045479509979486465,
           0.02114097587764263,
           -0.07142625004053116,
           0.014585891738533974,
           0.05265263840556145,
           -0.009325139224529266,
           0.013482177630066872,
           0.004432114772498608,
           0.04256149008870125,
           -0.050238050520420074,
           0.04215550422668457,
           0.0017328999238088727,
           0.03489287942647934,
           -0.039915598928928375,
           0.04294929280877113,
           0.0035580070689320564
          ],
          [
           0.09699009358882904,
           0.8208730220794678,
           0.04737520217895508,
           0.14705348014831543,
           0.16738927364349365,
           0.002804824383929372,
           0.04151535406708717,
           -0.01795828528702259,
           -0.015151189640164375,
           -0.015566597692668438,
           -0.0011494024656713009,
           -0.029752813279628754,
           0.014210909605026245,
           0.07102422416210175,
           -0.06879375129938126,
           -0.029432915151119232,
           -0.05240694060921669,
           0.04999200627207756,
           -0.048369571566581726,
           -0.044273074716329575
          ],
          [
           -0.10690730810165405,
           0.059600282460451126,
           0.5544731616973877,
           0.22637847065925598,
           -0.07614442706108093,
           0.08420302718877792,
           -0.13236373662948608,
           -0.03252681344747543,
           0.018487276509404182,
           -0.05236349254846573,
           -0.003936490043997765,
           -0.03444980829954147,
           0.06055440381169319,
           -0.008478404954075813,
           0.0659225732088089,
           0.04077669605612755,
           0.0648621991276741,
           -0.016688762232661247,
           0.053124625235795975,
           -0.03176704794168472
          ],
          [
           -0.2031899243593216,
           0.16064488887786865,
           0.2609912157058716,
           0.23620954155921936,
           0.011513862758874893,
           -0.04432324692606926,
           -0.09899044781923294,
           0.013919152319431305,
           0.009264040738344193,
           0.02195649966597557,
           0.0397665835916996,
           0.03556637838482857,
           -0.03303837403655052,
           0.016278773546218872,
           0.027090944349765778,
           0.027479341253638268,
           0.010214402340352535,
           -0.01060506422072649,
           0.027294617146253586,
           -0.030726786702871323
          ],
          [
           -0.0671381950378418,
           0.26522526144981384,
           -0.12899139523506165,
           0.07539934664964676,
           0.22705833613872528,
           -0.06120343506336212,
           0.027110610157251358,
           0.12684538960456848,
           0.0013322042068466544,
           0.03822362422943115,
           -0.03188342973589897,
           0.08810048550367355,
           -0.03981238976120949,
           0.07083705812692642,
           -0.03776130452752113,
           0.039047423750162125,
           0.10115952789783478,
           0.0063309017568826675,
           -0.05857735127210617,
           -0.031994305551052094
          ],
          [
           0.057272184640169144,
           0.011682975105941296,
           0.026095757260918617,
           -0.1372901201248169,
           0.04037642478942871,
           0.13640692830085754,
           0.09115434437990189,
           -0.01261949259787798,
           -0.013651732355356216,
           -0.07782500237226486,
           -0.0949195846915245,
           -0.0710853636264801,
           0.09814627468585968,
           0.015747923403978348,
           -0.024676697328686714,
           -0.001496765180490911,
           0.06811296939849854,
           0.025009406730532646,
           -0.04241178557276726,
           0.0037104706279933453
          ],
          [
           -0.12014711648225784,
           0.03830227628350258,
           -0.21629568934440613,
           -0.16787602007389069,
           0.06824763119220734,
           0.053153857588768005,
           0.14669863879680634,
           -0.016060268506407738,
           -0.03398483246564865,
           -0.03128339722752571,
           -0.06081590801477432,
           -0.047973547130823135,
           0.03240382671356201,
           0.02764969691634178,
           -0.06420965492725372,
           -0.03106972947716713,
           -0.01656302809715271,
           0.041242729872465134,
           -0.06425496935844421,
           0.015533903613686562
          ],
          [
           0.10409514605998993,
           0.23111635446548462,
           -0.012109647504985332,
           0.09471168369054794,
           0.10665392130613327,
           -0.04929884150624275,
           -0.03122657723724842,
           0.06507567316293716,
           0.013539841398596764,
           0.02843783050775528,
           0.007371654734015465,
           0.05565834417939186,
           -0.027505146339535713,
           0.030065733939409256,
           -0.005240087863057852,
           0.022808078676462173,
           0.04488420858979225,
           -0.0065352460369467735,
           -0.011273704469203949,
           -0.02476532757282257
          ],
          [
           0.2040775567293167,
           -0.25791165232658386,
           -0.04428335651755333,
           0.039222680032253265,
           -0.011546226218342781,
           -0.08908861875534058,
           -0.10528276115655899,
           0.08897930383682251,
           0.03908317908644676,
           0.06048421189188957,
           0.03867251053452492,
           0.10099727660417557,
           -0.0579867884516716,
           -0.026305699720978737,
           0.05543363094329834,
           0.046293955296278,
           0.07240763306617737,
           -0.05447781831026077,
           0.04048595204949379,
           -0.0005981579888612032
          ],
          [
           -0.09198926389217377,
           0.25145113468170166,
           -0.0813959613442421,
           0.08865009248256683,
           0.013438036665320396,
           -0.08751767128705978,
           -0.0020122751593589783,
           -0.027674220502376556,
           -0.011076216585934162,
           0.043676722794771194,
           0.06346803903579712,
           0.014346488751471043,
           -0.06304698437452316,
           0.012356903403997421,
           -0.02675524167716503,
           -0.03159467875957489,
           -0.10994793474674225,
           0.014833590015769005,
           0.0008711558766663074,
           -0.006051892880350351
          ],
          [
           0.009056849405169487,
           0.2386341243982315,
           0.2554815113544464,
           0.18752993643283844,
           -0.0632324293255806,
           -0.019331471994519234,
           -0.09417347609996796,
           -0.05345675349235535,
           0.00950066838413477,
           0.003142925212159753,
           0.05957489833235741,
           -0.014920268207788467,
           -0.0100791584700346,
           -0.00942917913198471,
           0.02590024098753929,
           -0.007412575650960207,
           -0.06356638669967651,
           -0.00404810905456543,
           0.04497835040092468,
           -0.02010330930352211
          ],
          [
           0.13921834528446198,
           -0.3057639002799988,
           -0.06482192128896713,
           0.054571542888879776,
           -0.05122867599129677,
           -0.12199027091264725,
           -0.11774255335330963,
           0.07036343216896057,
           0.03665052354335785,
           0.07854852080345154,
           0.06867672502994537,
           0.10555234551429749,
           -0.08436276763677597,
           -0.037570420652627945,
           0.059288956224918365,
           0.035847608000040054,
           0.02754667028784752,
           -0.05699310451745987,
           0.054042935371398926,
           0.0056803361512720585
          ],
          [
           -0.12660640478134155,
           0.24537447094917297,
           0.15056784451007843,
           0.1129777580499649,
           0.13445782661437988,
           0.03203483298420906,
           -0.0003779827384278178,
           0.05714431405067444,
           -0.001136401086114347,
           -0.019295915961265564,
           -0.04788666218519211,
           0.016948528587818146,
           0.02447512373328209,
           0.05290204659104347,
           -0.012935581617057323,
           0.035911668092012405,
           0.09702283889055252,
           0.01139375101774931,
           -0.033541858196258545,
           -0.03402857109904289
          ],
          [
           0.15579897165298462,
           -0.03739713504910469,
           0.4729246199131012,
           0.14450596272945404,
           -0.050984833389520645,
           0.09886264055967331,
           -0.13302208483219147,
           0.013491080142557621,
           0.035764046013355255,
           -0.05530377849936485,
           -0.029787776991724968,
           -0.013354292139410973,
           0.07808414846658707,
           -0.016421901062130928,
           0.07722501456737518,
           0.05894044041633606,
           0.13268232345581055,
           -0.03367539867758751,
           0.04981096088886261,
           -0.027842847630381584
          ],
          [
           -0.24207369983196259,
           -0.5174065232276917,
           0.002153893234208226,
           -0.11139066517353058,
           -0.1505359411239624,
           0.02845696546137333,
           0.011326178908348083,
           -0.04798049479722977,
           -0.010765067301690578,
           -0.011460261419415474,
           -0.0009331796900369227,
           -0.030450820922851562,
           0.0057896338403224945,
           -0.04721483588218689,
           0.02793222665786743,
           -0.0072140200063586235,
           -0.025156987830996513,
           -0.010834891349077225,
           0.02600102685391903,
           0.03662982955574989
          ],
          [
           0.27375149726867676,
           -0.13447389006614685,
           0.08568506687879562,
           -0.002741302363574505,
           -0.10446591675281525,
           0.004791169427335262,
           -0.07543540745973587,
           -0.021145068109035492,
           0.025033636018633842,
           -0.0013228068128228188,
           0.029956214129924774,
           -0.003339702496305108,
           0.009956235066056252,
           -0.045139379799366,
           0.04688257724046707,
           0.0037656445056200027,
           -0.005071678198873997,
           -0.029145652428269386,
           0.05010717734694481,
           0.007586615160107613
          ],
          [
           0.15330860018730164,
           -0.13695178925991058,
           -0.05139966681599617,
           -0.09414880722761154,
           0.05314512178301811,
           0.04551136866211891,
           0.021578306332230568,
           0.05965375155210495,
           0.011097131296992302,
           -0.01928417943418026,
           -0.057632509618997574,
           0.015340209938585758,
           0.03627822548151016,
           0.00472748838365078,
           0.006101445760577917,
           0.029355213046073914,
           0.10750384628772736,
           -0.011235695332288742,
           -0.019419951364398003,
           0.0016967069823294878
          ],
          [
           0.14007486402988434,
           0.222040593624115,
           -0.250745952129364,
           -0.11775762587785721,
           0.08115572482347488,
           0.0036006837617605925,
           0.10302823036909103,
           -0.006047000642865896,
           -0.01700795814394951,
           -0.004787657875567675,
           -0.021529363468289375,
           -0.02181418053805828,
           0.007106424774974585,
           0.02352377399802208,
           -0.05876290053129196,
           -0.0355001725256443,
           -0.041469767689704895,
           0.030596431344747543,
           -0.04808233305811882,
           0.006121824029833078
          ],
          [
           0.1632988452911377,
           0.281463623046875,
           -0.302616685628891,
           -0.11203083395957947,
           0.07201516628265381,
           -0.02447967231273651,
           0.10429312288761139,
           -0.020518438890576363,
           -0.019113408401608467,
           0.009449832141399384,
           0.0019193808548152447,
           -0.02050650678575039,
           -0.012172453105449677,
           0.02065505087375641,
           -0.0662243589758873,
           -0.050204064697027206,
           -0.08512682467699051,
           0.033718038350343704,
           -0.044653117656707764,
           0.008393487893044949
          ],
          [
           0.047686342149972916,
           -0.12581561505794525,
           -0.049081407487392426,
           0.02518332377076149,
           -0.08350268006324768,
           -0.07487574964761734,
           -0.05531866475939751,
           -0.01618967019021511,
           0.01064231339842081,
           0.04353659600019455,
           0.06564812362194061,
           0.02810751274228096,
           -0.053822312504053116,
           -0.03321690857410431,
           0.024473538622260094,
           -0.010060280561447144,
           -0.0646987333893776,
           -0.0209256112575531,
           0.03984162211418152,
           0.011624384671449661
          ]
         ]
        }
       ],
       "layout": {
        "coloraxis": {
         "colorscale": [
          [
           0,
           "rgb(103,0,31)"
          ],
          [
           0.1,
           "rgb(178,24,43)"
          ],
          [
           0.2,
           "rgb(214,96,77)"
          ],
          [
           0.3,
           "rgb(244,165,130)"
          ],
          [
           0.4,
           "rgb(253,219,199)"
          ],
          [
           0.5,
           "rgb(247,247,247)"
          ],
          [
           0.6,
           "rgb(209,229,240)"
          ],
          [
           0.7,
           "rgb(146,197,222)"
          ],
          [
           0.8,
           "rgb(67,147,195)"
          ],
          [
           0.9,
           "rgb(33,102,172)"
          ],
          [
           1,
           "rgb(5,48,97)"
          ]
         ]
        },
        "margin": {
         "t": 60
        },
        "template": {
         "data": {
          "bar": [
           {
            "error_x": {
             "color": "#2a3f5f"
            },
            "error_y": {
             "color": "#2a3f5f"
            },
            "marker": {
             "line": {
              "color": "#E5ECF6",
              "width": 0.5
             },
             "pattern": {
              "fillmode": "overlay",
              "size": 10,
              "solidity": 0.2
             }
            },
            "type": "bar"
           }
          ],
          "barpolar": [
           {
            "marker": {
             "line": {
              "color": "#E5ECF6",
              "width": 0.5
             },
             "pattern": {
              "fillmode": "overlay",
              "size": 10,
              "solidity": 0.2
             }
            },
            "type": "barpolar"
           }
          ],
          "carpet": [
           {
            "aaxis": {
             "endlinecolor": "#2a3f5f",
             "gridcolor": "white",
             "linecolor": "white",
             "minorgridcolor": "white",
             "startlinecolor": "#2a3f5f"
            },
            "baxis": {
             "endlinecolor": "#2a3f5f",
             "gridcolor": "white",
             "linecolor": "white",
             "minorgridcolor": "white",
             "startlinecolor": "#2a3f5f"
            },
            "type": "carpet"
           }
          ],
          "choropleth": [
           {
            "colorbar": {
             "outlinewidth": 0,
             "ticks": ""
            },
            "type": "choropleth"
           }
          ],
          "contour": [
           {
            "colorbar": {
             "outlinewidth": 0,
             "ticks": ""
            },
            "colorscale": [
             [
              0,
              "#0d0887"
             ],
             [
              0.1111111111111111,
              "#46039f"
             ],
             [
              0.2222222222222222,
              "#7201a8"
             ],
             [
              0.3333333333333333,
              "#9c179e"
             ],
             [
              0.4444444444444444,
              "#bd3786"
             ],
             [
              0.5555555555555556,
              "#d8576b"
             ],
             [
              0.6666666666666666,
              "#ed7953"
             ],
             [
              0.7777777777777778,
              "#fb9f3a"
             ],
             [
              0.8888888888888888,
              "#fdca26"
             ],
             [
              1,
              "#f0f921"
             ]
            ],
            "type": "contour"
           }
          ],
          "contourcarpet": [
           {
            "colorbar": {
             "outlinewidth": 0,
             "ticks": ""
            },
            "type": "contourcarpet"
           }
          ],
          "heatmap": [
           {
            "colorbar": {
             "outlinewidth": 0,
             "ticks": ""
            },
            "colorscale": [
             [
              0,
              "#0d0887"
             ],
             [
              0.1111111111111111,
              "#46039f"
             ],
             [
              0.2222222222222222,
              "#7201a8"
             ],
             [
              0.3333333333333333,
              "#9c179e"
             ],
             [
              0.4444444444444444,
              "#bd3786"
             ],
             [
              0.5555555555555556,
              "#d8576b"
             ],
             [
              0.6666666666666666,
              "#ed7953"
             ],
             [
              0.7777777777777778,
              "#fb9f3a"
             ],
             [
              0.8888888888888888,
              "#fdca26"
             ],
             [
              1,
              "#f0f921"
             ]
            ],
            "type": "heatmap"
           }
          ],
          "heatmapgl": [
           {
            "colorbar": {
             "outlinewidth": 0,
             "ticks": ""
            },
            "colorscale": [
             [
              0,
              "#0d0887"
             ],
             [
              0.1111111111111111,
              "#46039f"
             ],
             [
              0.2222222222222222,
              "#7201a8"
             ],
             [
              0.3333333333333333,
              "#9c179e"
             ],
             [
              0.4444444444444444,
              "#bd3786"
             ],
             [
              0.5555555555555556,
              "#d8576b"
             ],
             [
              0.6666666666666666,
              "#ed7953"
             ],
             [
              0.7777777777777778,
              "#fb9f3a"
             ],
             [
              0.8888888888888888,
              "#fdca26"
             ],
             [
              1,
              "#f0f921"
             ]
            ],
            "type": "heatmapgl"
           }
          ],
          "histogram": [
           {
            "marker": {
             "pattern": {
              "fillmode": "overlay",
              "size": 10,
              "solidity": 0.2
             }
            },
            "type": "histogram"
           }
          ],
          "histogram2d": [
           {
            "colorbar": {
             "outlinewidth": 0,
             "ticks": ""
            },
            "colorscale": [
             [
              0,
              "#0d0887"
             ],
             [
              0.1111111111111111,
              "#46039f"
             ],
             [
              0.2222222222222222,
              "#7201a8"
             ],
             [
              0.3333333333333333,
              "#9c179e"
             ],
             [
              0.4444444444444444,
              "#bd3786"
             ],
             [
              0.5555555555555556,
              "#d8576b"
             ],
             [
              0.6666666666666666,
              "#ed7953"
             ],
             [
              0.7777777777777778,
              "#fb9f3a"
             ],
             [
              0.8888888888888888,
              "#fdca26"
             ],
             [
              1,
              "#f0f921"
             ]
            ],
            "type": "histogram2d"
           }
          ],
          "histogram2dcontour": [
           {
            "colorbar": {
             "outlinewidth": 0,
             "ticks": ""
            },
            "colorscale": [
             [
              0,
              "#0d0887"
             ],
             [
              0.1111111111111111,
              "#46039f"
             ],
             [
              0.2222222222222222,
              "#7201a8"
             ],
             [
              0.3333333333333333,
              "#9c179e"
             ],
             [
              0.4444444444444444,
              "#bd3786"
             ],
             [
              0.5555555555555556,
              "#d8576b"
             ],
             [
              0.6666666666666666,
              "#ed7953"
             ],
             [
              0.7777777777777778,
              "#fb9f3a"
             ],
             [
              0.8888888888888888,
              "#fdca26"
             ],
             [
              1,
              "#f0f921"
             ]
            ],
            "type": "histogram2dcontour"
           }
          ],
          "mesh3d": [
           {
            "colorbar": {
             "outlinewidth": 0,
             "ticks": ""
            },
            "type": "mesh3d"
           }
          ],
          "parcoords": [
           {
            "line": {
             "colorbar": {
              "outlinewidth": 0,
              "ticks": ""
             }
            },
            "type": "parcoords"
           }
          ],
          "pie": [
           {
            "automargin": true,
            "type": "pie"
           }
          ],
          "scatter": [
           {
            "fillpattern": {
             "fillmode": "overlay",
             "size": 10,
             "solidity": 0.2
            },
            "type": "scatter"
           }
          ],
          "scatter3d": [
           {
            "line": {
             "colorbar": {
              "outlinewidth": 0,
              "ticks": ""
             }
            },
            "marker": {
             "colorbar": {
              "outlinewidth": 0,
              "ticks": ""
             }
            },
            "type": "scatter3d"
           }
          ],
          "scattercarpet": [
           {
            "marker": {
             "colorbar": {
              "outlinewidth": 0,
              "ticks": ""
             }
            },
            "type": "scattercarpet"
           }
          ],
          "scattergeo": [
           {
            "marker": {
             "colorbar": {
              "outlinewidth": 0,
              "ticks": ""
             }
            },
            "type": "scattergeo"
           }
          ],
          "scattergl": [
           {
            "marker": {
             "colorbar": {
              "outlinewidth": 0,
              "ticks": ""
             }
            },
            "type": "scattergl"
           }
          ],
          "scattermapbox": [
           {
            "marker": {
             "colorbar": {
              "outlinewidth": 0,
              "ticks": ""
             }
            },
            "type": "scattermapbox"
           }
          ],
          "scatterpolar": [
           {
            "marker": {
             "colorbar": {
              "outlinewidth": 0,
              "ticks": ""
             }
            },
            "type": "scatterpolar"
           }
          ],
          "scatterpolargl": [
           {
            "marker": {
             "colorbar": {
              "outlinewidth": 0,
              "ticks": ""
             }
            },
            "type": "scatterpolargl"
           }
          ],
          "scatterternary": [
           {
            "marker": {
             "colorbar": {
              "outlinewidth": 0,
              "ticks": ""
             }
            },
            "type": "scatterternary"
           }
          ],
          "surface": [
           {
            "colorbar": {
             "outlinewidth": 0,
             "ticks": ""
            },
            "colorscale": [
             [
              0,
              "#0d0887"
             ],
             [
              0.1111111111111111,
              "#46039f"
             ],
             [
              0.2222222222222222,
              "#7201a8"
             ],
             [
              0.3333333333333333,
              "#9c179e"
             ],
             [
              0.4444444444444444,
              "#bd3786"
             ],
             [
              0.5555555555555556,
              "#d8576b"
             ],
             [
              0.6666666666666666,
              "#ed7953"
             ],
             [
              0.7777777777777778,
              "#fb9f3a"
             ],
             [
              0.8888888888888888,
              "#fdca26"
             ],
             [
              1,
              "#f0f921"
             ]
            ],
            "type": "surface"
           }
          ],
          "table": [
           {
            "cells": {
             "fill": {
              "color": "#EBF0F8"
             },
             "line": {
              "color": "white"
             }
            },
            "header": {
             "fill": {
              "color": "#C8D4E3"
             },
             "line": {
              "color": "white"
             }
            },
            "type": "table"
           }
          ]
         },
         "layout": {
          "annotationdefaults": {
           "arrowcolor": "#2a3f5f",
           "arrowhead": 0,
           "arrowwidth": 1
          },
          "autotypenumbers": "strict",
          "coloraxis": {
           "colorbar": {
            "outlinewidth": 0,
            "ticks": ""
           }
          },
          "colorscale": {
           "diverging": [
            [
             0,
             "#8e0152"
            ],
            [
             0.1,
             "#c51b7d"
            ],
            [
             0.2,
             "#de77ae"
            ],
            [
             0.3,
             "#f1b6da"
            ],
            [
             0.4,
             "#fde0ef"
            ],
            [
             0.5,
             "#f7f7f7"
            ],
            [
             0.6,
             "#e6f5d0"
            ],
            [
             0.7,
             "#b8e186"
            ],
            [
             0.8,
             "#7fbc41"
            ],
            [
             0.9,
             "#4d9221"
            ],
            [
             1,
             "#276419"
            ]
           ],
           "sequential": [
            [
             0,
             "#0d0887"
            ],
            [
             0.1111111111111111,
             "#46039f"
            ],
            [
             0.2222222222222222,
             "#7201a8"
            ],
            [
             0.3333333333333333,
             "#9c179e"
            ],
            [
             0.4444444444444444,
             "#bd3786"
            ],
            [
             0.5555555555555556,
             "#d8576b"
            ],
            [
             0.6666666666666666,
             "#ed7953"
            ],
            [
             0.7777777777777778,
             "#fb9f3a"
            ],
            [
             0.8888888888888888,
             "#fdca26"
            ],
            [
             1,
             "#f0f921"
            ]
           ],
           "sequentialminus": [
            [
             0,
             "#0d0887"
            ],
            [
             0.1111111111111111,
             "#46039f"
            ],
            [
             0.2222222222222222,
             "#7201a8"
            ],
            [
             0.3333333333333333,
             "#9c179e"
            ],
            [
             0.4444444444444444,
             "#bd3786"
            ],
            [
             0.5555555555555556,
             "#d8576b"
            ],
            [
             0.6666666666666666,
             "#ed7953"
            ],
            [
             0.7777777777777778,
             "#fb9f3a"
            ],
            [
             0.8888888888888888,
             "#fdca26"
            ],
            [
             1,
             "#f0f921"
            ]
           ]
          },
          "colorway": [
           "#636efa",
           "#EF553B",
           "#00cc96",
           "#ab63fa",
           "#FFA15A",
           "#19d3f3",
           "#FF6692",
           "#B6E880",
           "#FF97FF",
           "#FECB52"
          ],
          "font": {
           "color": "#2a3f5f"
          },
          "geo": {
           "bgcolor": "white",
           "lakecolor": "white",
           "landcolor": "#E5ECF6",
           "showlakes": true,
           "showland": true,
           "subunitcolor": "white"
          },
          "hoverlabel": {
           "align": "left"
          },
          "hovermode": "closest",
          "mapbox": {
           "style": "light"
          },
          "paper_bgcolor": "white",
          "plot_bgcolor": "#E5ECF6",
          "polar": {
           "angularaxis": {
            "gridcolor": "white",
            "linecolor": "white",
            "ticks": ""
           },
           "bgcolor": "#E5ECF6",
           "radialaxis": {
            "gridcolor": "white",
            "linecolor": "white",
            "ticks": ""
           }
          },
          "scene": {
           "xaxis": {
            "backgroundcolor": "#E5ECF6",
            "gridcolor": "white",
            "gridwidth": 2,
            "linecolor": "white",
            "showbackground": true,
            "ticks": "",
            "zerolinecolor": "white"
           },
           "yaxis": {
            "backgroundcolor": "#E5ECF6",
            "gridcolor": "white",
            "gridwidth": 2,
            "linecolor": "white",
            "showbackground": true,
            "ticks": "",
            "zerolinecolor": "white"
           },
           "zaxis": {
            "backgroundcolor": "#E5ECF6",
            "gridcolor": "white",
            "gridwidth": 2,
            "linecolor": "white",
            "showbackground": true,
            "ticks": "",
            "zerolinecolor": "white"
           }
          },
          "shapedefaults": {
           "line": {
            "color": "#2a3f5f"
           }
          },
          "ternary": {
           "aaxis": {
            "gridcolor": "white",
            "linecolor": "white",
            "ticks": ""
           },
           "baxis": {
            "gridcolor": "white",
            "linecolor": "white",
            "ticks": ""
           },
           "bgcolor": "#E5ECF6",
           "caxis": {
            "gridcolor": "white",
            "linecolor": "white",
            "ticks": ""
           }
          },
          "title": {
           "x": 0.05
          },
          "xaxis": {
           "automargin": true,
           "gridcolor": "white",
           "linecolor": "white",
           "ticks": "",
           "title": {
            "standoff": 15
           },
           "zerolinecolor": "white",
           "zerolinewidth": 2
          },
          "yaxis": {
           "automargin": true,
           "gridcolor": "white",
           "linecolor": "white",
           "ticks": "",
           "title": {
            "standoff": 15
           },
           "zerolinecolor": "white",
           "zerolinewidth": 2
          }
         }
        },
        "xaxis": {
         "anchor": "y",
         "constrain": "domain",
         "domain": [
          0,
          1
         ],
         "scaleanchor": "y"
        },
        "yaxis": {
         "anchor": "x",
         "autorange": "reversed",
         "constrain": "domain",
         "domain": [
          0,
          1
         ]
        }
       }
      }
     },
     "metadata": {},
     "output_type": "display_data"
    }
   ],
   "source": []
  },
  {
   "cell_type": "code",
   "execution_count": 8,
   "metadata": {},
   "outputs": [
    {
     "data": {
      "text/plain": [
       "tensor([[ 0.1892, -0.0448,  0.0928, -0.2274, -0.1184]],\n",
       "       grad_fn=<ResizeBackward>)"
      ]
     },
     "execution_count": 8,
     "metadata": {},
     "output_type": "execute_result"
    }
   ],
   "source": [
    "b1.resize(1,5)"
   ]
  },
  {
   "cell_type": "code",
   "execution_count": 9,
   "metadata": {},
   "outputs": [
    {
     "data": {
      "text/plain": [
       "Parameter containing:\n",
       "tensor([ 0.1892, -0.0448,  0.0928, -0.2274, -0.1184], requires_grad=True)"
      ]
     },
     "execution_count": 9,
     "metadata": {},
     "output_type": "execute_result"
    }
   ],
   "source": [
    "b1"
   ]
  },
  {
   "cell_type": "code",
   "execution_count": 56,
   "metadata": {},
   "outputs": [
    {
     "data": {
      "application/vnd.plotly.v1+json": {
       "config": {
        "plotlyServerURL": "https://plot.ly"
       },
       "data": [
        {
         "coloraxis": "coloraxis",
         "hovertemplate": "x: %{x}<br>y: %{y}<br>color: %{z}<extra></extra>",
         "name": "0",
         "type": "heatmap",
         "xaxis": "x",
         "yaxis": "y",
         "z": [
          [
           0.9795588850975037,
           0.0040732491761446,
           -0.0056265671737492085,
           -0.0033415434882044792,
           -0.008740929886698723,
           -0.010209845378994942,
           0.018674686551094055,
           -0.004914647433906794,
           0.0037260905373841524,
           -0.0014218719443306327,
           0.0034313504584133625,
           0.011258630082011223,
           0.00488894060254097,
           0.0014859004877507687,
           -0.00020030239829793572,
           -0.0017671606037765741,
           -0.0008711186819709837,
           -0.001589686842635274,
           0.0003187934053130448,
           0.0011908645974472165
          ],
          [
           0.006074403412640095,
           0.9650442004203796,
           -0.008059057407081127,
           0.00563783897086978,
           0.009878190234303474,
           0.016786644235253334,
           -0.0034621218219399452,
           -0.0009439326822757721,
           -0.028137685731053352,
           0.017095521092414856,
           0.007752050179988146,
           -0.004177735652774572,
           -0.001829730230383575,
           0.0029043962713330984,
           0.00463836919516325,
           0.007937430404126644,
           -0.004373467992991209,
           0.0017809366108849645,
           -0.0024087117053568363,
           0.004570371471345425
          ],
          [
           -0.005438121501356363,
           -0.00541260652244091,
           0.9117828607559204,
           0.0003179789346177131,
           0.041123513132333755,
           0.08272701501846313,
           0.083197221159935,
           0.03340579569339752,
           0.009190677665174007,
           0.010962915606796741,
           0.025193046778440475,
           0.004654780030250549,
           0.012597722001373768,
           0.006279243156313896,
           0.006766305770725012,
           0.004420587792992592,
           0.0014900373062118888,
           0.005729984492063522,
           0.0031942399218678474,
           0.0065149529837071896
          ],
          [
           -0.006119724828749895,
           0.012678274884819984,
           -0.005477475468069315,
           0.9323198199272156,
           0.001909201149828732,
           0.019517282024025917,
           0.009285463951528072,
           -0.007340278942137957,
           0.05566633865237236,
           -0.009237936697900295,
           0.016464529559016228,
           0.020013943314552307,
           -0.0018049373757094145,
           -0.00494724465534091,
           0.0005370146245695651,
           0.01025858148932457,
           0.014928595162928104,
           0.0004418695461936295,
           0.008232147432863712,
           -0.011299059726297855
          ],
          [
           -0.042718373239040375,
           0.025581497699022293,
           0.059981897473335266,
           -0.01179615966975689,
           0.7685481309890747,
           -0.27507951855659485,
           0.05231302231550217,
           -0.03131001070141792,
           0.035222526639699936,
           0.0169905386865139,
           -0.013464259915053844,
           0.011299758218228817,
           -0.015796082094311714,
           -0.011482874862849712,
           -0.009623964317142963,
           0.011135640554130077,
           -0.01109274197369814,
           0.0007743644528090954,
           -0.006051190197467804,
           0.014366083778440952
          ],
          [
           -0.05965087190270424,
           0.07284771651029587,
           0.21628284454345703,
           0.020591039210557938,
           -0.3959292471408844,
           0.1715271919965744,
           -0.0068807173520326614,
           0.02597593329846859,
           -0.018305232748389244,
           -0.004503694828599691,
           0.014688735827803612,
           -0.005769523326307535,
           0.011236823163926601,
           0.00788977462798357,
           0.007411140017211437,
           -0.0036989941727370024,
           0.006194756366312504,
           0.0014509541215375066,
           0.003961658105254173,
           -0.005710121709853411
          ],
          [
           0.14508874714374542,
           -0.03406500443816185,
           0.30715951323509216,
           0.031113816425204277,
           0.09644750505685806,
           -0.004432391375303268,
           0.03660515323281288,
           0.006609456613659859,
           0.010516133159399033,
           0.004302710760384798,
           0.007670625578612089,
           0.00539404945448041,
           0.003189651994034648,
           0.0007588802254758775,
           0.0009919065050780773,
           0.0024772342294454575,
           -0.00016971607692539692,
           0.001681003370322287,
           0.0008216575952246785,
           0.003346047131344676
          ],
          [
           -0.0503268800675869,
           -0.010784534737467766,
           0.15141944587230682,
           -0.04134374111890793,
           -0.053471386432647705,
           0.03541640564799309,
           0.008646632544696331,
           0.008783322758972645,
           -0.003750800620764494,
           0.0008992192451842129,
           0.004370887763798237,
           -0.0015903807943686843,
           0.0032298327423632145,
           0.0021034458186477423,
           0.0018682561349123716,
           -0.0005563792074099183,
           0.0005307571263983846,
           0.000969198124948889,
           0.0006489729858003557,
           0.0003918690490536392
          ],
          [
           0.04439057782292366,
           -0.2615368068218231,
           0.020612303167581558,
           0.22874946892261505,
           0.12470314651727676,
           -0.044926296919584274,
           0.013893891125917435,
           -0.006644702982157469,
           0.02785644866526127,
           -0.004219899885356426,
           0.00019002947374247015,
           0.008703184314072132,
           -0.0021371839102357626,
           -0.00378825212828815,
           -0.002685959218069911,
           0.00213518925011158,
           0.0030762881506234407,
           -0.0002835957275237888,
           0.001777424244210124,
           -0.0015784591669216752
          ],
          [
           -0.026917589828372,
           0.22397172451019287,
           0.09234680235385895,
           -0.02199244499206543,
           0.08969739824533463,
           -0.01824454963207245,
           0.012187868356704712,
           -0.00011699753667926416,
           -0.003185870358720422,
           0.007080955430865288,
           0.0022681481204926968,
           -0.00003295357237220742,
           -0.0009990195976570249,
           0.00010780387674458325,
           0.0006651230505667627,
           0.0032566434238106012,
           -0.0023997516836971045,
           0.001070667407475412,
           -0.0011069942265748978,
           0.00347384181804955
          ],
          [
           0.0956185907125473,
           0.1691906750202179,
           0.22618719935417175,
           0.1439860761165619,
           -0.004347640555351973,
           0.03150647133588791,
           0.022574424743652344,
           0.0073101213201880455,
           0.00557566387578845,
           0.0038497308269143105,
           0.01085691899061203,
           0.004384186584502459,
           0.003389932680875063,
           0.001717636245302856,
           0.0027813424821943045,
           0.0036741537041962147,
           0.002045393455773592,
           0.0016542377416044474,
           0.001804454019293189,
           0.00053067144472152
          ],
          [
           0.2617611885070801,
           -0.024095287546515465,
           0.09100865572690964,
           0.13925348222255707,
           0.08638226240873337,
           -0.02287493273615837,
           0.020298993214964867,
           -0.002719874493777752,
           0.015096033923327923,
           0.0006027146009728312,
           0.004106693901121616,
           0.007938678376376629,
           0.0005704349023289979,
           -0.001105861272662878,
           -0.0005357498303055763,
           0.0024816496297717094,
           0.0010787802748382092,
           0.00020685464551206678,
           0.0010458906181156635,
           0.0006750742322765291
          ],
          [
           0.17776544392108917,
           -0.03667021542787552,
           0.20853938162326813,
           0.028469670563936234,
           -0.03848017007112503,
           0.034013085067272186,
           0.020074838772416115,
           0.008610276505351067,
           0.003423876129090786,
           0.000380962184863165,
           0.007537600584328175,
           0.0032042355742305517,
           0.004787169862538576,
           0.002169365528970957,
           0.001971667632460594,
           0.0000699563097441569,
           0.001472650095820427,
           0.00095413310918957,
           0.0015066622290760279,
           0.000362414080882445
          ],
          [
           0.1604039967060089,
           0.13146065175533295,
           0.24420084059238434,
           0.047523319721221924,
           0.07868222892284393,
           -0.0008616077248007059,
           0.02979385294020176,
           0.004738296382129192,
           0.005282729864120483,
           0.005972574464976788,
           0.007945952005684376,
           0.004603767767548561,
           0.0024236568715423346,
           0.0010307460324838758,
           0.001555848866701126,
           0.003449501935392618,
           -0.000544720038305968,
           0.001577788032591343,
           0.0004682114813476801,
           0.003219746518880129
          ],
          [
           0.03996281698346138,
           0.17714235186576843,
           0.18669475615024567,
           0.01928463950753212,
           -0.06003699451684952,
           0.04589783772826195,
           0.01312827505171299,
           0.00948012713342905,
           -0.005358854308724403,
           0.003747516078874469,
           0.008471240289509296,
           -0.00003884875332005322,
           0.003931741695851088,
           0.0028931063134223223,
           0.0031893940176814795,
           0.001527943299151957,
           0.0007588137523271143,
           0.0014303564094007015,
           0.0009473099489696324,
           0.0007603749400004745
          ],
          [
           0.09049791842699051,
           0.19414694607257843,
           0.10479719936847687,
           0.16490544378757477,
           -0.08253758400678635,
           0.04827944189310074,
           0.006962327752262354,
           0.005941637791693211,
           0.0014122071443125606,
           0.0011290363036096096,
           0.009479403495788574,
           0.0029091264586895704,
           0.0031662529800087214,
           0.001979897962883115,
           0.002984703751280904,
           0.002503367140889168,
           0.0031193809118121862,
           0.0009294876363128424,
           0.0020821532234549522,
           -0.0017902377294376493
          ],
          [
           0.05801931023597717,
           -0.05048210173845291,
           0.2655350863933563,
           0.16915538907051086,
           0.038520220667123795,
           0.016190139576792717,
           0.029053596779704094,
           0.006969075184315443,
           0.015833605080842972,
           0.001079169800505042,
           0.00962474849075079,
           0.006346734706312418,
           0.003172455821186304,
           0.0004468725237529725,
           0.0014523934805765748,
           0.0030044913291931152,
           0.002941216342151165,
           0.0015709984581917524,
           0.0023629064671695232,
           0.00016741121362429112
          ],
          [
           -0.03307364881038666,
           0.0028002087492495775,
           0.1609242558479309,
           0.28126636147499084,
           0.06298287212848663,
           0.0007971141021698713,
           0.020470529794692993,
           0.001468503731302917,
           0.020902033895254135,
           0.00033148747752420604,
           0.008274021558463573,
           0.007364792749285698,
           0.00037488495581783354,
           -0.0012766086729243398,
           0.0006432574591599405,
           0.004701005294919014,
           0.004011307377368212,
           0.0012235548347234726,
           0.002605911111459136,
           -0.0013002136256545782
          ],
          [
           0.10410895943641663,
           0.09113403409719467,
           0.09433284401893616,
           0.10454199463129044,
           -0.21233583986759186,
           0.09107781946659088,
           -0.0020671067759394646,
           0.011668939143419266,
           -0.005300226155668497,
           -0.002864302834495902,
           0.009834135882556438,
           0.0001864287187345326,
           0.006124862469732761,
           0.003932551946491003,
           0.004074991215020418,
           -0.0008635581471025944,
           0.004421327728778124,
           0.0005692685954272747,
           0.0027901397552341223,
           -0.003911636304110289
          ],
          [
           0.16380508244037628,
           -0.09292790293693542,
           0.08671194314956665,
           0.04436364769935608,
           0.007690744940191507,
           0.003264412982389331,
           0.012271913699805737,
           0.0018284165998920798,
           0.007241842802613974,
           -0.0011778934858739376,
           0.002917014993727207,
           0.003819557372480631,
           0.001987703377380967,
           0.0002321085485164076,
           0.00010737100819824263,
           -0.00006112131814006716,
           0.0010608433512970805,
           0.00013040854537393898,
           0.0009458060376346111,
           -0.00006167959509184584
          ]
         ]
        }
       ],
       "layout": {
        "coloraxis": {
         "colorscale": [
          [
           0,
           "rgb(103,0,31)"
          ],
          [
           0.1,
           "rgb(178,24,43)"
          ],
          [
           0.2,
           "rgb(214,96,77)"
          ],
          [
           0.3,
           "rgb(244,165,130)"
          ],
          [
           0.4,
           "rgb(253,219,199)"
          ],
          [
           0.5,
           "rgb(247,247,247)"
          ],
          [
           0.6,
           "rgb(209,229,240)"
          ],
          [
           0.7,
           "rgb(146,197,222)"
          ],
          [
           0.8,
           "rgb(67,147,195)"
          ],
          [
           0.9,
           "rgb(33,102,172)"
          ],
          [
           1,
           "rgb(5,48,97)"
          ]
         ]
        },
        "margin": {
         "t": 60
        },
        "template": {
         "data": {
          "bar": [
           {
            "error_x": {
             "color": "#2a3f5f"
            },
            "error_y": {
             "color": "#2a3f5f"
            },
            "marker": {
             "line": {
              "color": "#E5ECF6",
              "width": 0.5
             },
             "pattern": {
              "fillmode": "overlay",
              "size": 10,
              "solidity": 0.2
             }
            },
            "type": "bar"
           }
          ],
          "barpolar": [
           {
            "marker": {
             "line": {
              "color": "#E5ECF6",
              "width": 0.5
             },
             "pattern": {
              "fillmode": "overlay",
              "size": 10,
              "solidity": 0.2
             }
            },
            "type": "barpolar"
           }
          ],
          "carpet": [
           {
            "aaxis": {
             "endlinecolor": "#2a3f5f",
             "gridcolor": "white",
             "linecolor": "white",
             "minorgridcolor": "white",
             "startlinecolor": "#2a3f5f"
            },
            "baxis": {
             "endlinecolor": "#2a3f5f",
             "gridcolor": "white",
             "linecolor": "white",
             "minorgridcolor": "white",
             "startlinecolor": "#2a3f5f"
            },
            "type": "carpet"
           }
          ],
          "choropleth": [
           {
            "colorbar": {
             "outlinewidth": 0,
             "ticks": ""
            },
            "type": "choropleth"
           }
          ],
          "contour": [
           {
            "colorbar": {
             "outlinewidth": 0,
             "ticks": ""
            },
            "colorscale": [
             [
              0,
              "#0d0887"
             ],
             [
              0.1111111111111111,
              "#46039f"
             ],
             [
              0.2222222222222222,
              "#7201a8"
             ],
             [
              0.3333333333333333,
              "#9c179e"
             ],
             [
              0.4444444444444444,
              "#bd3786"
             ],
             [
              0.5555555555555556,
              "#d8576b"
             ],
             [
              0.6666666666666666,
              "#ed7953"
             ],
             [
              0.7777777777777778,
              "#fb9f3a"
             ],
             [
              0.8888888888888888,
              "#fdca26"
             ],
             [
              1,
              "#f0f921"
             ]
            ],
            "type": "contour"
           }
          ],
          "contourcarpet": [
           {
            "colorbar": {
             "outlinewidth": 0,
             "ticks": ""
            },
            "type": "contourcarpet"
           }
          ],
          "heatmap": [
           {
            "colorbar": {
             "outlinewidth": 0,
             "ticks": ""
            },
            "colorscale": [
             [
              0,
              "#0d0887"
             ],
             [
              0.1111111111111111,
              "#46039f"
             ],
             [
              0.2222222222222222,
              "#7201a8"
             ],
             [
              0.3333333333333333,
              "#9c179e"
             ],
             [
              0.4444444444444444,
              "#bd3786"
             ],
             [
              0.5555555555555556,
              "#d8576b"
             ],
             [
              0.6666666666666666,
              "#ed7953"
             ],
             [
              0.7777777777777778,
              "#fb9f3a"
             ],
             [
              0.8888888888888888,
              "#fdca26"
             ],
             [
              1,
              "#f0f921"
             ]
            ],
            "type": "heatmap"
           }
          ],
          "heatmapgl": [
           {
            "colorbar": {
             "outlinewidth": 0,
             "ticks": ""
            },
            "colorscale": [
             [
              0,
              "#0d0887"
             ],
             [
              0.1111111111111111,
              "#46039f"
             ],
             [
              0.2222222222222222,
              "#7201a8"
             ],
             [
              0.3333333333333333,
              "#9c179e"
             ],
             [
              0.4444444444444444,
              "#bd3786"
             ],
             [
              0.5555555555555556,
              "#d8576b"
             ],
             [
              0.6666666666666666,
              "#ed7953"
             ],
             [
              0.7777777777777778,
              "#fb9f3a"
             ],
             [
              0.8888888888888888,
              "#fdca26"
             ],
             [
              1,
              "#f0f921"
             ]
            ],
            "type": "heatmapgl"
           }
          ],
          "histogram": [
           {
            "marker": {
             "pattern": {
              "fillmode": "overlay",
              "size": 10,
              "solidity": 0.2
             }
            },
            "type": "histogram"
           }
          ],
          "histogram2d": [
           {
            "colorbar": {
             "outlinewidth": 0,
             "ticks": ""
            },
            "colorscale": [
             [
              0,
              "#0d0887"
             ],
             [
              0.1111111111111111,
              "#46039f"
             ],
             [
              0.2222222222222222,
              "#7201a8"
             ],
             [
              0.3333333333333333,
              "#9c179e"
             ],
             [
              0.4444444444444444,
              "#bd3786"
             ],
             [
              0.5555555555555556,
              "#d8576b"
             ],
             [
              0.6666666666666666,
              "#ed7953"
             ],
             [
              0.7777777777777778,
              "#fb9f3a"
             ],
             [
              0.8888888888888888,
              "#fdca26"
             ],
             [
              1,
              "#f0f921"
             ]
            ],
            "type": "histogram2d"
           }
          ],
          "histogram2dcontour": [
           {
            "colorbar": {
             "outlinewidth": 0,
             "ticks": ""
            },
            "colorscale": [
             [
              0,
              "#0d0887"
             ],
             [
              0.1111111111111111,
              "#46039f"
             ],
             [
              0.2222222222222222,
              "#7201a8"
             ],
             [
              0.3333333333333333,
              "#9c179e"
             ],
             [
              0.4444444444444444,
              "#bd3786"
             ],
             [
              0.5555555555555556,
              "#d8576b"
             ],
             [
              0.6666666666666666,
              "#ed7953"
             ],
             [
              0.7777777777777778,
              "#fb9f3a"
             ],
             [
              0.8888888888888888,
              "#fdca26"
             ],
             [
              1,
              "#f0f921"
             ]
            ],
            "type": "histogram2dcontour"
           }
          ],
          "mesh3d": [
           {
            "colorbar": {
             "outlinewidth": 0,
             "ticks": ""
            },
            "type": "mesh3d"
           }
          ],
          "parcoords": [
           {
            "line": {
             "colorbar": {
              "outlinewidth": 0,
              "ticks": ""
             }
            },
            "type": "parcoords"
           }
          ],
          "pie": [
           {
            "automargin": true,
            "type": "pie"
           }
          ],
          "scatter": [
           {
            "fillpattern": {
             "fillmode": "overlay",
             "size": 10,
             "solidity": 0.2
            },
            "type": "scatter"
           }
          ],
          "scatter3d": [
           {
            "line": {
             "colorbar": {
              "outlinewidth": 0,
              "ticks": ""
             }
            },
            "marker": {
             "colorbar": {
              "outlinewidth": 0,
              "ticks": ""
             }
            },
            "type": "scatter3d"
           }
          ],
          "scattercarpet": [
           {
            "marker": {
             "colorbar": {
              "outlinewidth": 0,
              "ticks": ""
             }
            },
            "type": "scattercarpet"
           }
          ],
          "scattergeo": [
           {
            "marker": {
             "colorbar": {
              "outlinewidth": 0,
              "ticks": ""
             }
            },
            "type": "scattergeo"
           }
          ],
          "scattergl": [
           {
            "marker": {
             "colorbar": {
              "outlinewidth": 0,
              "ticks": ""
             }
            },
            "type": "scattergl"
           }
          ],
          "scattermapbox": [
           {
            "marker": {
             "colorbar": {
              "outlinewidth": 0,
              "ticks": ""
             }
            },
            "type": "scattermapbox"
           }
          ],
          "scatterpolar": [
           {
            "marker": {
             "colorbar": {
              "outlinewidth": 0,
              "ticks": ""
             }
            },
            "type": "scatterpolar"
           }
          ],
          "scatterpolargl": [
           {
            "marker": {
             "colorbar": {
              "outlinewidth": 0,
              "ticks": ""
             }
            },
            "type": "scatterpolargl"
           }
          ],
          "scatterternary": [
           {
            "marker": {
             "colorbar": {
              "outlinewidth": 0,
              "ticks": ""
             }
            },
            "type": "scatterternary"
           }
          ],
          "surface": [
           {
            "colorbar": {
             "outlinewidth": 0,
             "ticks": ""
            },
            "colorscale": [
             [
              0,
              "#0d0887"
             ],
             [
              0.1111111111111111,
              "#46039f"
             ],
             [
              0.2222222222222222,
              "#7201a8"
             ],
             [
              0.3333333333333333,
              "#9c179e"
             ],
             [
              0.4444444444444444,
              "#bd3786"
             ],
             [
              0.5555555555555556,
              "#d8576b"
             ],
             [
              0.6666666666666666,
              "#ed7953"
             ],
             [
              0.7777777777777778,
              "#fb9f3a"
             ],
             [
              0.8888888888888888,
              "#fdca26"
             ],
             [
              1,
              "#f0f921"
             ]
            ],
            "type": "surface"
           }
          ],
          "table": [
           {
            "cells": {
             "fill": {
              "color": "#EBF0F8"
             },
             "line": {
              "color": "white"
             }
            },
            "header": {
             "fill": {
              "color": "#C8D4E3"
             },
             "line": {
              "color": "white"
             }
            },
            "type": "table"
           }
          ]
         },
         "layout": {
          "annotationdefaults": {
           "arrowcolor": "#2a3f5f",
           "arrowhead": 0,
           "arrowwidth": 1
          },
          "autotypenumbers": "strict",
          "coloraxis": {
           "colorbar": {
            "outlinewidth": 0,
            "ticks": ""
           }
          },
          "colorscale": {
           "diverging": [
            [
             0,
             "#8e0152"
            ],
            [
             0.1,
             "#c51b7d"
            ],
            [
             0.2,
             "#de77ae"
            ],
            [
             0.3,
             "#f1b6da"
            ],
            [
             0.4,
             "#fde0ef"
            ],
            [
             0.5,
             "#f7f7f7"
            ],
            [
             0.6,
             "#e6f5d0"
            ],
            [
             0.7,
             "#b8e186"
            ],
            [
             0.8,
             "#7fbc41"
            ],
            [
             0.9,
             "#4d9221"
            ],
            [
             1,
             "#276419"
            ]
           ],
           "sequential": [
            [
             0,
             "#0d0887"
            ],
            [
             0.1111111111111111,
             "#46039f"
            ],
            [
             0.2222222222222222,
             "#7201a8"
            ],
            [
             0.3333333333333333,
             "#9c179e"
            ],
            [
             0.4444444444444444,
             "#bd3786"
            ],
            [
             0.5555555555555556,
             "#d8576b"
            ],
            [
             0.6666666666666666,
             "#ed7953"
            ],
            [
             0.7777777777777778,
             "#fb9f3a"
            ],
            [
             0.8888888888888888,
             "#fdca26"
            ],
            [
             1,
             "#f0f921"
            ]
           ],
           "sequentialminus": [
            [
             0,
             "#0d0887"
            ],
            [
             0.1111111111111111,
             "#46039f"
            ],
            [
             0.2222222222222222,
             "#7201a8"
            ],
            [
             0.3333333333333333,
             "#9c179e"
            ],
            [
             0.4444444444444444,
             "#bd3786"
            ],
            [
             0.5555555555555556,
             "#d8576b"
            ],
            [
             0.6666666666666666,
             "#ed7953"
            ],
            [
             0.7777777777777778,
             "#fb9f3a"
            ],
            [
             0.8888888888888888,
             "#fdca26"
            ],
            [
             1,
             "#f0f921"
            ]
           ]
          },
          "colorway": [
           "#636efa",
           "#EF553B",
           "#00cc96",
           "#ab63fa",
           "#FFA15A",
           "#19d3f3",
           "#FF6692",
           "#B6E880",
           "#FF97FF",
           "#FECB52"
          ],
          "font": {
           "color": "#2a3f5f"
          },
          "geo": {
           "bgcolor": "white",
           "lakecolor": "white",
           "landcolor": "#E5ECF6",
           "showlakes": true,
           "showland": true,
           "subunitcolor": "white"
          },
          "hoverlabel": {
           "align": "left"
          },
          "hovermode": "closest",
          "mapbox": {
           "style": "light"
          },
          "paper_bgcolor": "white",
          "plot_bgcolor": "#E5ECF6",
          "polar": {
           "angularaxis": {
            "gridcolor": "white",
            "linecolor": "white",
            "ticks": ""
           },
           "bgcolor": "#E5ECF6",
           "radialaxis": {
            "gridcolor": "white",
            "linecolor": "white",
            "ticks": ""
           }
          },
          "scene": {
           "xaxis": {
            "backgroundcolor": "#E5ECF6",
            "gridcolor": "white",
            "gridwidth": 2,
            "linecolor": "white",
            "showbackground": true,
            "ticks": "",
            "zerolinecolor": "white"
           },
           "yaxis": {
            "backgroundcolor": "#E5ECF6",
            "gridcolor": "white",
            "gridwidth": 2,
            "linecolor": "white",
            "showbackground": true,
            "ticks": "",
            "zerolinecolor": "white"
           },
           "zaxis": {
            "backgroundcolor": "#E5ECF6",
            "gridcolor": "white",
            "gridwidth": 2,
            "linecolor": "white",
            "showbackground": true,
            "ticks": "",
            "zerolinecolor": "white"
           }
          },
          "shapedefaults": {
           "line": {
            "color": "#2a3f5f"
           }
          },
          "ternary": {
           "aaxis": {
            "gridcolor": "white",
            "linecolor": "white",
            "ticks": ""
           },
           "baxis": {
            "gridcolor": "white",
            "linecolor": "white",
            "ticks": ""
           },
           "bgcolor": "#E5ECF6",
           "caxis": {
            "gridcolor": "white",
            "linecolor": "white",
            "ticks": ""
           }
          },
          "title": {
           "x": 0.05
          },
          "xaxis": {
           "automargin": true,
           "gridcolor": "white",
           "linecolor": "white",
           "ticks": "",
           "title": {
            "standoff": 15
           },
           "zerolinecolor": "white",
           "zerolinewidth": 2
          },
          "yaxis": {
           "automargin": true,
           "gridcolor": "white",
           "linecolor": "white",
           "ticks": "",
           "title": {
            "standoff": 15
           },
           "zerolinecolor": "white",
           "zerolinewidth": 2
          }
         }
        },
        "xaxis": {
         "anchor": "y",
         "constrain": "domain",
         "domain": [
          0,
          1
         ],
         "scaleanchor": "y"
        },
        "yaxis": {
         "anchor": "x",
         "autorange": "reversed",
         "constrain": "domain",
         "domain": [
          0,
          1
         ]
        }
       }
      }
     },
     "metadata": {},
     "output_type": "display_data"
    }
   ],
   "source": [
    "visualise_tensor(torch.zeros(2,2))"
   ]
  },
  {
   "cell_type": "code",
   "execution_count": 45,
   "metadata": {},
   "outputs": [
    {
     "ename": "ValueError",
     "evalue": "only one element tensors can be converted to Python scalars",
     "output_type": "error",
     "traceback": [
      "\u001b[0;31m---------------------------------------------------------------------------\u001b[0m",
      "\u001b[0;31mValueError\u001b[0m                                Traceback (most recent call last)",
      "Cell \u001b[0;32mIn[45], line 1\u001b[0m\n\u001b[0;32m----> 1\u001b[0m bias\u001b[39m.\u001b[39;49mitem()\n",
      "\u001b[0;31mValueError\u001b[0m: only one element tensors can be converted to Python scalars"
     ]
    }
   ],
   "source": [
    "bias"
   ]
  },
  {
   "cell_type": "code",
   "execution_count": null,
   "metadata": {},
   "outputs": [],
   "source": []
  }
 ],
 "metadata": {
  "kernelspec": {
   "display_name": "Python 3",
   "language": "python",
   "name": "python3"
  },
  "language_info": {
   "codemirror_mode": {
    "name": "ipython",
    "version": 3
   },
   "file_extension": ".py",
   "mimetype": "text/x-python",
   "name": "python",
   "nbconvert_exporter": "python",
   "pygments_lexer": "ipython3",
   "version": "3.9.6"
  },
  "orig_nbformat": 4
 },
 "nbformat": 4,
 "nbformat_minor": 2
}
