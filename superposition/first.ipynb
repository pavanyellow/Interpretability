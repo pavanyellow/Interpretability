{
 "cells": [
  {
   "cell_type": "code",
   "execution_count": 1,
   "metadata": {},
   "outputs": [
    {
     "name": "stdout",
     "output_type": "stream",
     "text": [
      "iter:500 loss: 2.0\n",
      "Parameter containing:\n",
      "tensor([[-0.4757,  0.7379],\n",
      "        [-0.6482,  0.0763]], requires_grad=True)\n",
      "tensor([1.0000, 0.0000], grad_fn=<ReluBackward0>) tensor([1., 2.])\n",
      "sum 0.9999998807907104 -0.4954789876937866\n",
      "\n",
      "iter:1000 loss: 2.0\n",
      "Parameter containing:\n",
      "tensor([[-0.4757,  0.7379],\n",
      "        [-0.6482,  0.0763]], requires_grad=True)\n",
      "tensor([1.0000, 0.0000], grad_fn=<ReluBackward0>) tensor([1., 2.])\n",
      "sum 0.9999998807907104 -0.4954789876937866\n",
      "\n",
      "iter:1500 loss: 2.0\n",
      "Parameter containing:\n",
      "tensor([[-0.4757,  0.7379],\n",
      "        [-0.6482,  0.0763]], requires_grad=True)\n",
      "tensor([1.0000, 0.0000], grad_fn=<ReluBackward0>) tensor([1., 2.])\n",
      "sum 0.9999998807907104 -0.4954789876937866\n",
      "\n",
      "iter:2000 loss: 2.0\n",
      "Parameter containing:\n",
      "tensor([[-0.4757,  0.7379],\n",
      "        [-0.6482,  0.0763]], requires_grad=True)\n",
      "tensor([1.0000, 0.0000], grad_fn=<ReluBackward0>) tensor([1., 2.])\n",
      "sum 0.9999998807907104 -0.4954789876937866\n",
      "\n"
     ]
    },
    {
     "name": "stderr",
     "output_type": "stream",
     "text": [
      "/var/folders/_j/ctxbrk0926zg7z8n7jc3xpp00000gn/T/ipykernel_84927/1800754679.py:30: UserWarning: torch.range is deprecated and will be removed in a future release because its behavior is inconsistent with Python's range builtin. Instead, use torch.arange, which produces values in [start, end).\n",
      "  input = torch.range(1, input_size)\n"
     ]
    }
   ],
   "source": [
    "import torch\n",
    "import torch.nn as nn\n",
    "import torch.nn.functional as F\n",
    "\n",
    "\n",
    "input_size = 2\n",
    "output_size = input_size\n",
    "learning_rate = 0.1\n",
    "max_iters = 2500\n",
    "\n",
    "def help(x):\n",
    "    return x + 5\n",
    "\n",
    "\n",
    "class Model(nn.Module):\n",
    "    def __init__(self):\n",
    "        super().__init__()\n",
    "        self.layer1 = nn.Linear(input_size, output_size, bias= False)\n",
    "        self.relu = nn.ReLU()\n",
    "    \n",
    "    def forward(self, input, targets = None):\n",
    "        logits = self.layer1(input)\n",
    "        logits = self.relu(logits)\n",
    "        if targets is None:\n",
    "            return logits\n",
    "        else:\n",
    "            loss = F.mse_loss(logits, targets)\n",
    "            return logits, loss\n",
    "\n",
    "input = torch.range(1, input_size)\n",
    "output = input\n",
    "\n",
    "\n",
    "model = Model()\n",
    "\n",
    "\n",
    "optimizer = torch.optim.SGD(model.parameters() , learning_rate)\n",
    "\n",
    "\n",
    "for i in range(1, max_iters):\n",
    "    logits, loss = model(input, output)\n",
    "    if i%500 ==0 :\n",
    "        print(f\"iter:{i} loss: {loss.item()}\")\n",
    "        print(model.layer1.weight)\n",
    "        print(logits, output)\n",
    "        print(\"sum\", torch.dot(input, model.layer1.weight[0]).item(), torch.dot(input, model.layer1.weight[1]).item())\n",
    "        print()\n",
    "    optimizer.zero_grad(set_to_none=True)\n",
    "    loss.backward()\n",
    "    optimizer.step()\n",
    "\n",
    "    \n",
    "\n",
    "\n",
    "\n",
    "\n"
   ]
  },
  {
   "cell_type": "code",
   "execution_count": 104,
   "metadata": {},
   "outputs": [
    {
     "name": "stdout",
     "output_type": "stream",
     "text": [
      "tensor([[0.5855, 0.2792, 0.5563],\n",
      "        [0.5337, 0.4538, 0.2945],\n",
      "        [0.1201, 0.2657, 0.9471],\n",
      "        [0.5789, 0.3194, 0.3005],\n",
      "        [0.5955, 0.5146, 0.2507]])\n"
     ]
    },
    {
     "data": {
      "text/plain": [
       "tensor(0.5844)"
      ]
     },
     "execution_count": 104,
     "metadata": {},
     "output_type": "execute_result"
    }
   ],
   "source": [
    "a = torch.rand(5,3)\n",
    "print(a)\n",
    "l = a[3]\n",
    "y = a[4]\n",
    "\n",
    "torch.dot(l,y)\n",
    "\n"
   ]
  },
  {
   "cell_type": "code",
   "execution_count": 77,
   "metadata": {},
   "outputs": [
    {
     "data": {
      "text/plain": [
       "Parameter containing:\n",
       "tensor([[0.7630, 0.2832],\n",
       "        [0.3562, 0.5744]], requires_grad=True)"
      ]
     },
     "execution_count": 77,
     "metadata": {},
     "output_type": "execute_result"
    }
   ],
   "source": [
    "model.layer1.weight"
   ]
  },
  {
   "cell_type": "code",
   "execution_count": 75,
   "metadata": {},
   "outputs": [
    {
     "data": {
      "text/plain": [
       "Parameter containing:\n",
       "tensor([0.4797, 0.3276], requires_grad=True)"
      ]
     },
     "execution_count": 75,
     "metadata": {},
     "output_type": "execute_result"
    }
   ],
   "source": [
    "model.layer1.bias"
   ]
  },
  {
   "cell_type": "code",
   "execution_count": null,
   "metadata": {},
   "outputs": [],
   "source": []
  }
 ],
 "metadata": {
  "kernelspec": {
   "display_name": "Python 3",
   "language": "python",
   "name": "python3"
  },
  "language_info": {
   "codemirror_mode": {
    "name": "ipython",
    "version": 3
   },
   "file_extension": ".py",
   "mimetype": "text/x-python",
   "name": "python",
   "nbconvert_exporter": "python",
   "pygments_lexer": "ipython3",
   "version": "3.9.6"
  },
  "orig_nbformat": 4
 },
 "nbformat": 4,
 "nbformat_minor": 2
}
