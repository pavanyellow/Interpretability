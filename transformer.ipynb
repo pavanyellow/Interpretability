{
 "cells": [
  {
   "cell_type": "code",
   "execution_count": 22,
   "metadata": {},
   "outputs": [
    {
     "name": "stderr",
     "output_type": "stream",
     "text": [
      "/Users/pavan/Library/Python/3.9/lib/python/site-packages/torch/_tensor.py:761: UserWarning: non-inplace resize is deprecated\n",
      "  warnings.warn(\"non-inplace resize is deprecated\")\n"
     ]
    },
    {
     "name": "stdout",
     "output_type": "stream",
     "text": [
      "4.551247596740723\n",
      "iter:0 training loss: 4.54750919342041, val loss: 4.551247596740723\n",
      "iter:5 training loss: 3.174034357070923, val loss: 3.2106735706329346\n",
      "iter:10 training loss: 2.887373447418213, val loss: 2.9324519634246826\n",
      "iter:15 training loss: 2.708733320236206, val loss: 2.7538034915924072\n",
      "iter:20 training loss: 2.5988576412200928, val loss: 2.6416876316070557\n",
      "iter:25 training loss: 2.5207417011260986, val loss: 2.563701629638672\n",
      "iter:30 training loss: 2.4653546810150146, val loss: 2.510110378265381\n",
      "iter:35 training loss: 2.4244601726531982, val loss: 2.4695982933044434\n",
      "iter:40 training loss: 2.3900949954986572, val loss: 2.4362633228302\n",
      "iter:45 training loss: 2.361879825592041, val loss: 2.4088082313537598\n",
      "iter:50 training loss: 2.337476968765259, val loss: 2.3857297897338867\n",
      "iter:55 training loss: 2.3153603076934814, val loss: 2.3645548820495605\n",
      "iter:60 training loss: 2.29495906829834, val loss: 2.3459410667419434\n",
      "iter:65 training loss: 2.2756283283233643, val loss: 2.3286993503570557\n",
      "iter:70 training loss: 2.2568016052246094, val loss: 2.311969757080078\n",
      "iter:75 training loss: 2.23797607421875, val loss: 2.295309543609619\n",
      "iter:80 training loss: 2.2188143730163574, val loss: 2.2779901027679443\n",
      "iter:85 training loss: 2.19893479347229, val loss: 2.259812593460083\n",
      "iter:90 training loss: 2.1779022216796875, val loss: 2.2402777671813965\n",
      "iter:95 training loss: 2.1552445888519287, val loss: 2.2192914485931396\n",
      "Took 16.190653085708618s for 100 epochs\n"
     ]
    },
    {
     "data": {
      "image/png": "[encoded data removed]",
      "text/plain": [
       "<Figure size 640x480 with 1 Axes>"
      ]
     },
     "metadata": {},
     "output_type": "display_data"
    }
   ],
   "source": [
    "\n",
    "import torch\n",
    "import torch.nn as nn\n",
    "import torch.nn.functional as F\n",
    "from matplotlib import pyplot as plt\n",
    "import time\n",
    "import random\n",
    "import math\n",
    "\n",
    "inf = torch.inf\n",
    "context_length = 8 # No of tokens\n",
    "model_dim = 64 # dimension of the model -> residual stream\n",
    "n_layers = 2 # no of layers\n",
    "n_heads = 2 # No of attention heads for layer\n",
    "head_dim = 8\n",
    "vocab_size = 65\n",
    "learning_rate = 0.01\n",
    "max_iters = 100\n",
    "\n",
    "lower_triangular_matrix = torch.tensor([[1 if i<=j else -torch.inf for i in range(context_length-1)] for j in range(context_length-1)]).float()\n",
    "\n",
    "\n",
    "\n",
    "def sample_training_data():\n",
    "    X = training_data[:,:-1]\n",
    "    Y = training_data[:,1:] \n",
    "    return X,Y\n",
    "\n",
    "torch.no_grad()\n",
    "def get_val_loss():\n",
    "    X = validation_data[:,:-1]\n",
    "    Y = validation_data[:,1:]\n",
    "    _, loss = model(X, Y)  # (B, context_length, vocab_size)\n",
    "\n",
    "    return loss.item()\n",
    "\n",
    "\n",
    "class AttentionHead(nn.Module):\n",
    "    def __init__(self):\n",
    "        super().__init__()\n",
    "        self.key = nn.Linear(model_dim, head_dim)\n",
    "        self.query = nn.Linear(model_dim, head_dim)\n",
    "        self.value = nn.Linear(model_dim, head_dim)\n",
    "        self.proj = nn.Linear(head_dim, model_dim)\n",
    "    \n",
    "    def forward(self, idx):\n",
    "        key = self.key(idx) # (batch, context_length, head_dim)\n",
    "        query = self.query(idx)\n",
    "        value = self.value(idx) # (batch, context_length, head_dim)\n",
    "\n",
    "        attention = (query@torch.transpose(key,1,2))/(math.sqrt(head_dim)) # (batch, context_length, context_length)\n",
    "\n",
    "        attention = torch.tril(attention)\n",
    "\n",
    "        attention = attention.masked_fill(attention == 0, -inf)\n",
    "\n",
    "        attention = F.softmax(attention,1) # probs along context_length sum to 1\n",
    "\n",
    "        attention_value = attention@value  # (batch, context_length, head_dim)\n",
    "\n",
    "        return self.proj(attention_value)  # (batch, context_length, model_dim)\n",
    "    \n",
    "\n",
    "class MLP(nn.Module):\n",
    "    def __init__(self):\n",
    "        super().__init__()\n",
    "        self.layers = nn.Sequential(nn.Linear(model_dim, 4*model_dim), nn.Linear(4*model_dim, model_dim))\n",
    "        self.relu = nn.ReLU()\n",
    "    \n",
    "    def forward(self, idx):\n",
    "        logits = self.layers(idx)\n",
    "        return self.relu(logits)\n",
    "\n",
    "class Transformer(nn.Module):\n",
    "    def __init__(self):\n",
    "        super().__init__()\n",
    "        self.token_embedding = nn.Embedding(vocab_size, model_dim)\n",
    "        self.pos_embedding = nn.Embedding(context_length-1, model_dim)\n",
    "        self.attention_layes = [AttentionHead() for i in range(n_layers)]\n",
    "        self.mlp_layers = [MLP() for i in range(n_layers)]\n",
    "        self.unembed_layer = nn.Linear(model_dim,vocab_size)\n",
    "\n",
    "    def forward(self, idx, targets = None):\n",
    "        # idx -> [1,2,0,3..] (batch, context_length)\n",
    "\n",
    "        residual_stream = self.token_embedding(idx)  # (batch, context_length, model_dim)\n",
    "        residual_stream = residual_stream + self.pos_embedding(torch.tensor([i for i in range(context_length-1)])) # Pos embedding will be # (context_length, model_dim)\n",
    "        \n",
    "        for i in range(n_layers):\n",
    "            residual_stream = residual_stream + self.attention_layes[i](residual_stream)\n",
    "            residual_stream = residual_stream + self.attention_layes[i](residual_stream)\n",
    "\n",
    "        residual_stream = self.unembed_layer(residual_stream) # (batch, context_length, vocab_size)\n",
    "        if targets is None:\n",
    "            return residual_stream\n",
    "        (x,y,z) = residual_stream.shape\n",
    "        loss = F.cross_entropy(residual_stream.resize(x*y,z), F.one_hot(targets, vocab_size).resize(x*y, z).float())\n",
    "        return residual_stream, loss\n",
    "\n",
    "def tokenise(str: str):\n",
    "    return torch.tensor([char_map[i] for i in str])\n",
    "\n",
    "\n",
    "file = open(\"tiny_shakesphere.txt\", \"r\")\n",
    "full_data = file.read()\n",
    "\n",
    "vocab = list(sorted((set(full_data))))\n",
    "\n",
    "char_map = {vocab[i]: i for i in range(len(vocab))}\n",
    "full_data = tokenise(full_data)\n",
    "\n",
    "full_data = full_data[:len(full_data)- len(full_data)%context_length].reshape(-1,context_length) # Make it multiple of context length\n",
    "\n",
    "random.shuffle(full_data)\n",
    "total_datapoints  = full_data.shape[0]//10\n",
    "training_data = full_data[:int(total_datapoints*0.6), :]\n",
    "validation_data = full_data[int(total_datapoints*0.6):total_datapoints,:]\n",
    "\n",
    "\n",
    "model = Transformer()\n",
    "print(get_val_loss())\n",
    "loss_value = []\n",
    "val_loss_value = []\n",
    "iters = []\n",
    "optimizer = torch.optim.Adam(model.parameters(), lr = learning_rate)\n",
    "step_value = max_iters/20\n",
    "start_time = time.time()\n",
    "for iter in range(max_iters):\n",
    "    X,Y= sample_training_data() # (B, context_length)\n",
    "    logits, loss = model(X, Y)  # (B, context_length, vocab_size)\n",
    "    if iter%step_value ==0:\n",
    "        model.eval()\n",
    "        with torch.no_grad():\n",
    "            val_loss = get_val_loss()\n",
    "            iters.append(iter)\n",
    "            loss_value.append(loss.item())\n",
    "            val_loss_value.append(val_loss)\n",
    "            print(f\"iter:{iter} training loss: {loss.item()}, val loss: {val_loss}\")\n",
    "        model.train()\n",
    "\n",
    "    \n",
    "    optimizer.zero_grad(set_to_none=True)\n",
    "    loss.backward()\n",
    "    optimizer.step()\n",
    "end_time = time.time()\n",
    "print(f\"Took {end_time-start_time}s for {max_iters} epochs\")\n",
    "\n",
    "plt.xlabel(\"Epochs\")\n",
    "plt.ylabel(\"Loss\")\n",
    "plt.plot(iters,loss_value, color='blue', label=\"Training\")\n",
    "plt.plot(iters, val_loss_value, \"red\", label = \"validation\")\n",
    "plt.legend()\n",
    "plt.show()\n",
    "\n",
    "\n",
    "\n",
    "        "
   ]
  },
  {
   "cell_type": "code",
   "execution_count": null,
   "metadata": {},
   "outputs": [
    {
     "data": {
      "text/plain": [
       "tensor([[1.0000, 0.0000, 0.0000],\n",
       "        [0.5077, 0.4923, 0.0000],\n",
       "        [0.4229, 0.3701, 0.2071]])"
      ]
     },
     "metadata": {},
     "output_type": "display_data"
    }
   ],
   "source": [
    "torch.softmax(attn,1)"
   ]
  },
  {
   "cell_type": "code",
   "execution_count": 12,
   "metadata": {},
   "outputs": [
    {
     "data": {
      "text/plain": [
       "139424"
      ]
     },
     "execution_count": 12,
     "metadata": {},
     "output_type": "execute_result"
    }
   ],
   "source": [
    "datapoints"
   ]
  },
  {
   "cell_type": "code",
   "execution_count": 47,
   "metadata": {},
   "outputs": [
    {
     "data": {
      "text/plain": [
       "8"
      ]
     },
     "execution_count": 47,
     "metadata": {},
     "output_type": "execute_result"
    }
   ],
   "source": [
    "full_data.shape[1]"
   ]
  },
  {
   "cell_type": "code",
   "execution_count": 16,
   "metadata": {},
   "outputs": [
    {
     "data": {
      "text/plain": [
       "\"First Citizen:\\nBefore we proceed any further, hear me speak.\\n\\nAll:\\nSpeak, speak.\\n\\nFirst Citizen:\\nYou are all resolved rather to die than to famish?\\n\\nAll:\\nResolved. resolved.\\n\\nFirst Citizen:\\nFirst, you know Caius Marcius is chief enemy to the people.\\n\\nAll:\\nWe know't, we know't.\\n\\nFirst Citizen:\\nLet us kill him, and we'll have corn at our own price.\\nIs't a verdict?\\n\\nAll:\\nNo more talking on't; let it be done: away, away!\\n\\nSecond Citizen:\\nOne word, good citizens.\\n\\nFirst Citizen:\\nWe are accounted poor\""
      ]
     },
     "execution_count": 16,
     "metadata": {},
     "output_type": "execute_result"
    }
   ],
   "source": [
    "data[:500]"
   ]
  },
  {
   "cell_type": "code",
   "execution_count": 17,
   "metadata": {},
   "outputs": [
    {
     "data": {
      "text/plain": [
       "str"
      ]
     },
     "execution_count": 17,
     "metadata": {},
     "output_type": "execute_result"
    }
   ],
   "source": [
    "type(data)"
   ]
  },
  {
   "cell_type": "code",
   "execution_count": 23,
   "metadata": {},
   "outputs": [
    {
     "data": {
      "text/plain": [
       "['\\n',\n",
       " ' ',\n",
       " '!',\n",
       " '$',\n",
       " '&',\n",
       " \"'\",\n",
       " ',',\n",
       " '-',\n",
       " '.',\n",
       " '3',\n",
       " ':',\n",
       " ';',\n",
       " '?',\n",
       " 'A',\n",
       " 'B',\n",
       " 'C',\n",
       " 'D',\n",
       " 'E',\n",
       " 'F',\n",
       " 'G',\n",
       " 'H',\n",
       " 'I',\n",
       " 'J',\n",
       " 'K',\n",
       " 'L',\n",
       " 'M',\n",
       " 'N',\n",
       " 'O',\n",
       " 'P',\n",
       " 'Q',\n",
       " 'R',\n",
       " 'S',\n",
       " 'T',\n",
       " 'U',\n",
       " 'V',\n",
       " 'W',\n",
       " 'X',\n",
       " 'Y',\n",
       " 'Z',\n",
       " 'a',\n",
       " 'b',\n",
       " 'c',\n",
       " 'd',\n",
       " 'e',\n",
       " 'f',\n",
       " 'g',\n",
       " 'h',\n",
       " 'i',\n",
       " 'j',\n",
       " 'k',\n",
       " 'l',\n",
       " 'm',\n",
       " 'n',\n",
       " 'o',\n",
       " 'p',\n",
       " 'q',\n",
       " 'r',\n",
       " 's',\n",
       " 't',\n",
       " 'u',\n",
       " 'v',\n",
       " 'w',\n",
       " 'x',\n",
       " 'y',\n",
       " 'z']"
      ]
     },
     "execution_count": 23,
     "metadata": {},
     "output_type": "execute_result"
    }
   ],
   "source": [
    "list(sorted((set(data))))"
   ]
  },
  {
   "cell_type": "code",
   "execution_count": null,
   "metadata": {},
   "outputs": [],
   "source": []
  }
 ],
 "metadata": {
  "kernelspec": {
   "display_name": "Python 3",
   "language": "python",
   "name": "python3"
  },
  "language_info": {
   "codemirror_mode": {
    "name": "ipython",
    "version": 3
   },
   "file_extension": ".py",
   "mimetype": "text/x-python",
   "name": "python",
   "nbconvert_exporter": "python",
   "pygments_lexer": "ipython3",
   "version": "3.9.6"
  },
  "orig_nbformat": 4,
  "vscode": {
   "interpreter": {
    "hash": "31f2aee4e71d21fbe5cf8b01ff0e069b9275f58929596ceb00d14d90e3e16cd6"
   }
  }
 },
 "nbformat": 4,
 "nbformat_minor": 2
}
